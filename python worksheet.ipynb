{
 "cells": [
  {
   "cell_type": "code",
   "execution_count": 1,
   "id": "1523d23a",
   "metadata": {},
   "outputs": [
    {
     "data": {
      "text/plain": [
       "0"
      ]
     },
     "execution_count": 1,
     "metadata": {},
     "output_type": "execute_result"
    }
   ],
   "source": [
    "2//3"
   ]
  },
  {
   "cell_type": "code",
   "execution_count": 2,
   "id": "64e7d9f2",
   "metadata": {},
   "outputs": [
    {
     "data": {
      "text/plain": [
       "24"
      ]
     },
     "execution_count": 2,
     "metadata": {},
     "output_type": "execute_result"
    }
   ],
   "source": [
    "6<<2"
   ]
  },
  {
   "cell_type": "code",
   "execution_count": 3,
   "id": "82a38508",
   "metadata": {},
   "outputs": [
    {
     "data": {
      "text/plain": [
       "2"
      ]
     },
     "execution_count": 3,
     "metadata": {},
     "output_type": "execute_result"
    }
   ],
   "source": [
    "6&2"
   ]
  },
  {
   "cell_type": "code",
   "execution_count": 4,
   "id": "d8e68a5f",
   "metadata": {},
   "outputs": [
    {
     "data": {
      "text/plain": [
       "6"
      ]
     },
     "execution_count": 4,
     "metadata": {},
     "output_type": "execute_result"
    }
   ],
   "source": [
    "6|2"
   ]
  },
  {
   "cell_type": "code",
   "execution_count": 1,
   "id": "070e2fca",
   "metadata": {},
   "outputs": [
    {
     "name": "stdout",
     "output_type": "stream",
     "text": [
      " Factorial of 6 is 720\n"
     ]
    }
   ],
   "source": [
    "#Python program to find the factorial of a number\n",
    "def factorial(n):\n",
    "    return 1 if (n==1 or n==0) else n * factorial (n-1);\n",
    "\n",
    "num = 6;\n",
    "print(\" Factorial of\", num , \"is\", factorial(num))"
   ]
  },
  {
   "cell_type": "code",
   "execution_count": 18,
   "id": "930ce262",
   "metadata": {},
   "outputs": [
    {
     "name": "stdout",
     "output_type": "stream",
     "text": [
      "Enter any number:42\n",
      "42 is not a prime number\n"
     ]
    }
   ],
   "source": [
    "# python program to find whether a number is prime or composite\n",
    "num = int(input(\"Enter any number:\"))\n",
    "if num >1:\n",
    "    for i in range(2,num):\n",
    "        if(num % i)== 0:\n",
    "            print(num,\"is not a prime number\")\n",
    "            break\n",
    "            \n",
    "    else:\n",
    "        print(num, \"is a prime number\")\n",
    "        \n",
    "elif  num == 0 or 1:\n",
    "        print(num,\"is neither a prime nor composite number\")\n",
    "else:\n",
    "        print(num,\"is not a prime number it is a composite number\")"
   ]
  },
  {
   "cell_type": "code",
   "execution_count": 5,
   "id": "715fa7bc",
   "metadata": {},
   "outputs": [
    {
     "name": "stdout",
     "output_type": "stream",
     "text": [
      "Yes\n"
     ]
    }
   ],
   "source": [
    "# Python program to check whether a given string is palindrome or not\n",
    "def isPalindrome(s):\n",
    "    return s == s[::-1]\n",
    "s = \"gig\"\n",
    "ans = isPalindrome(s)\n",
    "\n",
    "if ans:\n",
    "    print(\"Yes\")\n",
    "else:\n",
    "    print(\"No\")"
   ]
  },
  {
   "cell_type": "code",
   "execution_count": 19,
   "id": "db3c91eb",
   "metadata": {},
   "outputs": [
    {
     "name": "stdout",
     "output_type": "stream",
     "text": [
      "hypotenuse = 2.23606797749979\n",
      "adjacent = 2.29128784747792\n",
      "opposite = 1.5\n"
     ]
    }
   ],
   "source": [
    "# Python program to get the third side of right angled triangle from two given sides\n",
    "def Pythagorus(opposite_side,adjacent_side,hypotenuse):\n",
    "    if opposite_side == str(\"x\"):\n",
    "        return(\"opposite = \" + str(((hypotenuse**2) - (adjacent_side**2))**0.5))\n",
    "    elif adjacent_side == str(\"x\"):\n",
    "        return(\"adjacent = \" + str(((hypotenuse**2)-( opposite_side**2))** 0.5))\n",
    "    elif hypotenuse == str(\"x\"):\n",
    "        return(\"hypotenuse = \" + str(((opposite_side**2)+ (adjacent_side**2))** 0.5))\n",
    "    \n",
    "      \n",
    "print(Pythagorus(1,2,'x'))\n",
    "print(Pythagorus(1,'x',2.5))\n",
    "print(Pythagorus('x',2,2.5))\n",
    "\n"
   ]
  },
  {
   "cell_type": "code",
   "execution_count": 4,
   "id": "6844716f",
   "metadata": {},
   "outputs": [
    {
     "name": "stdout",
     "output_type": "stream",
     "text": [
      "count of all characters in TitforTat is :\n",
      "Counter({'T': 2, 't': 2, 'i': 1, 'f': 1, 'o': 1, 'r': 1, 'a': 1})\n"
     ]
    }
   ],
   "source": [
    "# python program to print the frequency of each of the characters present in a given string\n",
    "from collections import Counter\n",
    "test_str = \"TitforTat\"\n",
    "result = Counter(test_str)\n",
    "print(\"count of all characters in TitforTat is :\\n\" + str(result))\n",
    "\n",
    "\n",
    "\n",
    "\n"
   ]
  },
  {
   "cell_type": "code",
   "execution_count": null,
   "id": "31630184",
   "metadata": {},
   "outputs": [],
   "source": []
  }
 ],
 "metadata": {
  "kernelspec": {
   "display_name": "Python 3",
   "language": "python",
   "name": "python3"
  },
  "language_info": {
   "codemirror_mode": {
    "name": "ipython",
    "version": 3
   },
   "file_extension": ".py",
   "mimetype": "text/x-python",
   "name": "python",
   "nbconvert_exporter": "python",
   "pygments_lexer": "ipython3",
   "version": "3.8.8"
  }
 },
 "nbformat": 4,
 "nbformat_minor": 5
}
