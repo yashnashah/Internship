{
 "cells": [
  {
   "cell_type": "code",
   "execution_count": 1,
   "id": "6407b02c",
   "metadata": {},
   "outputs": [
    {
     "name": "stdout",
     "output_type": "stream",
     "text": [
      "Requirement already satisfied: selenium in c:\\users\\yashn\\anaconda3\\lib\\site-packages (4.1.0)\n",
      "Requirement already satisfied: trio~=0.17 in c:\\users\\yashn\\anaconda3\\lib\\site-packages (from selenium) (0.19.0)\n",
      "Requirement already satisfied: trio-websocket~=0.9 in c:\\users\\yashn\\anaconda3\\lib\\site-packages (from selenium) (0.9.2)\n",
      "Requirement already satisfied: urllib3[secure]~=1.26 in c:\\users\\yashn\\anaconda3\\lib\\site-packages (from selenium) (1.26.4)\n",
      "Requirement already satisfied: idna in c:\\users\\yashn\\anaconda3\\lib\\site-packages (from trio~=0.17->selenium) (2.10)\n",
      "Requirement already satisfied: attrs>=19.2.0 in c:\\users\\yashn\\anaconda3\\lib\\site-packages (from trio~=0.17->selenium) (20.3.0)\n",
      "Requirement already satisfied: sniffio in c:\\users\\yashn\\anaconda3\\lib\\site-packages (from trio~=0.17->selenium) (1.2.0)\n",
      "Requirement already satisfied: sortedcontainers in c:\\users\\yashn\\anaconda3\\lib\\site-packages (from trio~=0.17->selenium) (2.3.0)\n",
      "Requirement already satisfied: outcome in c:\\users\\yashn\\anaconda3\\lib\\site-packages (from trio~=0.17->selenium) (1.1.0)\n",
      "Requirement already satisfied: async-generator>=1.9 in c:\\users\\yashn\\anaconda3\\lib\\site-packages (from trio~=0.17->selenium) (1.10)\n",
      "Requirement already satisfied: cffi>=1.14 in c:\\users\\yashn\\anaconda3\\lib\\site-packages (from trio~=0.17->selenium) (1.14.5)\n",
      "Requirement already satisfied: pycparser in c:\\users\\yashn\\anaconda3\\lib\\site-packages (from cffi>=1.14->trio~=0.17->selenium) (2.20)\n",
      "Requirement already satisfied: wsproto>=0.14 in c:\\users\\yashn\\anaconda3\\lib\\site-packages (from trio-websocket~=0.9->selenium) (1.0.0)\n",
      "Requirement already satisfied: certifi in c:\\users\\yashn\\anaconda3\\lib\\site-packages (from urllib3[secure]~=1.26->selenium) (2020.12.5)\n",
      "Requirement already satisfied: pyOpenSSL>=0.14 in c:\\users\\yashn\\anaconda3\\lib\\site-packages (from urllib3[secure]~=1.26->selenium) (20.0.1)\n",
      "Requirement already satisfied: cryptography>=1.3.4 in c:\\users\\yashn\\anaconda3\\lib\\site-packages (from urllib3[secure]~=1.26->selenium) (3.4.7)\n",
      "Requirement already satisfied: six>=1.5.2 in c:\\users\\yashn\\anaconda3\\lib\\site-packages (from pyOpenSSL>=0.14->urllib3[secure]~=1.26->selenium) (1.15.0)\n",
      "Requirement already satisfied: h11<1,>=0.9.0 in c:\\users\\yashn\\anaconda3\\lib\\site-packages (from wsproto>=0.14->trio-websocket~=0.9->selenium) (0.12.0)\n"
     ]
    }
   ],
   "source": [
    "# installing Selenium Library\n",
    "!pip install selenium"
   ]
  },
  {
   "cell_type": "code",
   "execution_count": 2,
   "id": "8fe072ae",
   "metadata": {},
   "outputs": [],
   "source": [
    "# Importing the required libraries\n",
    "import selenium\n",
    "from selenium import webdriver\n",
    "import pandas as pd\n",
    "import warnings\n",
    "warnings.filterwarnings(\"ignore\")"
   ]
  },
  {
   "cell_type": "code",
   "execution_count": 62,
   "id": "55e1a0d9",
   "metadata": {},
   "outputs": [
    {
     "ename": "WebDriverException",
     "evalue": "Message: 'chromedriver.exe' executable needs to be in PATH. Please see https://chromedriver.chromium.org/home\n",
     "output_type": "error",
     "traceback": [
      "\u001b[1;31m---------------------------------------------------------------------------\u001b[0m",
      "\u001b[1;31mFileNotFoundError\u001b[0m                         Traceback (most recent call last)",
      "\u001b[1;32m~\\anaconda3\\lib\\site-packages\\selenium\\webdriver\\common\\service.py\u001b[0m in \u001b[0;36mstart\u001b[1;34m(self)\u001b[0m\n\u001b[0;32m     70\u001b[0m             \u001b[0mcmd\u001b[0m\u001b[1;33m.\u001b[0m\u001b[0mextend\u001b[0m\u001b[1;33m(\u001b[0m\u001b[0mself\u001b[0m\u001b[1;33m.\u001b[0m\u001b[0mcommand_line_args\u001b[0m\u001b[1;33m(\u001b[0m\u001b[1;33m)\u001b[0m\u001b[1;33m)\u001b[0m\u001b[1;33m\u001b[0m\u001b[1;33m\u001b[0m\u001b[0m\n\u001b[1;32m---> 71\u001b[1;33m             self.process = subprocess.Popen(cmd, env=self.env,\n\u001b[0m\u001b[0;32m     72\u001b[0m                                             \u001b[0mclose_fds\u001b[0m\u001b[1;33m=\u001b[0m\u001b[0msystem\u001b[0m\u001b[1;33m(\u001b[0m\u001b[1;33m)\u001b[0m \u001b[1;33m!=\u001b[0m \u001b[1;34m'Windows'\u001b[0m\u001b[1;33m,\u001b[0m\u001b[1;33m\u001b[0m\u001b[1;33m\u001b[0m\u001b[0m\n",
      "\u001b[1;32m~\\anaconda3\\lib\\subprocess.py\u001b[0m in \u001b[0;36m__init__\u001b[1;34m(self, args, bufsize, executable, stdin, stdout, stderr, preexec_fn, close_fds, shell, cwd, env, universal_newlines, startupinfo, creationflags, restore_signals, start_new_session, pass_fds, encoding, errors, text)\u001b[0m\n\u001b[0;32m    857\u001b[0m \u001b[1;33m\u001b[0m\u001b[0m\n\u001b[1;32m--> 858\u001b[1;33m             self._execute_child(args, executable, preexec_fn, close_fds,\n\u001b[0m\u001b[0;32m    859\u001b[0m                                 \u001b[0mpass_fds\u001b[0m\u001b[1;33m,\u001b[0m \u001b[0mcwd\u001b[0m\u001b[1;33m,\u001b[0m \u001b[0menv\u001b[0m\u001b[1;33m,\u001b[0m\u001b[1;33m\u001b[0m\u001b[1;33m\u001b[0m\u001b[0m\n",
      "\u001b[1;32m~\\anaconda3\\lib\\subprocess.py\u001b[0m in \u001b[0;36m_execute_child\u001b[1;34m(self, args, executable, preexec_fn, close_fds, pass_fds, cwd, env, startupinfo, creationflags, shell, p2cread, p2cwrite, c2pread, c2pwrite, errread, errwrite, unused_restore_signals, unused_start_new_session)\u001b[0m\n\u001b[0;32m   1310\u001b[0m             \u001b[1;32mtry\u001b[0m\u001b[1;33m:\u001b[0m\u001b[1;33m\u001b[0m\u001b[1;33m\u001b[0m\u001b[0m\n\u001b[1;32m-> 1311\u001b[1;33m                 hp, ht, pid, tid = _winapi.CreateProcess(executable, args,\n\u001b[0m\u001b[0;32m   1312\u001b[0m                                          \u001b[1;31m# no special security\u001b[0m\u001b[1;33m\u001b[0m\u001b[1;33m\u001b[0m\u001b[1;33m\u001b[0m\u001b[0m\n",
      "\u001b[1;31mFileNotFoundError\u001b[0m: [WinError 2] The system cannot find the file specified",
      "\nDuring handling of the above exception, another exception occurred:\n",
      "\u001b[1;31mWebDriverException\u001b[0m                        Traceback (most recent call last)",
      "\u001b[1;32m<ipython-input-62-a748e7768a3c>\u001b[0m in \u001b[0;36m<module>\u001b[1;34m\u001b[0m\n\u001b[0;32m      1\u001b[0m \u001b[1;31m# Connecting to webdriver\u001b[0m\u001b[1;33m\u001b[0m\u001b[1;33m\u001b[0m\u001b[1;33m\u001b[0m\u001b[0m\n\u001b[1;32m----> 2\u001b[1;33m \u001b[0mdriver\u001b[0m \u001b[1;33m=\u001b[0m \u001b[0mwebdriver\u001b[0m\u001b[1;33m.\u001b[0m\u001b[0mChrome\u001b[0m\u001b[1;33m(\u001b[0m\u001b[1;34mr'C:\\Users\\yashn\\OneDrive\\Desktop\\New folder (2)\\chromedriver_win32\\chromedriver.exe'\u001b[0m\u001b[1;33m)\u001b[0m\u001b[1;33m\u001b[0m\u001b[1;33m\u001b[0m\u001b[0m\n\u001b[0m",
      "\u001b[1;32m~\\anaconda3\\lib\\site-packages\\selenium\\webdriver\\chrome\\webdriver.py\u001b[0m in \u001b[0;36m__init__\u001b[1;34m(self, executable_path, port, options, service_args, desired_capabilities, service_log_path, chrome_options, service, keep_alive)\u001b[0m\n\u001b[0;32m     68\u001b[0m             \u001b[0mservice\u001b[0m \u001b[1;33m=\u001b[0m \u001b[0mService\u001b[0m\u001b[1;33m(\u001b[0m\u001b[0mexecutable_path\u001b[0m\u001b[1;33m,\u001b[0m \u001b[0mport\u001b[0m\u001b[1;33m,\u001b[0m \u001b[0mservice_args\u001b[0m\u001b[1;33m,\u001b[0m \u001b[0mservice_log_path\u001b[0m\u001b[1;33m)\u001b[0m\u001b[1;33m\u001b[0m\u001b[1;33m\u001b[0m\u001b[0m\n\u001b[0;32m     69\u001b[0m \u001b[1;33m\u001b[0m\u001b[0m\n\u001b[1;32m---> 70\u001b[1;33m         super(WebDriver, self).__init__(DesiredCapabilities.CHROME['browserName'], \"goog\",\n\u001b[0m\u001b[0;32m     71\u001b[0m                                         \u001b[0mport\u001b[0m\u001b[1;33m,\u001b[0m \u001b[0moptions\u001b[0m\u001b[1;33m,\u001b[0m\u001b[1;33m\u001b[0m\u001b[1;33m\u001b[0m\u001b[0m\n\u001b[0;32m     72\u001b[0m                                         \u001b[0mservice_args\u001b[0m\u001b[1;33m,\u001b[0m \u001b[0mdesired_capabilities\u001b[0m\u001b[1;33m,\u001b[0m\u001b[1;33m\u001b[0m\u001b[1;33m\u001b[0m\u001b[0m\n",
      "\u001b[1;32m~\\anaconda3\\lib\\site-packages\\selenium\\webdriver\\chromium\\webdriver.py\u001b[0m in \u001b[0;36m__init__\u001b[1;34m(self, browser_name, vendor_prefix, port, options, service_args, desired_capabilities, service_log_path, service, keep_alive)\u001b[0m\n\u001b[0;32m     88\u001b[0m \u001b[1;33m\u001b[0m\u001b[0m\n\u001b[0;32m     89\u001b[0m         \u001b[0mself\u001b[0m\u001b[1;33m.\u001b[0m\u001b[0mservice\u001b[0m \u001b[1;33m=\u001b[0m \u001b[0mservice\u001b[0m\u001b[1;33m\u001b[0m\u001b[1;33m\u001b[0m\u001b[0m\n\u001b[1;32m---> 90\u001b[1;33m         \u001b[0mself\u001b[0m\u001b[1;33m.\u001b[0m\u001b[0mservice\u001b[0m\u001b[1;33m.\u001b[0m\u001b[0mstart\u001b[0m\u001b[1;33m(\u001b[0m\u001b[1;33m)\u001b[0m\u001b[1;33m\u001b[0m\u001b[1;33m\u001b[0m\u001b[0m\n\u001b[0m\u001b[0;32m     91\u001b[0m \u001b[1;33m\u001b[0m\u001b[0m\n\u001b[0;32m     92\u001b[0m         \u001b[1;32mtry\u001b[0m\u001b[1;33m:\u001b[0m\u001b[1;33m\u001b[0m\u001b[1;33m\u001b[0m\u001b[0m\n",
      "\u001b[1;32m~\\anaconda3\\lib\\site-packages\\selenium\\webdriver\\common\\service.py\u001b[0m in \u001b[0;36mstart\u001b[1;34m(self)\u001b[0m\n\u001b[0;32m     79\u001b[0m         \u001b[1;32mexcept\u001b[0m \u001b[0mOSError\u001b[0m \u001b[1;32mas\u001b[0m \u001b[0merr\u001b[0m\u001b[1;33m:\u001b[0m\u001b[1;33m\u001b[0m\u001b[1;33m\u001b[0m\u001b[0m\n\u001b[0;32m     80\u001b[0m             \u001b[1;32mif\u001b[0m \u001b[0merr\u001b[0m\u001b[1;33m.\u001b[0m\u001b[0merrno\u001b[0m \u001b[1;33m==\u001b[0m \u001b[0merrno\u001b[0m\u001b[1;33m.\u001b[0m\u001b[0mENOENT\u001b[0m\u001b[1;33m:\u001b[0m\u001b[1;33m\u001b[0m\u001b[1;33m\u001b[0m\u001b[0m\n\u001b[1;32m---> 81\u001b[1;33m                 raise WebDriverException(\n\u001b[0m\u001b[0;32m     82\u001b[0m                     \"'%s' executable needs to be in PATH. %s\" % (\n\u001b[0;32m     83\u001b[0m                         os.path.basename(self.path), self.start_error_message)\n",
      "\u001b[1;31mWebDriverException\u001b[0m: Message: 'chromedriver.exe' executable needs to be in PATH. Please see https://chromedriver.chromium.org/home\n"
     ]
    }
   ],
   "source": [
    "# Connecting to webdriver\n",
    "driver = webdriver.Chrome(r'C:\\Users\\yashn\\OneDrive\\Desktop\\New folder (2)\\chromedriver_win32\\chromedriver.exe')"
   ]
  },
  {
   "cell_type": "code",
   "execution_count": 63,
   "id": "504fde29",
   "metadata": {},
   "outputs": [],
   "source": [
    "driver = webdriver.Chrome('chromedriver.exe')"
   ]
  },
  {
   "cell_type": "markdown",
   "id": "41cdfb5f",
   "metadata": {},
   "source": [
    "1. Python program to scrape the job details from Naukri.com"
   ]
  },
  {
   "cell_type": "code",
   "execution_count": 40,
   "id": "79a47767",
   "metadata": {},
   "outputs": [],
   "source": [
    "url = 'https://www.naukri.com/'\n",
    "driver.get(url)"
   ]
  },
  {
   "cell_type": "code",
   "execution_count": 41,
   "id": "0fd863b9",
   "metadata": {},
   "outputs": [
    {
     "data": {
      "text/plain": [
       "<selenium.webdriver.remote.webelement.WebElement (session=\"356c600dc9ce786ab3566b7de00b2378\", element=\"6a0d27bc-d57a-4afb-a534-b2a6b260649b\")>"
      ]
     },
     "execution_count": 41,
     "metadata": {},
     "output_type": "execute_result"
    }
   ],
   "source": [
    "# finding element by using search bar by using absolute xpath\n",
    "search_job = driver.find_element_by_xpath('/html/body/div/div[2]/div[3]/div/div/div[1]/div/div/div/input')\n",
    "search_job"
   ]
  },
  {
   "cell_type": "code",
   "execution_count": 45,
   "id": "81c6ae18",
   "metadata": {
    "scrolled": true
   },
   "outputs": [],
   "source": [
    "search_job.send_keys(\"Data Analyst\")"
   ]
  },
  {
   "cell_type": "code",
   "execution_count": 46,
   "id": "31372f3c",
   "metadata": {},
   "outputs": [
    {
     "data": {
      "text/plain": [
       "<selenium.webdriver.remote.webelement.WebElement (session=\"356c600dc9ce786ab3566b7de00b2378\", element=\"4fcf688d-7402-4dd3-b8f7-aabfa9ea35ba\")>"
      ]
     },
     "execution_count": 46,
     "metadata": {},
     "output_type": "execute_result"
    }
   ],
   "source": [
    "#finding location using absolute xpath\n",
    "search_locn = driver.find_element_by_xpath('/html/body/div/div[2]/div[3]/div/div/div[3]/div/div/div/input')\n",
    "search_locn"
   ]
  },
  {
   "cell_type": "code",
   "execution_count": 47,
   "id": "4b509b76",
   "metadata": {},
   "outputs": [],
   "source": [
    "search_job.send_keys(\"Bangalore\")"
   ]
  },
  {
   "cell_type": "code",
   "execution_count": 48,
   "id": "6ea99cb3",
   "metadata": {},
   "outputs": [
    {
     "data": {
      "text/plain": [
       "<selenium.webdriver.remote.webelement.WebElement (session=\"356c600dc9ce786ab3566b7de00b2378\", element=\"e99bcd26-fc88-4cae-9297-145ea3108745\")>"
      ]
     },
     "execution_count": 48,
     "metadata": {},
     "output_type": "execute_result"
    }
   ],
   "source": [
    "search_btn = driver.find_element_by_xpath('/html/body/div/div[2]/div[3]/div/div/div[6]')\n",
    "search_btn"
   ]
  },
  {
   "cell_type": "code",
   "execution_count": 49,
   "id": "8dc89f28",
   "metadata": {},
   "outputs": [],
   "source": [
    "search_btn.click()"
   ]
  },
  {
   "cell_type": "code",
   "execution_count": 62,
   "id": "8f0c4faf",
   "metadata": {},
   "outputs": [
    {
     "data": {
      "text/plain": [
       "[<selenium.webdriver.remote.webelement.WebElement (session=\"356c600dc9ce786ab3566b7de00b2378\", element=\"da2e961a-e525-4faa-9b10-67ae104d4ed6\")>,\n",
       " <selenium.webdriver.remote.webelement.WebElement (session=\"356c600dc9ce786ab3566b7de00b2378\", element=\"a77c093d-9c8a-4b27-b694-14e445329430\")>,\n",
       " <selenium.webdriver.remote.webelement.WebElement (session=\"356c600dc9ce786ab3566b7de00b2378\", element=\"90fd41b7-9aaf-4453-b485-e8f188652bc7\")>,\n",
       " <selenium.webdriver.remote.webelement.WebElement (session=\"356c600dc9ce786ab3566b7de00b2378\", element=\"54feea76-bcff-4f17-8c8a-2273da3045ad\")>,\n",
       " <selenium.webdriver.remote.webelement.WebElement (session=\"356c600dc9ce786ab3566b7de00b2378\", element=\"d84c0ad0-e451-4152-9d15-c2c9514c50cb\")>,\n",
       " <selenium.webdriver.remote.webelement.WebElement (session=\"356c600dc9ce786ab3566b7de00b2378\", element=\"74d0069f-6dce-4adf-9827-771bf4b3e043\")>,\n",
       " <selenium.webdriver.remote.webelement.WebElement (session=\"356c600dc9ce786ab3566b7de00b2378\", element=\"2f26041f-47d0-47ad-8c7d-f969210c31a3\")>,\n",
       " <selenium.webdriver.remote.webelement.WebElement (session=\"356c600dc9ce786ab3566b7de00b2378\", element=\"79adea1d-4e45-4ec9-ab90-3a7fcafaae03\")>,\n",
       " <selenium.webdriver.remote.webelement.WebElement (session=\"356c600dc9ce786ab3566b7de00b2378\", element=\"02be5e76-a988-4095-8fcc-820aa7be436e\")>,\n",
       " <selenium.webdriver.remote.webelement.WebElement (session=\"356c600dc9ce786ab3566b7de00b2378\", element=\"fc023e7b-cc5e-47db-acb5-43c6d35bddc7\")>]"
      ]
     },
     "execution_count": 62,
     "metadata": {},
     "output_type": "execute_result"
    }
   ],
   "source": [
    "# Extracting job title\n",
    "#extract all web elements having job title\n",
    "title_tags = driver.find_elements_by_xpath('//a[@class=\"title fw500 ellipsis\"]')\n",
    "len(title_tags)\n",
    "title_tags[0:10]"
   ]
  },
  {
   "cell_type": "code",
   "execution_count": 63,
   "id": "508d8f54",
   "metadata": {},
   "outputs": [
    {
     "data": {
      "text/plain": [
       "['Junior Data Analyst/ Scientist- Fresher Position',\n",
       " 'Safety Data Analyst',\n",
       " 'Data Analyst / Sr. Data Analyst',\n",
       " 'Senior Data Analyst - CRM',\n",
       " 'Lead - Data Analyst / Scientist',\n",
       " 'Research - Data Analyst / Associate',\n",
       " 'Data Analyst - CRM Platform',\n",
       " 'Senior Data Analyst - CRM',\n",
       " 'Global Data Analyst',\n",
       " 'Data Analyst']"
      ]
     },
     "execution_count": 63,
     "metadata": {},
     "output_type": "execute_result"
    }
   ],
   "source": [
    "job_titles = []\n",
    "\n",
    "for i in title_tags:\n",
    "    job_titles.append(i.text)\n",
    "len(job_titles)\n",
    "job_titles[0:10]"
   ]
  },
  {
   "cell_type": "code",
   "execution_count": 64,
   "id": "1ffcc0f0",
   "metadata": {},
   "outputs": [
    {
     "data": {
      "text/plain": [
       "[<selenium.webdriver.remote.webelement.WebElement (session=\"356c600dc9ce786ab3566b7de00b2378\", element=\"7613fdfd-187a-45c5-8bad-82a2cfa486e8\")>,\n",
       " <selenium.webdriver.remote.webelement.WebElement (session=\"356c600dc9ce786ab3566b7de00b2378\", element=\"ad77bd65-fc7b-4c5e-af65-2e1d32442183\")>,\n",
       " <selenium.webdriver.remote.webelement.WebElement (session=\"356c600dc9ce786ab3566b7de00b2378\", element=\"93d2ecf8-6484-4d70-af98-c8a77692877f\")>,\n",
       " <selenium.webdriver.remote.webelement.WebElement (session=\"356c600dc9ce786ab3566b7de00b2378\", element=\"cc6ee629-132d-4352-9f14-b4b09ae800f8\")>,\n",
       " <selenium.webdriver.remote.webelement.WebElement (session=\"356c600dc9ce786ab3566b7de00b2378\", element=\"8f9b4630-cfb8-47a6-bf93-09b39e1945f3\")>,\n",
       " <selenium.webdriver.remote.webelement.WebElement (session=\"356c600dc9ce786ab3566b7de00b2378\", element=\"cebb0bae-2a6f-44ad-9ab0-8001c75d07ef\")>,\n",
       " <selenium.webdriver.remote.webelement.WebElement (session=\"356c600dc9ce786ab3566b7de00b2378\", element=\"51a5c1a8-9bad-4054-9833-96c892ef4260\")>,\n",
       " <selenium.webdriver.remote.webelement.WebElement (session=\"356c600dc9ce786ab3566b7de00b2378\", element=\"6c8fc5b6-3ed0-43a9-9c61-e86b07a324a4\")>,\n",
       " <selenium.webdriver.remote.webelement.WebElement (session=\"356c600dc9ce786ab3566b7de00b2378\", element=\"07756195-905a-4326-82ec-3efee800ca36\")>,\n",
       " <selenium.webdriver.remote.webelement.WebElement (session=\"356c600dc9ce786ab3566b7de00b2378\", element=\"ef87e1cb-646f-4561-90ba-06c64ba79eec\")>]"
      ]
     },
     "execution_count": 64,
     "metadata": {},
     "output_type": "execute_result"
    }
   ],
   "source": [
    "# Extracting company names\n",
    "company_tags = driver.find_elements_by_xpath('//a[@class=\"subTitle ellipsis fleft\"]')\n",
    "company_tags[0:10]"
   ]
  },
  {
   "cell_type": "code",
   "execution_count": 65,
   "id": "04b8bbf7",
   "metadata": {},
   "outputs": [
    {
     "data": {
      "text/plain": [
       "['Sejal Consulting Hub',\n",
       " 'Novo Nordisk India',\n",
       " 'Vmware',\n",
       " 'Gojek Tech',\n",
       " 'Axim Technologies',\n",
       " 'AXL HR Tech',\n",
       " 'Artech infosystem',\n",
       " 'GO-JEK India',\n",
       " 'ExecBoardinAsia',\n",
       " 'E&Y']"
      ]
     },
     "execution_count": 65,
     "metadata": {},
     "output_type": "execute_result"
    }
   ],
   "source": [
    "company_names = []\n",
    "\n",
    "for i in company_tags:\n",
    "    company_names.append(i.text)\n",
    "len(company_names)\n",
    "company_names[0:10]"
   ]
  },
  {
   "cell_type": "code",
   "execution_count": 70,
   "id": "4addcbd5",
   "metadata": {},
   "outputs": [
    {
     "data": {
      "text/plain": [
       "[<selenium.webdriver.remote.webelement.WebElement (session=\"356c600dc9ce786ab3566b7de00b2378\", element=\"2cd10ccc-7652-4d81-a607-4d2ced5e4c58\")>,\n",
       " <selenium.webdriver.remote.webelement.WebElement (session=\"356c600dc9ce786ab3566b7de00b2378\", element=\"da6fd41e-ff42-4d43-9805-72c2489b2734\")>,\n",
       " <selenium.webdriver.remote.webelement.WebElement (session=\"356c600dc9ce786ab3566b7de00b2378\", element=\"55d588ae-c22f-4ff7-88b3-ac58049f7919\")>,\n",
       " <selenium.webdriver.remote.webelement.WebElement (session=\"356c600dc9ce786ab3566b7de00b2378\", element=\"ff7e1730-a9f1-4247-aa9e-d5b2be946409\")>,\n",
       " <selenium.webdriver.remote.webelement.WebElement (session=\"356c600dc9ce786ab3566b7de00b2378\", element=\"fd164063-a66f-4be6-8ac8-5d01991624b0\")>,\n",
       " <selenium.webdriver.remote.webelement.WebElement (session=\"356c600dc9ce786ab3566b7de00b2378\", element=\"20261913-f1b6-479a-ac0f-1c8566ffe8ee\")>,\n",
       " <selenium.webdriver.remote.webelement.WebElement (session=\"356c600dc9ce786ab3566b7de00b2378\", element=\"530c21bc-c8f8-47ec-8e21-b11bee8baf4e\")>,\n",
       " <selenium.webdriver.remote.webelement.WebElement (session=\"356c600dc9ce786ab3566b7de00b2378\", element=\"6e3c4af5-387a-471b-a780-1634e13118a5\")>,\n",
       " <selenium.webdriver.remote.webelement.WebElement (session=\"356c600dc9ce786ab3566b7de00b2378\", element=\"84e4db4d-c2e2-4ca5-ba66-b204ec295a05\")>,\n",
       " <selenium.webdriver.remote.webelement.WebElement (session=\"356c600dc9ce786ab3566b7de00b2378\", element=\"f3cb0959-ff22-4c34-9e6d-85266e242450\")>]"
      ]
     },
     "execution_count": 70,
     "metadata": {},
     "output_type": "execute_result"
    }
   ],
   "source": [
    "job_loc = driver.find_elements_by_xpath('//li[@class=\"fleft grey-text br2 placeHolderLi location\"]')\n",
    "job_loc[0:10]"
   ]
  },
  {
   "cell_type": "code",
   "execution_count": 71,
   "id": "718c5c0e",
   "metadata": {},
   "outputs": [
    {
     "data": {
      "text/plain": [
       "['Kolkata, Gurgaon/Gurugram, Bangalore/Bengaluru\\n(WFH during Covid)',\n",
       " 'Bangalore/Bengaluru',\n",
       " 'Bangalore/Bengaluru',\n",
       " 'Bangalore/Bengaluru',\n",
       " 'Bangalore/Bengaluru',\n",
       " 'Mumbai, Delhi / NCR, Bangalore/Bengaluru',\n",
       " 'Kolkata, Mumbai, Hyderabad/Secunderabad, Pune, Chennai, Bangalore/Bengaluru, Delhi / NCR',\n",
       " 'Bangalore/Bengaluru',\n",
       " 'Bangalore/Bengaluru',\n",
       " 'Kolkata, Pune, Gurgaon/Gurugram, Bangalore/Bengaluru\\n(WFH during Covid)']"
      ]
     },
     "execution_count": 71,
     "metadata": {},
     "output_type": "execute_result"
    }
   ],
   "source": [
    "company_loc = []\n",
    "\n",
    "for i in job_loc:\n",
    "    company_loc.append(i.text)\n",
    "len(company_loc)\n",
    "company_loc[0:10]"
   ]
  },
  {
   "cell_type": "code",
   "execution_count": 72,
   "id": "7a8b4052",
   "metadata": {},
   "outputs": [
    {
     "data": {
      "text/plain": [
       "[<selenium.webdriver.remote.webelement.WebElement (session=\"356c600dc9ce786ab3566b7de00b2378\", element=\"c04da2ac-1d71-421f-91aa-421ffd8a7302\")>,\n",
       " <selenium.webdriver.remote.webelement.WebElement (session=\"356c600dc9ce786ab3566b7de00b2378\", element=\"8d6db4b8-5b20-4a2d-b614-31df9b096506\")>,\n",
       " <selenium.webdriver.remote.webelement.WebElement (session=\"356c600dc9ce786ab3566b7de00b2378\", element=\"bf263e9c-e217-4dd1-82dd-365850fa71a0\")>,\n",
       " <selenium.webdriver.remote.webelement.WebElement (session=\"356c600dc9ce786ab3566b7de00b2378\", element=\"a57a2d7a-871f-4890-9599-54e24dd61095\")>,\n",
       " <selenium.webdriver.remote.webelement.WebElement (session=\"356c600dc9ce786ab3566b7de00b2378\", element=\"fdd2ff00-b19b-4789-89cc-8f9538559a76\")>,\n",
       " <selenium.webdriver.remote.webelement.WebElement (session=\"356c600dc9ce786ab3566b7de00b2378\", element=\"2e6a260f-388b-4446-b3a8-5e42649f9f52\")>,\n",
       " <selenium.webdriver.remote.webelement.WebElement (session=\"356c600dc9ce786ab3566b7de00b2378\", element=\"410480ef-bb98-41a5-bd68-1bf09aa37c6e\")>,\n",
       " <selenium.webdriver.remote.webelement.WebElement (session=\"356c600dc9ce786ab3566b7de00b2378\", element=\"d2529691-0b4e-4717-a7f9-27f58c3b2846\")>,\n",
       " <selenium.webdriver.remote.webelement.WebElement (session=\"356c600dc9ce786ab3566b7de00b2378\", element=\"39e8e975-7a38-4930-9f86-773af9828e73\")>,\n",
       " <selenium.webdriver.remote.webelement.WebElement (session=\"356c600dc9ce786ab3566b7de00b2378\", element=\"ef0250e8-5a54-437e-9151-bdaf8a2522e6\")>]"
      ]
     },
     "execution_count": 72,
     "metadata": {},
     "output_type": "execute_result"
    }
   ],
   "source": [
    "job_exp = driver.find_elements_by_xpath('//li[@class=\"fleft grey-text br2 placeHolderLi experience\"]')\n",
    "job_exp[0:10]"
   ]
  },
  {
   "cell_type": "code",
   "execution_count": 73,
   "id": "06ef57c2",
   "metadata": {},
   "outputs": [
    {
     "data": {
      "text/plain": [
       "['0-3 Yrs',\n",
       " '0-4 Yrs',\n",
       " '3-6 Yrs',\n",
       " '2-5 Yrs',\n",
       " '12-14 Yrs',\n",
       " '0-2 Yrs',\n",
       " '1-6 Yrs',\n",
       " '4-8 Yrs',\n",
       " '5-10 Yrs',\n",
       " '3-7 Yrs']"
      ]
     },
     "execution_count": 73,
     "metadata": {},
     "output_type": "execute_result"
    }
   ],
   "source": [
    "company_exp = []\n",
    "\n",
    "for i in job_exp:\n",
    "    company_exp.append(i.text)\n",
    "len(company_exp)\n",
    "company_exp[0:10]"
   ]
  },
  {
   "cell_type": "code",
   "execution_count": 77,
   "id": "5ebcc90c",
   "metadata": {},
   "outputs": [
    {
     "data": {
      "text/plain": [
       "(20, 20, 20, 20)"
      ]
     },
     "execution_count": 77,
     "metadata": {},
     "output_type": "execute_result"
    }
   ],
   "source": [
    "\n",
    "len(job_titles),len(company_names),len(company_loc),len(company_exp)"
   ]
  },
  {
   "cell_type": "code",
   "execution_count": 79,
   "id": "97fedf09",
   "metadata": {},
   "outputs": [
    {
     "data": {
      "text/html": [
       "<div>\n",
       "<style scoped>\n",
       "    .dataframe tbody tr th:only-of-type {\n",
       "        vertical-align: middle;\n",
       "    }\n",
       "\n",
       "    .dataframe tbody tr th {\n",
       "        vertical-align: top;\n",
       "    }\n",
       "\n",
       "    .dataframe thead th {\n",
       "        text-align: right;\n",
       "    }\n",
       "</style>\n",
       "<table border=\"1\" class=\"dataframe\">\n",
       "  <thead>\n",
       "    <tr style=\"text-align: right;\">\n",
       "      <th></th>\n",
       "      <th>Job Title</th>\n",
       "      <th>Company</th>\n",
       "      <th>Location</th>\n",
       "      <th>Experience</th>\n",
       "    </tr>\n",
       "  </thead>\n",
       "  <tbody>\n",
       "    <tr>\n",
       "      <th>0</th>\n",
       "      <td>Junior Data Analyst/ Scientist- Fresher Position</td>\n",
       "      <td>Sejal Consulting Hub</td>\n",
       "      <td>Kolkata, Gurgaon/Gurugram, Bangalore/Bengaluru...</td>\n",
       "      <td>0-3 Yrs</td>\n",
       "    </tr>\n",
       "    <tr>\n",
       "      <th>1</th>\n",
       "      <td>Safety Data Analyst</td>\n",
       "      <td>Novo Nordisk India</td>\n",
       "      <td>Bangalore/Bengaluru</td>\n",
       "      <td>0-4 Yrs</td>\n",
       "    </tr>\n",
       "    <tr>\n",
       "      <th>2</th>\n",
       "      <td>Data Analyst / Sr. Data Analyst</td>\n",
       "      <td>Vmware</td>\n",
       "      <td>Bangalore/Bengaluru</td>\n",
       "      <td>3-6 Yrs</td>\n",
       "    </tr>\n",
       "    <tr>\n",
       "      <th>3</th>\n",
       "      <td>Senior Data Analyst - CRM</td>\n",
       "      <td>Gojek Tech</td>\n",
       "      <td>Bangalore/Bengaluru</td>\n",
       "      <td>2-5 Yrs</td>\n",
       "    </tr>\n",
       "    <tr>\n",
       "      <th>4</th>\n",
       "      <td>Lead - Data Analyst / Scientist</td>\n",
       "      <td>Axim Technologies</td>\n",
       "      <td>Bangalore/Bengaluru</td>\n",
       "      <td>12-14 Yrs</td>\n",
       "    </tr>\n",
       "    <tr>\n",
       "      <th>5</th>\n",
       "      <td>Research - Data Analyst / Associate</td>\n",
       "      <td>AXL HR Tech</td>\n",
       "      <td>Mumbai, Delhi / NCR, Bangalore/Bengaluru</td>\n",
       "      <td>0-2 Yrs</td>\n",
       "    </tr>\n",
       "    <tr>\n",
       "      <th>6</th>\n",
       "      <td>Data Analyst - CRM Platform</td>\n",
       "      <td>Artech infosystem</td>\n",
       "      <td>Kolkata, Mumbai, Hyderabad/Secunderabad, Pune,...</td>\n",
       "      <td>1-6 Yrs</td>\n",
       "    </tr>\n",
       "    <tr>\n",
       "      <th>7</th>\n",
       "      <td>Senior Data Analyst - CRM</td>\n",
       "      <td>GO-JEK India</td>\n",
       "      <td>Bangalore/Bengaluru</td>\n",
       "      <td>4-8 Yrs</td>\n",
       "    </tr>\n",
       "    <tr>\n",
       "      <th>8</th>\n",
       "      <td>Global Data Analyst</td>\n",
       "      <td>ExecBoardinAsia</td>\n",
       "      <td>Bangalore/Bengaluru</td>\n",
       "      <td>5-10 Yrs</td>\n",
       "    </tr>\n",
       "    <tr>\n",
       "      <th>9</th>\n",
       "      <td>Data Analyst</td>\n",
       "      <td>E&amp;Y</td>\n",
       "      <td>Kolkata, Pune, Gurgaon/Gurugram, Bangalore/Ben...</td>\n",
       "      <td>3-7 Yrs</td>\n",
       "    </tr>\n",
       "    <tr>\n",
       "      <th>10</th>\n",
       "      <td>Lead Data Analyst, ED&amp;A</td>\n",
       "      <td>ExecBoardinAsia</td>\n",
       "      <td>Bangalore/Bengaluru</td>\n",
       "      <td>5-10 Yrs</td>\n",
       "    </tr>\n",
       "    <tr>\n",
       "      <th>11</th>\n",
       "      <td>We are hiring ESG Data Analyst!!!</td>\n",
       "      <td>STRAIVE (SPI TECHNOLOGIES)</td>\n",
       "      <td>Hyderabad/Secunderabad, Pune, Chennai, Bangalo...</td>\n",
       "      <td>1-3 Yrs</td>\n",
       "    </tr>\n",
       "    <tr>\n",
       "      <th>12</th>\n",
       "      <td>Data Analyst</td>\n",
       "      <td>Multi Recruit</td>\n",
       "      <td>Bangalore/Bengaluru</td>\n",
       "      <td>2-4 Yrs</td>\n",
       "    </tr>\n",
       "    <tr>\n",
       "      <th>13</th>\n",
       "      <td>We are hiring ESG Data Analyst!!!</td>\n",
       "      <td>STRAIVE (SPI TECHNOLOGIES)</td>\n",
       "      <td>Hyderabad/Secunderabad, Pune, Chennai, Bangalo...</td>\n",
       "      <td>1-3 Yrs</td>\n",
       "    </tr>\n",
       "    <tr>\n",
       "      <th>14</th>\n",
       "      <td>Data Analyst</td>\n",
       "      <td>Snaphunt</td>\n",
       "      <td>Bangalore/Bengaluru</td>\n",
       "      <td>0-2 Yrs</td>\n",
       "    </tr>\n",
       "    <tr>\n",
       "      <th>15</th>\n",
       "      <td>Business Data Analyst - Database Design/Mining</td>\n",
       "      <td>AugmatrixGo</td>\n",
       "      <td>Bangalore/Bengaluru</td>\n",
       "      <td>2-5 Yrs</td>\n",
       "    </tr>\n",
       "    <tr>\n",
       "      <th>16</th>\n",
       "      <td>BUSINESS ANALYST -DATA SCIENCE-CONSUMER</td>\n",
       "      <td>BRIDGEi2i Analytics Solutions Private Limited</td>\n",
       "      <td>Bangalore/Bengaluru</td>\n",
       "      <td>0-2 Yrs</td>\n",
       "    </tr>\n",
       "    <tr>\n",
       "      <th>17</th>\n",
       "      <td>Senior Analyst, Data Engineering</td>\n",
       "      <td>Dell</td>\n",
       "      <td>Bangalore/Bengaluru</td>\n",
       "      <td>5-10 Yrs</td>\n",
       "    </tr>\n",
       "    <tr>\n",
       "      <th>18</th>\n",
       "      <td>Senior Analyst, Data Engineering</td>\n",
       "      <td>Dell</td>\n",
       "      <td>Bangalore/Bengaluru</td>\n",
       "      <td>5-10 Yrs</td>\n",
       "    </tr>\n",
       "    <tr>\n",
       "      <th>19</th>\n",
       "      <td>Senior Data Analyst - Supporting Audits</td>\n",
       "      <td>Visa</td>\n",
       "      <td>Bangalore/Bengaluru</td>\n",
       "      <td>5-8 Yrs</td>\n",
       "    </tr>\n",
       "  </tbody>\n",
       "</table>\n",
       "</div>"
      ],
      "text/plain": [
       "                                           Job Title  \\\n",
       "0   Junior Data Analyst/ Scientist- Fresher Position   \n",
       "1                                Safety Data Analyst   \n",
       "2                    Data Analyst / Sr. Data Analyst   \n",
       "3                          Senior Data Analyst - CRM   \n",
       "4                    Lead - Data Analyst / Scientist   \n",
       "5                Research - Data Analyst / Associate   \n",
       "6                        Data Analyst - CRM Platform   \n",
       "7                          Senior Data Analyst - CRM   \n",
       "8                                Global Data Analyst   \n",
       "9                                       Data Analyst   \n",
       "10                           Lead Data Analyst, ED&A   \n",
       "11                 We are hiring ESG Data Analyst!!!   \n",
       "12                                      Data Analyst   \n",
       "13                 We are hiring ESG Data Analyst!!!   \n",
       "14                                      Data Analyst   \n",
       "15    Business Data Analyst - Database Design/Mining   \n",
       "16           BUSINESS ANALYST -DATA SCIENCE-CONSUMER   \n",
       "17                  Senior Analyst, Data Engineering   \n",
       "18                  Senior Analyst, Data Engineering   \n",
       "19           Senior Data Analyst - Supporting Audits   \n",
       "\n",
       "                                          Company  \\\n",
       "0                            Sejal Consulting Hub   \n",
       "1                              Novo Nordisk India   \n",
       "2                                          Vmware   \n",
       "3                                      Gojek Tech   \n",
       "4                               Axim Technologies   \n",
       "5                                     AXL HR Tech   \n",
       "6                               Artech infosystem   \n",
       "7                                    GO-JEK India   \n",
       "8                                 ExecBoardinAsia   \n",
       "9                                             E&Y   \n",
       "10                                ExecBoardinAsia   \n",
       "11                     STRAIVE (SPI TECHNOLOGIES)   \n",
       "12                                  Multi Recruit   \n",
       "13                     STRAIVE (SPI TECHNOLOGIES)   \n",
       "14                                       Snaphunt   \n",
       "15                                    AugmatrixGo   \n",
       "16  BRIDGEi2i Analytics Solutions Private Limited   \n",
       "17                                           Dell   \n",
       "18                                           Dell   \n",
       "19                                           Visa   \n",
       "\n",
       "                                             Location Experience  \n",
       "0   Kolkata, Gurgaon/Gurugram, Bangalore/Bengaluru...    0-3 Yrs  \n",
       "1                                 Bangalore/Bengaluru    0-4 Yrs  \n",
       "2                                 Bangalore/Bengaluru    3-6 Yrs  \n",
       "3                                 Bangalore/Bengaluru    2-5 Yrs  \n",
       "4                                 Bangalore/Bengaluru  12-14 Yrs  \n",
       "5            Mumbai, Delhi / NCR, Bangalore/Bengaluru    0-2 Yrs  \n",
       "6   Kolkata, Mumbai, Hyderabad/Secunderabad, Pune,...    1-6 Yrs  \n",
       "7                                 Bangalore/Bengaluru    4-8 Yrs  \n",
       "8                                 Bangalore/Bengaluru   5-10 Yrs  \n",
       "9   Kolkata, Pune, Gurgaon/Gurugram, Bangalore/Ben...    3-7 Yrs  \n",
       "10                                Bangalore/Bengaluru   5-10 Yrs  \n",
       "11  Hyderabad/Secunderabad, Pune, Chennai, Bangalo...    1-3 Yrs  \n",
       "12                                Bangalore/Bengaluru    2-4 Yrs  \n",
       "13  Hyderabad/Secunderabad, Pune, Chennai, Bangalo...    1-3 Yrs  \n",
       "14                                Bangalore/Bengaluru    0-2 Yrs  \n",
       "15                                Bangalore/Bengaluru    2-5 Yrs  \n",
       "16                                Bangalore/Bengaluru    0-2 Yrs  \n",
       "17                                Bangalore/Bengaluru   5-10 Yrs  \n",
       "18                                Bangalore/Bengaluru   5-10 Yrs  \n",
       "19                                Bangalore/Bengaluru    5-8 Yrs  "
      ]
     },
     "execution_count": 79,
     "metadata": {},
     "output_type": "execute_result"
    }
   ],
   "source": [
    "jobs = pd.DataFrame()\n",
    "jobs['Job Title'] = job_titles\n",
    "jobs[' Company'] = company_names\n",
    "jobs['Location'] = company_loc\n",
    "jobs['Experience'] = company_exp\n",
    "jobs"
   ]
  },
  {
   "cell_type": "markdown",
   "id": "91e162a9",
   "metadata": {},
   "source": [
    "2. Python code to scrape data for “Data Scientist” Job position in “Bangalore” location. You\n",
    "have to scrape the job-title, job-location, company_name. You have to scrape first 10 jobs data.\n"
   ]
  },
  {
   "cell_type": "code",
   "execution_count": 83,
   "id": "5f4d4ea0",
   "metadata": {},
   "outputs": [],
   "source": [
    "url = 'https://www.naukri.com/'\n",
    "driver.get(url)"
   ]
  },
  {
   "cell_type": "code",
   "execution_count": 84,
   "id": "243ee6fd",
   "metadata": {},
   "outputs": [
    {
     "data": {
      "text/plain": [
       "<selenium.webdriver.remote.webelement.WebElement (session=\"6ba80a6c123cc1fe5930dab0b576eced\", element=\"757e316f-3acf-43c4-b97e-dc91e0512935\")>"
      ]
     },
     "execution_count": 84,
     "metadata": {},
     "output_type": "execute_result"
    }
   ],
   "source": [
    "# finding element by using search bar by using absolute xpath\n",
    "search_job = driver.find_element_by_xpath('/html/body/div/div[2]/div[3]/div/div/div[1]/div/div/div/input')\n",
    "search_job\n"
   ]
  },
  {
   "cell_type": "code",
   "execution_count": 85,
   "id": "b8af56b2",
   "metadata": {},
   "outputs": [],
   "source": [
    "search_job.send_keys(\"Data Scientist\")"
   ]
  },
  {
   "cell_type": "code",
   "execution_count": 86,
   "id": "18fd6fdb",
   "metadata": {},
   "outputs": [
    {
     "data": {
      "text/plain": [
       "<selenium.webdriver.remote.webelement.WebElement (session=\"6ba80a6c123cc1fe5930dab0b576eced\", element=\"fb628ef9-84e7-4b23-a349-ba5208c8e023\")>"
      ]
     },
     "execution_count": 86,
     "metadata": {},
     "output_type": "execute_result"
    }
   ],
   "source": [
    "# finding loc by using xpath\n",
    "search_locn = driver.find_element_by_xpath('/html/body/div/div[2]/div[3]/div/div/div[3]/div/div/div/input')\n",
    "search_locn"
   ]
  },
  {
   "cell_type": "code",
   "execution_count": 87,
   "id": "e2004a5a",
   "metadata": {},
   "outputs": [],
   "source": [
    "search_locn.send_keys(\"Bangalore\")"
   ]
  },
  {
   "cell_type": "code",
   "execution_count": 88,
   "id": "bdcc9a3a",
   "metadata": {},
   "outputs": [
    {
     "data": {
      "text/plain": [
       "<selenium.webdriver.remote.webelement.WebElement (session=\"6ba80a6c123cc1fe5930dab0b576eced\", element=\"be52f8d8-e92a-48bc-a6f9-0d760e19dc9a\")>"
      ]
     },
     "execution_count": 88,
     "metadata": {},
     "output_type": "execute_result"
    }
   ],
   "source": [
    "search_btn = driver.find_element_by_xpath('/html/body/div/div[2]/div[3]/div/div/div[6]')\n",
    "search_btn"
   ]
  },
  {
   "cell_type": "code",
   "execution_count": 89,
   "id": "83c48287",
   "metadata": {},
   "outputs": [],
   "source": [
    "search_btn.click()"
   ]
  },
  {
   "cell_type": "code",
   "execution_count": 90,
   "id": "1ff711fb",
   "metadata": {},
   "outputs": [
    {
     "data": {
      "text/plain": [
       "[<selenium.webdriver.remote.webelement.WebElement (session=\"6ba80a6c123cc1fe5930dab0b576eced\", element=\"0c6b1f4b-966d-47da-96a5-df605120b7c3\")>,\n",
       " <selenium.webdriver.remote.webelement.WebElement (session=\"6ba80a6c123cc1fe5930dab0b576eced\", element=\"ea60b30b-44db-43ef-9f78-4def71e20d8e\")>,\n",
       " <selenium.webdriver.remote.webelement.WebElement (session=\"6ba80a6c123cc1fe5930dab0b576eced\", element=\"0cd8b41d-b7f2-4f13-bd7e-dacd1001c8ba\")>,\n",
       " <selenium.webdriver.remote.webelement.WebElement (session=\"6ba80a6c123cc1fe5930dab0b576eced\", element=\"b5f72fb5-f8ec-4b3e-9781-354aa16b1b47\")>,\n",
       " <selenium.webdriver.remote.webelement.WebElement (session=\"6ba80a6c123cc1fe5930dab0b576eced\", element=\"9da351eb-5f3c-442d-8253-d277bf346a54\")>,\n",
       " <selenium.webdriver.remote.webelement.WebElement (session=\"6ba80a6c123cc1fe5930dab0b576eced\", element=\"eaabb12d-cbc7-4f56-81d4-c8703e4e7943\")>,\n",
       " <selenium.webdriver.remote.webelement.WebElement (session=\"6ba80a6c123cc1fe5930dab0b576eced\", element=\"45055fdd-f4d3-4a9c-9f37-dfbc4ecff63f\")>,\n",
       " <selenium.webdriver.remote.webelement.WebElement (session=\"6ba80a6c123cc1fe5930dab0b576eced\", element=\"cbf975ef-8105-4279-b937-aaf6af9d1730\")>,\n",
       " <selenium.webdriver.remote.webelement.WebElement (session=\"6ba80a6c123cc1fe5930dab0b576eced\", element=\"a4e39e3b-e3ba-4396-9c54-c33f3963fbc6\")>,\n",
       " <selenium.webdriver.remote.webelement.WebElement (session=\"6ba80a6c123cc1fe5930dab0b576eced\", element=\"fd4e057e-befa-4b3f-a659-42fb476881ff\")>]"
      ]
     },
     "execution_count": 90,
     "metadata": {},
     "output_type": "execute_result"
    }
   ],
   "source": [
    "# Extracting job title\n",
    "#extract all web elements having job title\n",
    "title_tags = driver.find_elements_by_xpath('//a[@class=\"title fw500 ellipsis\"]')\n",
    "len(title_tags)\n",
    "title_tags[0:10]"
   ]
  },
  {
   "cell_type": "code",
   "execution_count": 91,
   "id": "f617086b",
   "metadata": {},
   "outputs": [
    {
     "data": {
      "text/plain": [
       "['Senior Data Scientist',\n",
       " 'Senior Data Scientist',\n",
       " 'Senior Manager - Lead Data Scientist',\n",
       " 'Lead/Senior Data Scientist (NLP)',\n",
       " 'Sr . Data Scientist',\n",
       " 'Sr. Data Scientist',\n",
       " 'Senior Data Scientist - Logistics',\n",
       " 'Senior Data Scientist, Data Sciences',\n",
       " 'Senior/Lead Data Scientist - Machine Learning/Deep Learning',\n",
       " 'Senior Data Scientist']"
      ]
     },
     "execution_count": 91,
     "metadata": {},
     "output_type": "execute_result"
    }
   ],
   "source": [
    "job_titles = []\n",
    "\n",
    "for i in title_tags:\n",
    "    job_titles.append(i.text)\n",
    "len(job_titles)\n",
    "job_titles[0:10]"
   ]
  },
  {
   "cell_type": "code",
   "execution_count": 94,
   "id": "d9cc6204",
   "metadata": {},
   "outputs": [
    {
     "data": {
      "text/plain": [
       "[<selenium.webdriver.remote.webelement.WebElement (session=\"6ba80a6c123cc1fe5930dab0b576eced\", element=\"292010cb-8923-40dc-8dc5-2d91be52a419\")>,\n",
       " <selenium.webdriver.remote.webelement.WebElement (session=\"6ba80a6c123cc1fe5930dab0b576eced\", element=\"ac5d80cf-10fd-4d73-a31b-867a807b18a9\")>,\n",
       " <selenium.webdriver.remote.webelement.WebElement (session=\"6ba80a6c123cc1fe5930dab0b576eced\", element=\"79c27cc5-88c0-43e7-8b4d-8bd32e266b9b\")>,\n",
       " <selenium.webdriver.remote.webelement.WebElement (session=\"6ba80a6c123cc1fe5930dab0b576eced\", element=\"ab269f0e-f6f1-4734-bb33-104030af9f89\")>,\n",
       " <selenium.webdriver.remote.webelement.WebElement (session=\"6ba80a6c123cc1fe5930dab0b576eced\", element=\"b98d700a-0566-4484-9489-e4726a2cd633\")>,\n",
       " <selenium.webdriver.remote.webelement.WebElement (session=\"6ba80a6c123cc1fe5930dab0b576eced\", element=\"a4c2218c-b3e5-46e6-8143-ed5a2f0d75a6\")>,\n",
       " <selenium.webdriver.remote.webelement.WebElement (session=\"6ba80a6c123cc1fe5930dab0b576eced\", element=\"79b2ed52-92de-4f6e-9625-614d8aa7a19c\")>,\n",
       " <selenium.webdriver.remote.webelement.WebElement (session=\"6ba80a6c123cc1fe5930dab0b576eced\", element=\"d6df7d82-9f21-4800-a311-f526610747dc\")>,\n",
       " <selenium.webdriver.remote.webelement.WebElement (session=\"6ba80a6c123cc1fe5930dab0b576eced\", element=\"d9a481cb-c601-430d-ab09-c734c53d0b19\")>,\n",
       " <selenium.webdriver.remote.webelement.WebElement (session=\"6ba80a6c123cc1fe5930dab0b576eced\", element=\"823df8da-ac77-4278-a9a9-e3500b8d6b1c\")>]"
      ]
     },
     "execution_count": 94,
     "metadata": {},
     "output_type": "execute_result"
    }
   ],
   "source": [
    "# Extracting company names\n",
    "company_tags = driver.find_elements_by_xpath('//a[@class=\"subTitle ellipsis fleft\"]')\n",
    "company_tags[0:10]"
   ]
  },
  {
   "cell_type": "code",
   "execution_count": 95,
   "id": "95f3b8ce",
   "metadata": {},
   "outputs": [
    {
     "data": {
      "text/plain": [
       "['Dell',\n",
       " 'Dell',\n",
       " 'ExecBoardinAsia',\n",
       " 'Samya.AI A FRACTAL Entity',\n",
       " 'RKSV',\n",
       " 'NutaNXT Technologies',\n",
       " 'GO-JEK India',\n",
       " 'Vmware',\n",
       " 'Squareroot Consulting Pvt Ltd',\n",
       " 'Fractal Analytics']"
      ]
     },
     "execution_count": 95,
     "metadata": {},
     "output_type": "execute_result"
    }
   ],
   "source": [
    "company_names = []\n",
    "\n",
    "for i in company_tags:\n",
    "    company_names.append(i.text)\n",
    "len(company_names)\n",
    "company_names[0:10]"
   ]
  },
  {
   "cell_type": "code",
   "execution_count": 97,
   "id": "23ea30c4",
   "metadata": {},
   "outputs": [
    {
     "data": {
      "text/plain": [
       "[<selenium.webdriver.remote.webelement.WebElement (session=\"6ba80a6c123cc1fe5930dab0b576eced\", element=\"708879fd-58a6-49ba-8b0e-b12ba93d462b\")>,\n",
       " <selenium.webdriver.remote.webelement.WebElement (session=\"6ba80a6c123cc1fe5930dab0b576eced\", element=\"4ccb9c8d-5867-43ae-8907-bef1bdcf1df7\")>,\n",
       " <selenium.webdriver.remote.webelement.WebElement (session=\"6ba80a6c123cc1fe5930dab0b576eced\", element=\"a69d00c2-d9bf-42cf-8a0f-90ed920ece9e\")>,\n",
       " <selenium.webdriver.remote.webelement.WebElement (session=\"6ba80a6c123cc1fe5930dab0b576eced\", element=\"46a18feb-8169-49f3-afe0-cfd6145b6678\")>,\n",
       " <selenium.webdriver.remote.webelement.WebElement (session=\"6ba80a6c123cc1fe5930dab0b576eced\", element=\"e415b57e-a141-477f-aab7-3d183c99173b\")>,\n",
       " <selenium.webdriver.remote.webelement.WebElement (session=\"6ba80a6c123cc1fe5930dab0b576eced\", element=\"eb11298b-0588-47bb-9d34-8afb650907e7\")>,\n",
       " <selenium.webdriver.remote.webelement.WebElement (session=\"6ba80a6c123cc1fe5930dab0b576eced\", element=\"6bb18610-4513-4fc9-813a-3ca2812ee920\")>,\n",
       " <selenium.webdriver.remote.webelement.WebElement (session=\"6ba80a6c123cc1fe5930dab0b576eced\", element=\"91f3ebe5-3ee0-40b5-bc07-2370fdbd2ac7\")>,\n",
       " <selenium.webdriver.remote.webelement.WebElement (session=\"6ba80a6c123cc1fe5930dab0b576eced\", element=\"9d29b445-c26a-4eb4-acf8-4ba1e79575c5\")>,\n",
       " <selenium.webdriver.remote.webelement.WebElement (session=\"6ba80a6c123cc1fe5930dab0b576eced\", element=\"5e3a909c-8f0c-4c67-a5ce-3cf238805478\")>]"
      ]
     },
     "execution_count": 97,
     "metadata": {},
     "output_type": "execute_result"
    }
   ],
   "source": [
    "job_loc = driver.find_elements_by_xpath('//li[@class=\"fleft grey-text br2 placeHolderLi location\"]')\n",
    "job_loc[0:10]"
   ]
  },
  {
   "cell_type": "code",
   "execution_count": 98,
   "id": "a0c5d67c",
   "metadata": {},
   "outputs": [
    {
     "data": {
      "text/plain": [
       "['Bangalore/Bengaluru',\n",
       " 'Bangalore/Bengaluru',\n",
       " 'Bangalore/Bengaluru',\n",
       " 'Bangalore/Bengaluru\\n(WFH during Covid)',\n",
       " 'Mumbai, Bangalore/Bengaluru',\n",
       " 'Pune, Bangalore/Bengaluru, Mumbai (All Areas)\\n(WFH during Covid)',\n",
       " 'Bangalore/Bengaluru',\n",
       " 'Bangalore/Bengaluru',\n",
       " 'Bangalore/Bengaluru',\n",
       " 'Gurgaon/Gurugram, Bangalore/Bengaluru, Mumbai (All Areas)']"
      ]
     },
     "execution_count": 98,
     "metadata": {},
     "output_type": "execute_result"
    }
   ],
   "source": [
    "company_loc = []\n",
    "\n",
    "for i in job_loc:\n",
    "    company_loc.append(i.text)\n",
    "len(company_loc)\n",
    "company_loc[0:10]"
   ]
  },
  {
   "cell_type": "code",
   "execution_count": 99,
   "id": "026f8869",
   "metadata": {},
   "outputs": [
    {
     "data": {
      "text/plain": [
       "(20, 20, 20)"
      ]
     },
     "execution_count": 99,
     "metadata": {},
     "output_type": "execute_result"
    }
   ],
   "source": [
    "len(job_titles),len(company_names),len(company_loc)"
   ]
  },
  {
   "cell_type": "code",
   "execution_count": 100,
   "id": "db280c71",
   "metadata": {},
   "outputs": [
    {
     "data": {
      "text/html": [
       "<div>\n",
       "<style scoped>\n",
       "    .dataframe tbody tr th:only-of-type {\n",
       "        vertical-align: middle;\n",
       "    }\n",
       "\n",
       "    .dataframe tbody tr th {\n",
       "        vertical-align: top;\n",
       "    }\n",
       "\n",
       "    .dataframe thead th {\n",
       "        text-align: right;\n",
       "    }\n",
       "</style>\n",
       "<table border=\"1\" class=\"dataframe\">\n",
       "  <thead>\n",
       "    <tr style=\"text-align: right;\">\n",
       "      <th></th>\n",
       "      <th>Job Title</th>\n",
       "      <th>Company</th>\n",
       "      <th>Location</th>\n",
       "    </tr>\n",
       "  </thead>\n",
       "  <tbody>\n",
       "    <tr>\n",
       "      <th>0</th>\n",
       "      <td>Senior Data Scientist</td>\n",
       "      <td>Dell</td>\n",
       "      <td>Bangalore/Bengaluru</td>\n",
       "    </tr>\n",
       "    <tr>\n",
       "      <th>1</th>\n",
       "      <td>Senior Data Scientist</td>\n",
       "      <td>Dell</td>\n",
       "      <td>Bangalore/Bengaluru</td>\n",
       "    </tr>\n",
       "    <tr>\n",
       "      <th>2</th>\n",
       "      <td>Senior Manager - Lead Data Scientist</td>\n",
       "      <td>ExecBoardinAsia</td>\n",
       "      <td>Bangalore/Bengaluru</td>\n",
       "    </tr>\n",
       "    <tr>\n",
       "      <th>3</th>\n",
       "      <td>Lead/Senior Data Scientist (NLP)</td>\n",
       "      <td>Samya.AI A FRACTAL Entity</td>\n",
       "      <td>Bangalore/Bengaluru\\n(WFH during Covid)</td>\n",
       "    </tr>\n",
       "    <tr>\n",
       "      <th>4</th>\n",
       "      <td>Sr . Data Scientist</td>\n",
       "      <td>RKSV</td>\n",
       "      <td>Mumbai, Bangalore/Bengaluru</td>\n",
       "    </tr>\n",
       "    <tr>\n",
       "      <th>5</th>\n",
       "      <td>Sr. Data Scientist</td>\n",
       "      <td>NutaNXT Technologies</td>\n",
       "      <td>Pune, Bangalore/Bengaluru, Mumbai (All Areas)\\...</td>\n",
       "    </tr>\n",
       "    <tr>\n",
       "      <th>6</th>\n",
       "      <td>Senior Data Scientist - Logistics</td>\n",
       "      <td>GO-JEK India</td>\n",
       "      <td>Bangalore/Bengaluru</td>\n",
       "    </tr>\n",
       "    <tr>\n",
       "      <th>7</th>\n",
       "      <td>Senior Data Scientist, Data Sciences</td>\n",
       "      <td>Vmware</td>\n",
       "      <td>Bangalore/Bengaluru</td>\n",
       "    </tr>\n",
       "    <tr>\n",
       "      <th>8</th>\n",
       "      <td>Senior/Lead Data Scientist - Machine Learning/...</td>\n",
       "      <td>Squareroot Consulting Pvt Ltd</td>\n",
       "      <td>Bangalore/Bengaluru</td>\n",
       "    </tr>\n",
       "    <tr>\n",
       "      <th>9</th>\n",
       "      <td>Senior Data Scientist</td>\n",
       "      <td>Fractal Analytics</td>\n",
       "      <td>Gurgaon/Gurugram, Bangalore/Bengaluru, Mumbai ...</td>\n",
       "    </tr>\n",
       "    <tr>\n",
       "      <th>10</th>\n",
       "      <td>Lead Data Scientist - NLP/OpenCV</td>\n",
       "      <td>Codersbrain</td>\n",
       "      <td>Hyderabad/Secunderabad, Bangalore/Bengaluru</td>\n",
       "    </tr>\n",
       "    <tr>\n",
       "      <th>11</th>\n",
       "      <td>Lead Data Scientist - Prescriptive Analytics/P...</td>\n",
       "      <td>Codersbrain</td>\n",
       "      <td>Hyderabad/Secunderabad, Bangalore/Bengaluru</td>\n",
       "    </tr>\n",
       "    <tr>\n",
       "      <th>12</th>\n",
       "      <td>Junior Data Analyst/ Scientist- Fresher Position</td>\n",
       "      <td>Sejal Consulting Hub</td>\n",
       "      <td>Kolkata, Gurgaon/Gurugram, Bangalore/Bengaluru...</td>\n",
       "    </tr>\n",
       "    <tr>\n",
       "      <th>13</th>\n",
       "      <td>Lead - Data Analyst / Scientist</td>\n",
       "      <td>Axim Technologies</td>\n",
       "      <td>Bangalore/Bengaluru</td>\n",
       "    </tr>\n",
       "    <tr>\n",
       "      <th>14</th>\n",
       "      <td>Data Scientist</td>\n",
       "      <td>Harman Connected Services Corporation India Pvt.</td>\n",
       "      <td>Bangalore/Bengaluru</td>\n",
       "    </tr>\n",
       "    <tr>\n",
       "      <th>15</th>\n",
       "      <td>Data scientist ( WFH )</td>\n",
       "      <td>SPM Jobs</td>\n",
       "      <td>Bangalore/Bengaluru</td>\n",
       "    </tr>\n",
       "    <tr>\n",
       "      <th>16</th>\n",
       "      <td>Data Scientist - Logistics</td>\n",
       "      <td>Gojek Tech</td>\n",
       "      <td>Bangalore/Bengaluru</td>\n",
       "    </tr>\n",
       "    <tr>\n",
       "      <th>17</th>\n",
       "      <td>Data Scientist @ Bangalore</td>\n",
       "      <td>Fujitsu</td>\n",
       "      <td>Pune, Bangalore/Bengaluru</td>\n",
       "    </tr>\n",
       "    <tr>\n",
       "      <th>18</th>\n",
       "      <td>Commercial Analytics Data Scientist</td>\n",
       "      <td>Dell</td>\n",
       "      <td>Bangalore/Bengaluru</td>\n",
       "    </tr>\n",
       "    <tr>\n",
       "      <th>19</th>\n",
       "      <td>Spark ML Data Scientist</td>\n",
       "      <td>Wipro</td>\n",
       "      <td>Hyderabad/Secunderabad, Pune, Bangalore/Bengal...</td>\n",
       "    </tr>\n",
       "  </tbody>\n",
       "</table>\n",
       "</div>"
      ],
      "text/plain": [
       "                                            Job Title  \\\n",
       "0                               Senior Data Scientist   \n",
       "1                               Senior Data Scientist   \n",
       "2                Senior Manager - Lead Data Scientist   \n",
       "3                    Lead/Senior Data Scientist (NLP)   \n",
       "4                                 Sr . Data Scientist   \n",
       "5                                  Sr. Data Scientist   \n",
       "6                   Senior Data Scientist - Logistics   \n",
       "7                Senior Data Scientist, Data Sciences   \n",
       "8   Senior/Lead Data Scientist - Machine Learning/...   \n",
       "9                               Senior Data Scientist   \n",
       "10                   Lead Data Scientist - NLP/OpenCV   \n",
       "11  Lead Data Scientist - Prescriptive Analytics/P...   \n",
       "12   Junior Data Analyst/ Scientist- Fresher Position   \n",
       "13                    Lead - Data Analyst / Scientist   \n",
       "14                                     Data Scientist   \n",
       "15                             Data scientist ( WFH )   \n",
       "16                         Data Scientist - Logistics   \n",
       "17                         Data Scientist @ Bangalore   \n",
       "18                Commercial Analytics Data Scientist   \n",
       "19                            Spark ML Data Scientist   \n",
       "\n",
       "                                             Company  \\\n",
       "0                                               Dell   \n",
       "1                                               Dell   \n",
       "2                                    ExecBoardinAsia   \n",
       "3                          Samya.AI A FRACTAL Entity   \n",
       "4                                               RKSV   \n",
       "5                               NutaNXT Technologies   \n",
       "6                                       GO-JEK India   \n",
       "7                                             Vmware   \n",
       "8                      Squareroot Consulting Pvt Ltd   \n",
       "9                                  Fractal Analytics   \n",
       "10                                       Codersbrain   \n",
       "11                                       Codersbrain   \n",
       "12                              Sejal Consulting Hub   \n",
       "13                                 Axim Technologies   \n",
       "14  Harman Connected Services Corporation India Pvt.   \n",
       "15                                          SPM Jobs   \n",
       "16                                        Gojek Tech   \n",
       "17                                           Fujitsu   \n",
       "18                                              Dell   \n",
       "19                                             Wipro   \n",
       "\n",
       "                                             Location  \n",
       "0                                 Bangalore/Bengaluru  \n",
       "1                                 Bangalore/Bengaluru  \n",
       "2                                 Bangalore/Bengaluru  \n",
       "3             Bangalore/Bengaluru\\n(WFH during Covid)  \n",
       "4                         Mumbai, Bangalore/Bengaluru  \n",
       "5   Pune, Bangalore/Bengaluru, Mumbai (All Areas)\\...  \n",
       "6                                 Bangalore/Bengaluru  \n",
       "7                                 Bangalore/Bengaluru  \n",
       "8                                 Bangalore/Bengaluru  \n",
       "9   Gurgaon/Gurugram, Bangalore/Bengaluru, Mumbai ...  \n",
       "10        Hyderabad/Secunderabad, Bangalore/Bengaluru  \n",
       "11        Hyderabad/Secunderabad, Bangalore/Bengaluru  \n",
       "12  Kolkata, Gurgaon/Gurugram, Bangalore/Bengaluru...  \n",
       "13                                Bangalore/Bengaluru  \n",
       "14                                Bangalore/Bengaluru  \n",
       "15                                Bangalore/Bengaluru  \n",
       "16                                Bangalore/Bengaluru  \n",
       "17                          Pune, Bangalore/Bengaluru  \n",
       "18                                Bangalore/Bengaluru  \n",
       "19  Hyderabad/Secunderabad, Pune, Bangalore/Bengal...  "
      ]
     },
     "execution_count": 100,
     "metadata": {},
     "output_type": "execute_result"
    }
   ],
   "source": [
    "jobs = pd.DataFrame()\n",
    "jobs['Job Title'] = job_titles\n",
    "jobs[' Company'] = company_names\n",
    "jobs['Location'] = company_loc\n",
    "jobs"
   ]
  },
  {
   "cell_type": "markdown",
   "id": "a6232047",
   "metadata": {},
   "source": [
    "3.  Scrape data using the filters available on the webpage\n",
    "   scrape the job-title, job-location, company name, experience required.\n"
   ]
  },
  {
   "cell_type": "code",
   "execution_count": 103,
   "id": "b637f284",
   "metadata": {},
   "outputs": [],
   "source": [
    "url = 'https://www.naukri.com/'\n",
    "driver.get(url)"
   ]
  },
  {
   "cell_type": "code",
   "execution_count": 104,
   "id": "92030e8a",
   "metadata": {},
   "outputs": [
    {
     "data": {
      "text/plain": [
       "<selenium.webdriver.remote.webelement.WebElement (session=\"f69cd7cf787e61f7ac2db7a123b7942c\", element=\"70291136-21ed-40f4-8a64-0684f115534d\")>"
      ]
     },
     "execution_count": 104,
     "metadata": {},
     "output_type": "execute_result"
    }
   ],
   "source": [
    "# finding element by using search bar by using absolute xpath\n",
    "search_job = driver.find_element_by_xpath('/html/body/div/div[2]/div[3]/div/div/div[1]/div/div/div/input')\n",
    "search_job\n"
   ]
  },
  {
   "cell_type": "code",
   "execution_count": 105,
   "id": "848cbc4b",
   "metadata": {},
   "outputs": [],
   "source": [
    "search_job.send_keys(\"Data Scientist\")"
   ]
  },
  {
   "cell_type": "code",
   "execution_count": 106,
   "id": "489709e8",
   "metadata": {},
   "outputs": [
    {
     "data": {
      "text/plain": [
       "<selenium.webdriver.remote.webelement.WebElement (session=\"f69cd7cf787e61f7ac2db7a123b7942c\", element=\"97725278-1ed7-4837-97c3-d83afbe6bfc7\")>"
      ]
     },
     "execution_count": 106,
     "metadata": {},
     "output_type": "execute_result"
    }
   ],
   "source": [
    "search_btn = driver.find_element_by_xpath('/html/body/div/div[2]/div[3]/div/div/div[6]')\n",
    "search_btn"
   ]
  },
  {
   "cell_type": "code",
   "execution_count": 107,
   "id": "0d0f986e",
   "metadata": {},
   "outputs": [],
   "source": [
    "search_btn.click()"
   ]
  },
  {
   "cell_type": "code",
   "execution_count": 108,
   "id": "b9187f8e",
   "metadata": {},
   "outputs": [],
   "source": [
    "salary_check = driver.find_element_by_xpath('/html/body/div[1]/div[3]/div[2]/section[1]/div[2]/div[4]/div[2]/div[2]/label/p/span[1]')"
   ]
  },
  {
   "cell_type": "code",
   "execution_count": 109,
   "id": "63e666f9",
   "metadata": {},
   "outputs": [],
   "source": [
    "salary_check.click()"
   ]
  },
  {
   "cell_type": "code",
   "execution_count": 110,
   "id": "ab089780",
   "metadata": {},
   "outputs": [],
   "source": [
    "loc_check = driver.find_element_by_xpath('/html/body/div[1]/div[3]/div[2]/section[1]/div[2]/div[4]/div[2]/div[3]/label/p/span[1]')"
   ]
  },
  {
   "cell_type": "code",
   "execution_count": 111,
   "id": "ea1c1cff",
   "metadata": {},
   "outputs": [],
   "source": [
    "loc_check.click()"
   ]
  },
  {
   "cell_type": "code",
   "execution_count": 112,
   "id": "772065c0",
   "metadata": {},
   "outputs": [
    {
     "data": {
      "text/plain": [
       "[<selenium.webdriver.remote.webelement.WebElement (session=\"f69cd7cf787e61f7ac2db7a123b7942c\", element=\"ece11020-4959-44b4-9721-cd9bd370bfb4\")>,\n",
       " <selenium.webdriver.remote.webelement.WebElement (session=\"f69cd7cf787e61f7ac2db7a123b7942c\", element=\"e050c1cf-b886-4446-9f96-20c9d41eb6f7\")>,\n",
       " <selenium.webdriver.remote.webelement.WebElement (session=\"f69cd7cf787e61f7ac2db7a123b7942c\", element=\"1d32dbf9-ebb3-47fe-b706-212b93972ea8\")>,\n",
       " <selenium.webdriver.remote.webelement.WebElement (session=\"f69cd7cf787e61f7ac2db7a123b7942c\", element=\"b3cde9f4-69f6-4156-ac7d-008ad2a74868\")>,\n",
       " <selenium.webdriver.remote.webelement.WebElement (session=\"f69cd7cf787e61f7ac2db7a123b7942c\", element=\"ba2a38d4-06c2-4dd2-8e92-e07dea8f119f\")>,\n",
       " <selenium.webdriver.remote.webelement.WebElement (session=\"f69cd7cf787e61f7ac2db7a123b7942c\", element=\"bda56d89-0ce8-44b0-9880-40ae13cbb6c9\")>,\n",
       " <selenium.webdriver.remote.webelement.WebElement (session=\"f69cd7cf787e61f7ac2db7a123b7942c\", element=\"af9ae26c-bb50-4876-9cc5-0ba291b74c56\")>,\n",
       " <selenium.webdriver.remote.webelement.WebElement (session=\"f69cd7cf787e61f7ac2db7a123b7942c\", element=\"b232134a-aab4-4d0a-adcb-317669ddcabf\")>,\n",
       " <selenium.webdriver.remote.webelement.WebElement (session=\"f69cd7cf787e61f7ac2db7a123b7942c\", element=\"9a84a4cc-70bf-4e5a-9a1e-e5501fee9d35\")>,\n",
       " <selenium.webdriver.remote.webelement.WebElement (session=\"f69cd7cf787e61f7ac2db7a123b7942c\", element=\"7c24ac4a-1999-46ab-a6cc-dcc7880f6865\")>]"
      ]
     },
     "execution_count": 112,
     "metadata": {},
     "output_type": "execute_result"
    }
   ],
   "source": [
    "# Extracting job title\n",
    "#extract all web elements having job title\n",
    "title_tags = driver.find_elements_by_xpath('//a[@class=\"title fw500 ellipsis\"]')\n",
    "len(title_tags)\n",
    "title_tags[0:10]"
   ]
  },
  {
   "cell_type": "code",
   "execution_count": 113,
   "id": "38856bc7",
   "metadata": {},
   "outputs": [
    {
     "data": {
      "text/plain": [
       "['Job Opportunity || Data Scientist || HCL Technologies',\n",
       " 'Data Scientist | Python | Machine Learning | Deep Learning- Fresher',\n",
       " 'Senior Data Scientist I',\n",
       " 'Data Scientist',\n",
       " 'Openings For Jr/mid/Sr level data Scientists',\n",
       " 'Data Scientist role',\n",
       " 'Urgent Hiring For Data Scientist',\n",
       " 'Urgent Hiring For Data Scientist',\n",
       " 'Data Scientist role',\n",
       " 'Data Scientist role']"
      ]
     },
     "execution_count": 113,
     "metadata": {},
     "output_type": "execute_result"
    }
   ],
   "source": [
    "job_titles = []\n",
    "\n",
    "for i in title_tags:\n",
    "    job_titles.append(i.text)\n",
    "len(job_titles)\n",
    "job_titles[0:10]"
   ]
  },
  {
   "cell_type": "code",
   "execution_count": 114,
   "id": "dc290c66",
   "metadata": {},
   "outputs": [
    {
     "data": {
      "text/plain": [
       "[<selenium.webdriver.remote.webelement.WebElement (session=\"f69cd7cf787e61f7ac2db7a123b7942c\", element=\"7faeceef-f954-48d7-8a69-5e9bb87dc8ab\")>,\n",
       " <selenium.webdriver.remote.webelement.WebElement (session=\"f69cd7cf787e61f7ac2db7a123b7942c\", element=\"6d6e611e-fe4b-418f-a987-2e6120cc519b\")>,\n",
       " <selenium.webdriver.remote.webelement.WebElement (session=\"f69cd7cf787e61f7ac2db7a123b7942c\", element=\"4c8b2d64-139f-442e-911b-30e4bead1b2c\")>,\n",
       " <selenium.webdriver.remote.webelement.WebElement (session=\"f69cd7cf787e61f7ac2db7a123b7942c\", element=\"53600c05-ff09-4bb5-bc82-12b6c58aa31f\")>,\n",
       " <selenium.webdriver.remote.webelement.WebElement (session=\"f69cd7cf787e61f7ac2db7a123b7942c\", element=\"d69198af-f0ea-40d9-aaa0-272e70514c88\")>,\n",
       " <selenium.webdriver.remote.webelement.WebElement (session=\"f69cd7cf787e61f7ac2db7a123b7942c\", element=\"54ef5fd7-3f89-4424-9da2-78f7fa73302c\")>,\n",
       " <selenium.webdriver.remote.webelement.WebElement (session=\"f69cd7cf787e61f7ac2db7a123b7942c\", element=\"1a216e32-8810-4dc1-803a-4cef2b1a395d\")>,\n",
       " <selenium.webdriver.remote.webelement.WebElement (session=\"f69cd7cf787e61f7ac2db7a123b7942c\", element=\"9cf03af6-1b2f-4560-880d-4b2e363ce51b\")>,\n",
       " <selenium.webdriver.remote.webelement.WebElement (session=\"f69cd7cf787e61f7ac2db7a123b7942c\", element=\"5e98087c-f212-4ffe-8892-11aa5cd57a1a\")>,\n",
       " <selenium.webdriver.remote.webelement.WebElement (session=\"f69cd7cf787e61f7ac2db7a123b7942c\", element=\"2a9a04ff-0993-4ddf-a133-7b5777603155\")>]"
      ]
     },
     "execution_count": 114,
     "metadata": {},
     "output_type": "execute_result"
    }
   ],
   "source": [
    "# Extracting company names\n",
    "company_tags = driver.find_elements_by_xpath('//a[@class=\"subTitle ellipsis fleft\"]')\n",
    "company_tags[0:10]"
   ]
  },
  {
   "cell_type": "code",
   "execution_count": 115,
   "id": "0e20f72e",
   "metadata": {},
   "outputs": [
    {
     "data": {
      "text/plain": [
       "['HCL',\n",
       " 'Schlesinger Group',\n",
       " 'Delhivery',\n",
       " 'T & A Solutions',\n",
       " 'Pluto seven business solutions (p) limited',\n",
       " 'Mount Talent Consulting Private Limited',\n",
       " 'Mount Talent Consulting Private Limited',\n",
       " 'Mount Talent Consulting Private Limited',\n",
       " 'Mount Talent Consulting Private Limited',\n",
       " 'Mount Talent Consulting Private Limited']"
      ]
     },
     "execution_count": 115,
     "metadata": {},
     "output_type": "execute_result"
    }
   ],
   "source": [
    "company_names = []\n",
    "\n",
    "for i in company_tags:\n",
    "    company_names.append(i.text)\n",
    "len(company_names)\n",
    "company_names[0:10]"
   ]
  },
  {
   "cell_type": "code",
   "execution_count": 116,
   "id": "68a2b874",
   "metadata": {},
   "outputs": [
    {
     "data": {
      "text/plain": [
       "[<selenium.webdriver.remote.webelement.WebElement (session=\"f69cd7cf787e61f7ac2db7a123b7942c\", element=\"0632238e-e52c-4d74-afe6-623b0d9bb203\")>,\n",
       " <selenium.webdriver.remote.webelement.WebElement (session=\"f69cd7cf787e61f7ac2db7a123b7942c\", element=\"31e54c7e-f7b5-4d65-bd39-8feadb7728c2\")>,\n",
       " <selenium.webdriver.remote.webelement.WebElement (session=\"f69cd7cf787e61f7ac2db7a123b7942c\", element=\"3ef5e81c-e9ba-481c-a8fc-b8f08744c1c0\")>,\n",
       " <selenium.webdriver.remote.webelement.WebElement (session=\"f69cd7cf787e61f7ac2db7a123b7942c\", element=\"3bf8127e-9b11-4609-9d12-1705ebfd4435\")>,\n",
       " <selenium.webdriver.remote.webelement.WebElement (session=\"f69cd7cf787e61f7ac2db7a123b7942c\", element=\"71d2b3a4-a34a-4f38-8450-092878659ed5\")>,\n",
       " <selenium.webdriver.remote.webelement.WebElement (session=\"f69cd7cf787e61f7ac2db7a123b7942c\", element=\"c9bbf1e0-870b-43a5-8f39-256769c557ee\")>,\n",
       " <selenium.webdriver.remote.webelement.WebElement (session=\"f69cd7cf787e61f7ac2db7a123b7942c\", element=\"e3cf83a8-7bfb-4dc2-9ddc-89d2a9384725\")>,\n",
       " <selenium.webdriver.remote.webelement.WebElement (session=\"f69cd7cf787e61f7ac2db7a123b7942c\", element=\"a93e9450-ead1-4385-ab21-649dd6e659ee\")>,\n",
       " <selenium.webdriver.remote.webelement.WebElement (session=\"f69cd7cf787e61f7ac2db7a123b7942c\", element=\"fec2076b-53a6-4e22-b3cb-174dfaa1d10c\")>,\n",
       " <selenium.webdriver.remote.webelement.WebElement (session=\"f69cd7cf787e61f7ac2db7a123b7942c\", element=\"b09e2997-811a-4c6b-b21a-ae346d2aa976\")>]"
      ]
     },
     "execution_count": 116,
     "metadata": {},
     "output_type": "execute_result"
    }
   ],
   "source": [
    "job_loc = driver.find_elements_by_xpath('//li[@class=\"fleft grey-text br2 placeHolderLi location\"]')\n",
    "job_loc[0:10]"
   ]
  },
  {
   "cell_type": "code",
   "execution_count": 117,
   "id": "905256ff",
   "metadata": {},
   "outputs": [
    {
     "data": {
      "text/plain": [
       "['Delhi / NCR',\n",
       " 'Noida, Gurgaon/Gurugram, Delhi / NCR',\n",
       " 'Gurgaon/Gurugram',\n",
       " 'Gurgaon/Gurugram',\n",
       " 'Kolkata, Hyderabad/Secunderabad, Pune, Ahmedabad, Chennai, Bangalore/Bengaluru, Delhi / NCR, Mumbai (All Areas)\\n(WFH during Covid)',\n",
       " 'Noida, Hyderabad/Secunderabad, Pune, Gurgaon/Gurugram, Bangalore/Bengaluru, Delhi / NCR\\n(WFH during Covid)',\n",
       " 'Gurgaon/Gurugram, Bangalore/Bengaluru',\n",
       " 'Gurgaon/Gurugram, Bangalore/Bengaluru',\n",
       " 'Noida, Hyderabad/Secunderabad, Pune, Gurgaon/Gurugram, Bangalore/Bengaluru, Delhi / NCR\\n(WFH during Covid)',\n",
       " 'Noida, Hyderabad/Secunderabad, Pune, Gurgaon/Gurugram, Bangalore/Bengaluru, Delhi / NCR\\n(WFH during Covid)']"
      ]
     },
     "execution_count": 117,
     "metadata": {},
     "output_type": "execute_result"
    }
   ],
   "source": [
    "company_loc = []\n",
    "\n",
    "for i in job_loc:\n",
    "    company_loc.append(i.text)\n",
    "len(company_loc)\n",
    "company_loc[0:10]"
   ]
  },
  {
   "cell_type": "code",
   "execution_count": 118,
   "id": "868217df",
   "metadata": {},
   "outputs": [
    {
     "data": {
      "text/plain": [
       "[<selenium.webdriver.remote.webelement.WebElement (session=\"f69cd7cf787e61f7ac2db7a123b7942c\", element=\"c395cf51-ff03-4822-b5ab-f7384d4c2145\")>,\n",
       " <selenium.webdriver.remote.webelement.WebElement (session=\"f69cd7cf787e61f7ac2db7a123b7942c\", element=\"53000561-9aad-4872-bdd5-178dd55d0974\")>,\n",
       " <selenium.webdriver.remote.webelement.WebElement (session=\"f69cd7cf787e61f7ac2db7a123b7942c\", element=\"cd010b45-8215-4b6c-b10a-83213de5ce47\")>,\n",
       " <selenium.webdriver.remote.webelement.WebElement (session=\"f69cd7cf787e61f7ac2db7a123b7942c\", element=\"82fc6927-2a62-4251-8989-223fc25025bf\")>,\n",
       " <selenium.webdriver.remote.webelement.WebElement (session=\"f69cd7cf787e61f7ac2db7a123b7942c\", element=\"be7b5702-8493-4a41-b03c-dcb06a66795a\")>,\n",
       " <selenium.webdriver.remote.webelement.WebElement (session=\"f69cd7cf787e61f7ac2db7a123b7942c\", element=\"2da15e24-2796-4203-b862-9f2b23f53231\")>,\n",
       " <selenium.webdriver.remote.webelement.WebElement (session=\"f69cd7cf787e61f7ac2db7a123b7942c\", element=\"1d84f79a-211c-4ba6-98c9-19f1d25332b2\")>,\n",
       " <selenium.webdriver.remote.webelement.WebElement (session=\"f69cd7cf787e61f7ac2db7a123b7942c\", element=\"a33fe204-465d-48c2-880c-1e2e16e5cd77\")>,\n",
       " <selenium.webdriver.remote.webelement.WebElement (session=\"f69cd7cf787e61f7ac2db7a123b7942c\", element=\"3a7e2e21-5428-4912-9190-95aed78216bf\")>,\n",
       " <selenium.webdriver.remote.webelement.WebElement (session=\"f69cd7cf787e61f7ac2db7a123b7942c\", element=\"6cfe42ea-4e89-456d-9a79-6a73c304e851\")>]"
      ]
     },
     "execution_count": 118,
     "metadata": {},
     "output_type": "execute_result"
    }
   ],
   "source": [
    "job_exp = driver.find_elements_by_xpath('//li[@class=\"fleft grey-text br2 placeHolderLi experience\"]')\n",
    "job_exp[0:10]\n"
   ]
  },
  {
   "cell_type": "code",
   "execution_count": 119,
   "id": "075c88fb",
   "metadata": {},
   "outputs": [
    {
     "data": {
      "text/plain": [
       "['2-6 Yrs',\n",
       " '0-3 Yrs',\n",
       " '3-7 Yrs',\n",
       " '2-6 Yrs',\n",
       " '2-6 Yrs',\n",
       " '1-4 Yrs',\n",
       " '1-6 Yrs',\n",
       " '1-6 Yrs',\n",
       " '1-3 Yrs',\n",
       " '1-3 Yrs']"
      ]
     },
     "execution_count": 119,
     "metadata": {},
     "output_type": "execute_result"
    }
   ],
   "source": [
    "company_exp = []\n",
    "\n",
    "for i in job_exp:\n",
    "    company_exp.append(i.text)\n",
    "len(company_exp)\n",
    "company_exp[0:10]"
   ]
  },
  {
   "cell_type": "code",
   "execution_count": 120,
   "id": "a4b5a2b5",
   "metadata": {},
   "outputs": [
    {
     "data": {
      "text/plain": [
       "(20, 20, 20, 20)"
      ]
     },
     "execution_count": 120,
     "metadata": {},
     "output_type": "execute_result"
    }
   ],
   "source": [
    "len(job_titles),len(company_names),len(company_loc),len(company_exp)"
   ]
  },
  {
   "cell_type": "code",
   "execution_count": 121,
   "id": "a601302e",
   "metadata": {},
   "outputs": [
    {
     "data": {
      "text/html": [
       "<div>\n",
       "<style scoped>\n",
       "    .dataframe tbody tr th:only-of-type {\n",
       "        vertical-align: middle;\n",
       "    }\n",
       "\n",
       "    .dataframe tbody tr th {\n",
       "        vertical-align: top;\n",
       "    }\n",
       "\n",
       "    .dataframe thead th {\n",
       "        text-align: right;\n",
       "    }\n",
       "</style>\n",
       "<table border=\"1\" class=\"dataframe\">\n",
       "  <thead>\n",
       "    <tr style=\"text-align: right;\">\n",
       "      <th></th>\n",
       "      <th>Job Title</th>\n",
       "      <th>Company</th>\n",
       "      <th>Location</th>\n",
       "      <th>Experience</th>\n",
       "    </tr>\n",
       "  </thead>\n",
       "  <tbody>\n",
       "    <tr>\n",
       "      <th>0</th>\n",
       "      <td>Job Opportunity || Data Scientist || HCL Techn...</td>\n",
       "      <td>HCL</td>\n",
       "      <td>Delhi / NCR</td>\n",
       "      <td>2-6 Yrs</td>\n",
       "    </tr>\n",
       "    <tr>\n",
       "      <th>1</th>\n",
       "      <td>Data Scientist | Python | Machine Learning | D...</td>\n",
       "      <td>Schlesinger Group</td>\n",
       "      <td>Noida, Gurgaon/Gurugram, Delhi / NCR</td>\n",
       "      <td>0-3 Yrs</td>\n",
       "    </tr>\n",
       "    <tr>\n",
       "      <th>2</th>\n",
       "      <td>Senior Data Scientist I</td>\n",
       "      <td>Delhivery</td>\n",
       "      <td>Gurgaon/Gurugram</td>\n",
       "      <td>3-7 Yrs</td>\n",
       "    </tr>\n",
       "    <tr>\n",
       "      <th>3</th>\n",
       "      <td>Data Scientist</td>\n",
       "      <td>T &amp; A Solutions</td>\n",
       "      <td>Gurgaon/Gurugram</td>\n",
       "      <td>2-6 Yrs</td>\n",
       "    </tr>\n",
       "    <tr>\n",
       "      <th>4</th>\n",
       "      <td>Openings For Jr/mid/Sr level data Scientists</td>\n",
       "      <td>Pluto seven business solutions (p) limited</td>\n",
       "      <td>Kolkata, Hyderabad/Secunderabad, Pune, Ahmedab...</td>\n",
       "      <td>2-6 Yrs</td>\n",
       "    </tr>\n",
       "    <tr>\n",
       "      <th>5</th>\n",
       "      <td>Data Scientist role</td>\n",
       "      <td>Mount Talent Consulting Private Limited</td>\n",
       "      <td>Noida, Hyderabad/Secunderabad, Pune, Gurgaon/G...</td>\n",
       "      <td>1-4 Yrs</td>\n",
       "    </tr>\n",
       "    <tr>\n",
       "      <th>6</th>\n",
       "      <td>Urgent Hiring For Data Scientist</td>\n",
       "      <td>Mount Talent Consulting Private Limited</td>\n",
       "      <td>Gurgaon/Gurugram, Bangalore/Bengaluru</td>\n",
       "      <td>1-6 Yrs</td>\n",
       "    </tr>\n",
       "    <tr>\n",
       "      <th>7</th>\n",
       "      <td>Urgent Hiring For Data Scientist</td>\n",
       "      <td>Mount Talent Consulting Private Limited</td>\n",
       "      <td>Gurgaon/Gurugram, Bangalore/Bengaluru</td>\n",
       "      <td>1-6 Yrs</td>\n",
       "    </tr>\n",
       "    <tr>\n",
       "      <th>8</th>\n",
       "      <td>Data Scientist role</td>\n",
       "      <td>Mount Talent Consulting Private Limited</td>\n",
       "      <td>Noida, Hyderabad/Secunderabad, Pune, Gurgaon/G...</td>\n",
       "      <td>1-3 Yrs</td>\n",
       "    </tr>\n",
       "    <tr>\n",
       "      <th>9</th>\n",
       "      <td>Data Scientist role</td>\n",
       "      <td>Mount Talent Consulting Private Limited</td>\n",
       "      <td>Noida, Hyderabad/Secunderabad, Pune, Gurgaon/G...</td>\n",
       "      <td>1-3 Yrs</td>\n",
       "    </tr>\n",
       "    <tr>\n",
       "      <th>10</th>\n",
       "      <td>Data Scientist Internship</td>\n",
       "      <td>iHackers Inc</td>\n",
       "      <td>New Delhi</td>\n",
       "      <td>0-1 Yrs</td>\n",
       "    </tr>\n",
       "    <tr>\n",
       "      <th>11</th>\n",
       "      <td>Data Scientist</td>\n",
       "      <td>Teleperformance</td>\n",
       "      <td>Gurgaon/Gurugram, Chennai</td>\n",
       "      <td>4-9 Yrs</td>\n",
       "    </tr>\n",
       "    <tr>\n",
       "      <th>12</th>\n",
       "      <td>Data Scientist</td>\n",
       "      <td>Country Veggie</td>\n",
       "      <td>Bharuch, Jaipur, Bhopal, Mumbai, Jhansi, Nagpu...</td>\n",
       "      <td>1-3 Yrs</td>\n",
       "    </tr>\n",
       "    <tr>\n",
       "      <th>13</th>\n",
       "      <td>Data Analyst / Data Scientist / Business Analy...</td>\n",
       "      <td>GABA Consultancy services</td>\n",
       "      <td>Noida, New Delhi, Delhi / NCR</td>\n",
       "      <td>0-0 Yrs</td>\n",
       "    </tr>\n",
       "    <tr>\n",
       "      <th>14</th>\n",
       "      <td>Data Scientist</td>\n",
       "      <td>Boston Consulting Group</td>\n",
       "      <td>New Delhi</td>\n",
       "      <td>2-5 Yrs</td>\n",
       "    </tr>\n",
       "    <tr>\n",
       "      <th>15</th>\n",
       "      <td>Senior Data Scientist</td>\n",
       "      <td>iNICU</td>\n",
       "      <td>Delhi</td>\n",
       "      <td>1-5 Yrs</td>\n",
       "    </tr>\n",
       "    <tr>\n",
       "      <th>16</th>\n",
       "      <td>Data Scientist</td>\n",
       "      <td>Sentieo</td>\n",
       "      <td>Delhi</td>\n",
       "      <td>2-7 Yrs</td>\n",
       "    </tr>\n",
       "    <tr>\n",
       "      <th>17</th>\n",
       "      <td>Data Scientist</td>\n",
       "      <td>BlackBuck</td>\n",
       "      <td>Gurgaon, Bengaluru</td>\n",
       "      <td>3-7 Yrs</td>\n",
       "    </tr>\n",
       "    <tr>\n",
       "      <th>18</th>\n",
       "      <td>Data Scientist</td>\n",
       "      <td>Mahajan Imaging</td>\n",
       "      <td>Delhi</td>\n",
       "      <td>2-6 Yrs</td>\n",
       "    </tr>\n",
       "    <tr>\n",
       "      <th>19</th>\n",
       "      <td>Data Scientist</td>\n",
       "      <td>Mahajan Imaging</td>\n",
       "      <td>Delhi</td>\n",
       "      <td>2-6 Yrs</td>\n",
       "    </tr>\n",
       "  </tbody>\n",
       "</table>\n",
       "</div>"
      ],
      "text/plain": [
       "                                            Job Title  \\\n",
       "0   Job Opportunity || Data Scientist || HCL Techn...   \n",
       "1   Data Scientist | Python | Machine Learning | D...   \n",
       "2                             Senior Data Scientist I   \n",
       "3                                      Data Scientist   \n",
       "4        Openings For Jr/mid/Sr level data Scientists   \n",
       "5                                 Data Scientist role   \n",
       "6                    Urgent Hiring For Data Scientist   \n",
       "7                    Urgent Hiring For Data Scientist   \n",
       "8                                 Data Scientist role   \n",
       "9                                 Data Scientist role   \n",
       "10                          Data Scientist Internship   \n",
       "11                                     Data Scientist   \n",
       "12                                     Data Scientist   \n",
       "13  Data Analyst / Data Scientist / Business Analy...   \n",
       "14                                     Data Scientist   \n",
       "15                              Senior Data Scientist   \n",
       "16                                     Data Scientist   \n",
       "17                                     Data Scientist   \n",
       "18                                     Data Scientist   \n",
       "19                                     Data Scientist   \n",
       "\n",
       "                                       Company  \\\n",
       "0                                          HCL   \n",
       "1                            Schlesinger Group   \n",
       "2                                    Delhivery   \n",
       "3                              T & A Solutions   \n",
       "4   Pluto seven business solutions (p) limited   \n",
       "5      Mount Talent Consulting Private Limited   \n",
       "6      Mount Talent Consulting Private Limited   \n",
       "7      Mount Talent Consulting Private Limited   \n",
       "8      Mount Talent Consulting Private Limited   \n",
       "9      Mount Talent Consulting Private Limited   \n",
       "10                                iHackers Inc   \n",
       "11                             Teleperformance   \n",
       "12                              Country Veggie   \n",
       "13                   GABA Consultancy services   \n",
       "14                     Boston Consulting Group   \n",
       "15                                       iNICU   \n",
       "16                                     Sentieo   \n",
       "17                                   BlackBuck   \n",
       "18                             Mahajan Imaging   \n",
       "19                             Mahajan Imaging   \n",
       "\n",
       "                                             Location Experience  \n",
       "0                                         Delhi / NCR    2-6 Yrs  \n",
       "1                Noida, Gurgaon/Gurugram, Delhi / NCR    0-3 Yrs  \n",
       "2                                    Gurgaon/Gurugram    3-7 Yrs  \n",
       "3                                    Gurgaon/Gurugram    2-6 Yrs  \n",
       "4   Kolkata, Hyderabad/Secunderabad, Pune, Ahmedab...    2-6 Yrs  \n",
       "5   Noida, Hyderabad/Secunderabad, Pune, Gurgaon/G...    1-4 Yrs  \n",
       "6               Gurgaon/Gurugram, Bangalore/Bengaluru    1-6 Yrs  \n",
       "7               Gurgaon/Gurugram, Bangalore/Bengaluru    1-6 Yrs  \n",
       "8   Noida, Hyderabad/Secunderabad, Pune, Gurgaon/G...    1-3 Yrs  \n",
       "9   Noida, Hyderabad/Secunderabad, Pune, Gurgaon/G...    1-3 Yrs  \n",
       "10                                          New Delhi    0-1 Yrs  \n",
       "11                          Gurgaon/Gurugram, Chennai    4-9 Yrs  \n",
       "12  Bharuch, Jaipur, Bhopal, Mumbai, Jhansi, Nagpu...    1-3 Yrs  \n",
       "13                      Noida, New Delhi, Delhi / NCR    0-0 Yrs  \n",
       "14                                          New Delhi    2-5 Yrs  \n",
       "15                                              Delhi    1-5 Yrs  \n",
       "16                                              Delhi    2-7 Yrs  \n",
       "17                                 Gurgaon, Bengaluru    3-7 Yrs  \n",
       "18                                              Delhi    2-6 Yrs  \n",
       "19                                              Delhi    2-6 Yrs  "
      ]
     },
     "execution_count": 121,
     "metadata": {},
     "output_type": "execute_result"
    }
   ],
   "source": [
    "jobs = pd.DataFrame()\n",
    "jobs['Job Title'] = job_titles\n",
    "jobs[' Company'] = company_names\n",
    "jobs['Location'] = company_loc\n",
    "jobs['Experience'] = company_exp\n",
    "jobs"
   ]
  },
  {
   "cell_type": "markdown",
   "id": "5ea7dffd",
   "metadata": {},
   "source": [
    "4.: Scrape data of first 100 sunglasses listings on flipkart.com. You have to scrape four attributes:\n",
    "1. Brand\n",
    "2. Product Description\n",
    "3. Price\n"
   ]
  },
  {
   "cell_type": "code",
   "execution_count": 4,
   "id": "894de206",
   "metadata": {},
   "outputs": [],
   "source": [
    "url = 'https://www.flipkart.com/'\n",
    "driver.get(url)"
   ]
  },
  {
   "cell_type": "code",
   "execution_count": 8,
   "id": "5e4efca7",
   "metadata": {},
   "outputs": [
    {
     "data": {
      "text/plain": [
       "<selenium.webdriver.remote.webelement.WebElement (session=\"3eca114b02227d12ed510437f473b8d7\", element=\"9610e2ef-b030-4883-b1f1-216604663d82\")>"
      ]
     },
     "execution_count": 8,
     "metadata": {},
     "output_type": "execute_result"
    }
   ],
   "source": [
    "search_product = driver.find_element_by_xpath('/html/body/div[1]/div/div[1]/div[1]/div[2]/div[2]/form/div/div/input')\n",
    "search_product"
   ]
  },
  {
   "cell_type": "code",
   "execution_count": 9,
   "id": "cad3bc92",
   "metadata": {},
   "outputs": [],
   "source": [
    "search_product.send_keys(\"Sunglasses\")"
   ]
  },
  {
   "cell_type": "code",
   "execution_count": 13,
   "id": "a4b88742",
   "metadata": {},
   "outputs": [
    {
     "data": {
      "text/plain": [
       "[<selenium.webdriver.remote.webelement.WebElement (session=\"3eca114b02227d12ed510437f473b8d7\", element=\"d1399aa0-0fd7-4d05-8745-9d918e398672\")>,\n",
       " <selenium.webdriver.remote.webelement.WebElement (session=\"3eca114b02227d12ed510437f473b8d7\", element=\"22438c1e-99e8-4420-8de8-4c3d1bdac063\")>,\n",
       " <selenium.webdriver.remote.webelement.WebElement (session=\"3eca114b02227d12ed510437f473b8d7\", element=\"451fb8ad-783f-4277-814d-b8dccccb5736\")>,\n",
       " <selenium.webdriver.remote.webelement.WebElement (session=\"3eca114b02227d12ed510437f473b8d7\", element=\"c7f8f106-db7e-4ad8-a4b2-22ed48902261\")>,\n",
       " <selenium.webdriver.remote.webelement.WebElement (session=\"3eca114b02227d12ed510437f473b8d7\", element=\"a37ab179-106d-4e4f-be8b-db2f6e15dc4f\")>,\n",
       " <selenium.webdriver.remote.webelement.WebElement (session=\"3eca114b02227d12ed510437f473b8d7\", element=\"4045c004-3b11-49e9-a332-e0cc883d1ff9\")>,\n",
       " <selenium.webdriver.remote.webelement.WebElement (session=\"3eca114b02227d12ed510437f473b8d7\", element=\"eec4b8bf-5230-440e-9913-95c808f906c2\")>,\n",
       " <selenium.webdriver.remote.webelement.WebElement (session=\"3eca114b02227d12ed510437f473b8d7\", element=\"252b778e-33f8-48d8-a898-3434a0fc1929\")>,\n",
       " <selenium.webdriver.remote.webelement.WebElement (session=\"3eca114b02227d12ed510437f473b8d7\", element=\"d83b9c36-fde1-4d4c-8b61-a8cf458c8a28\")>,\n",
       " <selenium.webdriver.remote.webelement.WebElement (session=\"3eca114b02227d12ed510437f473b8d7\", element=\"710e99a0-87e6-4227-8446-fc419e56d708\")>,\n",
       " <selenium.webdriver.remote.webelement.WebElement (session=\"3eca114b02227d12ed510437f473b8d7\", element=\"7e1732b2-ec71-4aee-ac72-a0f6ffe74862\")>,\n",
       " <selenium.webdriver.remote.webelement.WebElement (session=\"3eca114b02227d12ed510437f473b8d7\", element=\"42701a3d-c2fe-4e5e-bf15-bc10f3784701\")>,\n",
       " <selenium.webdriver.remote.webelement.WebElement (session=\"3eca114b02227d12ed510437f473b8d7\", element=\"6a789b4b-ca7d-49c9-b434-d23a99c67164\")>,\n",
       " <selenium.webdriver.remote.webelement.WebElement (session=\"3eca114b02227d12ed510437f473b8d7\", element=\"c3ea2642-2824-4a17-a8df-7abaabf36f0d\")>,\n",
       " <selenium.webdriver.remote.webelement.WebElement (session=\"3eca114b02227d12ed510437f473b8d7\", element=\"b799271f-b2b1-4cdc-bc7f-7573f473ef9e\")>,\n",
       " <selenium.webdriver.remote.webelement.WebElement (session=\"3eca114b02227d12ed510437f473b8d7\", element=\"edd72abb-266a-4b93-b1c1-5ed1faa3e031\")>,\n",
       " <selenium.webdriver.remote.webelement.WebElement (session=\"3eca114b02227d12ed510437f473b8d7\", element=\"79d99b56-4c8d-41a4-bd4b-6a4ae7e319df\")>,\n",
       " <selenium.webdriver.remote.webelement.WebElement (session=\"3eca114b02227d12ed510437f473b8d7\", element=\"0caee163-971b-4eba-b3ed-14c808814abb\")>,\n",
       " <selenium.webdriver.remote.webelement.WebElement (session=\"3eca114b02227d12ed510437f473b8d7\", element=\"c6b59a98-a829-4081-98b1-cefa5b9f7fef\")>,\n",
       " <selenium.webdriver.remote.webelement.WebElement (session=\"3eca114b02227d12ed510437f473b8d7\", element=\"190d10b6-de48-4700-b2a6-67b73d2b6d60\")>,\n",
       " <selenium.webdriver.remote.webelement.WebElement (session=\"3eca114b02227d12ed510437f473b8d7\", element=\"1442be8f-e8c0-46c2-a832-30de35349af5\")>,\n",
       " <selenium.webdriver.remote.webelement.WebElement (session=\"3eca114b02227d12ed510437f473b8d7\", element=\"68152a8b-300f-4d05-99ab-bf1f42e0d98e\")>,\n",
       " <selenium.webdriver.remote.webelement.WebElement (session=\"3eca114b02227d12ed510437f473b8d7\", element=\"cf54ec8d-8f50-46e0-8eb9-a22e7ba5b850\")>,\n",
       " <selenium.webdriver.remote.webelement.WebElement (session=\"3eca114b02227d12ed510437f473b8d7\", element=\"7b99500b-b944-4951-874a-4cd917e385c6\")>,\n",
       " <selenium.webdriver.remote.webelement.WebElement (session=\"3eca114b02227d12ed510437f473b8d7\", element=\"00f74666-2121-4c43-901d-415756788bc5\")>,\n",
       " <selenium.webdriver.remote.webelement.WebElement (session=\"3eca114b02227d12ed510437f473b8d7\", element=\"744d5348-8114-4861-b7c8-264ef4f86092\")>,\n",
       " <selenium.webdriver.remote.webelement.WebElement (session=\"3eca114b02227d12ed510437f473b8d7\", element=\"a60248f5-9f0e-4a13-ad40-c36f5e7ad08d\")>,\n",
       " <selenium.webdriver.remote.webelement.WebElement (session=\"3eca114b02227d12ed510437f473b8d7\", element=\"28fc4673-f362-49f4-8f82-f4adababdfce\")>,\n",
       " <selenium.webdriver.remote.webelement.WebElement (session=\"3eca114b02227d12ed510437f473b8d7\", element=\"29cb3427-9039-48a5-b211-72093dd6d032\")>,\n",
       " <selenium.webdriver.remote.webelement.WebElement (session=\"3eca114b02227d12ed510437f473b8d7\", element=\"46e58a9c-d3ca-4518-b4d9-90e32da4c70d\")>,\n",
       " <selenium.webdriver.remote.webelement.WebElement (session=\"3eca114b02227d12ed510437f473b8d7\", element=\"cb3845ef-5eec-47cd-a030-642abbecf103\")>,\n",
       " <selenium.webdriver.remote.webelement.WebElement (session=\"3eca114b02227d12ed510437f473b8d7\", element=\"20c8648b-8c96-4ba7-806e-c161790f71fb\")>,\n",
       " <selenium.webdriver.remote.webelement.WebElement (session=\"3eca114b02227d12ed510437f473b8d7\", element=\"a3419137-ff48-427f-b6eb-615d05da7e38\")>,\n",
       " <selenium.webdriver.remote.webelement.WebElement (session=\"3eca114b02227d12ed510437f473b8d7\", element=\"96192443-87f8-4fdb-b8dd-78708169871b\")>,\n",
       " <selenium.webdriver.remote.webelement.WebElement (session=\"3eca114b02227d12ed510437f473b8d7\", element=\"83585c17-f705-41b6-89e5-f382d8fb948b\")>,\n",
       " <selenium.webdriver.remote.webelement.WebElement (session=\"3eca114b02227d12ed510437f473b8d7\", element=\"c32fecd7-1091-4e94-bf5d-23178a1f73e7\")>,\n",
       " <selenium.webdriver.remote.webelement.WebElement (session=\"3eca114b02227d12ed510437f473b8d7\", element=\"dc1bb88f-5a90-4251-b482-21abf975217c\")>,\n",
       " <selenium.webdriver.remote.webelement.WebElement (session=\"3eca114b02227d12ed510437f473b8d7\", element=\"aae9299b-f73f-4647-8748-e3f9131e1ea8\")>,\n",
       " <selenium.webdriver.remote.webelement.WebElement (session=\"3eca114b02227d12ed510437f473b8d7\", element=\"595ff74c-9ca0-41b1-b16d-948a579f1b8c\")>,\n",
       " <selenium.webdriver.remote.webelement.WebElement (session=\"3eca114b02227d12ed510437f473b8d7\", element=\"3d25d7f9-47c7-46e5-bbbc-df7b6cf3e178\")>]"
      ]
     },
     "execution_count": 13,
     "metadata": {},
     "output_type": "execute_result"
    }
   ],
   "source": [
    "# Extracting the brand name\n",
    "#extract all web elements having brand name\n",
    "brand_tags = driver.find_elements_by_xpath('//div[@class=\"_2WkVRV\"]')\n",
    "len(brand_tags)\n",
    "brand_tags"
   ]
  },
  {
   "cell_type": "code",
   "execution_count": 14,
   "id": "ce985d72",
   "metadata": {},
   "outputs": [
    {
     "data": {
      "text/plain": [
       "['PIRASO',\n",
       " 'PIRASO',\n",
       " 'PIRASO',\n",
       " 'SRPM',\n",
       " 'Elligator',\n",
       " 'Fastrack',\n",
       " 'SHAAH COLLECTIONS',\n",
       " 'PIRASO',\n",
       " 'ROZZETTA CRAFT',\n",
       " 'New Specs',\n",
       " 'PIRASO',\n",
       " 'PIRASO',\n",
       " 'kingsunglasses',\n",
       " 'PHENOMENAL',\n",
       " 'New Specs',\n",
       " 'PIRASO',\n",
       " 'SUNBEE',\n",
       " 'kingsunglasses',\n",
       " 'ROZZETTA CRAFT',\n",
       " 'PIRASO',\n",
       " 'SHAAH COLLECTIONS',\n",
       " 'PIRASO',\n",
       " 'ROYAL SON',\n",
       " 'VINCENT CHASE',\n",
       " 'Fastrack',\n",
       " 'Rich Club',\n",
       " 'PHENOMENAL',\n",
       " 'VINCENT CHASE',\n",
       " 'PIRASO',\n",
       " 'ROZZETTA CRAFT',\n",
       " 'SUNBEE',\n",
       " 'PIRASO',\n",
       " 'Elligator',\n",
       " 'PIRASO',\n",
       " 'Rich Club',\n",
       " 'PIRASO',\n",
       " 'kingsunglasses',\n",
       " 'ROZZETTA CRAFT',\n",
       " 'ROYAL SON',\n",
       " 'PIRASO']"
      ]
     },
     "execution_count": 14,
     "metadata": {},
     "output_type": "execute_result"
    }
   ],
   "source": [
    "brand_name = []\n",
    "\n",
    "for i in brand_tags:\n",
    "    brand_name.append(i.text)\n",
    "len(brand_name)\n",
    "brand_name"
   ]
  },
  {
   "cell_type": "code",
   "execution_count": 15,
   "id": "72e9d596",
   "metadata": {},
   "outputs": [
    {
     "data": {
      "text/plain": [
       "[<selenium.webdriver.remote.webelement.WebElement (session=\"3eca114b02227d12ed510437f473b8d7\", element=\"a2780cd6-2e32-4089-9c39-29e168ef1f8b\")>,\n",
       " <selenium.webdriver.remote.webelement.WebElement (session=\"3eca114b02227d12ed510437f473b8d7\", element=\"519a62c5-db02-40f4-aa14-b8bde97ed1f4\")>,\n",
       " <selenium.webdriver.remote.webelement.WebElement (session=\"3eca114b02227d12ed510437f473b8d7\", element=\"fa4d3a2e-b906-4db9-8526-9cea128010a8\")>,\n",
       " <selenium.webdriver.remote.webelement.WebElement (session=\"3eca114b02227d12ed510437f473b8d7\", element=\"b923e595-963d-4b2f-8025-5938f5c9334b\")>,\n",
       " <selenium.webdriver.remote.webelement.WebElement (session=\"3eca114b02227d12ed510437f473b8d7\", element=\"aa7f32f5-3cf2-4a34-a666-ac88e1f50ce4\")>,\n",
       " <selenium.webdriver.remote.webelement.WebElement (session=\"3eca114b02227d12ed510437f473b8d7\", element=\"402edddd-c15c-4c36-a71c-5b9e4a4ce9da\")>,\n",
       " <selenium.webdriver.remote.webelement.WebElement (session=\"3eca114b02227d12ed510437f473b8d7\", element=\"7d3a1c8b-53b3-4d26-a3e7-7d8b6af5d112\")>,\n",
       " <selenium.webdriver.remote.webelement.WebElement (session=\"3eca114b02227d12ed510437f473b8d7\", element=\"d78fb23b-93f5-4fa2-9903-c0cb96469f22\")>,\n",
       " <selenium.webdriver.remote.webelement.WebElement (session=\"3eca114b02227d12ed510437f473b8d7\", element=\"7fd43c98-c272-4b4b-aecd-4e2150d5964d\")>,\n",
       " <selenium.webdriver.remote.webelement.WebElement (session=\"3eca114b02227d12ed510437f473b8d7\", element=\"82917da7-8334-490c-bea7-54c963e07cd3\")>,\n",
       " <selenium.webdriver.remote.webelement.WebElement (session=\"3eca114b02227d12ed510437f473b8d7\", element=\"0be466f0-b0c6-44a9-89bf-837a2fcc6d2d\")>,\n",
       " <selenium.webdriver.remote.webelement.WebElement (session=\"3eca114b02227d12ed510437f473b8d7\", element=\"ee20aefc-42e7-4a04-9991-3a3ccef656c3\")>,\n",
       " <selenium.webdriver.remote.webelement.WebElement (session=\"3eca114b02227d12ed510437f473b8d7\", element=\"f1511c58-bb1a-4f86-884f-82ee005c8908\")>,\n",
       " <selenium.webdriver.remote.webelement.WebElement (session=\"3eca114b02227d12ed510437f473b8d7\", element=\"1c29a6c2-ac61-4317-a9a9-b724a3491c7c\")>,\n",
       " <selenium.webdriver.remote.webelement.WebElement (session=\"3eca114b02227d12ed510437f473b8d7\", element=\"d60579ed-a046-4853-a675-4bf736849590\")>,\n",
       " <selenium.webdriver.remote.webelement.WebElement (session=\"3eca114b02227d12ed510437f473b8d7\", element=\"b4bf937c-2d56-48cf-8a9d-a0e9f1b3e27c\")>,\n",
       " <selenium.webdriver.remote.webelement.WebElement (session=\"3eca114b02227d12ed510437f473b8d7\", element=\"f1885005-ae4b-4cff-aa23-714f31dca642\")>,\n",
       " <selenium.webdriver.remote.webelement.WebElement (session=\"3eca114b02227d12ed510437f473b8d7\", element=\"7575a5e0-86ff-400c-8b40-68dbd3793da1\")>,\n",
       " <selenium.webdriver.remote.webelement.WebElement (session=\"3eca114b02227d12ed510437f473b8d7\", element=\"277572c2-0de5-4cad-8886-9923e9a5990b\")>,\n",
       " <selenium.webdriver.remote.webelement.WebElement (session=\"3eca114b02227d12ed510437f473b8d7\", element=\"d29a4e5e-3683-47e2-92cf-590f31a6cf66\")>,\n",
       " <selenium.webdriver.remote.webelement.WebElement (session=\"3eca114b02227d12ed510437f473b8d7\", element=\"57924e4c-8ee7-4122-aa14-f31134c554d0\")>,\n",
       " <selenium.webdriver.remote.webelement.WebElement (session=\"3eca114b02227d12ed510437f473b8d7\", element=\"94e3858a-4034-497f-a18f-57a3eb06984f\")>,\n",
       " <selenium.webdriver.remote.webelement.WebElement (session=\"3eca114b02227d12ed510437f473b8d7\", element=\"edccc2d5-edbb-402e-bc71-134e046d7d01\")>,\n",
       " <selenium.webdriver.remote.webelement.WebElement (session=\"3eca114b02227d12ed510437f473b8d7\", element=\"dd771a92-913d-41e9-ac8c-bcb1f11bd43d\")>,\n",
       " <selenium.webdriver.remote.webelement.WebElement (session=\"3eca114b02227d12ed510437f473b8d7\", element=\"96f2b926-eb88-4e1d-b1df-d9e12c9e8467\")>,\n",
       " <selenium.webdriver.remote.webelement.WebElement (session=\"3eca114b02227d12ed510437f473b8d7\", element=\"93c4d668-c34b-4a1f-a370-b82a03c273dd\")>,\n",
       " <selenium.webdriver.remote.webelement.WebElement (session=\"3eca114b02227d12ed510437f473b8d7\", element=\"f2aa9f52-fef5-45a6-ad9b-f07be4d13a7f\")>,\n",
       " <selenium.webdriver.remote.webelement.WebElement (session=\"3eca114b02227d12ed510437f473b8d7\", element=\"ed3a20db-697e-495d-a6a6-1a375cd5427e\")>,\n",
       " <selenium.webdriver.remote.webelement.WebElement (session=\"3eca114b02227d12ed510437f473b8d7\", element=\"536ec465-f5ab-4072-9d26-836aeea84716\")>,\n",
       " <selenium.webdriver.remote.webelement.WebElement (session=\"3eca114b02227d12ed510437f473b8d7\", element=\"d309205b-7d4c-4ab9-a121-d62f0518a40c\")>,\n",
       " <selenium.webdriver.remote.webelement.WebElement (session=\"3eca114b02227d12ed510437f473b8d7\", element=\"cc7bee7f-438d-4016-850c-85bed7279c36\")>,\n",
       " <selenium.webdriver.remote.webelement.WebElement (session=\"3eca114b02227d12ed510437f473b8d7\", element=\"782780f7-2fa2-4a67-b699-6ff1a12b04d1\")>,\n",
       " <selenium.webdriver.remote.webelement.WebElement (session=\"3eca114b02227d12ed510437f473b8d7\", element=\"dc931709-0e0c-417c-9497-87166069a06b\")>,\n",
       " <selenium.webdriver.remote.webelement.WebElement (session=\"3eca114b02227d12ed510437f473b8d7\", element=\"c4a70c68-320f-43d9-9686-208122f8f04b\")>,\n",
       " <selenium.webdriver.remote.webelement.WebElement (session=\"3eca114b02227d12ed510437f473b8d7\", element=\"5e975141-2ad9-4716-a727-af82e78884ac\")>,\n",
       " <selenium.webdriver.remote.webelement.WebElement (session=\"3eca114b02227d12ed510437f473b8d7\", element=\"2d4eabbe-5cc7-4a65-a417-c63d57859364\")>,\n",
       " <selenium.webdriver.remote.webelement.WebElement (session=\"3eca114b02227d12ed510437f473b8d7\", element=\"bbd238f2-d7d4-4cdb-980b-9fe167bc86cb\")>,\n",
       " <selenium.webdriver.remote.webelement.WebElement (session=\"3eca114b02227d12ed510437f473b8d7\", element=\"54d1c183-3a4b-49f5-9fd8-beeef6039d46\")>,\n",
       " <selenium.webdriver.remote.webelement.WebElement (session=\"3eca114b02227d12ed510437f473b8d7\", element=\"67c4ae81-8147-4595-8587-9f109725d081\")>,\n",
       " <selenium.webdriver.remote.webelement.WebElement (session=\"3eca114b02227d12ed510437f473b8d7\", element=\"ad9f6122-ddb9-4116-bf5b-02230c0c8b09\")>]"
      ]
     },
     "execution_count": 15,
     "metadata": {},
     "output_type": "execute_result"
    }
   ],
   "source": [
    "prod_desc = driver.find_elements_by_xpath('//a[@class=\"IRpwTa\"]')\n",
    "len(prod_desc)\n",
    "prod_desc"
   ]
  },
  {
   "cell_type": "code",
   "execution_count": 16,
   "id": "13e1ac9d",
   "metadata": {},
   "outputs": [
    {
     "data": {
      "text/plain": [
       "['UV Protection Rectangular Sunglasses (Free Size)',\n",
       " 'UV Protection Aviator Sunglasses (55)',\n",
       " 'UV Protection Aviator Sunglasses (54)',\n",
       " 'UV Protection Wayfarer Sunglasses (56)',\n",
       " 'UV Protection Round Sunglasses (54)',\n",
       " 'UV Protection Wayfarer Sunglasses (Free Size)',\n",
       " 'UV Protection, Polarized, Mirrored Rectangular Sunglass...',\n",
       " 'UV Protection Round Sunglasses (Free Size)',\n",
       " 'UV Protection Retro Square Sunglasses (Free Size)',\n",
       " 'Mirrored, UV Protection, Riding Glasses, Others Round S...',\n",
       " 'UV Protection Aviator Sunglasses (54)',\n",
       " 'UV Protection Retro Square Sunglasses (Free Size)',\n",
       " 'Mirrored, UV Protection Wayfarer Sunglasses (53)',\n",
       " 'UV Protection Retro Square Sunglasses (Free Size)',\n",
       " 'UV Protection Rectangular Sunglasses (Free Size)',\n",
       " 'UV Protection Round Sunglasses (Free Size)',\n",
       " 'UV Protection, Polarized, Mirrored Round Sunglasses (Fr...',\n",
       " 'UV Protection Round Sunglasses (54)',\n",
       " 'UV Protection, Gradient Rectangular Sunglasses (Free Si...',\n",
       " 'UV Protection Aviator Sunglasses (Free Size)',\n",
       " 'UV Protection, Polarized, Mirrored Rectangular Sunglass...',\n",
       " 'UV Protection Wayfarer Sunglasses (32)',\n",
       " 'Mirrored Aviator Sunglasses (55)',\n",
       " 'by Lenskart UV Protection Aviator Sunglasses (53)',\n",
       " 'Gradient, UV Protection Wayfarer Sunglasses (Free Size)',\n",
       " 'Polarized Round Sunglasses (48)',\n",
       " 'UV Protection, Mirrored Retro Square Sunglasses (53)',\n",
       " 'by Lenskart UV Protection Aviator Sunglasses (Free Size...',\n",
       " 'UV Protection Aviator Sunglasses (54)',\n",
       " 'UV Protection, Gradient Rectangular Sunglasses (Free Si...',\n",
       " 'UV Protection, Polarized Wayfarer Sunglasses (Free Size...',\n",
       " 'UV Protection Wayfarer Sunglasses (56)',\n",
       " 'UV Protection Round Sunglasses (53)',\n",
       " 'UV Protection Aviator Sunglasses (58)',\n",
       " 'UV Protection Round Sunglasses (50)',\n",
       " 'UV Protection Rectangular, Over-sized Sunglasses (Free ...',\n",
       " 'UV Protection, Riding Glasses, Mirrored Wayfarer Sungla...',\n",
       " 'UV Protection, Gradient Round Sunglasses (Free Size)',\n",
       " 'UV Protection Rectangular Sunglasses (58)',\n",
       " 'UV Protection Cat-eye Sunglasses (55)']"
      ]
     },
     "execution_count": 16,
     "metadata": {},
     "output_type": "execute_result"
    }
   ],
   "source": [
    "product_des = []\n",
    "\n",
    "for i in prod_desc:\n",
    "    product_des.append(i.text)\n",
    "len(product_des)\n",
    "product_des"
   ]
  },
  {
   "cell_type": "code",
   "execution_count": 17,
   "id": "19afafd1",
   "metadata": {},
   "outputs": [
    {
     "data": {
      "text/plain": [
       "[<selenium.webdriver.remote.webelement.WebElement (session=\"3eca114b02227d12ed510437f473b8d7\", element=\"1ef8b741-1c2c-47ec-a281-16b5dbaec9fd\")>,\n",
       " <selenium.webdriver.remote.webelement.WebElement (session=\"3eca114b02227d12ed510437f473b8d7\", element=\"0de3ab82-e8ef-406e-a3fa-931ca2050e68\")>,\n",
       " <selenium.webdriver.remote.webelement.WebElement (session=\"3eca114b02227d12ed510437f473b8d7\", element=\"972491dd-7a52-4033-92ec-19c4da2e6f03\")>,\n",
       " <selenium.webdriver.remote.webelement.WebElement (session=\"3eca114b02227d12ed510437f473b8d7\", element=\"86fb4c63-02e3-4429-80da-111e7ca0e2f5\")>,\n",
       " <selenium.webdriver.remote.webelement.WebElement (session=\"3eca114b02227d12ed510437f473b8d7\", element=\"f43b3f8d-89d8-4353-9ddb-4bce1167b313\")>,\n",
       " <selenium.webdriver.remote.webelement.WebElement (session=\"3eca114b02227d12ed510437f473b8d7\", element=\"7b291c63-2e84-457b-8a1d-e7d1856fae5e\")>,\n",
       " <selenium.webdriver.remote.webelement.WebElement (session=\"3eca114b02227d12ed510437f473b8d7\", element=\"75c9db28-4b34-4161-b095-1b5dcedea858\")>,\n",
       " <selenium.webdriver.remote.webelement.WebElement (session=\"3eca114b02227d12ed510437f473b8d7\", element=\"108755d2-c6a4-4a11-8251-27b9b511da47\")>,\n",
       " <selenium.webdriver.remote.webelement.WebElement (session=\"3eca114b02227d12ed510437f473b8d7\", element=\"17d05501-53ba-43c4-9913-6548e954a004\")>,\n",
       " <selenium.webdriver.remote.webelement.WebElement (session=\"3eca114b02227d12ed510437f473b8d7\", element=\"047147f1-acb3-4f54-931f-4c06cc2a755f\")>,\n",
       " <selenium.webdriver.remote.webelement.WebElement (session=\"3eca114b02227d12ed510437f473b8d7\", element=\"6999310d-32d1-42d2-8d65-1aff21954c88\")>,\n",
       " <selenium.webdriver.remote.webelement.WebElement (session=\"3eca114b02227d12ed510437f473b8d7\", element=\"ef0473a7-49fa-48c6-90cd-51821251fa2f\")>,\n",
       " <selenium.webdriver.remote.webelement.WebElement (session=\"3eca114b02227d12ed510437f473b8d7\", element=\"f3de24d7-4266-4c0d-8b14-7fda06f09d87\")>,\n",
       " <selenium.webdriver.remote.webelement.WebElement (session=\"3eca114b02227d12ed510437f473b8d7\", element=\"7d773936-483c-443b-84e1-e5396d70cca8\")>,\n",
       " <selenium.webdriver.remote.webelement.WebElement (session=\"3eca114b02227d12ed510437f473b8d7\", element=\"6986548c-aef2-4c89-8e3a-efd80b1c81c5\")>,\n",
       " <selenium.webdriver.remote.webelement.WebElement (session=\"3eca114b02227d12ed510437f473b8d7\", element=\"fe5ec2c8-032a-4f42-bb1c-2bf02273d706\")>,\n",
       " <selenium.webdriver.remote.webelement.WebElement (session=\"3eca114b02227d12ed510437f473b8d7\", element=\"25f9c873-fdd0-4bfc-848e-174160c23fd2\")>,\n",
       " <selenium.webdriver.remote.webelement.WebElement (session=\"3eca114b02227d12ed510437f473b8d7\", element=\"0cc302ac-3534-44d7-b7ae-ebc0ade3c0ef\")>,\n",
       " <selenium.webdriver.remote.webelement.WebElement (session=\"3eca114b02227d12ed510437f473b8d7\", element=\"ad1b165d-af96-48e3-b8c2-fad3a6c4c26f\")>,\n",
       " <selenium.webdriver.remote.webelement.WebElement (session=\"3eca114b02227d12ed510437f473b8d7\", element=\"50fd862a-4ecc-49b1-8dd8-fa0d6f8c31aa\")>,\n",
       " <selenium.webdriver.remote.webelement.WebElement (session=\"3eca114b02227d12ed510437f473b8d7\", element=\"79332f7b-903b-4a0a-8a25-3ccee634d383\")>,\n",
       " <selenium.webdriver.remote.webelement.WebElement (session=\"3eca114b02227d12ed510437f473b8d7\", element=\"41fa95cb-0328-449c-be74-530e2f70ccfd\")>,\n",
       " <selenium.webdriver.remote.webelement.WebElement (session=\"3eca114b02227d12ed510437f473b8d7\", element=\"855b75e9-ddae-4e08-a752-6fe9ea44724c\")>,\n",
       " <selenium.webdriver.remote.webelement.WebElement (session=\"3eca114b02227d12ed510437f473b8d7\", element=\"d35c7f84-e07f-4979-b5a2-8ffd254e9811\")>,\n",
       " <selenium.webdriver.remote.webelement.WebElement (session=\"3eca114b02227d12ed510437f473b8d7\", element=\"aa5b5f21-674b-4eb1-9fbc-1775ed9470f9\")>,\n",
       " <selenium.webdriver.remote.webelement.WebElement (session=\"3eca114b02227d12ed510437f473b8d7\", element=\"36388724-8394-4eb1-9aa0-998dd82612f4\")>,\n",
       " <selenium.webdriver.remote.webelement.WebElement (session=\"3eca114b02227d12ed510437f473b8d7\", element=\"57cf8543-ec73-4c01-86f1-ae034465edf1\")>,\n",
       " <selenium.webdriver.remote.webelement.WebElement (session=\"3eca114b02227d12ed510437f473b8d7\", element=\"ee80e445-4f80-4ae6-9444-a49c50cb8d7a\")>,\n",
       " <selenium.webdriver.remote.webelement.WebElement (session=\"3eca114b02227d12ed510437f473b8d7\", element=\"2acfe8e5-51e1-477c-b315-075256379ce8\")>,\n",
       " <selenium.webdriver.remote.webelement.WebElement (session=\"3eca114b02227d12ed510437f473b8d7\", element=\"2d94be5a-7dbe-4e5e-8ff8-699ed36c5031\")>,\n",
       " <selenium.webdriver.remote.webelement.WebElement (session=\"3eca114b02227d12ed510437f473b8d7\", element=\"d9563682-170a-401e-b60e-531c84bc40df\")>,\n",
       " <selenium.webdriver.remote.webelement.WebElement (session=\"3eca114b02227d12ed510437f473b8d7\", element=\"b09503f8-026b-4015-8651-3530bce3960b\")>,\n",
       " <selenium.webdriver.remote.webelement.WebElement (session=\"3eca114b02227d12ed510437f473b8d7\", element=\"d9b9b434-a022-471b-80d1-f63a905003b9\")>,\n",
       " <selenium.webdriver.remote.webelement.WebElement (session=\"3eca114b02227d12ed510437f473b8d7\", element=\"26580e54-447a-40cf-bb39-75e18ede7be1\")>,\n",
       " <selenium.webdriver.remote.webelement.WebElement (session=\"3eca114b02227d12ed510437f473b8d7\", element=\"c5870215-17ee-4dbc-9739-849076d5a530\")>,\n",
       " <selenium.webdriver.remote.webelement.WebElement (session=\"3eca114b02227d12ed510437f473b8d7\", element=\"1d0b90f1-fd12-4997-97be-4bf5440f89ea\")>,\n",
       " <selenium.webdriver.remote.webelement.WebElement (session=\"3eca114b02227d12ed510437f473b8d7\", element=\"85b02e12-09d9-4297-9bfa-baf0e355cea5\")>,\n",
       " <selenium.webdriver.remote.webelement.WebElement (session=\"3eca114b02227d12ed510437f473b8d7\", element=\"27cb61a5-9156-4ef0-a6a2-82d262e8ac3a\")>,\n",
       " <selenium.webdriver.remote.webelement.WebElement (session=\"3eca114b02227d12ed510437f473b8d7\", element=\"1fe9f926-21b1-4a28-ac70-aa0c6bafb9ef\")>,\n",
       " <selenium.webdriver.remote.webelement.WebElement (session=\"3eca114b02227d12ed510437f473b8d7\", element=\"94a7e9ac-e73a-4347-adff-cbee340fb1cf\")>]"
      ]
     },
     "execution_count": 17,
     "metadata": {},
     "output_type": "execute_result"
    }
   ],
   "source": [
    "price_tag = driver.find_elements_by_xpath('//div[@class=\"_30jeq3\"]')\n",
    "len(price_tag)\n",
    "price_tag"
   ]
  },
  {
   "cell_type": "code",
   "execution_count": 18,
   "id": "f3328193",
   "metadata": {},
   "outputs": [
    {
     "data": {
      "text/plain": [
       "['₹254',\n",
       " '₹225',\n",
       " '₹200',\n",
       " '₹188',\n",
       " '₹248',\n",
       " '₹759',\n",
       " '₹165',\n",
       " '₹171',\n",
       " '₹474',\n",
       " '₹262',\n",
       " '₹200',\n",
       " '₹329',\n",
       " '₹274',\n",
       " '₹309',\n",
       " '₹259',\n",
       " '₹336',\n",
       " '₹271',\n",
       " '₹189',\n",
       " '₹383',\n",
       " '₹261',\n",
       " '₹181',\n",
       " '₹190',\n",
       " '₹359',\n",
       " '₹999',\n",
       " '₹499',\n",
       " '₹165',\n",
       " '₹299',\n",
       " '₹999',\n",
       " '₹200',\n",
       " '₹348',\n",
       " '₹243',\n",
       " '₹249',\n",
       " '₹179',\n",
       " '₹299',\n",
       " '₹355',\n",
       " '₹325',\n",
       " '₹187',\n",
       " '₹360',\n",
       " '₹449',\n",
       " '₹209']"
      ]
     },
     "execution_count": 18,
     "metadata": {},
     "output_type": "execute_result"
    }
   ],
   "source": [
    "price_detail = []\n",
    "\n",
    "for i in price_tag:\n",
    "    price_detail.append(i.text)\n",
    "len(price_detail)\n",
    "price_detail"
   ]
  },
  {
   "cell_type": "code",
   "execution_count": 33,
   "id": "46da4b25",
   "metadata": {},
   "outputs": [
    {
     "data": {
      "text/plain": [
       "[<selenium.webdriver.remote.webelement.WebElement (session=\"3eca114b02227d12ed510437f473b8d7\", element=\"6e7d7e09-7916-4a65-9b26-59b7317a8c82\")>,\n",
       " <selenium.webdriver.remote.webelement.WebElement (session=\"3eca114b02227d12ed510437f473b8d7\", element=\"22b40759-c7e7-43a8-9019-130e92ff2354\")>,\n",
       " <selenium.webdriver.remote.webelement.WebElement (session=\"3eca114b02227d12ed510437f473b8d7\", element=\"daa50449-44dc-4fda-a604-578eb86c52b0\")>,\n",
       " <selenium.webdriver.remote.webelement.WebElement (session=\"3eca114b02227d12ed510437f473b8d7\", element=\"1c85bd38-f654-41f5-a565-a2b5c631cdd4\")>,\n",
       " <selenium.webdriver.remote.webelement.WebElement (session=\"3eca114b02227d12ed510437f473b8d7\", element=\"4b7c655e-43c0-4458-8323-50785f7eaa6f\")>,\n",
       " <selenium.webdriver.remote.webelement.WebElement (session=\"3eca114b02227d12ed510437f473b8d7\", element=\"949da8e7-7620-4d57-8900-7090c00533f0\")>,\n",
       " <selenium.webdriver.remote.webelement.WebElement (session=\"3eca114b02227d12ed510437f473b8d7\", element=\"7fddf5ff-9ae5-4638-b282-6f4dfc86cd3d\")>,\n",
       " <selenium.webdriver.remote.webelement.WebElement (session=\"3eca114b02227d12ed510437f473b8d7\", element=\"fee6c932-c5b2-4f09-a288-cf685174a4c7\")>,\n",
       " <selenium.webdriver.remote.webelement.WebElement (session=\"3eca114b02227d12ed510437f473b8d7\", element=\"766bb121-8623-4c72-99de-8c462b8a9a2f\")>,\n",
       " <selenium.webdriver.remote.webelement.WebElement (session=\"3eca114b02227d12ed510437f473b8d7\", element=\"beda2622-459d-4094-a52c-9f3549e396d3\")>,\n",
       " <selenium.webdriver.remote.webelement.WebElement (session=\"3eca114b02227d12ed510437f473b8d7\", element=\"08b25c4f-55ae-4115-a0c4-27d1b088b27d\")>,\n",
       " <selenium.webdriver.remote.webelement.WebElement (session=\"3eca114b02227d12ed510437f473b8d7\", element=\"6ec314bd-8a28-4a70-9e82-6bf25f542d41\")>,\n",
       " <selenium.webdriver.remote.webelement.WebElement (session=\"3eca114b02227d12ed510437f473b8d7\", element=\"e8435140-dec0-4e88-a628-b1765fb94216\")>,\n",
       " <selenium.webdriver.remote.webelement.WebElement (session=\"3eca114b02227d12ed510437f473b8d7\", element=\"166f43f1-14a7-4065-b06c-42813f03501c\")>,\n",
       " <selenium.webdriver.remote.webelement.WebElement (session=\"3eca114b02227d12ed510437f473b8d7\", element=\"dd2257fd-7a84-497f-af17-da4444d60253\")>,\n",
       " <selenium.webdriver.remote.webelement.WebElement (session=\"3eca114b02227d12ed510437f473b8d7\", element=\"63ba1edc-de75-4aa3-8c21-18941db94191\")>,\n",
       " <selenium.webdriver.remote.webelement.WebElement (session=\"3eca114b02227d12ed510437f473b8d7\", element=\"4ac05896-4c99-47a8-a1cf-94024fe3875c\")>,\n",
       " <selenium.webdriver.remote.webelement.WebElement (session=\"3eca114b02227d12ed510437f473b8d7\", element=\"f4a38ab7-6e2e-4ead-9120-b9e3674a371e\")>,\n",
       " <selenium.webdriver.remote.webelement.WebElement (session=\"3eca114b02227d12ed510437f473b8d7\", element=\"48cde34a-8508-422a-b1fb-cdcddd4366fa\")>,\n",
       " <selenium.webdriver.remote.webelement.WebElement (session=\"3eca114b02227d12ed510437f473b8d7\", element=\"5f51814b-d65a-42af-a584-9440fe12cfaa\")>,\n",
       " <selenium.webdriver.remote.webelement.WebElement (session=\"3eca114b02227d12ed510437f473b8d7\", element=\"fc85a44a-f67c-44f4-b930-d918073436cb\")>,\n",
       " <selenium.webdriver.remote.webelement.WebElement (session=\"3eca114b02227d12ed510437f473b8d7\", element=\"7faf640e-91dd-40eb-803f-376e25dfb202\")>,\n",
       " <selenium.webdriver.remote.webelement.WebElement (session=\"3eca114b02227d12ed510437f473b8d7\", element=\"5c183e5c-84db-449e-a9af-8cb371f5be26\")>,\n",
       " <selenium.webdriver.remote.webelement.WebElement (session=\"3eca114b02227d12ed510437f473b8d7\", element=\"e2ac6c09-bfd7-4171-b038-de0e7ef13404\")>,\n",
       " <selenium.webdriver.remote.webelement.WebElement (session=\"3eca114b02227d12ed510437f473b8d7\", element=\"88ad8569-31e5-44cb-9cc5-35c1494f6846\")>,\n",
       " <selenium.webdriver.remote.webelement.WebElement (session=\"3eca114b02227d12ed510437f473b8d7\", element=\"ac9f2052-3de0-4b71-9763-b879a9cca4a8\")>,\n",
       " <selenium.webdriver.remote.webelement.WebElement (session=\"3eca114b02227d12ed510437f473b8d7\", element=\"0887389f-0b30-4164-965b-fe95d77485f3\")>,\n",
       " <selenium.webdriver.remote.webelement.WebElement (session=\"3eca114b02227d12ed510437f473b8d7\", element=\"41803cae-00f5-4f6c-845d-0b32f5d9fc4f\")>,\n",
       " <selenium.webdriver.remote.webelement.WebElement (session=\"3eca114b02227d12ed510437f473b8d7\", element=\"e7699dd7-a75e-4cac-a0c2-51ef11044e9f\")>,\n",
       " <selenium.webdriver.remote.webelement.WebElement (session=\"3eca114b02227d12ed510437f473b8d7\", element=\"349cd945-d15c-43a5-a347-4ebf24f25655\")>,\n",
       " <selenium.webdriver.remote.webelement.WebElement (session=\"3eca114b02227d12ed510437f473b8d7\", element=\"c2d45bb9-1f40-4107-bba3-6538d8a6429e\")>,\n",
       " <selenium.webdriver.remote.webelement.WebElement (session=\"3eca114b02227d12ed510437f473b8d7\", element=\"516c60d5-1276-4d27-89bc-85d204979262\")>,\n",
       " <selenium.webdriver.remote.webelement.WebElement (session=\"3eca114b02227d12ed510437f473b8d7\", element=\"d8d1de00-571e-43f5-a425-603af04e5126\")>,\n",
       " <selenium.webdriver.remote.webelement.WebElement (session=\"3eca114b02227d12ed510437f473b8d7\", element=\"a5d08145-85d2-42c8-bb51-471ffdeec8ab\")>,\n",
       " <selenium.webdriver.remote.webelement.WebElement (session=\"3eca114b02227d12ed510437f473b8d7\", element=\"601a54ca-241c-49a7-93e2-5e232e5df8d9\")>,\n",
       " <selenium.webdriver.remote.webelement.WebElement (session=\"3eca114b02227d12ed510437f473b8d7\", element=\"5150936b-af8e-4094-824a-6ab941e29f56\")>,\n",
       " <selenium.webdriver.remote.webelement.WebElement (session=\"3eca114b02227d12ed510437f473b8d7\", element=\"7376c7ed-19b4-416b-85ba-5b36ccdd9450\")>,\n",
       " <selenium.webdriver.remote.webelement.WebElement (session=\"3eca114b02227d12ed510437f473b8d7\", element=\"60e49f2b-68e5-4e4c-95e4-0e43bbc66784\")>,\n",
       " <selenium.webdriver.remote.webelement.WebElement (session=\"3eca114b02227d12ed510437f473b8d7\", element=\"4f038f17-b44f-45bb-86fd-3862ba783f77\")>,\n",
       " <selenium.webdriver.remote.webelement.WebElement (session=\"3eca114b02227d12ed510437f473b8d7\", element=\"67f6810e-357c-4bf2-a664-4707e1947b59\")>]"
      ]
     },
     "execution_count": 33,
     "metadata": {},
     "output_type": "execute_result"
    }
   ],
   "source": [
    "disc_tag = driver.find_elements_by_xpath('//div[@class=\"_3Ay6Sb\"]')\n",
    "len(disc_tag)\n",
    "disc_tag\n"
   ]
  },
  {
   "cell_type": "code",
   "execution_count": 22,
   "id": "c6a3a85f",
   "metadata": {},
   "outputs": [
    {
     "data": {
      "text/plain": [
       "['90% off',\n",
       " '85% off',\n",
       " '87% off',\n",
       " '85% off',\n",
       " '90% off',\n",
       " '15% off',\n",
       " '90% off',\n",
       " '89% off',\n",
       " '78% off',\n",
       " '83% off',\n",
       " '87% off',\n",
       " '87% off',\n",
       " '86% off',\n",
       " '84% off',\n",
       " '87% off',\n",
       " '87% off',\n",
       " '84% off',\n",
       " '82% off',\n",
       " '80% off',\n",
       " '83% off',\n",
       " '81% off',\n",
       " '88% off',\n",
       " '76% off',\n",
       " '50% off',\n",
       " '37% off',\n",
       " '66% off',\n",
       " '85% off',\n",
       " '50% off',\n",
       " '87% off',\n",
       " '84% off',\n",
       " '81% off',\n",
       " '84% off',\n",
       " '88% off',\n",
       " '88% off',\n",
       " '64% off',\n",
       " '89% off',\n",
       " '84% off',\n",
       " '81% off',\n",
       " '70% off',\n",
       " '86% off']"
      ]
     },
     "execution_count": 22,
     "metadata": {},
     "output_type": "execute_result"
    }
   ],
   "source": [
    "disc_detail = []\n",
    "\n",
    "for i in disc_tag:\n",
    "    disc_detail.append(i.text)\n",
    "len(disc_detail)\n",
    "disc_detail"
   ]
  },
  {
   "cell_type": "code",
   "execution_count": 25,
   "id": "bbd28534",
   "metadata": {},
   "outputs": [
    {
     "data": {
      "text/plain": [
       "<selenium.webdriver.remote.webelement.WebElement (session=\"3eca114b02227d12ed510437f473b8d7\", element=\"d6e87bb2-5fb5-40fd-90e8-7028ac97eeaf\")>"
      ]
     },
     "execution_count": 25,
     "metadata": {},
     "output_type": "execute_result"
    }
   ],
   "source": [
    "next_btn = driver.find_element_by_xpath('/html/body/div[1]/div/div[3]/div[1]/div[2]/div[12]/div/div/nav/a[11]/span')\n",
    "next_btn"
   ]
  },
  {
   "cell_type": "code",
   "execution_count": 26,
   "id": "ed3424f8",
   "metadata": {},
   "outputs": [],
   "source": [
    "next_btn.click()"
   ]
  },
  {
   "cell_type": "code",
   "execution_count": 27,
   "id": "ffc12b0b",
   "metadata": {},
   "outputs": [
    {
     "data": {
      "text/plain": [
       "[<selenium.webdriver.remote.webelement.WebElement (session=\"3eca114b02227d12ed510437f473b8d7\", element=\"efe45aea-8a63-499b-bbbd-ec2903a0aa6e\")>,\n",
       " <selenium.webdriver.remote.webelement.WebElement (session=\"3eca114b02227d12ed510437f473b8d7\", element=\"8f352792-4555-4c33-9623-9be083aaafb6\")>,\n",
       " <selenium.webdriver.remote.webelement.WebElement (session=\"3eca114b02227d12ed510437f473b8d7\", element=\"f7b4f684-e942-4098-9b32-f3b87ad3aff0\")>,\n",
       " <selenium.webdriver.remote.webelement.WebElement (session=\"3eca114b02227d12ed510437f473b8d7\", element=\"693ab74b-07b3-4a47-871c-261ce167c8b2\")>,\n",
       " <selenium.webdriver.remote.webelement.WebElement (session=\"3eca114b02227d12ed510437f473b8d7\", element=\"19f8d250-263d-400e-821a-c235c246249c\")>,\n",
       " <selenium.webdriver.remote.webelement.WebElement (session=\"3eca114b02227d12ed510437f473b8d7\", element=\"537b0046-0422-4ef7-8cf8-fe916a8b3106\")>,\n",
       " <selenium.webdriver.remote.webelement.WebElement (session=\"3eca114b02227d12ed510437f473b8d7\", element=\"e890d875-b153-4dc7-862f-380161043965\")>,\n",
       " <selenium.webdriver.remote.webelement.WebElement (session=\"3eca114b02227d12ed510437f473b8d7\", element=\"2aae773d-16da-4fc2-af36-66f7e5a08ac4\")>,\n",
       " <selenium.webdriver.remote.webelement.WebElement (session=\"3eca114b02227d12ed510437f473b8d7\", element=\"7a0575f1-6c8b-4749-94f8-11c3e4d8d6c0\")>,\n",
       " <selenium.webdriver.remote.webelement.WebElement (session=\"3eca114b02227d12ed510437f473b8d7\", element=\"bc31387d-12e4-4fdd-b9cd-7064efeb9a0a\")>,\n",
       " <selenium.webdriver.remote.webelement.WebElement (session=\"3eca114b02227d12ed510437f473b8d7\", element=\"2da6e9d7-59fd-47a8-ad87-69d8bf189f31\")>,\n",
       " <selenium.webdriver.remote.webelement.WebElement (session=\"3eca114b02227d12ed510437f473b8d7\", element=\"fb08e380-c143-4428-9b5a-55e21ff27760\")>,\n",
       " <selenium.webdriver.remote.webelement.WebElement (session=\"3eca114b02227d12ed510437f473b8d7\", element=\"e94c180a-bb45-48ed-86e2-09e28b4cf8be\")>,\n",
       " <selenium.webdriver.remote.webelement.WebElement (session=\"3eca114b02227d12ed510437f473b8d7\", element=\"8cf54270-4237-4d0c-a418-4153de81b0e8\")>,\n",
       " <selenium.webdriver.remote.webelement.WebElement (session=\"3eca114b02227d12ed510437f473b8d7\", element=\"56e0ed60-84d3-4a05-bd83-4f297e67e6b9\")>,\n",
       " <selenium.webdriver.remote.webelement.WebElement (session=\"3eca114b02227d12ed510437f473b8d7\", element=\"ed24a0e0-c6cc-42ba-9603-c00d535536c8\")>,\n",
       " <selenium.webdriver.remote.webelement.WebElement (session=\"3eca114b02227d12ed510437f473b8d7\", element=\"e260acd6-7513-4332-ad6d-cfc6744b9dbd\")>,\n",
       " <selenium.webdriver.remote.webelement.WebElement (session=\"3eca114b02227d12ed510437f473b8d7\", element=\"5b79cc0d-657a-4964-b188-97a23e3f081a\")>,\n",
       " <selenium.webdriver.remote.webelement.WebElement (session=\"3eca114b02227d12ed510437f473b8d7\", element=\"3dec3937-a6c6-4548-8125-24bc21d835f1\")>,\n",
       " <selenium.webdriver.remote.webelement.WebElement (session=\"3eca114b02227d12ed510437f473b8d7\", element=\"0363833c-8d66-4982-abac-4543b7fcb849\")>,\n",
       " <selenium.webdriver.remote.webelement.WebElement (session=\"3eca114b02227d12ed510437f473b8d7\", element=\"c8c92a93-4085-4fe1-8434-97e70f8f28e1\")>,\n",
       " <selenium.webdriver.remote.webelement.WebElement (session=\"3eca114b02227d12ed510437f473b8d7\", element=\"3188a5f7-2016-4087-a02a-e863e38a40a2\")>,\n",
       " <selenium.webdriver.remote.webelement.WebElement (session=\"3eca114b02227d12ed510437f473b8d7\", element=\"62b18650-f4b3-40a0-9f76-636b014a9c8a\")>,\n",
       " <selenium.webdriver.remote.webelement.WebElement (session=\"3eca114b02227d12ed510437f473b8d7\", element=\"2eb6ea63-7ff9-4dc9-a5fd-444c43bbcad8\")>,\n",
       " <selenium.webdriver.remote.webelement.WebElement (session=\"3eca114b02227d12ed510437f473b8d7\", element=\"3681d714-cb9e-49ea-a569-5bda846f385b\")>,\n",
       " <selenium.webdriver.remote.webelement.WebElement (session=\"3eca114b02227d12ed510437f473b8d7\", element=\"ce146e83-bc51-4afc-856a-eecaea51fd8c\")>,\n",
       " <selenium.webdriver.remote.webelement.WebElement (session=\"3eca114b02227d12ed510437f473b8d7\", element=\"93c07485-1371-4627-b676-d12c8647d94c\")>,\n",
       " <selenium.webdriver.remote.webelement.WebElement (session=\"3eca114b02227d12ed510437f473b8d7\", element=\"495429e4-0f67-44df-be2e-0b4a79c7266a\")>,\n",
       " <selenium.webdriver.remote.webelement.WebElement (session=\"3eca114b02227d12ed510437f473b8d7\", element=\"3eb538d0-fcfc-40a4-a5ae-0007f34c6522\")>,\n",
       " <selenium.webdriver.remote.webelement.WebElement (session=\"3eca114b02227d12ed510437f473b8d7\", element=\"1ba7b87d-f3c3-4005-aa33-8e7e7ea16101\")>,\n",
       " <selenium.webdriver.remote.webelement.WebElement (session=\"3eca114b02227d12ed510437f473b8d7\", element=\"a6cf7ea5-51c5-4c85-ba78-22ee19d43eae\")>,\n",
       " <selenium.webdriver.remote.webelement.WebElement (session=\"3eca114b02227d12ed510437f473b8d7\", element=\"fe67bf6e-f2ee-4bdb-a82e-fb479822bd42\")>,\n",
       " <selenium.webdriver.remote.webelement.WebElement (session=\"3eca114b02227d12ed510437f473b8d7\", element=\"f0156021-002a-4416-a5d7-7c56ec748f19\")>,\n",
       " <selenium.webdriver.remote.webelement.WebElement (session=\"3eca114b02227d12ed510437f473b8d7\", element=\"86ed2693-c6a0-4396-8c06-72c00833dbcd\")>,\n",
       " <selenium.webdriver.remote.webelement.WebElement (session=\"3eca114b02227d12ed510437f473b8d7\", element=\"de71adfb-5ca2-492f-badc-97a82a53c41a\")>,\n",
       " <selenium.webdriver.remote.webelement.WebElement (session=\"3eca114b02227d12ed510437f473b8d7\", element=\"db6dce82-75e7-4a2d-81b0-0e3a7e5389a7\")>,\n",
       " <selenium.webdriver.remote.webelement.WebElement (session=\"3eca114b02227d12ed510437f473b8d7\", element=\"b46daaa3-9c2d-44e4-aaf0-908f921a17a6\")>,\n",
       " <selenium.webdriver.remote.webelement.WebElement (session=\"3eca114b02227d12ed510437f473b8d7\", element=\"c2787121-7153-4adf-b18f-f3daaae378f2\")>,\n",
       " <selenium.webdriver.remote.webelement.WebElement (session=\"3eca114b02227d12ed510437f473b8d7\", element=\"85bb3b53-eb30-44cc-bcf5-b1b66acc27a4\")>,\n",
       " <selenium.webdriver.remote.webelement.WebElement (session=\"3eca114b02227d12ed510437f473b8d7\", element=\"6fb7f800-3ac7-4d27-a3d4-d4bd095aa49e\")>]"
      ]
     },
     "execution_count": 27,
     "metadata": {},
     "output_type": "execute_result"
    }
   ],
   "source": [
    "brand_tags = driver.find_elements_by_xpath('//div[@class=\"_2WkVRV\"]')\n",
    "len(brand_tags)\n",
    "brand_tags"
   ]
  },
  {
   "cell_type": "code",
   "execution_count": 28,
   "id": "551c248e",
   "metadata": {},
   "outputs": [
    {
     "data": {
      "text/plain": [
       "['kingsunglasses',\n",
       " 'Lee Topper',\n",
       " 'ROZZETTA CRAFT',\n",
       " 'PIRASO',\n",
       " 'agera',\n",
       " 'Rich Club',\n",
       " 'Johaena',\n",
       " 'PIRASO',\n",
       " 'PHENOMENAL',\n",
       " 'kingsunglasses',\n",
       " 'PHENOMENAL',\n",
       " 'PIRASO',\n",
       " 'PIRASO',\n",
       " 'DEIXELS',\n",
       " 'ROYAL SON',\n",
       " 'PIRASO',\n",
       " 'Elligator',\n",
       " 'kingsunglasses',\n",
       " 'Elligator',\n",
       " 'PIRASO',\n",
       " 'Singco India',\n",
       " 'Silver Kartz',\n",
       " 'Singco India',\n",
       " 'PIRASO',\n",
       " 'hipe',\n",
       " 'SUNBEE',\n",
       " 'kingsunglasses',\n",
       " 'PIRASO',\n",
       " 'New Specs',\n",
       " 'Fastrack',\n",
       " 'Elligator',\n",
       " 'VINCENT CHASE',\n",
       " 'Fastrack',\n",
       " 'ROYAL SON',\n",
       " 'PIRASO',\n",
       " 'VINCENT CHASE',\n",
       " 'kingsunglasses',\n",
       " 'hipe',\n",
       " 'ROZZETTA CRAFT',\n",
       " 'VILLAIN']"
      ]
     },
     "execution_count": 28,
     "metadata": {},
     "output_type": "execute_result"
    }
   ],
   "source": [
    "brand_name = []\n",
    "\n",
    "for i in brand_tags:\n",
    "    brand_name.append(i.text)\n",
    "len(brand_name)\n",
    "brand_name"
   ]
  },
  {
   "cell_type": "code",
   "execution_count": 29,
   "id": "efd628ae",
   "metadata": {},
   "outputs": [
    {
     "data": {
      "text/plain": [
       "[<selenium.webdriver.remote.webelement.WebElement (session=\"3eca114b02227d12ed510437f473b8d7\", element=\"e0fe7035-12e4-410c-84e2-81d4524c4150\")>,\n",
       " <selenium.webdriver.remote.webelement.WebElement (session=\"3eca114b02227d12ed510437f473b8d7\", element=\"3557aa8d-e8ad-4581-922d-c2612b3a8869\")>,\n",
       " <selenium.webdriver.remote.webelement.WebElement (session=\"3eca114b02227d12ed510437f473b8d7\", element=\"a0e7c1a9-0085-467a-9532-78dc4a4a0934\")>,\n",
       " <selenium.webdriver.remote.webelement.WebElement (session=\"3eca114b02227d12ed510437f473b8d7\", element=\"f5acb81e-6ee0-4fb7-bff1-5cf429ad3db8\")>,\n",
       " <selenium.webdriver.remote.webelement.WebElement (session=\"3eca114b02227d12ed510437f473b8d7\", element=\"5f4b13bc-e475-481e-8258-6428b4d0bed6\")>,\n",
       " <selenium.webdriver.remote.webelement.WebElement (session=\"3eca114b02227d12ed510437f473b8d7\", element=\"8231cd1c-6952-41e3-a40d-4056771843cf\")>,\n",
       " <selenium.webdriver.remote.webelement.WebElement (session=\"3eca114b02227d12ed510437f473b8d7\", element=\"e6b0cf7b-6a05-4678-ba7b-a37f7b528bcb\")>,\n",
       " <selenium.webdriver.remote.webelement.WebElement (session=\"3eca114b02227d12ed510437f473b8d7\", element=\"b01c7a06-1b88-4441-9a4e-6de68b6e6988\")>,\n",
       " <selenium.webdriver.remote.webelement.WebElement (session=\"3eca114b02227d12ed510437f473b8d7\", element=\"dd2c13bc-78cd-480e-9819-4c3b722633cc\")>,\n",
       " <selenium.webdriver.remote.webelement.WebElement (session=\"3eca114b02227d12ed510437f473b8d7\", element=\"8f2061d0-d6b0-4028-b265-6d1f32423985\")>,\n",
       " <selenium.webdriver.remote.webelement.WebElement (session=\"3eca114b02227d12ed510437f473b8d7\", element=\"a9b18859-c8a1-4488-9b8a-58776adf7380\")>,\n",
       " <selenium.webdriver.remote.webelement.WebElement (session=\"3eca114b02227d12ed510437f473b8d7\", element=\"96145050-3253-4bc1-bace-b4941761e4b2\")>,\n",
       " <selenium.webdriver.remote.webelement.WebElement (session=\"3eca114b02227d12ed510437f473b8d7\", element=\"e7340f71-e01a-493c-b8d0-eef672848257\")>,\n",
       " <selenium.webdriver.remote.webelement.WebElement (session=\"3eca114b02227d12ed510437f473b8d7\", element=\"ad22e8ee-cdef-4714-ba23-76584705f3d1\")>,\n",
       " <selenium.webdriver.remote.webelement.WebElement (session=\"3eca114b02227d12ed510437f473b8d7\", element=\"cbbb6b05-75c6-4425-b853-d77f06145ae6\")>,\n",
       " <selenium.webdriver.remote.webelement.WebElement (session=\"3eca114b02227d12ed510437f473b8d7\", element=\"ca8a5915-eb83-4575-a203-1c39924afe32\")>,\n",
       " <selenium.webdriver.remote.webelement.WebElement (session=\"3eca114b02227d12ed510437f473b8d7\", element=\"a2efc5b8-5c1f-4297-83e6-454f01fd6042\")>,\n",
       " <selenium.webdriver.remote.webelement.WebElement (session=\"3eca114b02227d12ed510437f473b8d7\", element=\"f76791b9-7af0-4519-a2f7-3f6bb94a57f7\")>,\n",
       " <selenium.webdriver.remote.webelement.WebElement (session=\"3eca114b02227d12ed510437f473b8d7\", element=\"5e347b65-d062-4e10-9574-51da4cd815e3\")>,\n",
       " <selenium.webdriver.remote.webelement.WebElement (session=\"3eca114b02227d12ed510437f473b8d7\", element=\"6285ca58-a9b4-4488-924d-f0ecfb89c2bf\")>,\n",
       " <selenium.webdriver.remote.webelement.WebElement (session=\"3eca114b02227d12ed510437f473b8d7\", element=\"01c2e940-40f8-4e43-9abd-3e7716882b95\")>,\n",
       " <selenium.webdriver.remote.webelement.WebElement (session=\"3eca114b02227d12ed510437f473b8d7\", element=\"ebdc6aeb-7844-4476-830e-0534db1e71c8\")>,\n",
       " <selenium.webdriver.remote.webelement.WebElement (session=\"3eca114b02227d12ed510437f473b8d7\", element=\"4e5552ed-961c-44e9-924c-1c8b35118ca5\")>,\n",
       " <selenium.webdriver.remote.webelement.WebElement (session=\"3eca114b02227d12ed510437f473b8d7\", element=\"1071bb9c-0c41-4af1-8e27-af4d18803e0c\")>,\n",
       " <selenium.webdriver.remote.webelement.WebElement (session=\"3eca114b02227d12ed510437f473b8d7\", element=\"4e7b697f-778b-4e4d-aa83-eee3ea38ab65\")>,\n",
       " <selenium.webdriver.remote.webelement.WebElement (session=\"3eca114b02227d12ed510437f473b8d7\", element=\"31919240-8355-4617-9d5a-522df90eeeba\")>,\n",
       " <selenium.webdriver.remote.webelement.WebElement (session=\"3eca114b02227d12ed510437f473b8d7\", element=\"3fe41ab0-bbf2-423d-9c4b-4b5eff254dc9\")>,\n",
       " <selenium.webdriver.remote.webelement.WebElement (session=\"3eca114b02227d12ed510437f473b8d7\", element=\"616286cd-f4df-496e-ad27-babd6ecb48b4\")>,\n",
       " <selenium.webdriver.remote.webelement.WebElement (session=\"3eca114b02227d12ed510437f473b8d7\", element=\"1e9a3b55-5495-4cbd-a232-4ed8546fe16c\")>,\n",
       " <selenium.webdriver.remote.webelement.WebElement (session=\"3eca114b02227d12ed510437f473b8d7\", element=\"f836f6ef-19a9-4b5f-94e7-b5f2f571017d\")>,\n",
       " <selenium.webdriver.remote.webelement.WebElement (session=\"3eca114b02227d12ed510437f473b8d7\", element=\"e51cf0a4-a241-405e-8d41-b8118accd6dc\")>,\n",
       " <selenium.webdriver.remote.webelement.WebElement (session=\"3eca114b02227d12ed510437f473b8d7\", element=\"f67a3176-22bd-4fa6-b2dd-8234df791ce5\")>,\n",
       " <selenium.webdriver.remote.webelement.WebElement (session=\"3eca114b02227d12ed510437f473b8d7\", element=\"a9ba5da3-f987-4f52-a99b-dd961887f082\")>,\n",
       " <selenium.webdriver.remote.webelement.WebElement (session=\"3eca114b02227d12ed510437f473b8d7\", element=\"b98cdc6f-1578-45e6-986b-e8614041bcad\")>,\n",
       " <selenium.webdriver.remote.webelement.WebElement (session=\"3eca114b02227d12ed510437f473b8d7\", element=\"3818df5d-45cd-4465-a8d0-e9fa03b61978\")>,\n",
       " <selenium.webdriver.remote.webelement.WebElement (session=\"3eca114b02227d12ed510437f473b8d7\", element=\"98ab2222-e22d-4359-8bac-4696ab7a37f5\")>,\n",
       " <selenium.webdriver.remote.webelement.WebElement (session=\"3eca114b02227d12ed510437f473b8d7\", element=\"3246149e-0ff3-4a05-adf0-17e2d335cc19\")>,\n",
       " <selenium.webdriver.remote.webelement.WebElement (session=\"3eca114b02227d12ed510437f473b8d7\", element=\"0ec2673e-6e57-4056-a3d6-02b0f7968b81\")>,\n",
       " <selenium.webdriver.remote.webelement.WebElement (session=\"3eca114b02227d12ed510437f473b8d7\", element=\"f5d44d7c-ec1f-49f1-a31d-305986973f7c\")>,\n",
       " <selenium.webdriver.remote.webelement.WebElement (session=\"3eca114b02227d12ed510437f473b8d7\", element=\"95bcfcff-14e8-4851-835c-00ec3a5ba1fb\")>]"
      ]
     },
     "execution_count": 29,
     "metadata": {},
     "output_type": "execute_result"
    }
   ],
   "source": [
    "prod_desc = driver.find_elements_by_xpath('//a[@class=\"IRpwTa\"]')\n",
    "len(prod_desc)\n",
    "prod_desc"
   ]
  },
  {
   "cell_type": "code",
   "execution_count": 30,
   "id": "72fa6372",
   "metadata": {},
   "outputs": [
    {
     "data": {
      "text/plain": [
       "['UV Protection, Riding Glasses, Mirrored Wayfarer Sungla...',\n",
       " 'Riding Glasses, Night Vision Wrap-around Sunglasses (Fr...',\n",
       " 'UV Protection, Gradient Round Sunglasses (Free Size)',\n",
       " 'UV Protection Rectangular Sunglasses (Free Size)',\n",
       " 'Gradient Aviator Sunglasses (55)',\n",
       " 'Polarized Round Sunglasses (48)',\n",
       " 'Riding Glasses, UV Protection Oval Sunglasses (48)',\n",
       " 'UV Protection Aviator Sunglasses (55)',\n",
       " 'UV Protection, Mirrored Retro Square Sunglasses (53)',\n",
       " 'UV Protection, Night Vision Wayfarer Sunglasses (Free S...',\n",
       " 'UV Protection, Mirrored Clubmaster Sunglasses (Free Siz...',\n",
       " 'UV Protection Round Sunglasses (Free Size)',\n",
       " 'UV Protection Butterfly Sunglasses (65)',\n",
       " 'UV Protection Aviator, Wayfarer Sunglasses (Free Size)',\n",
       " 'Mirrored Aviator Sunglasses (Free Size)',\n",
       " 'UV Protection Retro Square Sunglasses (Free Size)',\n",
       " 'UV Protection Round Sunglasses (54)',\n",
       " 'UV Protection Round Sunglasses (Free Size)',\n",
       " 'UV Protection Round Sunglasses (55)',\n",
       " 'UV Protection Aviator Sunglasses (54)',\n",
       " 'Riding Glasses, UV Protection, Others Aviator Sunglasse...',\n",
       " 'UV Protection Wayfarer Sunglasses (Free Size)',\n",
       " 'UV Protection, Riding Glasses, Others Aviator, Wayfarer...',\n",
       " 'UV Protection Round Sunglasses (Free Size)',\n",
       " 'Mirrored, Gradient, UV Protection Aviator Sunglasses (5...',\n",
       " 'UV Protection, Polarized, Mirrored Wayfarer Sunglasses ...',\n",
       " 'UV Protection, Mirrored Aviator Sunglasses (Free Size)',\n",
       " 'UV Protection Aviator Sunglasses (54)',\n",
       " 'UV Protection Round Sunglasses (Free Size)',\n",
       " 'UV Protection Aviator Sunglasses (Free Size)',\n",
       " 'UV Protection Retro Square, Round Sunglasses (54)',\n",
       " 'by Lenskart UV Protection Aviator Sunglasses (53)',\n",
       " 'UV Protection Wayfarer Sunglasses (55)',\n",
       " 'Mirrored Aviator Sunglasses (55)',\n",
       " 'UV Protection Aviator Sunglasses (Free Size)',\n",
       " 'by Lenskart UV Protection Aviator Sunglasses (Free Size...',\n",
       " 'UV Protection Rectangular Sunglasses (Free Size)',\n",
       " 'UV Protection, Gradient, Mirrored, Riding Glasses Aviat...',\n",
       " 'Mirrored, UV Protection Round Sunglasses (Free Size)',\n",
       " 'Others Wayfarer Sunglasses (Free Size)']"
      ]
     },
     "execution_count": 30,
     "metadata": {},
     "output_type": "execute_result"
    }
   ],
   "source": [
    "product_des = []\n",
    "\n",
    "for i in prod_desc:\n",
    "    product_des.append(i.text)\n",
    "len(product_des)\n",
    "product_des"
   ]
  },
  {
   "cell_type": "code",
   "execution_count": 31,
   "id": "7e57adcd",
   "metadata": {},
   "outputs": [
    {
     "data": {
      "text/plain": [
       "[<selenium.webdriver.remote.webelement.WebElement (session=\"3eca114b02227d12ed510437f473b8d7\", element=\"da6c33d1-1d47-4aed-8943-8518c2a180f2\")>,\n",
       " <selenium.webdriver.remote.webelement.WebElement (session=\"3eca114b02227d12ed510437f473b8d7\", element=\"14850a3b-ea54-474d-a97d-55eeaf1ae5df\")>,\n",
       " <selenium.webdriver.remote.webelement.WebElement (session=\"3eca114b02227d12ed510437f473b8d7\", element=\"a6d49e39-cdd6-47bf-b816-2eff0716c8ed\")>,\n",
       " <selenium.webdriver.remote.webelement.WebElement (session=\"3eca114b02227d12ed510437f473b8d7\", element=\"2db39dae-9e75-454c-b242-f0a5a24c0474\")>,\n",
       " <selenium.webdriver.remote.webelement.WebElement (session=\"3eca114b02227d12ed510437f473b8d7\", element=\"be2fa5d3-9a0f-4c3c-997b-bf3093b2f669\")>,\n",
       " <selenium.webdriver.remote.webelement.WebElement (session=\"3eca114b02227d12ed510437f473b8d7\", element=\"55f5c0a2-2ba4-477e-81ce-e6870d27a9e1\")>,\n",
       " <selenium.webdriver.remote.webelement.WebElement (session=\"3eca114b02227d12ed510437f473b8d7\", element=\"d06ad53b-b8d5-416e-8ff4-eb648e1b977d\")>,\n",
       " <selenium.webdriver.remote.webelement.WebElement (session=\"3eca114b02227d12ed510437f473b8d7\", element=\"e75b22b4-6e17-4dbf-b77f-2076f8faecef\")>,\n",
       " <selenium.webdriver.remote.webelement.WebElement (session=\"3eca114b02227d12ed510437f473b8d7\", element=\"5b5b3c5f-f40a-4d2d-8115-5c78dd9a6210\")>,\n",
       " <selenium.webdriver.remote.webelement.WebElement (session=\"3eca114b02227d12ed510437f473b8d7\", element=\"807a852d-046f-4c68-b909-7625c6046a17\")>,\n",
       " <selenium.webdriver.remote.webelement.WebElement (session=\"3eca114b02227d12ed510437f473b8d7\", element=\"29d573c3-22cd-4f3b-8a34-cf0b159f2912\")>,\n",
       " <selenium.webdriver.remote.webelement.WebElement (session=\"3eca114b02227d12ed510437f473b8d7\", element=\"53020a75-390b-4266-b617-42eff5663a00\")>,\n",
       " <selenium.webdriver.remote.webelement.WebElement (session=\"3eca114b02227d12ed510437f473b8d7\", element=\"417e227f-9500-480d-9c67-cd9cd14d8be4\")>,\n",
       " <selenium.webdriver.remote.webelement.WebElement (session=\"3eca114b02227d12ed510437f473b8d7\", element=\"dd038a3b-f6ba-47da-916c-f531bad5445c\")>,\n",
       " <selenium.webdriver.remote.webelement.WebElement (session=\"3eca114b02227d12ed510437f473b8d7\", element=\"99a9a20a-5129-4aea-baa2-d455c146f688\")>,\n",
       " <selenium.webdriver.remote.webelement.WebElement (session=\"3eca114b02227d12ed510437f473b8d7\", element=\"c4975d43-21fe-4127-aa62-1bae330c4199\")>,\n",
       " <selenium.webdriver.remote.webelement.WebElement (session=\"3eca114b02227d12ed510437f473b8d7\", element=\"212f2e03-12a9-44a0-9333-3881596d7bfe\")>,\n",
       " <selenium.webdriver.remote.webelement.WebElement (session=\"3eca114b02227d12ed510437f473b8d7\", element=\"73e584b1-7532-4725-b748-6f65e583cdf3\")>,\n",
       " <selenium.webdriver.remote.webelement.WebElement (session=\"3eca114b02227d12ed510437f473b8d7\", element=\"cef427d5-3e85-481b-85ab-c79a6e720d7c\")>,\n",
       " <selenium.webdriver.remote.webelement.WebElement (session=\"3eca114b02227d12ed510437f473b8d7\", element=\"4d843b3c-5de1-426f-9ba3-15a07b6f2465\")>,\n",
       " <selenium.webdriver.remote.webelement.WebElement (session=\"3eca114b02227d12ed510437f473b8d7\", element=\"7294a9f4-8bf2-4a9a-9fc6-9497f13d908b\")>,\n",
       " <selenium.webdriver.remote.webelement.WebElement (session=\"3eca114b02227d12ed510437f473b8d7\", element=\"0c0dd385-308b-46b9-aae3-b8a83ed48a0c\")>,\n",
       " <selenium.webdriver.remote.webelement.WebElement (session=\"3eca114b02227d12ed510437f473b8d7\", element=\"7c1f6324-02d6-4caf-bdda-a73f51ab4cda\")>,\n",
       " <selenium.webdriver.remote.webelement.WebElement (session=\"3eca114b02227d12ed510437f473b8d7\", element=\"1b3acf72-ee4b-47f4-94bc-e992bdbabe35\")>,\n",
       " <selenium.webdriver.remote.webelement.WebElement (session=\"3eca114b02227d12ed510437f473b8d7\", element=\"7be6ec3b-77c4-45db-81a3-64b01cf52e21\")>,\n",
       " <selenium.webdriver.remote.webelement.WebElement (session=\"3eca114b02227d12ed510437f473b8d7\", element=\"e5ce5354-6236-4c1c-a844-c592c735323c\")>,\n",
       " <selenium.webdriver.remote.webelement.WebElement (session=\"3eca114b02227d12ed510437f473b8d7\", element=\"b564faa0-9f36-49d5-be47-aa1d3dc8033a\")>,\n",
       " <selenium.webdriver.remote.webelement.WebElement (session=\"3eca114b02227d12ed510437f473b8d7\", element=\"0251b573-d16c-4220-bca2-76e0a689881f\")>,\n",
       " <selenium.webdriver.remote.webelement.WebElement (session=\"3eca114b02227d12ed510437f473b8d7\", element=\"e41b0f72-3b93-4901-b41e-0a486ef3aa68\")>,\n",
       " <selenium.webdriver.remote.webelement.WebElement (session=\"3eca114b02227d12ed510437f473b8d7\", element=\"db0c1679-ad6c-4322-b7ca-1503ad0d21d1\")>,\n",
       " <selenium.webdriver.remote.webelement.WebElement (session=\"3eca114b02227d12ed510437f473b8d7\", element=\"a6614b45-f5a9-4b7b-a81f-6f7a0e76582a\")>,\n",
       " <selenium.webdriver.remote.webelement.WebElement (session=\"3eca114b02227d12ed510437f473b8d7\", element=\"ad112b76-378d-4a5d-925e-4690bfd788ba\")>,\n",
       " <selenium.webdriver.remote.webelement.WebElement (session=\"3eca114b02227d12ed510437f473b8d7\", element=\"bc7f8715-7d50-4ba7-9628-27a627f778a7\")>,\n",
       " <selenium.webdriver.remote.webelement.WebElement (session=\"3eca114b02227d12ed510437f473b8d7\", element=\"7921b156-d257-4335-b621-64eab8b286cc\")>,\n",
       " <selenium.webdriver.remote.webelement.WebElement (session=\"3eca114b02227d12ed510437f473b8d7\", element=\"f3f022cd-387f-42d2-94f4-40efc82b3f8d\")>,\n",
       " <selenium.webdriver.remote.webelement.WebElement (session=\"3eca114b02227d12ed510437f473b8d7\", element=\"ce37af25-5bc1-4359-b943-f75b98e1f512\")>,\n",
       " <selenium.webdriver.remote.webelement.WebElement (session=\"3eca114b02227d12ed510437f473b8d7\", element=\"7972e261-ed61-45ff-8a08-f3396bdc95fc\")>,\n",
       " <selenium.webdriver.remote.webelement.WebElement (session=\"3eca114b02227d12ed510437f473b8d7\", element=\"caededa4-56ec-4d55-a4b7-c83f452b2517\")>,\n",
       " <selenium.webdriver.remote.webelement.WebElement (session=\"3eca114b02227d12ed510437f473b8d7\", element=\"9d14d316-1028-4623-a63d-516e7c98631d\")>,\n",
       " <selenium.webdriver.remote.webelement.WebElement (session=\"3eca114b02227d12ed510437f473b8d7\", element=\"87e47386-70ba-434a-8bc4-33b7ddf1e86d\")>]"
      ]
     },
     "execution_count": 31,
     "metadata": {},
     "output_type": "execute_result"
    }
   ],
   "source": [
    "price_tag = driver.find_elements_by_xpath('//div[@class=\"_30jeq3\"]')\n",
    "len(price_tag)\n",
    "price_tag"
   ]
  },
  {
   "cell_type": "code",
   "execution_count": 32,
   "id": "41c810b4",
   "metadata": {},
   "outputs": [
    {
     "data": {
      "text/plain": [
       "['₹187',\n",
       " '₹276',\n",
       " '₹360',\n",
       " '₹254',\n",
       " '₹196',\n",
       " '₹163',\n",
       " '₹156',\n",
       " '₹225',\n",
       " '₹299',\n",
       " '₹273',\n",
       " '₹287',\n",
       " '₹171',\n",
       " '₹349',\n",
       " '₹229',\n",
       " '₹359',\n",
       " '₹329',\n",
       " '₹265',\n",
       " '₹289',\n",
       " '₹239',\n",
       " '₹200',\n",
       " '₹201',\n",
       " '₹246',\n",
       " '₹203',\n",
       " '₹336',\n",
       " '₹178',\n",
       " '₹276',\n",
       " '₹235',\n",
       " '₹200',\n",
       " '₹233',\n",
       " '₹639',\n",
       " '₹291',\n",
       " '₹999',\n",
       " '₹549',\n",
       " '₹359',\n",
       " '₹261',\n",
       " '₹999',\n",
       " '₹192',\n",
       " '₹209',\n",
       " '₹360',\n",
       " '₹522']"
      ]
     },
     "execution_count": 32,
     "metadata": {},
     "output_type": "execute_result"
    }
   ],
   "source": [
    "price_detail = []\n",
    "\n",
    "for i in price_tag:\n",
    "    price_detail.append(i.text)\n",
    "len(price_detail)\n",
    "price_detail"
   ]
  },
  {
   "cell_type": "code",
   "execution_count": 34,
   "id": "1a2366d2",
   "metadata": {},
   "outputs": [
    {
     "data": {
      "text/plain": [
       "[<selenium.webdriver.remote.webelement.WebElement (session=\"3eca114b02227d12ed510437f473b8d7\", element=\"6e7d7e09-7916-4a65-9b26-59b7317a8c82\")>,\n",
       " <selenium.webdriver.remote.webelement.WebElement (session=\"3eca114b02227d12ed510437f473b8d7\", element=\"22b40759-c7e7-43a8-9019-130e92ff2354\")>,\n",
       " <selenium.webdriver.remote.webelement.WebElement (session=\"3eca114b02227d12ed510437f473b8d7\", element=\"daa50449-44dc-4fda-a604-578eb86c52b0\")>,\n",
       " <selenium.webdriver.remote.webelement.WebElement (session=\"3eca114b02227d12ed510437f473b8d7\", element=\"1c85bd38-f654-41f5-a565-a2b5c631cdd4\")>,\n",
       " <selenium.webdriver.remote.webelement.WebElement (session=\"3eca114b02227d12ed510437f473b8d7\", element=\"4b7c655e-43c0-4458-8323-50785f7eaa6f\")>,\n",
       " <selenium.webdriver.remote.webelement.WebElement (session=\"3eca114b02227d12ed510437f473b8d7\", element=\"949da8e7-7620-4d57-8900-7090c00533f0\")>,\n",
       " <selenium.webdriver.remote.webelement.WebElement (session=\"3eca114b02227d12ed510437f473b8d7\", element=\"7fddf5ff-9ae5-4638-b282-6f4dfc86cd3d\")>,\n",
       " <selenium.webdriver.remote.webelement.WebElement (session=\"3eca114b02227d12ed510437f473b8d7\", element=\"fee6c932-c5b2-4f09-a288-cf685174a4c7\")>,\n",
       " <selenium.webdriver.remote.webelement.WebElement (session=\"3eca114b02227d12ed510437f473b8d7\", element=\"766bb121-8623-4c72-99de-8c462b8a9a2f\")>,\n",
       " <selenium.webdriver.remote.webelement.WebElement (session=\"3eca114b02227d12ed510437f473b8d7\", element=\"beda2622-459d-4094-a52c-9f3549e396d3\")>,\n",
       " <selenium.webdriver.remote.webelement.WebElement (session=\"3eca114b02227d12ed510437f473b8d7\", element=\"08b25c4f-55ae-4115-a0c4-27d1b088b27d\")>,\n",
       " <selenium.webdriver.remote.webelement.WebElement (session=\"3eca114b02227d12ed510437f473b8d7\", element=\"6ec314bd-8a28-4a70-9e82-6bf25f542d41\")>,\n",
       " <selenium.webdriver.remote.webelement.WebElement (session=\"3eca114b02227d12ed510437f473b8d7\", element=\"e8435140-dec0-4e88-a628-b1765fb94216\")>,\n",
       " <selenium.webdriver.remote.webelement.WebElement (session=\"3eca114b02227d12ed510437f473b8d7\", element=\"166f43f1-14a7-4065-b06c-42813f03501c\")>,\n",
       " <selenium.webdriver.remote.webelement.WebElement (session=\"3eca114b02227d12ed510437f473b8d7\", element=\"dd2257fd-7a84-497f-af17-da4444d60253\")>,\n",
       " <selenium.webdriver.remote.webelement.WebElement (session=\"3eca114b02227d12ed510437f473b8d7\", element=\"63ba1edc-de75-4aa3-8c21-18941db94191\")>,\n",
       " <selenium.webdriver.remote.webelement.WebElement (session=\"3eca114b02227d12ed510437f473b8d7\", element=\"4ac05896-4c99-47a8-a1cf-94024fe3875c\")>,\n",
       " <selenium.webdriver.remote.webelement.WebElement (session=\"3eca114b02227d12ed510437f473b8d7\", element=\"f4a38ab7-6e2e-4ead-9120-b9e3674a371e\")>,\n",
       " <selenium.webdriver.remote.webelement.WebElement (session=\"3eca114b02227d12ed510437f473b8d7\", element=\"48cde34a-8508-422a-b1fb-cdcddd4366fa\")>,\n",
       " <selenium.webdriver.remote.webelement.WebElement (session=\"3eca114b02227d12ed510437f473b8d7\", element=\"5f51814b-d65a-42af-a584-9440fe12cfaa\")>,\n",
       " <selenium.webdriver.remote.webelement.WebElement (session=\"3eca114b02227d12ed510437f473b8d7\", element=\"fc85a44a-f67c-44f4-b930-d918073436cb\")>,\n",
       " <selenium.webdriver.remote.webelement.WebElement (session=\"3eca114b02227d12ed510437f473b8d7\", element=\"7faf640e-91dd-40eb-803f-376e25dfb202\")>,\n",
       " <selenium.webdriver.remote.webelement.WebElement (session=\"3eca114b02227d12ed510437f473b8d7\", element=\"5c183e5c-84db-449e-a9af-8cb371f5be26\")>,\n",
       " <selenium.webdriver.remote.webelement.WebElement (session=\"3eca114b02227d12ed510437f473b8d7\", element=\"e2ac6c09-bfd7-4171-b038-de0e7ef13404\")>,\n",
       " <selenium.webdriver.remote.webelement.WebElement (session=\"3eca114b02227d12ed510437f473b8d7\", element=\"88ad8569-31e5-44cb-9cc5-35c1494f6846\")>,\n",
       " <selenium.webdriver.remote.webelement.WebElement (session=\"3eca114b02227d12ed510437f473b8d7\", element=\"ac9f2052-3de0-4b71-9763-b879a9cca4a8\")>,\n",
       " <selenium.webdriver.remote.webelement.WebElement (session=\"3eca114b02227d12ed510437f473b8d7\", element=\"0887389f-0b30-4164-965b-fe95d77485f3\")>,\n",
       " <selenium.webdriver.remote.webelement.WebElement (session=\"3eca114b02227d12ed510437f473b8d7\", element=\"41803cae-00f5-4f6c-845d-0b32f5d9fc4f\")>,\n",
       " <selenium.webdriver.remote.webelement.WebElement (session=\"3eca114b02227d12ed510437f473b8d7\", element=\"e7699dd7-a75e-4cac-a0c2-51ef11044e9f\")>,\n",
       " <selenium.webdriver.remote.webelement.WebElement (session=\"3eca114b02227d12ed510437f473b8d7\", element=\"349cd945-d15c-43a5-a347-4ebf24f25655\")>,\n",
       " <selenium.webdriver.remote.webelement.WebElement (session=\"3eca114b02227d12ed510437f473b8d7\", element=\"c2d45bb9-1f40-4107-bba3-6538d8a6429e\")>,\n",
       " <selenium.webdriver.remote.webelement.WebElement (session=\"3eca114b02227d12ed510437f473b8d7\", element=\"516c60d5-1276-4d27-89bc-85d204979262\")>,\n",
       " <selenium.webdriver.remote.webelement.WebElement (session=\"3eca114b02227d12ed510437f473b8d7\", element=\"d8d1de00-571e-43f5-a425-603af04e5126\")>,\n",
       " <selenium.webdriver.remote.webelement.WebElement (session=\"3eca114b02227d12ed510437f473b8d7\", element=\"a5d08145-85d2-42c8-bb51-471ffdeec8ab\")>,\n",
       " <selenium.webdriver.remote.webelement.WebElement (session=\"3eca114b02227d12ed510437f473b8d7\", element=\"601a54ca-241c-49a7-93e2-5e232e5df8d9\")>,\n",
       " <selenium.webdriver.remote.webelement.WebElement (session=\"3eca114b02227d12ed510437f473b8d7\", element=\"5150936b-af8e-4094-824a-6ab941e29f56\")>,\n",
       " <selenium.webdriver.remote.webelement.WebElement (session=\"3eca114b02227d12ed510437f473b8d7\", element=\"7376c7ed-19b4-416b-85ba-5b36ccdd9450\")>,\n",
       " <selenium.webdriver.remote.webelement.WebElement (session=\"3eca114b02227d12ed510437f473b8d7\", element=\"60e49f2b-68e5-4e4c-95e4-0e43bbc66784\")>,\n",
       " <selenium.webdriver.remote.webelement.WebElement (session=\"3eca114b02227d12ed510437f473b8d7\", element=\"4f038f17-b44f-45bb-86fd-3862ba783f77\")>,\n",
       " <selenium.webdriver.remote.webelement.WebElement (session=\"3eca114b02227d12ed510437f473b8d7\", element=\"67f6810e-357c-4bf2-a664-4707e1947b59\")>]"
      ]
     },
     "execution_count": 34,
     "metadata": {},
     "output_type": "execute_result"
    }
   ],
   "source": [
    "disc_tag = driver.find_elements_by_xpath('//div[@class=\"_3Ay6Sb\"]')\n",
    "len(disc_tag)\n",
    "disc_tag\n"
   ]
  },
  {
   "cell_type": "code",
   "execution_count": 35,
   "id": "c107d6cd",
   "metadata": {},
   "outputs": [
    {
     "data": {
      "text/plain": [
       "['84% off',\n",
       " '88% off',\n",
       " '81% off',\n",
       " '90% off',\n",
       " '82% off',\n",
       " '67% off',\n",
       " '86% off',\n",
       " '85% off',\n",
       " '85% off',\n",
       " '83% off',\n",
       " '85% off',\n",
       " '89% off',\n",
       " '86% off',\n",
       " '80% off',\n",
       " '76% off',\n",
       " '87% off',\n",
       " '79% off',\n",
       " '81% off',\n",
       " '88% off',\n",
       " '87% off',\n",
       " '86% off',\n",
       " '83% off',\n",
       " '70% off',\n",
       " '87% off',\n",
       " '85% off',\n",
       " '78% off',\n",
       " '87% off',\n",
       " '87% off',\n",
       " '82% off',\n",
       " '20% off',\n",
       " '85% off',\n",
       " '50% off',\n",
       " '31% off',\n",
       " '76% off',\n",
       " '83% off',\n",
       " '50% off',\n",
       " '82% off',\n",
       " '79% off',\n",
       " '75% off',\n",
       " '47% off']"
      ]
     },
     "execution_count": 35,
     "metadata": {},
     "output_type": "execute_result"
    }
   ],
   "source": [
    "disc_detail = []\n",
    "\n",
    "for i in disc_tag:\n",
    "    disc_detail.append(i.text)\n",
    "len(disc_detail)\n",
    "disc_detail"
   ]
  },
  {
   "cell_type": "code",
   "execution_count": 37,
   "id": "044a71bd",
   "metadata": {},
   "outputs": [
    {
     "data": {
      "text/plain": [
       "<selenium.webdriver.remote.webelement.WebElement (session=\"3eca114b02227d12ed510437f473b8d7\", element=\"d6e87bb2-5fb5-40fd-90e8-7028ac97eeaf\")>"
      ]
     },
     "execution_count": 37,
     "metadata": {},
     "output_type": "execute_result"
    }
   ],
   "source": [
    "next_btn = driver.find_element_by_xpath('/html/body/div[1]/div/div[3]/div[1]/div[2]/div[12]/div/div/nav/a[12]/span')\n",
    "next_btn"
   ]
  },
  {
   "cell_type": "code",
   "execution_count": 38,
   "id": "2458149d",
   "metadata": {},
   "outputs": [],
   "source": [
    "next_btn.click()"
   ]
  },
  {
   "cell_type": "code",
   "execution_count": 39,
   "id": "dbb8735b",
   "metadata": {},
   "outputs": [
    {
     "data": {
      "text/plain": [
       "[<selenium.webdriver.remote.webelement.WebElement (session=\"3eca114b02227d12ed510437f473b8d7\", element=\"74ff76db-9c1c-4c2f-868d-1ca991b881a9\")>,\n",
       " <selenium.webdriver.remote.webelement.WebElement (session=\"3eca114b02227d12ed510437f473b8d7\", element=\"5f549ba3-a01a-4359-bb6a-722705220c24\")>,\n",
       " <selenium.webdriver.remote.webelement.WebElement (session=\"3eca114b02227d12ed510437f473b8d7\", element=\"d1ba27a1-911f-4e0c-a24a-699821ebf7c0\")>,\n",
       " <selenium.webdriver.remote.webelement.WebElement (session=\"3eca114b02227d12ed510437f473b8d7\", element=\"a9f41149-57c1-4a9f-88ec-ef5906960631\")>,\n",
       " <selenium.webdriver.remote.webelement.WebElement (session=\"3eca114b02227d12ed510437f473b8d7\", element=\"c6e110a9-470c-4a31-b577-500d584656a5\")>,\n",
       " <selenium.webdriver.remote.webelement.WebElement (session=\"3eca114b02227d12ed510437f473b8d7\", element=\"51831546-2213-410e-acad-4fed23dc5b70\")>,\n",
       " <selenium.webdriver.remote.webelement.WebElement (session=\"3eca114b02227d12ed510437f473b8d7\", element=\"e32b9212-3bbd-425d-a735-3ffc5515f16a\")>,\n",
       " <selenium.webdriver.remote.webelement.WebElement (session=\"3eca114b02227d12ed510437f473b8d7\", element=\"ed6c8ae9-bc3b-4d4f-9ace-da2faf1d6aff\")>,\n",
       " <selenium.webdriver.remote.webelement.WebElement (session=\"3eca114b02227d12ed510437f473b8d7\", element=\"f31aa795-a1bd-4d88-98a7-fa72bb3860de\")>,\n",
       " <selenium.webdriver.remote.webelement.WebElement (session=\"3eca114b02227d12ed510437f473b8d7\", element=\"42568ea1-b76a-44cb-ae98-f196c9472c91\")>,\n",
       " <selenium.webdriver.remote.webelement.WebElement (session=\"3eca114b02227d12ed510437f473b8d7\", element=\"37eaf2ce-7e01-4dc9-abfc-be6d0aae4c16\")>,\n",
       " <selenium.webdriver.remote.webelement.WebElement (session=\"3eca114b02227d12ed510437f473b8d7\", element=\"80607b75-d324-4430-aeb9-b31cb74fb762\")>,\n",
       " <selenium.webdriver.remote.webelement.WebElement (session=\"3eca114b02227d12ed510437f473b8d7\", element=\"24c96ea5-a069-4e61-aca5-1610557e5407\")>,\n",
       " <selenium.webdriver.remote.webelement.WebElement (session=\"3eca114b02227d12ed510437f473b8d7\", element=\"89fdead2-842e-4d57-8d95-d9ec44010162\")>,\n",
       " <selenium.webdriver.remote.webelement.WebElement (session=\"3eca114b02227d12ed510437f473b8d7\", element=\"a408dd4e-1aef-4868-8c38-df965dae2812\")>,\n",
       " <selenium.webdriver.remote.webelement.WebElement (session=\"3eca114b02227d12ed510437f473b8d7\", element=\"e919840e-6932-479b-90fe-99b9d4fecfa0\")>,\n",
       " <selenium.webdriver.remote.webelement.WebElement (session=\"3eca114b02227d12ed510437f473b8d7\", element=\"6b908996-3285-4dcd-b558-61dc2f59ba5a\")>,\n",
       " <selenium.webdriver.remote.webelement.WebElement (session=\"3eca114b02227d12ed510437f473b8d7\", element=\"66b76220-d479-4f0a-b367-cebabd9479c0\")>,\n",
       " <selenium.webdriver.remote.webelement.WebElement (session=\"3eca114b02227d12ed510437f473b8d7\", element=\"6791a40a-a98f-428d-90b1-511c3869d70e\")>,\n",
       " <selenium.webdriver.remote.webelement.WebElement (session=\"3eca114b02227d12ed510437f473b8d7\", element=\"70fe2ce5-6050-48ed-8cc2-9aa8cfb42709\")>]"
      ]
     },
     "execution_count": 39,
     "metadata": {},
     "output_type": "execute_result"
    }
   ],
   "source": [
    "brand_tags = driver.find_elements_by_xpath('//div[@class=\"_2WkVRV\"]')\n",
    "len(brand_tags)\n",
    "brand_tags[0:20]"
   ]
  },
  {
   "cell_type": "code",
   "execution_count": 40,
   "id": "969b58f6",
   "metadata": {},
   "outputs": [
    {
     "data": {
      "text/plain": [
       "['Singco India',\n",
       " 'ROZZETTA CRAFT',\n",
       " 'SRPM',\n",
       " 'VILLAIN',\n",
       " 'Silver Kartz',\n",
       " 'Elligator',\n",
       " 'Fastrack',\n",
       " 'ROZZETTA CRAFT',\n",
       " 'ROZZETTA CRAFT',\n",
       " 'New Specs',\n",
       " 'elegante',\n",
       " 'LIZA ANGEL',\n",
       " 'hipe',\n",
       " 'ROZZETTA CRAFT',\n",
       " 'Fravy',\n",
       " 'ROZZETTA CRAFT',\n",
       " 'Singco',\n",
       " 'hipe',\n",
       " 'ROYAL SON',\n",
       " 'VINCENT CHASE']"
      ]
     },
     "execution_count": 40,
     "metadata": {},
     "output_type": "execute_result"
    }
   ],
   "source": [
    "brand_name = []\n",
    "\n",
    "for i in brand_tags:\n",
    "    brand_name.append(i.text)\n",
    "len(brand_name)\n",
    "brand_name[0:20]"
   ]
  },
  {
   "cell_type": "code",
   "execution_count": 41,
   "id": "a60c6bf7",
   "metadata": {},
   "outputs": [
    {
     "data": {
      "text/plain": [
       "[<selenium.webdriver.remote.webelement.WebElement (session=\"3eca114b02227d12ed510437f473b8d7\", element=\"6fa0cb9e-1024-49c1-bd96-160c91861727\")>,\n",
       " <selenium.webdriver.remote.webelement.WebElement (session=\"3eca114b02227d12ed510437f473b8d7\", element=\"41692fa4-731b-4eca-ab42-2ace78642011\")>,\n",
       " <selenium.webdriver.remote.webelement.WebElement (session=\"3eca114b02227d12ed510437f473b8d7\", element=\"29bb72b1-f23f-4dc0-9b06-1154b9989184\")>,\n",
       " <selenium.webdriver.remote.webelement.WebElement (session=\"3eca114b02227d12ed510437f473b8d7\", element=\"0af710bf-9884-4c2c-aa19-90411b62adc6\")>,\n",
       " <selenium.webdriver.remote.webelement.WebElement (session=\"3eca114b02227d12ed510437f473b8d7\", element=\"21a5c9dc-07f4-4c89-b91d-6e9df6519136\")>,\n",
       " <selenium.webdriver.remote.webelement.WebElement (session=\"3eca114b02227d12ed510437f473b8d7\", element=\"cee65095-2a88-4651-b62f-86c30fe6765c\")>,\n",
       " <selenium.webdriver.remote.webelement.WebElement (session=\"3eca114b02227d12ed510437f473b8d7\", element=\"bf223b37-7dfb-4b42-b7f6-5a544812c66a\")>,\n",
       " <selenium.webdriver.remote.webelement.WebElement (session=\"3eca114b02227d12ed510437f473b8d7\", element=\"4ae410a0-9552-4b18-875d-bfa647c00832\")>,\n",
       " <selenium.webdriver.remote.webelement.WebElement (session=\"3eca114b02227d12ed510437f473b8d7\", element=\"53ccc52e-32f1-4b08-8251-cb5ad7cd35aa\")>,\n",
       " <selenium.webdriver.remote.webelement.WebElement (session=\"3eca114b02227d12ed510437f473b8d7\", element=\"cee21b96-a3bd-414b-bfe6-d4f0bf17c168\")>,\n",
       " <selenium.webdriver.remote.webelement.WebElement (session=\"3eca114b02227d12ed510437f473b8d7\", element=\"e6d59ea5-f5f6-4d52-aafa-3e6b08cf29a5\")>,\n",
       " <selenium.webdriver.remote.webelement.WebElement (session=\"3eca114b02227d12ed510437f473b8d7\", element=\"0409ef02-61e6-426e-acba-83559a1ddc3a\")>,\n",
       " <selenium.webdriver.remote.webelement.WebElement (session=\"3eca114b02227d12ed510437f473b8d7\", element=\"f221f7da-c28e-4180-9f0b-faa1bfbacf80\")>,\n",
       " <selenium.webdriver.remote.webelement.WebElement (session=\"3eca114b02227d12ed510437f473b8d7\", element=\"633fbf74-d852-49ee-8da8-baf23889e99a\")>,\n",
       " <selenium.webdriver.remote.webelement.WebElement (session=\"3eca114b02227d12ed510437f473b8d7\", element=\"19b9ff1b-1bcf-47b5-be86-119181281d02\")>,\n",
       " <selenium.webdriver.remote.webelement.WebElement (session=\"3eca114b02227d12ed510437f473b8d7\", element=\"8ce29735-eabb-48f4-92c3-196656cd9ca2\")>,\n",
       " <selenium.webdriver.remote.webelement.WebElement (session=\"3eca114b02227d12ed510437f473b8d7\", element=\"717d3738-4f84-4f14-ba1a-04529ddcfc22\")>,\n",
       " <selenium.webdriver.remote.webelement.WebElement (session=\"3eca114b02227d12ed510437f473b8d7\", element=\"dd359917-3629-4ab5-a5f6-acbc33157782\")>,\n",
       " <selenium.webdriver.remote.webelement.WebElement (session=\"3eca114b02227d12ed510437f473b8d7\", element=\"8d552267-3edc-4b10-beea-fe5b774e36a4\")>,\n",
       " <selenium.webdriver.remote.webelement.WebElement (session=\"3eca114b02227d12ed510437f473b8d7\", element=\"9a673ab3-5ef0-46f1-a16f-f518dc4b414f\")>]"
      ]
     },
     "execution_count": 41,
     "metadata": {},
     "output_type": "execute_result"
    }
   ],
   "source": [
    "prod_desc = driver.find_elements_by_xpath('//a[@class=\"IRpwTa\"]')\n",
    "len(prod_desc)\n",
    "prod_desc[0:20]"
   ]
  },
  {
   "cell_type": "code",
   "execution_count": 42,
   "id": "6089c1be",
   "metadata": {},
   "outputs": [
    {
     "data": {
      "text/plain": [
       "['Gradient, Toughened Glass Lens, UV Protection Retro Squ...',\n",
       " 'UV Protection, Gradient Round Sunglasses (Free Size)',\n",
       " 'UV Protection Wayfarer Sunglasses (53)',\n",
       " 'Others Retro Square Sunglasses (Free Size)',\n",
       " 'UV Protection Oval Sunglasses (56)',\n",
       " 'UV Protection Round, Oval Sunglasses (54)',\n",
       " 'UV Protection Aviator Sunglasses (Free Size)',\n",
       " 'UV Protection Spectacle Sunglasses (Free Size)',\n",
       " 'UV Protection Round Sunglasses (Free Size)',\n",
       " 'UV Protection Rectangular Sunglasses (Free Size)',\n",
       " 'UV Protection Oval Sunglasses (Free Size)',\n",
       " 'UV Protection, Mirrored, Riding Glasses, Night Vision, ...',\n",
       " 'UV Protection Rectangular Sunglasses (Free Size)',\n",
       " 'UV Protection, Gradient, Night Vision Retro Square Sung...',\n",
       " 'UV Protection, Gradient Round Sunglasses (Free Size)',\n",
       " 'UV Protection Aviator Sunglasses (Free Size)',\n",
       " 'Mirrored, Gradient, Riding Glasses Round Sunglasses (55...',\n",
       " 'UV Protection Retro Square Sunglasses (58)',\n",
       " 'by Lenskart UV Protection Aviator Sunglasses (53)',\n",
       " 'UV Protection Retro Square Sunglasses (Free Size)']"
      ]
     },
     "execution_count": 42,
     "metadata": {},
     "output_type": "execute_result"
    }
   ],
   "source": [
    "product_des = []\n",
    "\n",
    "for i in prod_desc:\n",
    "    product_des.append(i.text)\n",
    "len(product_des)\n",
    "product_des[0:20]"
   ]
  },
  {
   "cell_type": "code",
   "execution_count": 43,
   "id": "dbf4c9c1",
   "metadata": {},
   "outputs": [
    {
     "data": {
      "text/plain": [
       "[<selenium.webdriver.remote.webelement.WebElement (session=\"3eca114b02227d12ed510437f473b8d7\", element=\"e7c1f30c-79c6-4c13-8029-d7befb6eabd3\")>,\n",
       " <selenium.webdriver.remote.webelement.WebElement (session=\"3eca114b02227d12ed510437f473b8d7\", element=\"eda5cea7-2644-41cf-b70d-d40f99fa7e8e\")>,\n",
       " <selenium.webdriver.remote.webelement.WebElement (session=\"3eca114b02227d12ed510437f473b8d7\", element=\"7479542a-9c48-45fb-8517-4dc692601dec\")>,\n",
       " <selenium.webdriver.remote.webelement.WebElement (session=\"3eca114b02227d12ed510437f473b8d7\", element=\"f3076cd7-7e45-4aa3-a744-cbf56709b3da\")>,\n",
       " <selenium.webdriver.remote.webelement.WebElement (session=\"3eca114b02227d12ed510437f473b8d7\", element=\"e0b38960-0cae-425a-b24a-efe61e2a2bdb\")>,\n",
       " <selenium.webdriver.remote.webelement.WebElement (session=\"3eca114b02227d12ed510437f473b8d7\", element=\"db411b23-997e-49be-b553-b72487944ddc\")>,\n",
       " <selenium.webdriver.remote.webelement.WebElement (session=\"3eca114b02227d12ed510437f473b8d7\", element=\"0db87711-d60b-472d-a793-165ac1e2cfd3\")>,\n",
       " <selenium.webdriver.remote.webelement.WebElement (session=\"3eca114b02227d12ed510437f473b8d7\", element=\"b6575851-0238-42f3-9274-a7e2a4f58ef0\")>,\n",
       " <selenium.webdriver.remote.webelement.WebElement (session=\"3eca114b02227d12ed510437f473b8d7\", element=\"b310681b-9b9d-4f58-80ed-3d2d5ef881c0\")>,\n",
       " <selenium.webdriver.remote.webelement.WebElement (session=\"3eca114b02227d12ed510437f473b8d7\", element=\"245ca587-7629-4831-a696-a522b6790bd8\")>,\n",
       " <selenium.webdriver.remote.webelement.WebElement (session=\"3eca114b02227d12ed510437f473b8d7\", element=\"534413fc-02a7-4830-887d-70d07ca817cc\")>,\n",
       " <selenium.webdriver.remote.webelement.WebElement (session=\"3eca114b02227d12ed510437f473b8d7\", element=\"599027f7-42e1-482a-9dd3-cbad691a03f5\")>,\n",
       " <selenium.webdriver.remote.webelement.WebElement (session=\"3eca114b02227d12ed510437f473b8d7\", element=\"63f522f5-dbd4-44df-a853-5297bda0f423\")>,\n",
       " <selenium.webdriver.remote.webelement.WebElement (session=\"3eca114b02227d12ed510437f473b8d7\", element=\"49cbc296-de6f-4450-80f0-054939d03ddc\")>,\n",
       " <selenium.webdriver.remote.webelement.WebElement (session=\"3eca114b02227d12ed510437f473b8d7\", element=\"2cb7b943-2403-4be4-8058-03af72deb61c\")>,\n",
       " <selenium.webdriver.remote.webelement.WebElement (session=\"3eca114b02227d12ed510437f473b8d7\", element=\"455218a1-8e63-4169-b0b8-79a5f31fc736\")>,\n",
       " <selenium.webdriver.remote.webelement.WebElement (session=\"3eca114b02227d12ed510437f473b8d7\", element=\"3c65dfbd-525f-469b-8f08-045d3d206483\")>,\n",
       " <selenium.webdriver.remote.webelement.WebElement (session=\"3eca114b02227d12ed510437f473b8d7\", element=\"6d5ab6c9-8e8c-48cb-8cce-8b92c630501e\")>,\n",
       " <selenium.webdriver.remote.webelement.WebElement (session=\"3eca114b02227d12ed510437f473b8d7\", element=\"a8172abb-d2b7-449f-98d4-389b9aeab477\")>,\n",
       " <selenium.webdriver.remote.webelement.WebElement (session=\"3eca114b02227d12ed510437f473b8d7\", element=\"062fc81c-3773-4ec5-8106-d03ce261a8ed\")>]"
      ]
     },
     "execution_count": 43,
     "metadata": {},
     "output_type": "execute_result"
    }
   ],
   "source": [
    "price_tag = driver.find_elements_by_xpath('//div[@class=\"_30jeq3\"]')\n",
    "len(price_tag)\n",
    "price_tag[0:20]"
   ]
  },
  {
   "cell_type": "code",
   "execution_count": 44,
   "id": "1c628d96",
   "metadata": {},
   "outputs": [
    {
     "data": {
      "text/plain": [
       "['₹599',\n",
       " '₹426',\n",
       " '₹207',\n",
       " '₹549',\n",
       " '₹284',\n",
       " '₹266',\n",
       " '₹615',\n",
       " '₹449',\n",
       " '₹426',\n",
       " '₹168',\n",
       " '₹389',\n",
       " '₹209',\n",
       " '₹179',\n",
       " '₹319',\n",
       " '₹245',\n",
       " '₹426',\n",
       " '₹498',\n",
       " '₹189',\n",
       " '₹449',\n",
       " '₹999']"
      ]
     },
     "execution_count": 44,
     "metadata": {},
     "output_type": "execute_result"
    }
   ],
   "source": [
    "price_detail = []\n",
    "\n",
    "for i in price_tag:\n",
    "    price_detail.append(i.text)\n",
    "len(price_detail)\n",
    "price_detail[0:20]"
   ]
  },
  {
   "cell_type": "code",
   "execution_count": 45,
   "id": "66f4ac02",
   "metadata": {},
   "outputs": [
    {
     "data": {
      "text/plain": [
       "[<selenium.webdriver.remote.webelement.WebElement (session=\"3eca114b02227d12ed510437f473b8d7\", element=\"1c9a875a-6802-4589-9e0b-bbf5733a1f30\")>,\n",
       " <selenium.webdriver.remote.webelement.WebElement (session=\"3eca114b02227d12ed510437f473b8d7\", element=\"95a4aa9a-3bc7-4385-ab5b-0d8a8781518c\")>,\n",
       " <selenium.webdriver.remote.webelement.WebElement (session=\"3eca114b02227d12ed510437f473b8d7\", element=\"4c6f3985-ec82-4c37-825b-a9fc4be8c389\")>,\n",
       " <selenium.webdriver.remote.webelement.WebElement (session=\"3eca114b02227d12ed510437f473b8d7\", element=\"1867ba5e-e796-4dd9-ace6-74f5f45ae40c\")>,\n",
       " <selenium.webdriver.remote.webelement.WebElement (session=\"3eca114b02227d12ed510437f473b8d7\", element=\"7a182bfc-9214-4dbc-a221-68af7a7eda3b\")>,\n",
       " <selenium.webdriver.remote.webelement.WebElement (session=\"3eca114b02227d12ed510437f473b8d7\", element=\"c72f00b9-dc64-4de4-8107-67dc7bd01336\")>,\n",
       " <selenium.webdriver.remote.webelement.WebElement (session=\"3eca114b02227d12ed510437f473b8d7\", element=\"62d33737-dc0e-462d-a9af-f8b886b480eb\")>,\n",
       " <selenium.webdriver.remote.webelement.WebElement (session=\"3eca114b02227d12ed510437f473b8d7\", element=\"02917873-d709-4e08-afee-2317861ffabf\")>,\n",
       " <selenium.webdriver.remote.webelement.WebElement (session=\"3eca114b02227d12ed510437f473b8d7\", element=\"fc4b6579-708d-43bc-afac-eb1e2dcf6464\")>,\n",
       " <selenium.webdriver.remote.webelement.WebElement (session=\"3eca114b02227d12ed510437f473b8d7\", element=\"9f0fd736-6c7c-4721-9676-aceeaf33d29c\")>,\n",
       " <selenium.webdriver.remote.webelement.WebElement (session=\"3eca114b02227d12ed510437f473b8d7\", element=\"a175300f-55e2-4415-8192-d75105a0e611\")>,\n",
       " <selenium.webdriver.remote.webelement.WebElement (session=\"3eca114b02227d12ed510437f473b8d7\", element=\"b98c20b6-c523-452d-bd0b-cc63e3e7a753\")>,\n",
       " <selenium.webdriver.remote.webelement.WebElement (session=\"3eca114b02227d12ed510437f473b8d7\", element=\"79f6e32f-4a94-4eda-acf5-215ad53ffabb\")>,\n",
       " <selenium.webdriver.remote.webelement.WebElement (session=\"3eca114b02227d12ed510437f473b8d7\", element=\"81304880-bbc8-4eb1-98ac-fea771993669\")>,\n",
       " <selenium.webdriver.remote.webelement.WebElement (session=\"3eca114b02227d12ed510437f473b8d7\", element=\"48c3b260-9e90-40c9-bb79-4c6e98b1289a\")>,\n",
       " <selenium.webdriver.remote.webelement.WebElement (session=\"3eca114b02227d12ed510437f473b8d7\", element=\"2e1cecf5-c52c-4f74-b86d-97833cd752d3\")>,\n",
       " <selenium.webdriver.remote.webelement.WebElement (session=\"3eca114b02227d12ed510437f473b8d7\", element=\"55beba9d-07c3-4548-b72a-1aafae84a37a\")>,\n",
       " <selenium.webdriver.remote.webelement.WebElement (session=\"3eca114b02227d12ed510437f473b8d7\", element=\"198644ad-346a-4457-b5b9-1c7e301e7f20\")>,\n",
       " <selenium.webdriver.remote.webelement.WebElement (session=\"3eca114b02227d12ed510437f473b8d7\", element=\"a3bc13ed-7031-4e36-85f9-1960345aee2a\")>,\n",
       " <selenium.webdriver.remote.webelement.WebElement (session=\"3eca114b02227d12ed510437f473b8d7\", element=\"3c904618-e863-479e-87a2-26780b18a504\")>]"
      ]
     },
     "execution_count": 45,
     "metadata": {},
     "output_type": "execute_result"
    }
   ],
   "source": [
    "disc_tag = driver.find_elements_by_xpath('//div[@class=\"_3Ay6Sb\"]')\n",
    "len(disc_tag)\n",
    "disc_tag[0:20]"
   ]
  },
  {
   "cell_type": "code",
   "execution_count": 46,
   "id": "34a10dac",
   "metadata": {},
   "outputs": [
    {
     "data": {
      "text/plain": [
       "['80% off',\n",
       " '78% off',\n",
       " '79% off',\n",
       " '26% off',\n",
       " '76% off',\n",
       " '79% off',\n",
       " '23% off',\n",
       " '77% off',\n",
       " '84% off',\n",
       " '88% off',\n",
       " '74% off',\n",
       " '79% off',\n",
       " '87% off',\n",
       " '78% off',\n",
       " '87% off',\n",
       " '84% off',\n",
       " '75% off',\n",
       " '86% off',\n",
       " '70% off',\n",
       " '50% off']"
      ]
     },
     "execution_count": 46,
     "metadata": {},
     "output_type": "execute_result"
    }
   ],
   "source": [
    "disc_detail = []\n",
    "\n",
    "for i in disc_tag:\n",
    "    disc_detail.append(i.text)\n",
    "len(disc_detail)\n",
    "disc_detail[0:20]"
   ]
  },
  {
   "cell_type": "markdown",
   "id": "d0e2cecf",
   "metadata": {},
   "source": [
    "5.Scrape data for first 100 sneakers you find when you visit flipkart.com andsearch for “sneakers” in the\n",
    "search field.\n",
    "You have to scrape 4 attributes of each sneaker:\n",
    "1. Brand\n",
    "2. Product Description\n",
    "3. Price"
   ]
  },
  {
   "cell_type": "code",
   "execution_count": 54,
   "id": "bd96946f",
   "metadata": {},
   "outputs": [],
   "source": [
    "url = 'https://www.flipkart.com/'\n",
    "driver.get(url)"
   ]
  },
  {
   "cell_type": "code",
   "execution_count": 55,
   "id": "1594595d",
   "metadata": {},
   "outputs": [
    {
     "data": {
      "text/plain": [
       "<selenium.webdriver.remote.webelement.WebElement (session=\"dd1c7c097471bc73828f69f26b00fd4c\", element=\"3eb6ccea-e352-47c1-b5f7-292ead462135\")>"
      ]
     },
     "execution_count": 55,
     "metadata": {},
     "output_type": "execute_result"
    }
   ],
   "source": [
    "search_product = driver.find_element_by_xpath('/html/body/div[1]/div/div[1]/div[1]/div[2]/div[2]/form/div/div/input')\n",
    "search_product"
   ]
  },
  {
   "cell_type": "code",
   "execution_count": 56,
   "id": "24c28a7b",
   "metadata": {},
   "outputs": [],
   "source": [
    "search_product.send_keys(\"Sneakers\")"
   ]
  },
  {
   "cell_type": "code",
   "execution_count": 57,
   "id": "5489e67f",
   "metadata": {},
   "outputs": [
    {
     "data": {
      "text/plain": [
       "[<selenium.webdriver.remote.webelement.WebElement (session=\"dd1c7c097471bc73828f69f26b00fd4c\", element=\"faa1fca1-323e-422a-aaf6-1702391230f9\")>,\n",
       " <selenium.webdriver.remote.webelement.WebElement (session=\"dd1c7c097471bc73828f69f26b00fd4c\", element=\"0ae552fb-8e7e-4988-8761-2fb56ace0273\")>,\n",
       " <selenium.webdriver.remote.webelement.WebElement (session=\"dd1c7c097471bc73828f69f26b00fd4c\", element=\"ccd51493-afe1-4d2d-ae64-56b8785fae84\")>,\n",
       " <selenium.webdriver.remote.webelement.WebElement (session=\"dd1c7c097471bc73828f69f26b00fd4c\", element=\"9a8cac87-75c7-496c-9d95-5fba3d83e778\")>,\n",
       " <selenium.webdriver.remote.webelement.WebElement (session=\"dd1c7c097471bc73828f69f26b00fd4c\", element=\"51936fc8-0803-4246-b5d3-620e61422be0\")>,\n",
       " <selenium.webdriver.remote.webelement.WebElement (session=\"dd1c7c097471bc73828f69f26b00fd4c\", element=\"672f193e-17dd-416e-8d68-8bce9ff81b02\")>,\n",
       " <selenium.webdriver.remote.webelement.WebElement (session=\"dd1c7c097471bc73828f69f26b00fd4c\", element=\"8ffc567d-c48e-41e7-a63f-c83a1897bf7c\")>,\n",
       " <selenium.webdriver.remote.webelement.WebElement (session=\"dd1c7c097471bc73828f69f26b00fd4c\", element=\"1b3e102a-90ac-42be-a97a-4b349cc3f16a\")>,\n",
       " <selenium.webdriver.remote.webelement.WebElement (session=\"dd1c7c097471bc73828f69f26b00fd4c\", element=\"32d0e9e7-e689-4ab6-82e9-66d59691ec33\")>,\n",
       " <selenium.webdriver.remote.webelement.WebElement (session=\"dd1c7c097471bc73828f69f26b00fd4c\", element=\"76ca9ce4-5b45-4fe1-bc64-49c29c64c19e\")>,\n",
       " <selenium.webdriver.remote.webelement.WebElement (session=\"dd1c7c097471bc73828f69f26b00fd4c\", element=\"e10d818d-d176-4f0f-9435-68814ba61d47\")>,\n",
       " <selenium.webdriver.remote.webelement.WebElement (session=\"dd1c7c097471bc73828f69f26b00fd4c\", element=\"a966ba5a-ce93-4e08-84d1-882679d5cf98\")>,\n",
       " <selenium.webdriver.remote.webelement.WebElement (session=\"dd1c7c097471bc73828f69f26b00fd4c\", element=\"bfc14ea5-ef92-4298-a939-74c9d09fd061\")>,\n",
       " <selenium.webdriver.remote.webelement.WebElement (session=\"dd1c7c097471bc73828f69f26b00fd4c\", element=\"c8f7db57-368e-4192-98ff-f588150eb2a7\")>,\n",
       " <selenium.webdriver.remote.webelement.WebElement (session=\"dd1c7c097471bc73828f69f26b00fd4c\", element=\"e3b88b69-bb6a-4c91-a1fc-0e0bf5f16890\")>,\n",
       " <selenium.webdriver.remote.webelement.WebElement (session=\"dd1c7c097471bc73828f69f26b00fd4c\", element=\"590da0dc-e3bc-4307-bb2c-793c7edec858\")>,\n",
       " <selenium.webdriver.remote.webelement.WebElement (session=\"dd1c7c097471bc73828f69f26b00fd4c\", element=\"1936e906-386a-438b-a49d-16ff6b745085\")>,\n",
       " <selenium.webdriver.remote.webelement.WebElement (session=\"dd1c7c097471bc73828f69f26b00fd4c\", element=\"6d263d03-2171-4f1d-8207-ceb1694ab15f\")>,\n",
       " <selenium.webdriver.remote.webelement.WebElement (session=\"dd1c7c097471bc73828f69f26b00fd4c\", element=\"48110664-4e68-401e-a2ab-1393a356f87c\")>,\n",
       " <selenium.webdriver.remote.webelement.WebElement (session=\"dd1c7c097471bc73828f69f26b00fd4c\", element=\"57317322-a564-4ce7-9fe2-931e48c689a9\")>,\n",
       " <selenium.webdriver.remote.webelement.WebElement (session=\"dd1c7c097471bc73828f69f26b00fd4c\", element=\"b04a626e-ac90-4a62-abc8-b6105e2c4bab\")>,\n",
       " <selenium.webdriver.remote.webelement.WebElement (session=\"dd1c7c097471bc73828f69f26b00fd4c\", element=\"f10a0db7-9879-48f4-a786-343c8690e9f5\")>,\n",
       " <selenium.webdriver.remote.webelement.WebElement (session=\"dd1c7c097471bc73828f69f26b00fd4c\", element=\"0d80f9ca-eef8-44c7-997b-1ff8f98368b4\")>,\n",
       " <selenium.webdriver.remote.webelement.WebElement (session=\"dd1c7c097471bc73828f69f26b00fd4c\", element=\"82a5e5d0-dd3a-49e7-ba5b-9d7395af502b\")>,\n",
       " <selenium.webdriver.remote.webelement.WebElement (session=\"dd1c7c097471bc73828f69f26b00fd4c\", element=\"f51b70ae-cec2-422d-9839-90ddb7158b18\")>,\n",
       " <selenium.webdriver.remote.webelement.WebElement (session=\"dd1c7c097471bc73828f69f26b00fd4c\", element=\"d76f58dc-3cd9-440f-81b0-cb50e6494a07\")>,\n",
       " <selenium.webdriver.remote.webelement.WebElement (session=\"dd1c7c097471bc73828f69f26b00fd4c\", element=\"f5747da0-74f0-4d32-9204-cede63ddc15c\")>,\n",
       " <selenium.webdriver.remote.webelement.WebElement (session=\"dd1c7c097471bc73828f69f26b00fd4c\", element=\"3b346c00-85f7-4032-a094-6f1a5fcddc44\")>,\n",
       " <selenium.webdriver.remote.webelement.WebElement (session=\"dd1c7c097471bc73828f69f26b00fd4c\", element=\"b7b459b5-7be1-4e13-957d-ee7af57b5a49\")>,\n",
       " <selenium.webdriver.remote.webelement.WebElement (session=\"dd1c7c097471bc73828f69f26b00fd4c\", element=\"c6bec5cf-5c61-4418-852c-5751f699a4c7\")>,\n",
       " <selenium.webdriver.remote.webelement.WebElement (session=\"dd1c7c097471bc73828f69f26b00fd4c\", element=\"2146ebaa-7a55-4b4b-b666-80ab1319df52\")>,\n",
       " <selenium.webdriver.remote.webelement.WebElement (session=\"dd1c7c097471bc73828f69f26b00fd4c\", element=\"ec741272-e982-4532-916f-ab9da53b27e8\")>,\n",
       " <selenium.webdriver.remote.webelement.WebElement (session=\"dd1c7c097471bc73828f69f26b00fd4c\", element=\"42e49d8e-644b-419d-bd02-132c45d2a315\")>,\n",
       " <selenium.webdriver.remote.webelement.WebElement (session=\"dd1c7c097471bc73828f69f26b00fd4c\", element=\"af406b40-d519-4939-8c12-27ced65d6029\")>,\n",
       " <selenium.webdriver.remote.webelement.WebElement (session=\"dd1c7c097471bc73828f69f26b00fd4c\", element=\"99425055-b43f-492b-b6e8-1a2c6393cc23\")>,\n",
       " <selenium.webdriver.remote.webelement.WebElement (session=\"dd1c7c097471bc73828f69f26b00fd4c\", element=\"625ccc70-551c-40b7-acf2-137b079b9a4d\")>,\n",
       " <selenium.webdriver.remote.webelement.WebElement (session=\"dd1c7c097471bc73828f69f26b00fd4c\", element=\"5eeefee8-2c68-4b11-99a3-9ce15c9f3490\")>,\n",
       " <selenium.webdriver.remote.webelement.WebElement (session=\"dd1c7c097471bc73828f69f26b00fd4c\", element=\"7f23945d-a7de-4b41-8e68-dd21c8c61b79\")>,\n",
       " <selenium.webdriver.remote.webelement.WebElement (session=\"dd1c7c097471bc73828f69f26b00fd4c\", element=\"e49914bc-fdbb-45eb-8049-9691dd90e148\")>,\n",
       " <selenium.webdriver.remote.webelement.WebElement (session=\"dd1c7c097471bc73828f69f26b00fd4c\", element=\"52e04d91-75ae-466f-9626-11613f3ec9a4\")>]"
      ]
     },
     "execution_count": 57,
     "metadata": {},
     "output_type": "execute_result"
    }
   ],
   "source": [
    "brand_tags = driver.find_elements_by_xpath('//div[@class=\"_2WkVRV\"]')\n",
    "len(brand_tags)\n",
    "brand_tags"
   ]
  },
  {
   "cell_type": "code",
   "execution_count": 58,
   "id": "f3784a52",
   "metadata": {},
   "outputs": [
    {
     "data": {
      "text/plain": [
       "['Echor',\n",
       " 'CLYMB',\n",
       " 'Magnolia',\n",
       " 'luxury fashion',\n",
       " 'URBANBOX',\n",
       " 'Labbin',\n",
       " 'Stefano Rads',\n",
       " 'KNIGHT WALKERS',\n",
       " 'Extoes',\n",
       " 'D-SNEAKERZ',\n",
       " 'Trendmode',\n",
       " 'Echor',\n",
       " 'SCATCHITE',\n",
       " 'Shoes Bank',\n",
       " 'ASTEROID',\n",
       " 'Echor',\n",
       " 'HOTSTYLE',\n",
       " 'Kraasa',\n",
       " 'Numenzo',\n",
       " 'PUMA',\n",
       " 'ganpati traders',\n",
       " 'Echor',\n",
       " 'Pieds',\n",
       " 'VORII',\n",
       " 'BIRDE',\n",
       " 'Robbie jones',\n",
       " 'Lee Won',\n",
       " 'CLYMB',\n",
       " 'Arohi',\n",
       " 'Numenzo',\n",
       " 'TR',\n",
       " 'SORT',\n",
       " 'PUMA',\n",
       " 'Rzisbo',\n",
       " 'CLYMB',\n",
       " 'FILA',\n",
       " 'India hub',\n",
       " 'Kraasa',\n",
       " 'RapidBox',\n",
       " 'FOOTSTAIR']"
      ]
     },
     "execution_count": 58,
     "metadata": {},
     "output_type": "execute_result"
    }
   ],
   "source": [
    "brand_name = []\n",
    "\n",
    "for i in brand_tags:\n",
    "    brand_name.append(i.text)\n",
    "len(brand_name)\n",
    "brand_name"
   ]
  },
  {
   "cell_type": "code",
   "execution_count": 59,
   "id": "cf0b681b",
   "metadata": {},
   "outputs": [
    {
     "data": {
      "text/plain": [
       "[<selenium.webdriver.remote.webelement.WebElement (session=\"dd1c7c097471bc73828f69f26b00fd4c\", element=\"3bed1fa7-785a-4f28-a7f4-4a9378e9e560\")>,\n",
       " <selenium.webdriver.remote.webelement.WebElement (session=\"dd1c7c097471bc73828f69f26b00fd4c\", element=\"b1d4ba6d-82a5-466b-8b60-03547bddc41e\")>,\n",
       " <selenium.webdriver.remote.webelement.WebElement (session=\"dd1c7c097471bc73828f69f26b00fd4c\", element=\"43099ee7-4c24-4da9-aec6-d70fc5faa7ee\")>,\n",
       " <selenium.webdriver.remote.webelement.WebElement (session=\"dd1c7c097471bc73828f69f26b00fd4c\", element=\"4cb5f0ed-344c-4d15-ba97-72a3d8b0c392\")>,\n",
       " <selenium.webdriver.remote.webelement.WebElement (session=\"dd1c7c097471bc73828f69f26b00fd4c\", element=\"1afd7206-c663-48db-bda0-b654ba7310c7\")>,\n",
       " <selenium.webdriver.remote.webelement.WebElement (session=\"dd1c7c097471bc73828f69f26b00fd4c\", element=\"dfc560b4-cb16-4018-a8eb-3644b4b3e9b7\")>,\n",
       " <selenium.webdriver.remote.webelement.WebElement (session=\"dd1c7c097471bc73828f69f26b00fd4c\", element=\"baad16fe-572b-4d88-bfce-92f1189ad460\")>,\n",
       " <selenium.webdriver.remote.webelement.WebElement (session=\"dd1c7c097471bc73828f69f26b00fd4c\", element=\"e2865ae5-37f6-431c-9406-8d85bbc37682\")>,\n",
       " <selenium.webdriver.remote.webelement.WebElement (session=\"dd1c7c097471bc73828f69f26b00fd4c\", element=\"01761b1c-7d40-4c28-bc6f-555518e6006a\")>,\n",
       " <selenium.webdriver.remote.webelement.WebElement (session=\"dd1c7c097471bc73828f69f26b00fd4c\", element=\"5f4a5ec2-9faf-4a6c-a430-1937cfa7564f\")>,\n",
       " <selenium.webdriver.remote.webelement.WebElement (session=\"dd1c7c097471bc73828f69f26b00fd4c\", element=\"c9b96c94-3c3f-4b6f-a392-18c101cbd66d\")>,\n",
       " <selenium.webdriver.remote.webelement.WebElement (session=\"dd1c7c097471bc73828f69f26b00fd4c\", element=\"d210fe67-9def-44b5-b47e-bea19c9af9e5\")>,\n",
       " <selenium.webdriver.remote.webelement.WebElement (session=\"dd1c7c097471bc73828f69f26b00fd4c\", element=\"284e179c-a0a0-492c-a474-4f94c4cc7973\")>,\n",
       " <selenium.webdriver.remote.webelement.WebElement (session=\"dd1c7c097471bc73828f69f26b00fd4c\", element=\"d6886dca-7056-4f68-9cdd-bae0a4bdff22\")>,\n",
       " <selenium.webdriver.remote.webelement.WebElement (session=\"dd1c7c097471bc73828f69f26b00fd4c\", element=\"072b647a-24b8-4c8c-9551-b544f0769250\")>,\n",
       " <selenium.webdriver.remote.webelement.WebElement (session=\"dd1c7c097471bc73828f69f26b00fd4c\", element=\"5834dd13-f522-4f03-ae74-cf8556fccf2c\")>,\n",
       " <selenium.webdriver.remote.webelement.WebElement (session=\"dd1c7c097471bc73828f69f26b00fd4c\", element=\"a81e2624-9d33-4be2-a1c8-5c5a8ad75da0\")>,\n",
       " <selenium.webdriver.remote.webelement.WebElement (session=\"dd1c7c097471bc73828f69f26b00fd4c\", element=\"4385734b-9ebb-42db-8ba1-1c6f5d666730\")>,\n",
       " <selenium.webdriver.remote.webelement.WebElement (session=\"dd1c7c097471bc73828f69f26b00fd4c\", element=\"1621d2ef-e081-4856-a6a8-326f85a2e85b\")>,\n",
       " <selenium.webdriver.remote.webelement.WebElement (session=\"dd1c7c097471bc73828f69f26b00fd4c\", element=\"355f6772-9c6c-434e-814c-4f838f1979f3\")>,\n",
       " <selenium.webdriver.remote.webelement.WebElement (session=\"dd1c7c097471bc73828f69f26b00fd4c\", element=\"fb8c8344-a6a9-4977-a5be-931e3e749bec\")>,\n",
       " <selenium.webdriver.remote.webelement.WebElement (session=\"dd1c7c097471bc73828f69f26b00fd4c\", element=\"18250431-e333-4439-a2d2-a784f8ff89da\")>,\n",
       " <selenium.webdriver.remote.webelement.WebElement (session=\"dd1c7c097471bc73828f69f26b00fd4c\", element=\"65447c2b-bfec-4d87-8270-dde29644815f\")>,\n",
       " <selenium.webdriver.remote.webelement.WebElement (session=\"dd1c7c097471bc73828f69f26b00fd4c\", element=\"02be78b9-8914-4a27-8bac-7f26e91ab6b7\")>,\n",
       " <selenium.webdriver.remote.webelement.WebElement (session=\"dd1c7c097471bc73828f69f26b00fd4c\", element=\"e8e0a8d8-2934-4ffe-93d9-aa3c5671bb2a\")>,\n",
       " <selenium.webdriver.remote.webelement.WebElement (session=\"dd1c7c097471bc73828f69f26b00fd4c\", element=\"c4872629-3582-409b-8062-db45a2a49f22\")>,\n",
       " <selenium.webdriver.remote.webelement.WebElement (session=\"dd1c7c097471bc73828f69f26b00fd4c\", element=\"319d5b48-8b7b-46fb-a57b-6c6ab49a8157\")>,\n",
       " <selenium.webdriver.remote.webelement.WebElement (session=\"dd1c7c097471bc73828f69f26b00fd4c\", element=\"145efec6-c5d6-458b-8d88-b2a225312226\")>,\n",
       " <selenium.webdriver.remote.webelement.WebElement (session=\"dd1c7c097471bc73828f69f26b00fd4c\", element=\"8b4cf79d-ebf3-4eb4-b201-e2b8abc5ac3e\")>,\n",
       " <selenium.webdriver.remote.webelement.WebElement (session=\"dd1c7c097471bc73828f69f26b00fd4c\", element=\"f1d3a6b7-4b3e-489a-b734-2ad61dc2762a\")>]"
      ]
     },
     "execution_count": 59,
     "metadata": {},
     "output_type": "execute_result"
    }
   ],
   "source": [
    "prod_desc = driver.find_elements_by_xpath('//a[@class=\"IRpwTa\"]')\n",
    "len(prod_desc)\n",
    "prod_desc"
   ]
  },
  {
   "cell_type": "code",
   "execution_count": 60,
   "id": "8e726edc",
   "metadata": {},
   "outputs": [
    {
     "data": {
      "text/plain": [
       "[\"Echor Men's Sneakers Fashion Lightweight Running Shoes ...\",\n",
       " 'Walking/Outdoor/Running Sneakers For Men',\n",
       " 'Sneakers For Men',\n",
       " 'Sneakers For Men',\n",
       " 'Sneakers For Men',\n",
       " 'Modern Trendy Shoes Combo pack of 4 Sneakers For Men',\n",
       " \"Casual , Partywear Sneakers Shoes For Men's And Boys Wh...\",\n",
       " 'Sneakers For Men',\n",
       " \"Men's Sneakers Fashion Lightweight Running Shoes Tennis...\",\n",
       " 'Sneakers Sneakers For Men',\n",
       " \"White Sneaker For Men's/Boy's Sneakers For Men\",\n",
       " \"Original Luxury Branded Fashionable Men's Casual Walkin...\",\n",
       " \"Men's Canvas Low Top Sneakers Lace-up Classic Casual Sn...\",\n",
       " 'Sneakers For Men',\n",
       " 'Series 7 Sneakers For Men',\n",
       " '411 Casual Sneakers For Men',\n",
       " 'RS-Z Sneakers For Men',\n",
       " \"Men's Sneakers Fashion Lightweight Running Shoes Tennis...\",\n",
       " 'Sports Running Shoes Sneakers For Men',\n",
       " 'Sneakers For Men',\n",
       " 'Mesh Sports/Walking Shoes/Outdoor Ultra Lightweight Run...',\n",
       " 'White Sneaker For Men Sneakers For Men',\n",
       " 'Sneakers For Men',\n",
       " 'Unisex Comfortable Casual Daily Wear | Gym Sneakers For...',\n",
       " 'Glory Sneakers For Men',\n",
       " 'Sneakers For Men',\n",
       " 'Sneakers For Men',\n",
       " 'GESAR Sneakers For Men',\n",
       " 'Luxury Fashionable casual sneaker shoes Sneakers For Me...',\n",
       " 'Shark-41 Sneakers For Men']"
      ]
     },
     "execution_count": 60,
     "metadata": {},
     "output_type": "execute_result"
    }
   ],
   "source": [
    "product_des = []\n",
    "\n",
    "for i in prod_desc:\n",
    "    product_des.append(i.text)\n",
    "len(product_des)\n",
    "product_des"
   ]
  },
  {
   "cell_type": "code",
   "execution_count": 61,
   "id": "53c2563c",
   "metadata": {},
   "outputs": [
    {
     "data": {
      "text/plain": [
       "[<selenium.webdriver.remote.webelement.WebElement (session=\"dd1c7c097471bc73828f69f26b00fd4c\", element=\"6bdbf125-a24b-4b27-abd7-c978f0371f58\")>,\n",
       " <selenium.webdriver.remote.webelement.WebElement (session=\"dd1c7c097471bc73828f69f26b00fd4c\", element=\"39afd397-13a6-4766-b385-4a4c71f2f13a\")>,\n",
       " <selenium.webdriver.remote.webelement.WebElement (session=\"dd1c7c097471bc73828f69f26b00fd4c\", element=\"044e09df-f773-4672-8dd5-7627d711ead9\")>,\n",
       " <selenium.webdriver.remote.webelement.WebElement (session=\"dd1c7c097471bc73828f69f26b00fd4c\", element=\"9acfbb36-7701-4e27-94d1-d9d12dd76c4f\")>,\n",
       " <selenium.webdriver.remote.webelement.WebElement (session=\"dd1c7c097471bc73828f69f26b00fd4c\", element=\"3a934c03-c052-4ba6-8230-1e0caaaaec94\")>,\n",
       " <selenium.webdriver.remote.webelement.WebElement (session=\"dd1c7c097471bc73828f69f26b00fd4c\", element=\"a5d79cf8-f585-4180-9baf-5ca8851b2458\")>,\n",
       " <selenium.webdriver.remote.webelement.WebElement (session=\"dd1c7c097471bc73828f69f26b00fd4c\", element=\"d7f5c86a-96fc-4022-afb7-1dc7cc259e6a\")>,\n",
       " <selenium.webdriver.remote.webelement.WebElement (session=\"dd1c7c097471bc73828f69f26b00fd4c\", element=\"6a6cea64-e862-4817-b8f0-782231c502f2\")>,\n",
       " <selenium.webdriver.remote.webelement.WebElement (session=\"dd1c7c097471bc73828f69f26b00fd4c\", element=\"0f631f8c-b4b8-4b8c-b5c7-5c95e6feae70\")>,\n",
       " <selenium.webdriver.remote.webelement.WebElement (session=\"dd1c7c097471bc73828f69f26b00fd4c\", element=\"9d161d90-b24f-4b60-ba4d-444ba1a99a44\")>,\n",
       " <selenium.webdriver.remote.webelement.WebElement (session=\"dd1c7c097471bc73828f69f26b00fd4c\", element=\"a623a2e6-63aa-4176-a965-c54cc88495ee\")>,\n",
       " <selenium.webdriver.remote.webelement.WebElement (session=\"dd1c7c097471bc73828f69f26b00fd4c\", element=\"cdd41e34-d73e-441c-a054-db83b790fb0e\")>,\n",
       " <selenium.webdriver.remote.webelement.WebElement (session=\"dd1c7c097471bc73828f69f26b00fd4c\", element=\"0c0619ee-7996-447f-a116-21cecca0f791\")>,\n",
       " <selenium.webdriver.remote.webelement.WebElement (session=\"dd1c7c097471bc73828f69f26b00fd4c\", element=\"4a7741dc-c1c8-4fe0-8fbb-2c2200b71813\")>,\n",
       " <selenium.webdriver.remote.webelement.WebElement (session=\"dd1c7c097471bc73828f69f26b00fd4c\", element=\"3af7ba31-f53f-4cf5-a9ae-65176990cd0f\")>,\n",
       " <selenium.webdriver.remote.webelement.WebElement (session=\"dd1c7c097471bc73828f69f26b00fd4c\", element=\"d5b32740-6c50-4f8d-8e2d-72c25a49fd91\")>,\n",
       " <selenium.webdriver.remote.webelement.WebElement (session=\"dd1c7c097471bc73828f69f26b00fd4c\", element=\"f80ecf3e-00e4-4292-ad14-5c83965ab1ba\")>,\n",
       " <selenium.webdriver.remote.webelement.WebElement (session=\"dd1c7c097471bc73828f69f26b00fd4c\", element=\"af6cf0c5-b51f-49ad-baac-a26d563b0eaf\")>,\n",
       " <selenium.webdriver.remote.webelement.WebElement (session=\"dd1c7c097471bc73828f69f26b00fd4c\", element=\"a06beb52-bfc0-4f2b-b466-bce27238a3da\")>,\n",
       " <selenium.webdriver.remote.webelement.WebElement (session=\"dd1c7c097471bc73828f69f26b00fd4c\", element=\"028e5b6d-db23-4e10-9594-429faa5a936b\")>,\n",
       " <selenium.webdriver.remote.webelement.WebElement (session=\"dd1c7c097471bc73828f69f26b00fd4c\", element=\"4ee0824d-57e1-4723-bcef-351c6941beba\")>,\n",
       " <selenium.webdriver.remote.webelement.WebElement (session=\"dd1c7c097471bc73828f69f26b00fd4c\", element=\"31799083-3bbd-485b-936c-3adb9aceaab6\")>,\n",
       " <selenium.webdriver.remote.webelement.WebElement (session=\"dd1c7c097471bc73828f69f26b00fd4c\", element=\"3e1de766-dbbb-4962-8560-b9180c37a659\")>,\n",
       " <selenium.webdriver.remote.webelement.WebElement (session=\"dd1c7c097471bc73828f69f26b00fd4c\", element=\"b359744e-0b49-4403-af33-78bb86540de2\")>,\n",
       " <selenium.webdriver.remote.webelement.WebElement (session=\"dd1c7c097471bc73828f69f26b00fd4c\", element=\"5ba25e5a-e57f-4a60-9cd9-d4ced8f3ed75\")>,\n",
       " <selenium.webdriver.remote.webelement.WebElement (session=\"dd1c7c097471bc73828f69f26b00fd4c\", element=\"f10447ba-24da-4eb1-99da-34e8a354a350\")>,\n",
       " <selenium.webdriver.remote.webelement.WebElement (session=\"dd1c7c097471bc73828f69f26b00fd4c\", element=\"2712c210-106f-40b4-aac7-9a6dde15f6b4\")>,\n",
       " <selenium.webdriver.remote.webelement.WebElement (session=\"dd1c7c097471bc73828f69f26b00fd4c\", element=\"89beea98-9033-4f19-a053-c409b08d32e8\")>,\n",
       " <selenium.webdriver.remote.webelement.WebElement (session=\"dd1c7c097471bc73828f69f26b00fd4c\", element=\"f31c3004-806b-4be2-89d3-69119feac905\")>,\n",
       " <selenium.webdriver.remote.webelement.WebElement (session=\"dd1c7c097471bc73828f69f26b00fd4c\", element=\"3d0f0f7c-e7c5-479b-9f48-9687ab4aa429\")>,\n",
       " <selenium.webdriver.remote.webelement.WebElement (session=\"dd1c7c097471bc73828f69f26b00fd4c\", element=\"5039c8b1-1c60-4eaa-a0e1-2d98f0959e2f\")>,\n",
       " <selenium.webdriver.remote.webelement.WebElement (session=\"dd1c7c097471bc73828f69f26b00fd4c\", element=\"a255a887-dede-466a-a99b-0520d9f65ca8\")>,\n",
       " <selenium.webdriver.remote.webelement.WebElement (session=\"dd1c7c097471bc73828f69f26b00fd4c\", element=\"276fec68-13f6-423b-b3cd-9db45fd406b4\")>,\n",
       " <selenium.webdriver.remote.webelement.WebElement (session=\"dd1c7c097471bc73828f69f26b00fd4c\", element=\"b440e8bc-5b42-4f94-8ef4-84415d673873\")>,\n",
       " <selenium.webdriver.remote.webelement.WebElement (session=\"dd1c7c097471bc73828f69f26b00fd4c\", element=\"19a5e292-76ca-4e8f-98c3-28ad180019a2\")>,\n",
       " <selenium.webdriver.remote.webelement.WebElement (session=\"dd1c7c097471bc73828f69f26b00fd4c\", element=\"e1ae50c0-9def-49e8-a769-b6f15bbf73f4\")>,\n",
       " <selenium.webdriver.remote.webelement.WebElement (session=\"dd1c7c097471bc73828f69f26b00fd4c\", element=\"42cc4c4d-5ad2-40db-adb3-a6aafccb3a45\")>,\n",
       " <selenium.webdriver.remote.webelement.WebElement (session=\"dd1c7c097471bc73828f69f26b00fd4c\", element=\"7791a114-8a97-450a-af7b-b5b57befff04\")>,\n",
       " <selenium.webdriver.remote.webelement.WebElement (session=\"dd1c7c097471bc73828f69f26b00fd4c\", element=\"91e7a06a-2eee-4f47-918e-1d3afec25cf0\")>,\n",
       " <selenium.webdriver.remote.webelement.WebElement (session=\"dd1c7c097471bc73828f69f26b00fd4c\", element=\"4dd36f46-669e-4694-aa67-6eb6a3b227a3\")>]"
      ]
     },
     "execution_count": 61,
     "metadata": {},
     "output_type": "execute_result"
    }
   ],
   "source": [
    "price_tag = driver.find_elements_by_xpath('//div[@class=\"_30jeq3\"]')\n",
    "len(price_tag)\n",
    "price_tag"
   ]
  },
  {
   "cell_type": "code",
   "execution_count": 62,
   "id": "6ad04761",
   "metadata": {
    "scrolled": true
   },
   "outputs": [
    {
     "data": {
      "text/plain": [
       "['₹569',\n",
       " '₹649',\n",
       " '₹398',\n",
       " '₹449',\n",
       " '₹220',\n",
       " '₹499',\n",
       " '₹242',\n",
       " '₹649',\n",
       " '₹948',\n",
       " '₹348',\n",
       " '₹259',\n",
       " '₹569',\n",
       " '₹398',\n",
       " '₹331',\n",
       " '₹499',\n",
       " '₹446',\n",
       " '₹298',\n",
       " '₹444',\n",
       " '₹426',\n",
       " '₹9,999',\n",
       " '₹189',\n",
       " '₹499',\n",
       " '₹299',\n",
       " '₹474',\n",
       " '₹299',\n",
       " '₹474',\n",
       " '₹299',\n",
       " '₹259',\n",
       " '₹398',\n",
       " '₹407',\n",
       " '₹599',\n",
       " '₹699',\n",
       " '₹1,319',\n",
       " '₹549',\n",
       " '₹649',\n",
       " '₹1,249',\n",
       " '₹499',\n",
       " '₹444',\n",
       " '₹680',\n",
       " '₹749']"
      ]
     },
     "execution_count": 62,
     "metadata": {},
     "output_type": "execute_result"
    }
   ],
   "source": [
    "price_detail = []\n",
    "\n",
    "for i in price_tag:\n",
    "    price_detail.append(i.text)\n",
    "len(price_detail)\n",
    "price_detail"
   ]
  },
  {
   "cell_type": "code",
   "execution_count": 64,
   "id": "0e0d3aee",
   "metadata": {},
   "outputs": [
    {
     "data": {
      "text/plain": [
       "<selenium.webdriver.remote.webelement.WebElement (session=\"dd1c7c097471bc73828f69f26b00fd4c\", element=\"ddc8add6-b972-4a41-acbd-72e883f4d876\")>"
      ]
     },
     "execution_count": 64,
     "metadata": {},
     "output_type": "execute_result"
    }
   ],
   "source": [
    "next_btn = driver.find_element_by_xpath('/html/body/div[1]/div/div[3]/div[1]/div[2]/div[12]/div/div/nav/a[11]/span')\n",
    "next_btn"
   ]
  },
  {
   "cell_type": "code",
   "execution_count": 65,
   "id": "231aa41d",
   "metadata": {},
   "outputs": [],
   "source": [
    "next_btn.click()"
   ]
  },
  {
   "cell_type": "code",
   "execution_count": 66,
   "id": "c3dca4e4",
   "metadata": {},
   "outputs": [
    {
     "data": {
      "text/plain": [
       "[<selenium.webdriver.remote.webelement.WebElement (session=\"dd1c7c097471bc73828f69f26b00fd4c\", element=\"33fe6491-595b-4715-9aeb-447391d367b6\")>,\n",
       " <selenium.webdriver.remote.webelement.WebElement (session=\"dd1c7c097471bc73828f69f26b00fd4c\", element=\"a917bbfc-ee1b-44d7-80e9-97f33496c625\")>,\n",
       " <selenium.webdriver.remote.webelement.WebElement (session=\"dd1c7c097471bc73828f69f26b00fd4c\", element=\"c2959efd-76e9-4808-ab82-6bb7c9448d06\")>,\n",
       " <selenium.webdriver.remote.webelement.WebElement (session=\"dd1c7c097471bc73828f69f26b00fd4c\", element=\"4bfb98ae-8e50-4a81-aac8-e5b96c185682\")>,\n",
       " <selenium.webdriver.remote.webelement.WebElement (session=\"dd1c7c097471bc73828f69f26b00fd4c\", element=\"aa6c3015-df49-4cab-aff6-36b78bc0b49d\")>,\n",
       " <selenium.webdriver.remote.webelement.WebElement (session=\"dd1c7c097471bc73828f69f26b00fd4c\", element=\"2e3998ac-ad16-49cd-a411-a494640510c9\")>,\n",
       " <selenium.webdriver.remote.webelement.WebElement (session=\"dd1c7c097471bc73828f69f26b00fd4c\", element=\"874cbb42-eb7f-4a34-828e-8e911a1bda99\")>,\n",
       " <selenium.webdriver.remote.webelement.WebElement (session=\"dd1c7c097471bc73828f69f26b00fd4c\", element=\"afbcc96b-eec7-4d0f-901a-38f03cf0567b\")>,\n",
       " <selenium.webdriver.remote.webelement.WebElement (session=\"dd1c7c097471bc73828f69f26b00fd4c\", element=\"ae8bbdc4-0f81-4882-a486-7c2111d76c7c\")>,\n",
       " <selenium.webdriver.remote.webelement.WebElement (session=\"dd1c7c097471bc73828f69f26b00fd4c\", element=\"7a81ce95-29e8-47a6-97aa-90d2646cb5ab\")>,\n",
       " <selenium.webdriver.remote.webelement.WebElement (session=\"dd1c7c097471bc73828f69f26b00fd4c\", element=\"5b3fa797-a58e-4aa6-8749-5abec32b858e\")>,\n",
       " <selenium.webdriver.remote.webelement.WebElement (session=\"dd1c7c097471bc73828f69f26b00fd4c\", element=\"a9c2d76a-3f05-4b64-a82b-52acd7df8149\")>,\n",
       " <selenium.webdriver.remote.webelement.WebElement (session=\"dd1c7c097471bc73828f69f26b00fd4c\", element=\"0038c24a-b5a6-4e16-93c5-74287b9df56c\")>,\n",
       " <selenium.webdriver.remote.webelement.WebElement (session=\"dd1c7c097471bc73828f69f26b00fd4c\", element=\"e0a76567-d885-4384-b0ed-1db168c99e54\")>,\n",
       " <selenium.webdriver.remote.webelement.WebElement (session=\"dd1c7c097471bc73828f69f26b00fd4c\", element=\"59bf48ab-b688-412f-908e-fed303866a00\")>,\n",
       " <selenium.webdriver.remote.webelement.WebElement (session=\"dd1c7c097471bc73828f69f26b00fd4c\", element=\"9fad6ba8-5d7b-4abc-be9e-e33c424a8508\")>,\n",
       " <selenium.webdriver.remote.webelement.WebElement (session=\"dd1c7c097471bc73828f69f26b00fd4c\", element=\"341b7d81-6391-4a5d-8daf-56c2e6e89257\")>,\n",
       " <selenium.webdriver.remote.webelement.WebElement (session=\"dd1c7c097471bc73828f69f26b00fd4c\", element=\"7b1433b2-7952-432d-9634-3d9e9c6a7267\")>,\n",
       " <selenium.webdriver.remote.webelement.WebElement (session=\"dd1c7c097471bc73828f69f26b00fd4c\", element=\"58e389c5-85f1-404a-aa53-cc695c1b5680\")>,\n",
       " <selenium.webdriver.remote.webelement.WebElement (session=\"dd1c7c097471bc73828f69f26b00fd4c\", element=\"cfd84de6-20b9-4819-9e4e-8be56dbacce6\")>,\n",
       " <selenium.webdriver.remote.webelement.WebElement (session=\"dd1c7c097471bc73828f69f26b00fd4c\", element=\"83ca19df-b5ba-4929-8aa7-6d5bc4ba767d\")>,\n",
       " <selenium.webdriver.remote.webelement.WebElement (session=\"dd1c7c097471bc73828f69f26b00fd4c\", element=\"b7dcd84e-64bf-46a0-ac47-d442eb61b4e2\")>,\n",
       " <selenium.webdriver.remote.webelement.WebElement (session=\"dd1c7c097471bc73828f69f26b00fd4c\", element=\"7bc315db-5054-4732-9e89-e1ce09af8378\")>,\n",
       " <selenium.webdriver.remote.webelement.WebElement (session=\"dd1c7c097471bc73828f69f26b00fd4c\", element=\"d936267c-afa4-4c79-b013-ef68c8b2fe06\")>,\n",
       " <selenium.webdriver.remote.webelement.WebElement (session=\"dd1c7c097471bc73828f69f26b00fd4c\", element=\"65db09d3-41c0-428b-a65e-659614e0d802\")>,\n",
       " <selenium.webdriver.remote.webelement.WebElement (session=\"dd1c7c097471bc73828f69f26b00fd4c\", element=\"99a1fdcc-1b8b-4489-9e25-10fa76da2028\")>,\n",
       " <selenium.webdriver.remote.webelement.WebElement (session=\"dd1c7c097471bc73828f69f26b00fd4c\", element=\"98dd5407-e17e-4f07-b013-8b46d5678c72\")>,\n",
       " <selenium.webdriver.remote.webelement.WebElement (session=\"dd1c7c097471bc73828f69f26b00fd4c\", element=\"6c045919-c6a5-4588-b8c7-6853f4f231b9\")>,\n",
       " <selenium.webdriver.remote.webelement.WebElement (session=\"dd1c7c097471bc73828f69f26b00fd4c\", element=\"bee0e74b-ffeb-4617-8134-bc0cca1f7af0\")>,\n",
       " <selenium.webdriver.remote.webelement.WebElement (session=\"dd1c7c097471bc73828f69f26b00fd4c\", element=\"d914ed85-000b-4706-a9b3-075f745325a1\")>,\n",
       " <selenium.webdriver.remote.webelement.WebElement (session=\"dd1c7c097471bc73828f69f26b00fd4c\", element=\"ec67375c-f07b-4340-b9ac-a397b49738ad\")>,\n",
       " <selenium.webdriver.remote.webelement.WebElement (session=\"dd1c7c097471bc73828f69f26b00fd4c\", element=\"f699e9be-de55-41c9-ac03-1739e9f40251\")>,\n",
       " <selenium.webdriver.remote.webelement.WebElement (session=\"dd1c7c097471bc73828f69f26b00fd4c\", element=\"55046123-9396-470c-a1aa-2db274f2823e\")>,\n",
       " <selenium.webdriver.remote.webelement.WebElement (session=\"dd1c7c097471bc73828f69f26b00fd4c\", element=\"37502e20-5a57-4dee-8fc7-0d5b91da9fc0\")>,\n",
       " <selenium.webdriver.remote.webelement.WebElement (session=\"dd1c7c097471bc73828f69f26b00fd4c\", element=\"86cec3ef-0c3c-45d4-9a21-b95bc679a589\")>,\n",
       " <selenium.webdriver.remote.webelement.WebElement (session=\"dd1c7c097471bc73828f69f26b00fd4c\", element=\"a9886b82-cb90-4f8a-b5fd-0a2803ec48f9\")>,\n",
       " <selenium.webdriver.remote.webelement.WebElement (session=\"dd1c7c097471bc73828f69f26b00fd4c\", element=\"9750db12-b1e3-4713-8637-6afbe9722aa6\")>,\n",
       " <selenium.webdriver.remote.webelement.WebElement (session=\"dd1c7c097471bc73828f69f26b00fd4c\", element=\"e9b63d05-2bf6-457a-9f3b-49c00550905b\")>,\n",
       " <selenium.webdriver.remote.webelement.WebElement (session=\"dd1c7c097471bc73828f69f26b00fd4c\", element=\"35bbfb33-ae44-4946-a9b0-78af414d63f3\")>,\n",
       " <selenium.webdriver.remote.webelement.WebElement (session=\"dd1c7c097471bc73828f69f26b00fd4c\", element=\"3a664937-339a-4892-82f6-4918e717b3c2\")>]"
      ]
     },
     "execution_count": 66,
     "metadata": {},
     "output_type": "execute_result"
    }
   ],
   "source": [
    "brand_tags = driver.find_elements_by_xpath('//div[@class=\"_2WkVRV\"]')\n",
    "len(brand_tags)\n",
    "brand_tags"
   ]
  },
  {
   "cell_type": "code",
   "execution_count": 67,
   "id": "c8038bee",
   "metadata": {},
   "outputs": [
    {
     "data": {
      "text/plain": [
       "['ASTEROID',\n",
       " 'BRUTON',\n",
       " 'Robbie jones',\n",
       " 'Echor',\n",
       " 'SPARX',\n",
       " 'HRDK',\n",
       " 'K- FOOTLANCE',\n",
       " 'Echor',\n",
       " 'Kraasa',\n",
       " 'World Wear Footwear',\n",
       " 'RapidBox',\n",
       " 'PUMA',\n",
       " 'PUMA',\n",
       " 'aadi',\n",
       " 'believe',\n",
       " 'FOOTSTAIR',\n",
       " 'Robbie jones',\n",
       " 'DUNKASTON',\n",
       " 'aadi',\n",
       " 'Echor',\n",
       " 'India hub',\n",
       " 'Zorth',\n",
       " 'SPARX',\n",
       " 'VORII',\n",
       " 'Kreverse',\n",
       " 'RapidBox',\n",
       " 'World Wear Footwear',\n",
       " 'PUMA',\n",
       " 'Zorth',\n",
       " 'BRUTON',\n",
       " 'SPARX',\n",
       " 'SORT',\n",
       " 'Echor',\n",
       " 'Xtoon',\n",
       " 'BIRDE',\n",
       " 'CLYMB',\n",
       " 'D-SNEAKERZ',\n",
       " 'RODDICK SHOES',\n",
       " 'SCATCHITE',\n",
       " 'KNIGHT WALKERS']"
      ]
     },
     "execution_count": 67,
     "metadata": {},
     "output_type": "execute_result"
    }
   ],
   "source": [
    "brand_name = []\n",
    "\n",
    "for i in brand_tags:\n",
    "    brand_name.append(i.text)\n",
    "len(brand_name)\n",
    "brand_name"
   ]
  },
  {
   "cell_type": "code",
   "execution_count": 68,
   "id": "7b18dfa9",
   "metadata": {},
   "outputs": [
    {
     "data": {
      "text/plain": [
       "[<selenium.webdriver.remote.webelement.WebElement (session=\"dd1c7c097471bc73828f69f26b00fd4c\", element=\"0a1c8afb-0100-4438-846c-51180a2538a4\")>,\n",
       " <selenium.webdriver.remote.webelement.WebElement (session=\"dd1c7c097471bc73828f69f26b00fd4c\", element=\"a3c38854-6fad-4e06-be8d-865d7541eab0\")>,\n",
       " <selenium.webdriver.remote.webelement.WebElement (session=\"dd1c7c097471bc73828f69f26b00fd4c\", element=\"a0aa6801-a155-4cdf-8cdf-e2acf0847039\")>,\n",
       " <selenium.webdriver.remote.webelement.WebElement (session=\"dd1c7c097471bc73828f69f26b00fd4c\", element=\"b7f846e8-4a3a-482a-8d16-59222a14d811\")>,\n",
       " <selenium.webdriver.remote.webelement.WebElement (session=\"dd1c7c097471bc73828f69f26b00fd4c\", element=\"a34d4324-cb3d-4d2a-a41f-a3fcebc36821\")>,\n",
       " <selenium.webdriver.remote.webelement.WebElement (session=\"dd1c7c097471bc73828f69f26b00fd4c\", element=\"eb174b34-1536-4aab-99ff-1ce65541d592\")>,\n",
       " <selenium.webdriver.remote.webelement.WebElement (session=\"dd1c7c097471bc73828f69f26b00fd4c\", element=\"d273eacb-e0bf-4252-820d-96e1cd9bb614\")>,\n",
       " <selenium.webdriver.remote.webelement.WebElement (session=\"dd1c7c097471bc73828f69f26b00fd4c\", element=\"1529c381-9fba-4406-a8ea-ab1ab9e8ae14\")>,\n",
       " <selenium.webdriver.remote.webelement.WebElement (session=\"dd1c7c097471bc73828f69f26b00fd4c\", element=\"0e1d78ed-bf4d-47d9-9060-264e5412649d\")>,\n",
       " <selenium.webdriver.remote.webelement.WebElement (session=\"dd1c7c097471bc73828f69f26b00fd4c\", element=\"a1a5b6df-94f4-4a06-aaa4-48b17642b93d\")>,\n",
       " <selenium.webdriver.remote.webelement.WebElement (session=\"dd1c7c097471bc73828f69f26b00fd4c\", element=\"88d47588-7b88-4c58-bf93-960eb2213ab4\")>,\n",
       " <selenium.webdriver.remote.webelement.WebElement (session=\"dd1c7c097471bc73828f69f26b00fd4c\", element=\"0609e78b-7044-477a-93b2-047f21e744a8\")>,\n",
       " <selenium.webdriver.remote.webelement.WebElement (session=\"dd1c7c097471bc73828f69f26b00fd4c\", element=\"7265dc73-a9d6-4712-8116-9cf57e1b0f99\")>,\n",
       " <selenium.webdriver.remote.webelement.WebElement (session=\"dd1c7c097471bc73828f69f26b00fd4c\", element=\"c50f0aeb-62c7-41f6-8a78-0bf37682441c\")>,\n",
       " <selenium.webdriver.remote.webelement.WebElement (session=\"dd1c7c097471bc73828f69f26b00fd4c\", element=\"13738a50-34d5-44ae-883f-dac600b8240c\")>,\n",
       " <selenium.webdriver.remote.webelement.WebElement (session=\"dd1c7c097471bc73828f69f26b00fd4c\", element=\"1c2e4c57-c008-4dce-954a-8e1e878636c4\")>,\n",
       " <selenium.webdriver.remote.webelement.WebElement (session=\"dd1c7c097471bc73828f69f26b00fd4c\", element=\"3de3bd68-af27-4c03-bd35-37dc2d975282\")>,\n",
       " <selenium.webdriver.remote.webelement.WebElement (session=\"dd1c7c097471bc73828f69f26b00fd4c\", element=\"63c59b91-28f4-4e0e-9972-e90cfd24c63f\")>,\n",
       " <selenium.webdriver.remote.webelement.WebElement (session=\"dd1c7c097471bc73828f69f26b00fd4c\", element=\"81c90bef-71db-40ef-a560-cf80dbe10c91\")>,\n",
       " <selenium.webdriver.remote.webelement.WebElement (session=\"dd1c7c097471bc73828f69f26b00fd4c\", element=\"ddcd4197-f3a8-4a01-bbef-37ad7232a90d\")>,\n",
       " <selenium.webdriver.remote.webelement.WebElement (session=\"dd1c7c097471bc73828f69f26b00fd4c\", element=\"cca20e56-821d-4717-84a8-d00fdafdff39\")>,\n",
       " <selenium.webdriver.remote.webelement.WebElement (session=\"dd1c7c097471bc73828f69f26b00fd4c\", element=\"bf9ecfe7-fcba-40b5-ad18-a3ff213be205\")>,\n",
       " <selenium.webdriver.remote.webelement.WebElement (session=\"dd1c7c097471bc73828f69f26b00fd4c\", element=\"afcbf608-aeaf-4d22-9580-1a388cc2d1f9\")>,\n",
       " <selenium.webdriver.remote.webelement.WebElement (session=\"dd1c7c097471bc73828f69f26b00fd4c\", element=\"dc846397-6744-4ee8-91e7-644f0992da5d\")>,\n",
       " <selenium.webdriver.remote.webelement.WebElement (session=\"dd1c7c097471bc73828f69f26b00fd4c\", element=\"306ed0c1-9701-492a-9078-55240621f46d\")>,\n",
       " <selenium.webdriver.remote.webelement.WebElement (session=\"dd1c7c097471bc73828f69f26b00fd4c\", element=\"be2e91a7-ff35-4cc3-b77f-c00c928cb76b\")>,\n",
       " <selenium.webdriver.remote.webelement.WebElement (session=\"dd1c7c097471bc73828f69f26b00fd4c\", element=\"5e726bc7-3e09-4145-9485-a88a7cec580d\")>,\n",
       " <selenium.webdriver.remote.webelement.WebElement (session=\"dd1c7c097471bc73828f69f26b00fd4c\", element=\"f59d523d-86ce-4a31-a1e5-8e38f8a6da8c\")>,\n",
       " <selenium.webdriver.remote.webelement.WebElement (session=\"dd1c7c097471bc73828f69f26b00fd4c\", element=\"0c13341d-7adb-47db-a9d2-1ff176e96548\")>,\n",
       " <selenium.webdriver.remote.webelement.WebElement (session=\"dd1c7c097471bc73828f69f26b00fd4c\", element=\"e52ee81f-227f-41d8-9699-b6c9731c6d79\")>,\n",
       " <selenium.webdriver.remote.webelement.WebElement (session=\"dd1c7c097471bc73828f69f26b00fd4c\", element=\"5a0ebe03-71cb-4356-aa0b-ac4e1f6015e8\")>,\n",
       " <selenium.webdriver.remote.webelement.WebElement (session=\"dd1c7c097471bc73828f69f26b00fd4c\", element=\"a29cefc1-0391-4b0c-a772-6bcf95bc0700\")>,\n",
       " <selenium.webdriver.remote.webelement.WebElement (session=\"dd1c7c097471bc73828f69f26b00fd4c\", element=\"f1001e98-53ac-4c34-80c9-4c58404c8100\")>,\n",
       " <selenium.webdriver.remote.webelement.WebElement (session=\"dd1c7c097471bc73828f69f26b00fd4c\", element=\"7adc7c06-bffc-4fa9-90e9-f4992b2fae0b\")>]"
      ]
     },
     "execution_count": 68,
     "metadata": {},
     "output_type": "execute_result"
    }
   ],
   "source": [
    "prod_desc = driver.find_elements_by_xpath('//a[@class=\"IRpwTa\"]')\n",
    "len(prod_desc)\n",
    "prod_desc"
   ]
  },
  {
   "cell_type": "code",
   "execution_count": 69,
   "id": "8d5c42ff",
   "metadata": {
    "scrolled": true
   },
   "outputs": [
    {
     "data": {
      "text/plain": [
       "[\"Original Luxury Branded Fashionable Men's Casual Walkin...\",\n",
       " 'Modern Trendy Sneakers Shoes Sneakers For Men',\n",
       " 'Casual Sneakers Black Shoes For Men Sneakers For Men',\n",
       " \"Echor Men's Sneakers Fashion Lightweight Running Shoes ...\",\n",
       " 'Sneakers For Men',\n",
       " 'Sneakers For Men',\n",
       " \"Men's Canvas Low Top Sneakers Lace-up Classic Casual Sn...\",\n",
       " 'Shark-41 Sneakers For Men',\n",
       " 'Latest Collection-1216 Stylish Casual Sports Sneakers F...',\n",
       " 'RS-Z Sneakers For Men',\n",
       " 'Glory Sneakers For Men',\n",
       " 'Sneakers For Men',\n",
       " 'Sneakers for men(black_6) Sneakers For Men',\n",
       " 'Sneakers For Men',\n",
       " 'Sneakers For Men',\n",
       " 'Blue Synthetic Leather Casual Shoes Sneakers For Men',\n",
       " \"Men's Sneakers Fashion Lightweight Running Shoes Tennis...\",\n",
       " 'Luxury Fashionable casual sneaker shoes Sneakers For Me...',\n",
       " 'Sneakers For Men',\n",
       " 'SM-322 Sneakers For Men',\n",
       " 'Sneakers For Men',\n",
       " 'Combo Pack of 4 Latest Collection Stylish Casual Loafer...',\n",
       " 'RS-X Mix Sneakers For Men',\n",
       " 'Sneakers For Men',\n",
       " 'Lattest Sneakers Shoe Sneakers For Men',\n",
       " 'Men White Sneakers Sneakers For Men',\n",
       " 'Unisex Comfortable Casual Daily Wear | Gym Sneakers For...',\n",
       " \"Echor Men's Sneakers Fashion Lightweight Running Shoes ...\",\n",
       " \"white Casual shoes,Sneakers for men's Sneakers For Men\",\n",
       " 'Combo Pack of 2 Casual shoes Sneakers For Men',\n",
       " 'Walking/Outdoor/Running Sneakers For Men',\n",
       " \"Casual , Partywear Sneakers Shoes For Men's And Boys Wh...\",\n",
       " 'Fashion Outdoor Canvas Casual Light Weight Lace-up Even...',\n",
       " 'Sneakers For Men']"
      ]
     },
     "execution_count": 69,
     "metadata": {},
     "output_type": "execute_result"
    }
   ],
   "source": [
    "product_des = []\n",
    "\n",
    "for i in prod_desc:\n",
    "    product_des.append(i.text)\n",
    "len(product_des)\n",
    "product_des"
   ]
  },
  {
   "cell_type": "code",
   "execution_count": 70,
   "id": "f387c032",
   "metadata": {},
   "outputs": [
    {
     "data": {
      "text/plain": [
       "[<selenium.webdriver.remote.webelement.WebElement (session=\"dd1c7c097471bc73828f69f26b00fd4c\", element=\"eaae8070-a672-4136-b51c-ac97d7c4381c\")>,\n",
       " <selenium.webdriver.remote.webelement.WebElement (session=\"dd1c7c097471bc73828f69f26b00fd4c\", element=\"164f9a6e-5da5-4303-9b19-dceec5b2dcc1\")>,\n",
       " <selenium.webdriver.remote.webelement.WebElement (session=\"dd1c7c097471bc73828f69f26b00fd4c\", element=\"c7dda59f-9ca9-42aa-9030-da0c9b46811b\")>,\n",
       " <selenium.webdriver.remote.webelement.WebElement (session=\"dd1c7c097471bc73828f69f26b00fd4c\", element=\"a6f54ca3-146d-4fc4-b833-1fdcc0233ef9\")>,\n",
       " <selenium.webdriver.remote.webelement.WebElement (session=\"dd1c7c097471bc73828f69f26b00fd4c\", element=\"ef608dba-29fa-47e8-87fc-c1a7efcfca54\")>,\n",
       " <selenium.webdriver.remote.webelement.WebElement (session=\"dd1c7c097471bc73828f69f26b00fd4c\", element=\"b911fbba-ad16-4527-83c1-6221cfe0da6a\")>,\n",
       " <selenium.webdriver.remote.webelement.WebElement (session=\"dd1c7c097471bc73828f69f26b00fd4c\", element=\"4e042955-bb12-4896-ac8a-994761ac1f18\")>,\n",
       " <selenium.webdriver.remote.webelement.WebElement (session=\"dd1c7c097471bc73828f69f26b00fd4c\", element=\"9071cd76-ff8e-426b-a133-49edc7338977\")>,\n",
       " <selenium.webdriver.remote.webelement.WebElement (session=\"dd1c7c097471bc73828f69f26b00fd4c\", element=\"7241d8da-83a8-482f-8b59-74a8f552285a\")>,\n",
       " <selenium.webdriver.remote.webelement.WebElement (session=\"dd1c7c097471bc73828f69f26b00fd4c\", element=\"dbbeeb0c-fb2c-4a85-a828-492a12f89049\")>,\n",
       " <selenium.webdriver.remote.webelement.WebElement (session=\"dd1c7c097471bc73828f69f26b00fd4c\", element=\"f2671709-ceb8-4b69-8da5-ca4473a6d3ba\")>,\n",
       " <selenium.webdriver.remote.webelement.WebElement (session=\"dd1c7c097471bc73828f69f26b00fd4c\", element=\"c6bf013a-11c9-403c-8706-701ced441497\")>,\n",
       " <selenium.webdriver.remote.webelement.WebElement (session=\"dd1c7c097471bc73828f69f26b00fd4c\", element=\"b5f61458-97e4-43f9-b9ed-f05d79a590d6\")>,\n",
       " <selenium.webdriver.remote.webelement.WebElement (session=\"dd1c7c097471bc73828f69f26b00fd4c\", element=\"5b7d8c30-1900-4524-8bd2-0eeab7d70211\")>,\n",
       " <selenium.webdriver.remote.webelement.WebElement (session=\"dd1c7c097471bc73828f69f26b00fd4c\", element=\"807e9eee-ac20-4080-89b2-4bd21921681b\")>,\n",
       " <selenium.webdriver.remote.webelement.WebElement (session=\"dd1c7c097471bc73828f69f26b00fd4c\", element=\"063d7ea0-5274-4142-a88f-9aa6c9b543be\")>,\n",
       " <selenium.webdriver.remote.webelement.WebElement (session=\"dd1c7c097471bc73828f69f26b00fd4c\", element=\"4ba23e64-dc8a-40cc-8a36-a9b37efa0fc1\")>,\n",
       " <selenium.webdriver.remote.webelement.WebElement (session=\"dd1c7c097471bc73828f69f26b00fd4c\", element=\"bca1e690-6184-4910-aee1-f98632bf96f2\")>,\n",
       " <selenium.webdriver.remote.webelement.WebElement (session=\"dd1c7c097471bc73828f69f26b00fd4c\", element=\"999936dc-ce62-43a2-8066-6a6087fe51c9\")>,\n",
       " <selenium.webdriver.remote.webelement.WebElement (session=\"dd1c7c097471bc73828f69f26b00fd4c\", element=\"7b186aca-2bad-44f5-ac27-416852494494\")>,\n",
       " <selenium.webdriver.remote.webelement.WebElement (session=\"dd1c7c097471bc73828f69f26b00fd4c\", element=\"100394c9-8b39-4b1b-a294-f1a09979e49c\")>,\n",
       " <selenium.webdriver.remote.webelement.WebElement (session=\"dd1c7c097471bc73828f69f26b00fd4c\", element=\"f98faad1-485b-4915-863d-6943dfae1840\")>,\n",
       " <selenium.webdriver.remote.webelement.WebElement (session=\"dd1c7c097471bc73828f69f26b00fd4c\", element=\"fe00dded-16f2-4df8-a063-698f51cc9371\")>,\n",
       " <selenium.webdriver.remote.webelement.WebElement (session=\"dd1c7c097471bc73828f69f26b00fd4c\", element=\"406ebce9-814d-46a8-8058-4677b747a340\")>,\n",
       " <selenium.webdriver.remote.webelement.WebElement (session=\"dd1c7c097471bc73828f69f26b00fd4c\", element=\"d0c88732-c2e1-466a-acd9-e7f9654900f3\")>,\n",
       " <selenium.webdriver.remote.webelement.WebElement (session=\"dd1c7c097471bc73828f69f26b00fd4c\", element=\"8c957df3-0dcc-43d2-96ea-738f6b475a6a\")>,\n",
       " <selenium.webdriver.remote.webelement.WebElement (session=\"dd1c7c097471bc73828f69f26b00fd4c\", element=\"cb740e2e-58cf-4ba7-b108-55861c0f9638\")>,\n",
       " <selenium.webdriver.remote.webelement.WebElement (session=\"dd1c7c097471bc73828f69f26b00fd4c\", element=\"f9238ff7-1870-4bca-95ec-391417d9bffe\")>,\n",
       " <selenium.webdriver.remote.webelement.WebElement (session=\"dd1c7c097471bc73828f69f26b00fd4c\", element=\"a1507c10-acb1-4de3-9455-65a3401fe5a7\")>,\n",
       " <selenium.webdriver.remote.webelement.WebElement (session=\"dd1c7c097471bc73828f69f26b00fd4c\", element=\"39b268f3-bedd-40e0-a1bf-69bc3ea5ecd0\")>,\n",
       " <selenium.webdriver.remote.webelement.WebElement (session=\"dd1c7c097471bc73828f69f26b00fd4c\", element=\"3171dbfe-bfb9-41a9-80af-5fd1c8f5b83b\")>,\n",
       " <selenium.webdriver.remote.webelement.WebElement (session=\"dd1c7c097471bc73828f69f26b00fd4c\", element=\"490ee95e-1a82-4881-bb7c-8b48b4f1a265\")>,\n",
       " <selenium.webdriver.remote.webelement.WebElement (session=\"dd1c7c097471bc73828f69f26b00fd4c\", element=\"b3959cbd-1262-4554-8142-3e0784f99c43\")>,\n",
       " <selenium.webdriver.remote.webelement.WebElement (session=\"dd1c7c097471bc73828f69f26b00fd4c\", element=\"2eeb18e7-f174-4786-b3fb-d2d5cf7a66d1\")>,\n",
       " <selenium.webdriver.remote.webelement.WebElement (session=\"dd1c7c097471bc73828f69f26b00fd4c\", element=\"1733d720-9151-4dc0-a21b-fbdea2bd6150\")>,\n",
       " <selenium.webdriver.remote.webelement.WebElement (session=\"dd1c7c097471bc73828f69f26b00fd4c\", element=\"e1157d08-ac01-4698-a4d8-59d02ed76f01\")>,\n",
       " <selenium.webdriver.remote.webelement.WebElement (session=\"dd1c7c097471bc73828f69f26b00fd4c\", element=\"a861812a-d38b-4acc-9ee9-ffd2913b3119\")>,\n",
       " <selenium.webdriver.remote.webelement.WebElement (session=\"dd1c7c097471bc73828f69f26b00fd4c\", element=\"5d219409-17ae-4044-b24b-b46cfea058de\")>,\n",
       " <selenium.webdriver.remote.webelement.WebElement (session=\"dd1c7c097471bc73828f69f26b00fd4c\", element=\"8d989615-9690-4c0f-bc91-9ce18212a4be\")>,\n",
       " <selenium.webdriver.remote.webelement.WebElement (session=\"dd1c7c097471bc73828f69f26b00fd4c\", element=\"b8a04a02-17bf-43e7-ac75-97259bf6c7e2\")>]"
      ]
     },
     "execution_count": 70,
     "metadata": {},
     "output_type": "execute_result"
    }
   ],
   "source": [
    "price_tag = driver.find_elements_by_xpath('//div[@class=\"_30jeq3\"]')\n",
    "len(price_tag)\n",
    "price_tag"
   ]
  },
  {
   "cell_type": "code",
   "execution_count": 71,
   "id": "96f26f78",
   "metadata": {},
   "outputs": [
    {
     "data": {
      "text/plain": [
       "['₹499',\n",
       " '₹339',\n",
       " '₹451',\n",
       " '₹569',\n",
       " '₹799',\n",
       " '₹367',\n",
       " '₹489',\n",
       " '₹446',\n",
       " '₹449',\n",
       " '₹199',\n",
       " '₹640',\n",
       " '₹9,999',\n",
       " '₹1,319',\n",
       " '₹399',\n",
       " '₹424',\n",
       " '₹749',\n",
       " '₹499',\n",
       " '₹449',\n",
       " '₹290',\n",
       " '₹569',\n",
       " '₹429',\n",
       " '₹498',\n",
       " '₹891',\n",
       " '₹474',\n",
       " '₹259',\n",
       " '₹630',\n",
       " '₹599',\n",
       " '₹5,219',\n",
       " '₹499',\n",
       " '₹305',\n",
       " '₹721',\n",
       " '₹699',\n",
       " '₹499',\n",
       " '₹499',\n",
       " '₹599',\n",
       " '₹649',\n",
       " '₹384',\n",
       " '₹499',\n",
       " '₹398',\n",
       " '₹649']"
      ]
     },
     "execution_count": 71,
     "metadata": {},
     "output_type": "execute_result"
    }
   ],
   "source": [
    "price_detail = []\n",
    "\n",
    "for i in price_tag:\n",
    "    price_detail.append(i.text)\n",
    "len(price_detail)\n",
    "price_detail"
   ]
  },
  {
   "cell_type": "code",
   "execution_count": 80,
   "id": "e5291a7f",
   "metadata": {},
   "outputs": [
    {
     "data": {
      "text/plain": [
       "[<selenium.webdriver.remote.webelement.WebElement (session=\"dd1c7c097471bc73828f69f26b00fd4c\", element=\"52664ddc-8df6-4eb9-a48a-7eb68b64eeb6\")>,\n",
       " <selenium.webdriver.remote.webelement.WebElement (session=\"dd1c7c097471bc73828f69f26b00fd4c\", element=\"8d6f0d96-b576-449c-85d6-5de419029b47\")>,\n",
       " <selenium.webdriver.remote.webelement.WebElement (session=\"dd1c7c097471bc73828f69f26b00fd4c\", element=\"0773e35d-efa2-4546-9f8a-cd9b4abb3cd2\")>,\n",
       " <selenium.webdriver.remote.webelement.WebElement (session=\"dd1c7c097471bc73828f69f26b00fd4c\", element=\"5a6605fa-4c88-476a-8a43-6fbb6c6890a7\")>,\n",
       " <selenium.webdriver.remote.webelement.WebElement (session=\"dd1c7c097471bc73828f69f26b00fd4c\", element=\"e992c49a-b878-4546-a68d-1b108f56d05d\")>,\n",
       " <selenium.webdriver.remote.webelement.WebElement (session=\"dd1c7c097471bc73828f69f26b00fd4c\", element=\"8346971f-bc52-4ea1-aaa2-9a441f1a7652\")>,\n",
       " <selenium.webdriver.remote.webelement.WebElement (session=\"dd1c7c097471bc73828f69f26b00fd4c\", element=\"fb7cc0b6-fd31-41c6-84fd-6e9bf192f3d1\")>,\n",
       " <selenium.webdriver.remote.webelement.WebElement (session=\"dd1c7c097471bc73828f69f26b00fd4c\", element=\"51f9ccaf-2ae9-4ef1-b530-489889199523\")>,\n",
       " <selenium.webdriver.remote.webelement.WebElement (session=\"dd1c7c097471bc73828f69f26b00fd4c\", element=\"e9f16dd8-8e0a-4541-b43a-75b859cffed9\")>,\n",
       " <selenium.webdriver.remote.webelement.WebElement (session=\"dd1c7c097471bc73828f69f26b00fd4c\", element=\"27259146-c7c2-41a0-96df-cdb2293c6973\")>,\n",
       " <selenium.webdriver.remote.webelement.WebElement (session=\"dd1c7c097471bc73828f69f26b00fd4c\", element=\"e9283ec1-d070-4137-bdb8-049c444ada4b\")>,\n",
       " <selenium.webdriver.remote.webelement.WebElement (session=\"dd1c7c097471bc73828f69f26b00fd4c\", element=\"6df5da60-9ed2-41a2-b794-40ac2aabe202\")>,\n",
       " <selenium.webdriver.remote.webelement.WebElement (session=\"dd1c7c097471bc73828f69f26b00fd4c\", element=\"84fe1572-528c-415c-8e9d-45e709ff6407\")>,\n",
       " <selenium.webdriver.remote.webelement.WebElement (session=\"dd1c7c097471bc73828f69f26b00fd4c\", element=\"1a6ed33d-abe8-4a9a-a3f1-6b269ad94c1a\")>,\n",
       " <selenium.webdriver.remote.webelement.WebElement (session=\"dd1c7c097471bc73828f69f26b00fd4c\", element=\"c1cbe4ca-8556-489f-ab2e-677153b61f04\")>,\n",
       " <selenium.webdriver.remote.webelement.WebElement (session=\"dd1c7c097471bc73828f69f26b00fd4c\", element=\"5e534f86-f486-4d72-bb5d-42ba0e780f41\")>,\n",
       " <selenium.webdriver.remote.webelement.WebElement (session=\"dd1c7c097471bc73828f69f26b00fd4c\", element=\"dac89359-5716-4abd-8500-1c0616bb9b1b\")>,\n",
       " <selenium.webdriver.remote.webelement.WebElement (session=\"dd1c7c097471bc73828f69f26b00fd4c\", element=\"5ba7ee65-8f78-47c7-a171-8139bf715268\")>,\n",
       " <selenium.webdriver.remote.webelement.WebElement (session=\"dd1c7c097471bc73828f69f26b00fd4c\", element=\"73655f93-a34f-4228-8999-57b8a7105a54\")>,\n",
       " <selenium.webdriver.remote.webelement.WebElement (session=\"dd1c7c097471bc73828f69f26b00fd4c\", element=\"262bb7e8-64a6-4a6a-b4ea-7ca123e0de71\")>,\n",
       " <selenium.webdriver.remote.webelement.WebElement (session=\"dd1c7c097471bc73828f69f26b00fd4c\", element=\"f6578491-0019-4c58-ab3e-11cc69ad21e7\")>,\n",
       " <selenium.webdriver.remote.webelement.WebElement (session=\"dd1c7c097471bc73828f69f26b00fd4c\", element=\"ab1c5f1f-7cbf-426d-b999-5d46d282b091\")>,\n",
       " <selenium.webdriver.remote.webelement.WebElement (session=\"dd1c7c097471bc73828f69f26b00fd4c\", element=\"f6de9f77-b311-4d53-9ad8-dc8dbf67c637\")>,\n",
       " <selenium.webdriver.remote.webelement.WebElement (session=\"dd1c7c097471bc73828f69f26b00fd4c\", element=\"71cbd41a-47ee-42a4-be7c-45ad339b00f2\")>,\n",
       " <selenium.webdriver.remote.webelement.WebElement (session=\"dd1c7c097471bc73828f69f26b00fd4c\", element=\"e132bc6b-066b-4728-aaa1-372587a24668\")>,\n",
       " <selenium.webdriver.remote.webelement.WebElement (session=\"dd1c7c097471bc73828f69f26b00fd4c\", element=\"3c9aea03-1356-4e53-99a6-8f99797108e0\")>,\n",
       " <selenium.webdriver.remote.webelement.WebElement (session=\"dd1c7c097471bc73828f69f26b00fd4c\", element=\"53ddfa9a-d768-40ca-a6d8-2b829d6bbf6f\")>,\n",
       " <selenium.webdriver.remote.webelement.WebElement (session=\"dd1c7c097471bc73828f69f26b00fd4c\", element=\"0fbd07d6-67f0-456d-ab43-c7ed5d263020\")>,\n",
       " <selenium.webdriver.remote.webelement.WebElement (session=\"dd1c7c097471bc73828f69f26b00fd4c\", element=\"1fc5f582-a074-4e53-a939-9126bb43fb85\")>,\n",
       " <selenium.webdriver.remote.webelement.WebElement (session=\"dd1c7c097471bc73828f69f26b00fd4c\", element=\"548476cc-d015-4459-8814-a73f62ba7959\")>,\n",
       " <selenium.webdriver.remote.webelement.WebElement (session=\"dd1c7c097471bc73828f69f26b00fd4c\", element=\"cb685032-1322-4cdf-8584-696d1262ca4f\")>,\n",
       " <selenium.webdriver.remote.webelement.WebElement (session=\"dd1c7c097471bc73828f69f26b00fd4c\", element=\"aebdb2b6-820c-4099-94e9-199555e37910\")>,\n",
       " <selenium.webdriver.remote.webelement.WebElement (session=\"dd1c7c097471bc73828f69f26b00fd4c\", element=\"20a3fa0f-c826-4766-8efd-6a3d89387a32\")>,\n",
       " <selenium.webdriver.remote.webelement.WebElement (session=\"dd1c7c097471bc73828f69f26b00fd4c\", element=\"126852b5-9038-43cc-876f-535290ed272d\")>,\n",
       " <selenium.webdriver.remote.webelement.WebElement (session=\"dd1c7c097471bc73828f69f26b00fd4c\", element=\"512095a5-0fba-4f87-90d6-b2d2d20753f3\")>,\n",
       " <selenium.webdriver.remote.webelement.WebElement (session=\"dd1c7c097471bc73828f69f26b00fd4c\", element=\"b6cb9fa3-3afd-4b6c-a9b1-b0cbbcc85be6\")>,\n",
       " <selenium.webdriver.remote.webelement.WebElement (session=\"dd1c7c097471bc73828f69f26b00fd4c\", element=\"08fcdc31-34ed-4f1d-b5d9-2680974b3b16\")>,\n",
       " <selenium.webdriver.remote.webelement.WebElement (session=\"dd1c7c097471bc73828f69f26b00fd4c\", element=\"6b0e9cd4-bda9-488c-b682-30c577d5295c\")>,\n",
       " <selenium.webdriver.remote.webelement.WebElement (session=\"dd1c7c097471bc73828f69f26b00fd4c\", element=\"2b8f659a-96f5-4327-aa7b-c05c3b25c592\")>]"
      ]
     },
     "execution_count": 80,
     "metadata": {},
     "output_type": "execute_result"
    }
   ],
   "source": [
    "disc_tag = driver.find_elements_by_xpath('//div[@class=\"_3Ay6Sb\"]')\n",
    "len(disc_tag)\n",
    "disc_tag"
   ]
  },
  {
   "cell_type": "code",
   "execution_count": 72,
   "id": "3e8cccba",
   "metadata": {},
   "outputs": [
    {
     "data": {
      "text/plain": [
       "<selenium.webdriver.remote.webelement.WebElement (session=\"dd1c7c097471bc73828f69f26b00fd4c\", element=\"ddc8add6-b972-4a41-acbd-72e883f4d876\")>"
      ]
     },
     "execution_count": 72,
     "metadata": {},
     "output_type": "execute_result"
    }
   ],
   "source": [
    "next_btn = driver.find_element_by_xpath('/html/body/div[1]/div/div[3]/div[1]/div[2]/div[12]/div/div/nav/a[12]/span')\n",
    "next_btn"
   ]
  },
  {
   "cell_type": "code",
   "execution_count": 73,
   "id": "61d04a93",
   "metadata": {},
   "outputs": [],
   "source": [
    "next_btn.click()"
   ]
  },
  {
   "cell_type": "code",
   "execution_count": 74,
   "id": "dfd1b270",
   "metadata": {},
   "outputs": [
    {
     "data": {
      "text/plain": [
       "[<selenium.webdriver.remote.webelement.WebElement (session=\"dd1c7c097471bc73828f69f26b00fd4c\", element=\"6a04b74d-e5b2-4117-a5d6-7a3087dfaffe\")>,\n",
       " <selenium.webdriver.remote.webelement.WebElement (session=\"dd1c7c097471bc73828f69f26b00fd4c\", element=\"c0f05be4-a385-4fe2-a6b8-121187336b07\")>,\n",
       " <selenium.webdriver.remote.webelement.WebElement (session=\"dd1c7c097471bc73828f69f26b00fd4c\", element=\"2499dc74-b439-45f5-b658-3998888aab69\")>,\n",
       " <selenium.webdriver.remote.webelement.WebElement (session=\"dd1c7c097471bc73828f69f26b00fd4c\", element=\"5b5ea6ff-c437-4a67-a5fb-244904d639ab\")>,\n",
       " <selenium.webdriver.remote.webelement.WebElement (session=\"dd1c7c097471bc73828f69f26b00fd4c\", element=\"6bf2dd3a-e415-4f55-9374-b39cbc328ec3\")>,\n",
       " <selenium.webdriver.remote.webelement.WebElement (session=\"dd1c7c097471bc73828f69f26b00fd4c\", element=\"6a0dfcb4-664b-4121-b5dc-bb0826d654b3\")>,\n",
       " <selenium.webdriver.remote.webelement.WebElement (session=\"dd1c7c097471bc73828f69f26b00fd4c\", element=\"dd4eb3b0-4220-495c-af95-b8f97185aedb\")>,\n",
       " <selenium.webdriver.remote.webelement.WebElement (session=\"dd1c7c097471bc73828f69f26b00fd4c\", element=\"68e43049-00de-4c7b-88e9-7f964ea4e9f2\")>,\n",
       " <selenium.webdriver.remote.webelement.WebElement (session=\"dd1c7c097471bc73828f69f26b00fd4c\", element=\"3f818ddb-21e8-4f8f-b53a-4af67e072701\")>,\n",
       " <selenium.webdriver.remote.webelement.WebElement (session=\"dd1c7c097471bc73828f69f26b00fd4c\", element=\"fb2f7000-18b0-4004-ab55-44285ae4a540\")>,\n",
       " <selenium.webdriver.remote.webelement.WebElement (session=\"dd1c7c097471bc73828f69f26b00fd4c\", element=\"a496458e-923c-4231-a522-388dfe98edcd\")>,\n",
       " <selenium.webdriver.remote.webelement.WebElement (session=\"dd1c7c097471bc73828f69f26b00fd4c\", element=\"b420be84-de5e-4a7e-b737-d5d85ec5c0f3\")>,\n",
       " <selenium.webdriver.remote.webelement.WebElement (session=\"dd1c7c097471bc73828f69f26b00fd4c\", element=\"fd516280-433b-4ba2-9881-c59b096c7c3f\")>,\n",
       " <selenium.webdriver.remote.webelement.WebElement (session=\"dd1c7c097471bc73828f69f26b00fd4c\", element=\"326b06cf-0a96-4a05-be83-36829fec6ffa\")>,\n",
       " <selenium.webdriver.remote.webelement.WebElement (session=\"dd1c7c097471bc73828f69f26b00fd4c\", element=\"7418cae4-7072-4fd3-acb7-cd133f10671c\")>,\n",
       " <selenium.webdriver.remote.webelement.WebElement (session=\"dd1c7c097471bc73828f69f26b00fd4c\", element=\"fff9ec23-8391-4f06-864c-3da91917e0fb\")>,\n",
       " <selenium.webdriver.remote.webelement.WebElement (session=\"dd1c7c097471bc73828f69f26b00fd4c\", element=\"a46fd81c-0c09-4fae-ae0d-303424483510\")>,\n",
       " <selenium.webdriver.remote.webelement.WebElement (session=\"dd1c7c097471bc73828f69f26b00fd4c\", element=\"9667c30e-48c6-4bc9-8cff-ae8ff293fa85\")>,\n",
       " <selenium.webdriver.remote.webelement.WebElement (session=\"dd1c7c097471bc73828f69f26b00fd4c\", element=\"c84b5496-f609-44a7-888c-ca6b634c6ad6\")>,\n",
       " <selenium.webdriver.remote.webelement.WebElement (session=\"dd1c7c097471bc73828f69f26b00fd4c\", element=\"b318d0f6-34d9-4669-b771-ae5d77b0e57d\")>]"
      ]
     },
     "execution_count": 74,
     "metadata": {},
     "output_type": "execute_result"
    }
   ],
   "source": [
    "brand_tags = driver.find_elements_by_xpath('//div[@class=\"_2WkVRV\"]')\n",
    "len(brand_tags)\n",
    "brand_tags[0:20]"
   ]
  },
  {
   "cell_type": "code",
   "execution_count": 75,
   "id": "3848b59f",
   "metadata": {},
   "outputs": [
    {
     "data": {
      "text/plain": [
       "['Robbie jones',\n",
       " 'PUMA',\n",
       " 'CALCADOS',\n",
       " 'Echor',\n",
       " 'Rzisbo',\n",
       " 'KANEGGYE',\n",
       " 'BIRDE',\n",
       " 'CLYMB',\n",
       " 'Echor',\n",
       " 'BIRDE',\n",
       " 'CLYMB',\n",
       " 'KNIGHT WALKERS',\n",
       " 'Vellinto',\n",
       " 'FEWROK',\n",
       " 'BRUTON',\n",
       " 'Echor',\n",
       " 'Robbie jones',\n",
       " 'BRUTON',\n",
       " 'SPARX',\n",
       " 'Echor']"
      ]
     },
     "execution_count": 75,
     "metadata": {},
     "output_type": "execute_result"
    }
   ],
   "source": [
    "brand_name = []\n",
    "\n",
    "for i in brand_tags:\n",
    "    brand_name.append(i.text)\n",
    "len(brand_name)\n",
    "brand_name[0:20]"
   ]
  },
  {
   "cell_type": "code",
   "execution_count": 76,
   "id": "58efecb0",
   "metadata": {},
   "outputs": [
    {
     "data": {
      "text/plain": [
       "[<selenium.webdriver.remote.webelement.WebElement (session=\"dd1c7c097471bc73828f69f26b00fd4c\", element=\"ded1b782-5171-43ad-bff0-102897f8cefb\")>,\n",
       " <selenium.webdriver.remote.webelement.WebElement (session=\"dd1c7c097471bc73828f69f26b00fd4c\", element=\"92a5320f-b7d1-4cc6-b155-87564edbcbc4\")>,\n",
       " <selenium.webdriver.remote.webelement.WebElement (session=\"dd1c7c097471bc73828f69f26b00fd4c\", element=\"a16eadab-6e86-4741-b5e0-a17f789b490e\")>,\n",
       " <selenium.webdriver.remote.webelement.WebElement (session=\"dd1c7c097471bc73828f69f26b00fd4c\", element=\"a507d225-7e27-4ed5-9439-11ef2a8cf884\")>,\n",
       " <selenium.webdriver.remote.webelement.WebElement (session=\"dd1c7c097471bc73828f69f26b00fd4c\", element=\"1c943090-b553-40d6-99d2-f8c45428d8f3\")>,\n",
       " <selenium.webdriver.remote.webelement.WebElement (session=\"dd1c7c097471bc73828f69f26b00fd4c\", element=\"bcf52fd4-feaf-438b-8ad5-8ed7700a80e7\")>,\n",
       " <selenium.webdriver.remote.webelement.WebElement (session=\"dd1c7c097471bc73828f69f26b00fd4c\", element=\"a5b491f5-a1e9-4df9-adcf-1dd984cbd982\")>,\n",
       " <selenium.webdriver.remote.webelement.WebElement (session=\"dd1c7c097471bc73828f69f26b00fd4c\", element=\"85da6728-0bd0-41d4-a342-b67a01d3ac60\")>,\n",
       " <selenium.webdriver.remote.webelement.WebElement (session=\"dd1c7c097471bc73828f69f26b00fd4c\", element=\"c1a75f50-0ba9-4f37-8366-a3cf2e4d8419\")>,\n",
       " <selenium.webdriver.remote.webelement.WebElement (session=\"dd1c7c097471bc73828f69f26b00fd4c\", element=\"e4214bcf-9e9d-4eca-b591-54c189dd9784\")>,\n",
       " <selenium.webdriver.remote.webelement.WebElement (session=\"dd1c7c097471bc73828f69f26b00fd4c\", element=\"193791cf-02f4-4fbe-b476-264c239e09c5\")>,\n",
       " <selenium.webdriver.remote.webelement.WebElement (session=\"dd1c7c097471bc73828f69f26b00fd4c\", element=\"683d3f7d-8d9c-466d-85e5-19cb85d7a726\")>,\n",
       " <selenium.webdriver.remote.webelement.WebElement (session=\"dd1c7c097471bc73828f69f26b00fd4c\", element=\"0e7ca47b-a777-4829-b780-f84146362679\")>,\n",
       " <selenium.webdriver.remote.webelement.WebElement (session=\"dd1c7c097471bc73828f69f26b00fd4c\", element=\"1ab41851-707e-4d3d-b090-fea0829b0d7d\")>,\n",
       " <selenium.webdriver.remote.webelement.WebElement (session=\"dd1c7c097471bc73828f69f26b00fd4c\", element=\"a01ea737-4b49-4df7-9ad2-727a6a6ed28a\")>,\n",
       " <selenium.webdriver.remote.webelement.WebElement (session=\"dd1c7c097471bc73828f69f26b00fd4c\", element=\"c9eda909-3d18-4b55-8cf5-98f47e9f5f57\")>,\n",
       " <selenium.webdriver.remote.webelement.WebElement (session=\"dd1c7c097471bc73828f69f26b00fd4c\", element=\"d465986f-c59d-4124-8651-746a1f4addac\")>,\n",
       " <selenium.webdriver.remote.webelement.WebElement (session=\"dd1c7c097471bc73828f69f26b00fd4c\", element=\"2fe89b85-8cae-4956-94ff-87e6a326aaa7\")>,\n",
       " <selenium.webdriver.remote.webelement.WebElement (session=\"dd1c7c097471bc73828f69f26b00fd4c\", element=\"72b3d701-4db1-45e2-bec4-648e408ae17d\")>,\n",
       " <selenium.webdriver.remote.webelement.WebElement (session=\"dd1c7c097471bc73828f69f26b00fd4c\", element=\"4a1099fd-d34e-4477-a514-70fc77eb0510\")>]"
      ]
     },
     "execution_count": 76,
     "metadata": {},
     "output_type": "execute_result"
    }
   ],
   "source": [
    "prod_desc = driver.find_elements_by_xpath('//a[@class=\"IRpwTa\"]')\n",
    "len(prod_desc)\n",
    "prod_desc[0:20]"
   ]
  },
  {
   "cell_type": "code",
   "execution_count": 77,
   "id": "d4875c4d",
   "metadata": {},
   "outputs": [
    {
     "data": {
      "text/plain": [
       "['Casual Sneakers White Shoes For Men Sneakers For Men',\n",
       " 'Puma Smash v2 L Perf Puma White-Puma Whi Sneakers For M...',\n",
       " 'Trendy Fashion Combo Pack of 2 Sneakers For Men',\n",
       " \"Echor Men's Sneakers Fashion Lightweight Running Shoes ...\",\n",
       " 'Sneakers For Men',\n",
       " 'Combo Pack of 5 Casual Shoes Sneakers For Men',\n",
       " 'Walking/Outdoor/Running Sneakers For Men',\n",
       " \"Men's Canvas Low Top Sneakers Lace-up Classic Casual Sn...\",\n",
       " 'Combo Pack of 2 Casual Shoes Sneakers For Men',\n",
       " 'Sneakers For Men',\n",
       " 'Casual Sneakrs For Men Sneakers For Men',\n",
       " 'Modern & Trendy Collection Combo Pack of 02 Shoes for M...',\n",
       " \"Men's Sneakers Fashion Lightweight Running Shoes Tennis...\",\n",
       " 'Sneakers For Men',\n",
       " 'Combo Pack Of 2 Latest Stylish Casual Shoes for Men Lac...',\n",
       " \"Men's Canvas Low Top Sneakers Lace-up Classic Casual Sn...\",\n",
       " 'Skypy-31 Walking Shoes,Training Shoes,Sneakers,Loafers,...',\n",
       " 'Sneakers For Men',\n",
       " 'RS-Z Sneakers For Men',\n",
       " 'Casual Sneakers Shoes For Men And Boys Sneakers For Men']"
      ]
     },
     "execution_count": 77,
     "metadata": {},
     "output_type": "execute_result"
    }
   ],
   "source": [
    "product_des = []\n",
    "\n",
    "for i in prod_desc:\n",
    "    product_des.append(i.text)\n",
    "len(product_des)\n",
    "product_des[0:20]"
   ]
  },
  {
   "cell_type": "code",
   "execution_count": 78,
   "id": "ed6f5798",
   "metadata": {},
   "outputs": [
    {
     "data": {
      "text/plain": [
       "[<selenium.webdriver.remote.webelement.WebElement (session=\"dd1c7c097471bc73828f69f26b00fd4c\", element=\"a3a73775-31ac-4435-8b2b-fd725752465c\")>,\n",
       " <selenium.webdriver.remote.webelement.WebElement (session=\"dd1c7c097471bc73828f69f26b00fd4c\", element=\"8d02b7fc-3ba8-4c61-91bc-8d80af1d9650\")>,\n",
       " <selenium.webdriver.remote.webelement.WebElement (session=\"dd1c7c097471bc73828f69f26b00fd4c\", element=\"35a29692-467e-4bf5-9672-a158aeedd5fc\")>,\n",
       " <selenium.webdriver.remote.webelement.WebElement (session=\"dd1c7c097471bc73828f69f26b00fd4c\", element=\"c0a3617d-6109-46a1-a11b-47c22b320850\")>,\n",
       " <selenium.webdriver.remote.webelement.WebElement (session=\"dd1c7c097471bc73828f69f26b00fd4c\", element=\"5e69293f-33df-4a5d-8371-bfa374675480\")>,\n",
       " <selenium.webdriver.remote.webelement.WebElement (session=\"dd1c7c097471bc73828f69f26b00fd4c\", element=\"abad238f-4a26-41bd-8875-b9fd35e7b332\")>,\n",
       " <selenium.webdriver.remote.webelement.WebElement (session=\"dd1c7c097471bc73828f69f26b00fd4c\", element=\"e81cf446-bc00-4322-9f12-309019b782c6\")>,\n",
       " <selenium.webdriver.remote.webelement.WebElement (session=\"dd1c7c097471bc73828f69f26b00fd4c\", element=\"e1eb5de6-4022-46d6-9fb6-45c66838ce4a\")>,\n",
       " <selenium.webdriver.remote.webelement.WebElement (session=\"dd1c7c097471bc73828f69f26b00fd4c\", element=\"2c3f8ff3-5b3c-497f-b26b-7504892e4a64\")>,\n",
       " <selenium.webdriver.remote.webelement.WebElement (session=\"dd1c7c097471bc73828f69f26b00fd4c\", element=\"e81a2fe9-712a-470b-b9b3-bd1262bf59c7\")>,\n",
       " <selenium.webdriver.remote.webelement.WebElement (session=\"dd1c7c097471bc73828f69f26b00fd4c\", element=\"1758a2de-3b1f-4d2c-9af2-c3a9101199a5\")>,\n",
       " <selenium.webdriver.remote.webelement.WebElement (session=\"dd1c7c097471bc73828f69f26b00fd4c\", element=\"bb341316-be42-4a41-a639-a987b4de3525\")>,\n",
       " <selenium.webdriver.remote.webelement.WebElement (session=\"dd1c7c097471bc73828f69f26b00fd4c\", element=\"785e6492-a6c8-4788-9958-7de0483b6d7d\")>,\n",
       " <selenium.webdriver.remote.webelement.WebElement (session=\"dd1c7c097471bc73828f69f26b00fd4c\", element=\"5f52085a-16fe-497a-87aa-06979032cc73\")>,\n",
       " <selenium.webdriver.remote.webelement.WebElement (session=\"dd1c7c097471bc73828f69f26b00fd4c\", element=\"38cd4c6e-1ec3-4b0b-b6cc-fe0c7ae273aa\")>,\n",
       " <selenium.webdriver.remote.webelement.WebElement (session=\"dd1c7c097471bc73828f69f26b00fd4c\", element=\"5894c383-fb28-4c19-8525-9d8a3e501d0e\")>,\n",
       " <selenium.webdriver.remote.webelement.WebElement (session=\"dd1c7c097471bc73828f69f26b00fd4c\", element=\"f8a18cc1-0504-426a-a062-75f717b7f52c\")>,\n",
       " <selenium.webdriver.remote.webelement.WebElement (session=\"dd1c7c097471bc73828f69f26b00fd4c\", element=\"b2eca0ff-c204-458f-b20b-3017777ce856\")>,\n",
       " <selenium.webdriver.remote.webelement.WebElement (session=\"dd1c7c097471bc73828f69f26b00fd4c\", element=\"8134890d-e333-4bfe-ac56-38f62447eb34\")>,\n",
       " <selenium.webdriver.remote.webelement.WebElement (session=\"dd1c7c097471bc73828f69f26b00fd4c\", element=\"24af9dca-07e6-4b94-a597-b8464fe1eb8d\")>]"
      ]
     },
     "execution_count": 78,
     "metadata": {},
     "output_type": "execute_result"
    }
   ],
   "source": [
    "price_tag = driver.find_elements_by_xpath('//div[@class=\"_30jeq3\"]')\n",
    "len(price_tag)\n",
    "price_tag[0:20]"
   ]
  },
  {
   "cell_type": "code",
   "execution_count": 79,
   "id": "6efbb306",
   "metadata": {},
   "outputs": [
    {
     "data": {
      "text/plain": [
       "['₹474',\n",
       " '₹2,199',\n",
       " '₹498',\n",
       " '₹569',\n",
       " '₹599',\n",
       " '₹399',\n",
       " '₹892',\n",
       " '₹649',\n",
       " '₹386',\n",
       " '₹535',\n",
       " '₹699',\n",
       " '₹649',\n",
       " '₹749',\n",
       " '₹429',\n",
       " '₹536',\n",
       " '₹569',\n",
       " '₹499',\n",
       " '₹530',\n",
       " '₹799',\n",
       " '₹446']"
      ]
     },
     "execution_count": 79,
     "metadata": {},
     "output_type": "execute_result"
    }
   ],
   "source": [
    "price_detail = []\n",
    "\n",
    "for i in price_tag:\n",
    "    price_detail.append(i.text)\n",
    "len(price_detail)\n",
    "price_detail[0:20]"
   ]
  },
  {
   "cell_type": "markdown",
   "id": "b0a39fef",
   "metadata": {},
   "source": [
    "6.  Scrape 100 reviews data from flipkart.com for iphone11 phone"
   ]
  },
  {
   "cell_type": "code",
   "execution_count": 98,
   "id": "eac00632",
   "metadata": {},
   "outputs": [],
   "source": [
    "url = 'https://www.flipkart.com/apple-iphone-11-black-64-gb/p/itm4e5041ba101fd?pid=MOBFWQ6BXGJCEYNY&lid=LSTMOBFWQ6BXGJCEYNYL0BETT&marketplace=FLIPKART&q=i+phone+11+mobile+64&store=tyy%2F4io&srno=s_1_4&otracker=search&otracker1=search&fm=SEARCH&iid=7360e78c-c09b-41f9-8216-c48ef01c9f08.MOBFWQ6BXGJCEYNY.SEARCH&ppt=sp&ppn=sp&ssid=mv10hcaf8w0000001642067855625&qH=251fd8c4a7b0f731'\n",
    "driver.get(url)"
   ]
  },
  {
   "cell_type": "code",
   "execution_count": 99,
   "id": "49c1a2bd",
   "metadata": {},
   "outputs": [
    {
     "data": {
      "text/plain": [
       "[<selenium.webdriver.remote.webelement.WebElement (session=\"38766a235d0263ba0507d20a8345bf7e\", element=\"d7ba81ef-1f23-4ace-918a-3134026a3325\")>,\n",
       " <selenium.webdriver.remote.webelement.WebElement (session=\"38766a235d0263ba0507d20a8345bf7e\", element=\"0bf77a2f-dfd3-49c3-8e62-68484e03e110\")>,\n",
       " <selenium.webdriver.remote.webelement.WebElement (session=\"38766a235d0263ba0507d20a8345bf7e\", element=\"da9a6edb-f107-48e8-9892-d53ebf22b34a\")>,\n",
       " <selenium.webdriver.remote.webelement.WebElement (session=\"38766a235d0263ba0507d20a8345bf7e\", element=\"6937fc18-b19e-410d-a2b9-04157a57ba83\")>,\n",
       " <selenium.webdriver.remote.webelement.WebElement (session=\"38766a235d0263ba0507d20a8345bf7e\", element=\"ac9bb126-d807-4e6b-8ff9-1c81eb585fbb\")>,\n",
       " <selenium.webdriver.remote.webelement.WebElement (session=\"38766a235d0263ba0507d20a8345bf7e\", element=\"ba1cfd9b-8e8c-469f-9041-16482aee1de8\")>,\n",
       " <selenium.webdriver.remote.webelement.WebElement (session=\"38766a235d0263ba0507d20a8345bf7e\", element=\"55ba2ea5-e287-457b-934d-efe6da5e967d\")>,\n",
       " <selenium.webdriver.remote.webelement.WebElement (session=\"38766a235d0263ba0507d20a8345bf7e\", element=\"c5208483-ce0b-404e-8f6d-7ac37d62df1c\")>,\n",
       " <selenium.webdriver.remote.webelement.WebElement (session=\"38766a235d0263ba0507d20a8345bf7e\", element=\"62022818-8d42-48f9-9213-2b8ebf31e7fc\")>,\n",
       " <selenium.webdriver.remote.webelement.WebElement (session=\"38766a235d0263ba0507d20a8345bf7e\", element=\"82254405-68c9-4be6-9dac-ab4a2478049d\")>]"
      ]
     },
     "execution_count": 99,
     "metadata": {},
     "output_type": "execute_result"
    }
   ],
   "source": [
    "rate_tag = driver.find_elements_by_xpath('//div[@class=\"col _2wzgFH\"]')\n",
    "len(rate_tag)\n",
    "rate_tag"
   ]
  },
  {
   "cell_type": "code",
   "execution_count": 100,
   "id": "09f4bd63",
   "metadata": {},
   "outputs": [
    {
     "data": {
      "text/plain": [
       "['5\\nBrilliant\\nThe Best Phone for the Money\\n\\nThe iPhone 11 offers superb cameras, a more durable design and excellent battery life for an affordable price.\\n\\nCompelling ultra-wide camera\\nNew Night mode is excellent\\nLong battery life\\nAnkit\\nCertified Buyer, Gurgaon\\nSep, 2019\\n156681992',\n",
       " '5\\nSimply awesome\\nReally satisfied with the Product I received... It’s totally genuine and the packaging was also really good so if ur planning to buy just go for it.\\nFlipkart Customer\\nCertified Buyer, Mokokchung\\nNov, 2020\\n5133734',\n",
       " '5\\nPerfect product!\\nAmazing phone with great cameras and better battery which gives you the best performance. I just love the camera .\\nFlipkart Customer\\nCertified Buyer, Hyderabad\\nJun, 2020\\n99291539',\n",
       " '',\n",
       " '',\n",
       " '',\n",
       " '',\n",
       " '',\n",
       " '',\n",
       " '']"
      ]
     },
     "execution_count": 100,
     "metadata": {},
     "output_type": "execute_result"
    }
   ],
   "source": [
    "rate_detail = []\n",
    "\n",
    "for i in rate_tag:\n",
    "    rate_detail.append(i.text)\n",
    "len(rate_detail)\n",
    "rate_detail"
   ]
  },
  {
   "cell_type": "code",
   "execution_count": 101,
   "id": "729c4372",
   "metadata": {},
   "outputs": [],
   "source": [
    "next_btn = driver.find_element_by_xpath('/html/body/div[1]/div/div[3]/div/div/div[2]/div[13]/div/div/nav/a[11]/span')"
   ]
  },
  {
   "cell_type": "code",
   "execution_count": 102,
   "id": "177fdbaa",
   "metadata": {},
   "outputs": [],
   "source": [
    "next_btn.click()"
   ]
  },
  {
   "cell_type": "code",
   "execution_count": 105,
   "id": "4a9c55a6",
   "metadata": {},
   "outputs": [
    {
     "data": {
      "text/plain": [
       "[<selenium.webdriver.remote.webelement.WebElement (session=\"38766a235d0263ba0507d20a8345bf7e\", element=\"4a56a9df-ed2f-4216-9447-b0f156514730\")>,\n",
       " <selenium.webdriver.remote.webelement.WebElement (session=\"38766a235d0263ba0507d20a8345bf7e\", element=\"ddf37d77-add4-4436-8a8e-ccab3fd25b80\")>,\n",
       " <selenium.webdriver.remote.webelement.WebElement (session=\"38766a235d0263ba0507d20a8345bf7e\", element=\"b560eacd-f2a1-4558-a96f-fbad000cbeaa\")>,\n",
       " <selenium.webdriver.remote.webelement.WebElement (session=\"38766a235d0263ba0507d20a8345bf7e\", element=\"2d4ff777-3a44-44dd-b2f1-13f77afc2fca\")>,\n",
       " <selenium.webdriver.remote.webelement.WebElement (session=\"38766a235d0263ba0507d20a8345bf7e\", element=\"3a528807-b366-4d6b-8308-2c9aa997d409\")>,\n",
       " <selenium.webdriver.remote.webelement.WebElement (session=\"38766a235d0263ba0507d20a8345bf7e\", element=\"8a1d251f-455a-445c-83a1-21b69ab1e59c\")>,\n",
       " <selenium.webdriver.remote.webelement.WebElement (session=\"38766a235d0263ba0507d20a8345bf7e\", element=\"7a764bce-2f23-48c2-8508-d9668eaad405\")>,\n",
       " <selenium.webdriver.remote.webelement.WebElement (session=\"38766a235d0263ba0507d20a8345bf7e\", element=\"11c52150-67f5-4e72-a2ec-bb71e0387fb9\")>,\n",
       " <selenium.webdriver.remote.webelement.WebElement (session=\"38766a235d0263ba0507d20a8345bf7e\", element=\"afd2ed96-d12e-483f-ae1e-a7469c1a5877\")>,\n",
       " <selenium.webdriver.remote.webelement.WebElement (session=\"38766a235d0263ba0507d20a8345bf7e\", element=\"b6f0a25d-df19-4eae-9d98-7cc65c41cb1b\")>]"
      ]
     },
     "execution_count": 105,
     "metadata": {},
     "output_type": "execute_result"
    }
   ],
   "source": [
    "rate_tag = driver.find_elements_by_xpath('//div[@class=\"col _2wzgFH K0kLPL\"]')\n",
    "len(rate_tag)\n",
    "rate_tag"
   ]
  },
  {
   "cell_type": "code",
   "execution_count": 106,
   "id": "bf67d489",
   "metadata": {
    "scrolled": false
   },
   "outputs": [
    {
     "data": {
      "text/plain": [
       "['5\\nHighly recommended\\niphone 11 is a very good phone to buy only if you can compromise for the display. The display on this is device is pretty good but you can get other options with better displays in this price segment.\\nIf you can survive with an HD+ LCD panel with thicker bezels and a notch up top then this is a very good phone for you.\\nCameras are awesome, battery backup excellent, great performance and a decent premium look. Good job Apple !\\nmuddassar shaikh\\nCertified Buyer, Pune\\nNov, 2019\\n4951966',\n",
       " '5\\nPerfect product!\\nIt’s a must buy who is looking for an upgrade from previous generation of iPhones. If you are using XR then still you can hold on for sometime and upgrade to 2020 model else this phone is a must buy . Camera quality is amazing and wide angle is something to count upon. Performance wise it’s amazing and feels premium while holding in hand. So a big YES for this device. Go for 128 GB variant as the 4K videos will occupy lots of space and the storage can get over very quickly. Try to buy it with...\\nREAD MORE\\ntushar srivastava\\nCertified Buyer, Lucknow\\nMar, 2020\\n3170652',\n",
       " '5\\nPerfect product!\\nValue for money❤️❤️\\nIts awesome mobile phone in the world ...\\nDisplay was very good and bright ..\\nTrust me freinds you r never regret after Buying..\\nJust go for it....\\nI love this phone and i switch to iphone x to 11\\nFlipkart Customer\\nCertified Buyer, Jhunjhunun\\nNov, 2019\\n2857608',\n",
       " \"5\\nHighly recommended\\nIt's my first time to use iOS phone and I am loving my upgradation 😍😍 I love the color, I love the assebility of the phone....I need to learn more about its functionality, but as far as I have seen, it's quite easy and it has a lot of functions to work on, specially if you are a content writer or a blogger you get a lot of content creation platforms and they are really amazing.\\n\\nThis phone not only for good quality photography but a lot of other task too.😍💯\\nJimly Gogoi\\nCertified Buyer, Ahmedabad\\nMay, 2020\\n22843\",\n",
       " \"5\\nPerfect product!\\nIphone is just awesome.. battery backup is very very nice.. continuously for 10 hours we can use it.camera is just awesome.. display is just fab.i love it alot..i had to wait 15 days for it as i pre ordered it..overalll it's worth the price..these all images are clicked by my iPhone..and i love it.\\nRishika Agarwal\\nCertified Buyer, Tisra\\nOct, 2019\\n1668391\",\n",
       " '5\\nWorth every penny\\nBest budget Iphone till date ❤️ go for it guys without second thought. Let me explain you guys about Camera, Display, battery, and performance.\\n\\nCamera: at this price range there is no comparison of camera, you’ll love the picture quality as well as video quality. I am a Vlogger I wanted an iPhone with 4k video by front camera and I got this phone and I am more than happy 😃\\n\\nBattery: I use this phone roughly as I am active social media person and I have a youtube channel. so the battery ba...\\nREAD MORE\\nArshad Ahmed\\nCertified Buyer, New Delhi\\nJan, 2020\\n3220791',\n",
       " '5\\nClassy product\\nTotally in love with this ❤ the camera quality is amazing just love it 😘😘😘 itsss dammnnnnnn amazing... Must buy iPhone 11 this is my best experience ever ☀👌👌🧡🧡🧡🧡🧡 thanku apple ❤\\nPayal Singh\\nCertified Buyer, Ghaziabad\\n7 months ago\\n1130263',\n",
       " '5\\nSimply awesome\\nExcellent camera, good performance, no lag. The lcd display is also good.. but difference come when we watch movie in prime and Netflix, the colours are not vibrant.. as we see in amoled display.. and the charger in box is of 5 watts.. takes more than 3 hours to charge from 0 to 100.. so guys be prepare to buy 18 watts charger . Finally I am an android user, it was my first Iapple phone, I promise u guys the iOS is so smooth.. overall the phone is damn good.... close eyes to buy it.. thanks t...\\nREAD MORE\\nchaitanya kumar\\nCertified Buyer, Rajahmundry\\nJun, 2020\\n43895',\n",
       " '5\\nWorth every penny\\nSmooth like butter, camera like fantabulous, sound is crystal clear & its red color is damn attractive, i am just loving it. Must buy if you love photography.\\n\\nLucky to get it in sale, thank you Flipkart.\\nBiswa Das\\nCertified Buyer, Bilaspur\\n11 months ago\\n17234',\n",
       " '5\\nWorth every penny\\nIt’s been almost a month since I have been using this phone. I upgraded from an iPhone 8. The main issue with my 8 was battery and this phone is just awesome when it comes to battery. It lasts a day and a half for me with my regular use , internet connected always with 4g\\nCan’t move forward without saying this. Battery of this phone is a life saver when I am traveling or at work when I don’t get the option to charge\\nCamera is superb. Front cam selfies and back cam photos are just awesome.\\n...\\nREAD MORE\\nFlipkart Customer\\nCertified Buyer, Thiruvananthapuram\\nNov, 2019\\n2096546']"
      ]
     },
     "execution_count": 106,
     "metadata": {},
     "output_type": "execute_result"
    }
   ],
   "source": [
    "rate_detail = []\n",
    "\n",
    "for i in rate_tag:\n",
    "    rate_detail.append(i.text)\n",
    "len(rate_detail)\n",
    "rate_detail"
   ]
  },
  {
   "cell_type": "code",
   "execution_count": 107,
   "id": "af8776c4",
   "metadata": {},
   "outputs": [],
   "source": [
    "next_btn = driver.find_element_by_xpath('/html/body/div[1]/div/div[3]/div/div/div[2]/div[13]/div/div/nav/a[12]/span')"
   ]
  },
  {
   "cell_type": "code",
   "execution_count": 108,
   "id": "de665ed3",
   "metadata": {},
   "outputs": [],
   "source": [
    "next_btn.click()"
   ]
  },
  {
   "cell_type": "code",
   "execution_count": 109,
   "id": "26d322a2",
   "metadata": {},
   "outputs": [
    {
     "data": {
      "text/plain": [
       "[<selenium.webdriver.remote.webelement.WebElement (session=\"38766a235d0263ba0507d20a8345bf7e\", element=\"b154bfee-d677-49bb-8f56-1e573bd39efb\")>,\n",
       " <selenium.webdriver.remote.webelement.WebElement (session=\"38766a235d0263ba0507d20a8345bf7e\", element=\"d905994e-253a-43ba-91f9-53e42273c88b\")>,\n",
       " <selenium.webdriver.remote.webelement.WebElement (session=\"38766a235d0263ba0507d20a8345bf7e\", element=\"d1d81655-e576-436a-934a-151da7fcd0c9\")>,\n",
       " <selenium.webdriver.remote.webelement.WebElement (session=\"38766a235d0263ba0507d20a8345bf7e\", element=\"b4c631c3-e0cb-4bf9-8538-a169bdf27238\")>,\n",
       " <selenium.webdriver.remote.webelement.WebElement (session=\"38766a235d0263ba0507d20a8345bf7e\", element=\"9936619b-b855-4e2d-aad7-bf10d177a6e4\")>,\n",
       " <selenium.webdriver.remote.webelement.WebElement (session=\"38766a235d0263ba0507d20a8345bf7e\", element=\"98ae1cc6-0d12-4d29-8bb7-e7d31198b395\")>,\n",
       " <selenium.webdriver.remote.webelement.WebElement (session=\"38766a235d0263ba0507d20a8345bf7e\", element=\"8adf12c6-1a7f-42c1-9085-c6e00204e311\")>,\n",
       " <selenium.webdriver.remote.webelement.WebElement (session=\"38766a235d0263ba0507d20a8345bf7e\", element=\"d1319714-0118-4cce-940f-d577ac9e9911\")>,\n",
       " <selenium.webdriver.remote.webelement.WebElement (session=\"38766a235d0263ba0507d20a8345bf7e\", element=\"75e32ae0-1c29-4835-9897-062f23248639\")>,\n",
       " <selenium.webdriver.remote.webelement.WebElement (session=\"38766a235d0263ba0507d20a8345bf7e\", element=\"ee5b10a1-8cc8-4ccd-b8ad-967de56a0805\")>]"
      ]
     },
     "execution_count": 109,
     "metadata": {},
     "output_type": "execute_result"
    }
   ],
   "source": [
    "rate_tag = driver.find_elements_by_xpath('//div[@class=\"col _2wzgFH K0kLPL\"]')\n",
    "len(rate_tag)\n",
    "rate_tag"
   ]
  },
  {
   "cell_type": "code",
   "execution_count": 110,
   "id": "ae4abfa9",
   "metadata": {},
   "outputs": [
    {
     "data": {
      "text/plain": [
       "['5\\nWonderful\\nThis is my first ever I phone. Before this I was using my google nexus 5. But moving from android to iOS is a great experience. It’s worth at this price. I will highly recommend it if you want to move to iOS. The best part of this phone is it’s camera and it’s battery life. This two things have won my heart. I loved it. Happy to have it in my hand. Still exploring its features. And can’t forget to mention Flipkart service. Very prompt service and fast delivery.\\nSushilkumar Shinde\\nCertified Buyer, Vasai Virar\\nNov, 2019\\n31672',\n",
       " '5\\nTerrific\\nReally worth of money. i just love it. It is the best phone ever.\\nSOURAV DHAR\\nCertified Buyer, Bagula\\nOct, 2019\\n41799',\n",
       " '4\\nNice product\\nAwesome Phone. Slightly high price but worth. Better than iPhone XR.\\nCamera is superb and wide angle camera is very clear.\\n12MP selfie camera is also very good.\\nA13 Chip gives a very good and smooth performance.\\nAbhinav Gupta\\nCertified Buyer, Bengaluru\\nSep, 2019\\n32482',\n",
       " '5\\nPerfect product!\\nBattery backup is extraordinary, camera is decent & performance offered by A13 bionic is awsome. The display is good in practical usage like the visibility of display is very good in direct sun light compare to pro models. Iam extremely satisfied for the money I spent.\\nsree teja duggirala\\nCertified Buyer, Eluru\\nJan, 2020\\n12027',\n",
       " '5\\nClassy product\\nSuperb Product !!!\\nA big and worthy upgrade from mi 3S to iphone 11 .\\nTotally loved it !\\nGirish PAreek\\nCertified Buyer, Sri Ganganagar\\nDec, 2019\\n29487',\n",
       " '5\\nBrilliant\\nI have migrated from OP 7pro... and trust me, iPhone 11 is totally worth it.. following are the reasons:-\\n1)there is ABSOLUTELY NO ISSUE WITH THE DISPLAY... its crisp, sharp and I found it to be much much better than OP7 pro. Netflix, Prime video all run crisply... you won’t miss a thing. True Tone works flawlessly...the display brightness is perfect. OP have not calibrated their screens properly.\\n2) iPhone 11 series have really good cameras... others have spoken in depth about them.\\n3) bat...\\nREAD MORE\\nPratik M\\nCertified Buyer, New Delhi\\nJun, 2020\\n333101',\n",
       " '4\\nGood choice\\nLooking so good 👍 😍 super 👌 stylish 😎 phone\\nClean box 📦 good 👍 delivery 👌 fast delivery\\nOriginal box Original iphone 📱 👌 😍😍😍\\nAkash Meena\\nCertified Buyer, Jhalawar District\\n11 months ago\\n21464',\n",
       " '5\\nMust buy!\\nIt’s an amazing product from apple and the camera is simply superb. Phone is faster.Night shot is simply superb and detailing and colour differentiation from camera is an added advantage\\n\\nThis review I have written from iPhone 11 only and I am glad to say outside.\\n\\nCons wise if we see HD+ display only, no battery percentage indicator as in older iPhone 8.\\nNo assistive touch control button in it\\nNo oleophobic coating on back panel glass and finger prints are visible but since I bought mint gr...\\nREAD MORE\\nsankar ganesh\\nCertified Buyer, Bangalore\\nOct, 2019\\n30496',\n",
       " '5\\nWonderful\\nI just directly switch from iphone 6s to iphone 11 .The best premium smartphone I recommend to everyone. Excellent quality and colors the iphone have in 11 series.\\nCamera quality is just awesome and the major feel when we hold in our hands. The sound quality and volume is also higher then the previous models.\\nI will recommend to buy iphone 11 instead of pro models , there is nothing much difference as this model contains everything which fulfill our needs.\\n\\nOnly one thing that I dislike abo...\\nREAD MORE\\nAmrinder Mehta\\nCertified Buyer, Jalandhar\\nJun, 2020\\n16552',\n",
       " '5\\nPerfect product!\\nAfter 1 month use I found camera quality best compared to my previous Samsung note 10+.Display not good as note 10 also charging too slow.Apple should add fast charger like 11 plus and pro.Best phone for daily use\\nBibhudatta Behura\\nCertified Buyer\\nAug, 2020\\n18158']"
      ]
     },
     "execution_count": 110,
     "metadata": {},
     "output_type": "execute_result"
    }
   ],
   "source": [
    "rate_detail = []\n",
    "\n",
    "for i in rate_tag:\n",
    "    rate_detail.append(i.text)\n",
    "len(rate_detail)\n",
    "rate_detail"
   ]
  },
  {
   "cell_type": "code",
   "execution_count": 111,
   "id": "2787a559",
   "metadata": {},
   "outputs": [],
   "source": [
    "next_btn = driver.find_element_by_xpath('/html/body/div[1]/div/div[3]/div/div/div[2]/div[13]/div/div/nav/a[12]/span')"
   ]
  },
  {
   "cell_type": "code",
   "execution_count": 112,
   "id": "4d94f6e3",
   "metadata": {},
   "outputs": [],
   "source": [
    "next_btn.click()"
   ]
  },
  {
   "cell_type": "code",
   "execution_count": 113,
   "id": "432f1255",
   "metadata": {},
   "outputs": [
    {
     "data": {
      "text/plain": [
       "[<selenium.webdriver.remote.webelement.WebElement (session=\"38766a235d0263ba0507d20a8345bf7e\", element=\"9de7418b-bb94-4bf6-a85e-f96286e4fa36\")>,\n",
       " <selenium.webdriver.remote.webelement.WebElement (session=\"38766a235d0263ba0507d20a8345bf7e\", element=\"7392f7ce-e3be-4f1a-bb57-42c1e4785be7\")>,\n",
       " <selenium.webdriver.remote.webelement.WebElement (session=\"38766a235d0263ba0507d20a8345bf7e\", element=\"da895e5f-752e-402d-8be4-3376d503b5a6\")>,\n",
       " <selenium.webdriver.remote.webelement.WebElement (session=\"38766a235d0263ba0507d20a8345bf7e\", element=\"a067df7d-fd8d-43ec-8d73-915a032edc7e\")>,\n",
       " <selenium.webdriver.remote.webelement.WebElement (session=\"38766a235d0263ba0507d20a8345bf7e\", element=\"422e9eaa-152e-47ef-9987-5ca41e7fc9cd\")>,\n",
       " <selenium.webdriver.remote.webelement.WebElement (session=\"38766a235d0263ba0507d20a8345bf7e\", element=\"ad9bf32d-2262-436f-9ca9-720a1f14d3c2\")>,\n",
       " <selenium.webdriver.remote.webelement.WebElement (session=\"38766a235d0263ba0507d20a8345bf7e\", element=\"2f2240c1-2882-4a32-9453-fe6bc7c9d246\")>,\n",
       " <selenium.webdriver.remote.webelement.WebElement (session=\"38766a235d0263ba0507d20a8345bf7e\", element=\"8e8e2f37-be3b-4f45-899f-6657a6c385e5\")>,\n",
       " <selenium.webdriver.remote.webelement.WebElement (session=\"38766a235d0263ba0507d20a8345bf7e\", element=\"55b03a05-94c2-4377-a065-90b11e7aa054\")>,\n",
       " <selenium.webdriver.remote.webelement.WebElement (session=\"38766a235d0263ba0507d20a8345bf7e\", element=\"8ada907c-e7b3-48ff-bb4f-307e174db697\")>]"
      ]
     },
     "execution_count": 113,
     "metadata": {},
     "output_type": "execute_result"
    }
   ],
   "source": [
    "rate_tag = driver.find_elements_by_xpath('//div[@class=\"col _2wzgFH K0kLPL\"]')\n",
    "len(rate_tag)\n",
    "rate_tag"
   ]
  },
  {
   "cell_type": "code",
   "execution_count": 114,
   "id": "0211ce74",
   "metadata": {},
   "outputs": [
    {
     "data": {
      "text/plain": [
       "['5\\nTerrific purchase\\nUpgraded from iphone 6 to 11 best phone for iphone users battery is much better than other iphones camera is awesome love to use it.camera is so clear in night.\\nNitin Sharma\\nCertified Buyer, New Delhi\\nJan, 2020\\n697270',\n",
       " \"5\\nSimply awesome\\nIt's very high performances devise i am like the service of flipkart delevary very fast and packing very nice perfect phone\\niqbal hussain kantewala\\nCertified Buyer, Parbhani\\nJan, 2020\\n14347\",\n",
       " '5\\nGreat product\\nWell you all know the specifications . One of a kind. Best iPhone till date. Many enhancements to the camera app with many options. Love the glass body with matte finish in the lens area on the back. Lovely colours to choose from. Best battery in an iPhone till date, enough to last more than a day in normal usage. I tested my iPhone 11 battery and lasted for than 24 hours after full charge still with 30% battery charge left. Watched movies for some time. Normal usage on calls, browsing, musi...\\nREAD MORE\\nAsish Babu\\nCertified Buyer, Kottayam\\nFeb, 2020\\n265103',\n",
       " '5\\nTerrific purchase\\nThe built quality is not very premium.\\nThe battery back is great .\\nThe LCD panel is not so sharp but the brightness level is very High .\\nCamera is super duper awesome.\\nThe red colour which people think is bright is actually very soothing and excellent colour to choose from .\\nThe A13 Bionic chip is really a flagship processor and can beat any phone which even has 12 gb ram .\\nCamera module is very great and looks very stylish.\\nAnanya Dhiman\\nCertified Buyer, Zirakpur\\nJun, 2020\\n18172',\n",
       " '5\\nMind-blowing purchase\\nThis will help you more. See if you are planning to buy iPhone 11. I will say. Yes. But there are some plans I just want to disclose before you buy. 1) If you are an existing iPhone X/XS/XS Max/ XR user, better you guys do not think it to buy. You guys have more or less better gadget. 2) If you are an android user and planning to buy premium phone. I will suggest them to please buy iPhone instead of buying an Android. I bet you will never go back to android after using IOS. Now I want to shar...\\nREAD MORE\\nAvishek Naha\\nCertified Buyer, Serampore\\nOct, 2019\\n13153',\n",
       " '5\\nExcellent\\nAmazing camera and feel super machine I am not describe my feeling but this is amazing Phone I am so lucky I have this\\nBhupendr Yadav\\nCertified Buyer\\nJul, 2020\\n11849',\n",
       " '5\\nSimply awesome\\nReally good actually this is my first apple product am using its really awesome performance wise excellent. Am really happy with this iphone11\\nLikhitha Heman\\nCertified Buyer\\nJul, 2020\\n379269',\n",
       " '4\\nGood quality product\\nit is very good at performance. Camera is best like before and very smooth response even in water. Don’t buy 12 mini buy iPhone 11 , it is far better than 12 mini believe me ! Have a nice day \\uf8ff ☺️\\nAditya Sehrawat\\nCertified Buyer, New Delhi\\nJan, 2021\\n252302',\n",
       " '1\\nVery poor\\nReviewing again after 5 months. At the beginning the battery and performance was good but it degraded soon. Also I was facing heating issues. The mobile will heat up like a stove sometimes. You cannot even play Pubg even in low settings properly, performance is not a problem but heating is. Also if you play that game for 10 mins the brightness will be automatically down due to over heating even when the auto brightness is set to off. This will not be solved even if u manually increase the bri...\\nREAD MORE\\nArun R\\nCertified Buyer, Chennai\\nSep, 2019\\n302441',\n",
       " '5\\nClassy product\\nWe are on apple ecosystem for almost eight years now with couple of iPads and iPhones, including Xr.\\n\\nBought iPhone 11 as a gift to my daughter who loves it. We chose for a purple coloured one. Believe me it is gorgeous and towards the lighter shade. Dazzling and brilliant!\\n\\nThe phone is great and does excellent RAM management like any other Apple device.\\n\\nThe screen, though a LCD and lesser ppi as compared to other flagship phones of competitor brands, is a delight to watch with perfect re...\\nREAD MORE\\nAmit Kulshrestha\\nCertified Buyer, Pune\\n9 months ago\\n298']"
      ]
     },
     "execution_count": 114,
     "metadata": {},
     "output_type": "execute_result"
    }
   ],
   "source": [
    "rate_detail = []\n",
    "\n",
    "for i in rate_tag:\n",
    "    rate_detail.append(i.text)\n",
    "len(rate_detail)\n",
    "rate_detail"
   ]
  },
  {
   "cell_type": "code",
   "execution_count": 115,
   "id": "ae58d651",
   "metadata": {},
   "outputs": [],
   "source": [
    "next_btn = driver.find_element_by_xpath('/html/body/div[1]/div/div[3]/div/div/div[2]/div[13]/div/div/nav/a[12]/span')"
   ]
  },
  {
   "cell_type": "code",
   "execution_count": 117,
   "id": "509f15d5",
   "metadata": {},
   "outputs": [],
   "source": [
    "next_btn.click()"
   ]
  },
  {
   "cell_type": "code",
   "execution_count": 118,
   "id": "366c386a",
   "metadata": {},
   "outputs": [
    {
     "data": {
      "text/plain": [
       "[<selenium.webdriver.remote.webelement.WebElement (session=\"38766a235d0263ba0507d20a8345bf7e\", element=\"92474013-fb28-44ec-b95e-0b7ab87bcd2a\")>,\n",
       " <selenium.webdriver.remote.webelement.WebElement (session=\"38766a235d0263ba0507d20a8345bf7e\", element=\"faaa7155-878a-4531-acb6-71f1d8443d1b\")>,\n",
       " <selenium.webdriver.remote.webelement.WebElement (session=\"38766a235d0263ba0507d20a8345bf7e\", element=\"a1c4c563-975d-4769-8874-9037f8bcefce\")>,\n",
       " <selenium.webdriver.remote.webelement.WebElement (session=\"38766a235d0263ba0507d20a8345bf7e\", element=\"79ec1dd7-655a-44ad-b0b0-26c1f616fdaa\")>,\n",
       " <selenium.webdriver.remote.webelement.WebElement (session=\"38766a235d0263ba0507d20a8345bf7e\", element=\"65c03876-4a8e-4aec-92f7-3c0921ea28ff\")>,\n",
       " <selenium.webdriver.remote.webelement.WebElement (session=\"38766a235d0263ba0507d20a8345bf7e\", element=\"f8b21124-3837-4b2e-a509-7ec69f47a4cf\")>,\n",
       " <selenium.webdriver.remote.webelement.WebElement (session=\"38766a235d0263ba0507d20a8345bf7e\", element=\"a38949d0-b7d9-4e39-9c43-14ccd3248a25\")>,\n",
       " <selenium.webdriver.remote.webelement.WebElement (session=\"38766a235d0263ba0507d20a8345bf7e\", element=\"e68aafed-e079-4a31-aa0f-85d36bb56d6d\")>,\n",
       " <selenium.webdriver.remote.webelement.WebElement (session=\"38766a235d0263ba0507d20a8345bf7e\", element=\"949440a6-fba6-48bc-8b2d-ddf0b348b083\")>,\n",
       " <selenium.webdriver.remote.webelement.WebElement (session=\"38766a235d0263ba0507d20a8345bf7e\", element=\"d038b7ab-c67a-4e08-adc6-0a663688eb16\")>]"
      ]
     },
     "execution_count": 118,
     "metadata": {},
     "output_type": "execute_result"
    }
   ],
   "source": [
    "rate_tag = driver.find_elements_by_xpath('//div[@class=\"col _2wzgFH K0kLPL\"]')\n",
    "len(rate_tag)\n",
    "rate_tag"
   ]
  },
  {
   "cell_type": "code",
   "execution_count": 119,
   "id": "de64d2e9",
   "metadata": {},
   "outputs": [
    {
     "data": {
      "text/plain": [
       "['5\\nPerfect product!\\nIt is just awesome mobile for this price from Apple,\\n\\nAfter 10 days review\\n\\nBattery enough for 1 day even 24*7 Internet will be on and mostly internet usage\\n\\nCamera is just awesome cool , android 64 MP is equal to this just 12 MP\\n\\nA13 Bionic chip will give more high performance without hanging\\n\\nAudio stereo speakers will give Dolby atoms sound with crystal clear\\n\\nVideo recording is like cinematic shots of every sec can be a 4K 60fps. Just awesome this phone\\niPhone 11 loved one\\nKumaresan R\\nCertified Buyer, Sirumugai\\n7 months ago\\n7217',\n",
       " '5\\nMust buy!\\nBest Apple iPhone that i have bought at a very reasonable price, camera quality is next level just awesome n of superior quality android phones not even close(RIP) to that and also battery is really good but packaging by Flipkart of iPhone was very poor of such a expensive product, firstly im bit worried about the quality of product if i purchased it through online how was the product but i think now this was mine best decision to bought it through Flipkart online because i got genuine Apple...\\nREAD MORE\\nPranjal Singh\\nCertified Buyer, Chamba\\n11 months ago\\n7617',\n",
       " \"5\\nFabulous!\\nI can say I'm damn impressed with iPhone 11. As they says iPhone 11 have the toughest glass ever in the smartphone which you'll find on the front and back and it's totally smooth. The fit and finish is full apple quality - there's no sense that any cheaping out has happened in the construction. Without saying it's camera features this review won't complete. The iPhone 11 has a dual camera system, consisting of a wide angle len's that's pretty much same as found on the iPhone XR last year, but...\\nREAD MORE\\nharry byadwal\\nCertified Buyer, Jaipur\\nNov, 2020\\n8022\",\n",
       " '5\\nMind-blowing purchase\\nBest Quality Product OF iPhone Series , Sound Quality & Camera quality is very awesome, Battery Life is very Sufficient for 24 hr Backup With Full Internet Access , I love this this Product too much , It is very fast & making me Very fast in all my daily Routine\\nHighlights;\\n1.Camera: 5 STAR\\n2.Video Recording: 5 star\\n3.Night mODE sHOOTING & Camera:4 star\\n4. Audio Quality: Awesome\\n5. Battery : 5 Star\\n6. Touch:5 Star\\n7. Processor: Very Fast\\nThe M...\\nREAD MORE\\nAmol Suryawanshi\\nCertified Buyer, Ordnance Factory Itarsi Township\\nFeb, 2020\\n8015',\n",
       " '5\\nMind-blowing purchase\\nFirst thanks to Flipkart for this amazing deal and phone is outstanding. I upgraded from iPhone 7 and this is like very big upgrade. But the packaging was very basic I expected a good packaging as they only wrapped one layer of bubble wrap which I don’t think is enough to protect this expensive phone. And I recommend this phone and seller as well.\\n\\nAnd I’m posting this review after using it for 4 days.\\nMohammed Aslam\\nCertified Buyer, Hyderabad\\nOct, 2019\\n7828',\n",
       " '5\\nWonderful\\nSuperfast delivery by Flipkart. Thanks.\\n\\n1. iPhone 11 is a pretty solid phone for the money you are paying.\\n2. All the bad reviews about the display is confusing. It’s not that bad.\\n3. I switched from a Oneplus 7t. I have no complaints about the display quality of iPhone. Yes, it’s not OLED, so, we are missing on the deep blacks. But that’s it. It is a very colour accurate display. Gets adequately bright and I could not find any pixelation.\\n4. Performance is one of the best, if not best, in ...\\nREAD MORE\\nMayukh Chowdhury\\nCertified Buyer, New Delhi\\nNov, 2019\\n3411',\n",
       " '5\\nMust buy!\\nI rate this product 5* as it has got amazing user experience with the best performing A13 bionic processor. The screen responds and graphics rendering is top notch. With casual gaming and internet browsing, the battery lasts for approx. 1 day. Camera is very good. You will fall in love with the portrait mode. You can call me a loyal Apple customer or whatever but I won’t stop praising the products and overall experience. That user experience matters and is worth every penny you pay.\\n\\nBelow ar...\\nREAD MORE\\nSmarjit Debata\\nCertified Buyer, Bhubaneswar\\nJun, 2020\\n191',\n",
       " \"5\\nGreat product\\nAgain back to apple iphone after a gap of 2-3 years. It's pleasure to use iOS and the quality product by Apple. Iphone 11 still works like a beast in 2021 also. It really capable of doing day to day usage as well as hard core gaming. Battery is awesome. I'm really too much satisfied with it. Apart fto the very gorgious IPS LCD (AMOLED will be better) everything is mind boggling. Iphone💕.\\nSoumasish De\\nCertified Buyer, Ghazipur District\\n9 months ago\\n6716\",\n",
       " '4\\nVery Good\\nimpressive super phone and best in class camera ,sound and face unlock is super fast just see and phone is unlock and fast in daily apps use\\nNitin Prajapati\\nCertified Buyer, New Delhi\\nJan, 2020\\n3620',\n",
       " '5\\nClassy product\\nWell while switching from android to iOS the first thing you need to be careful about is that you will loose all your whatsapp chat backups as both are different operating systems. Camera clarity is awesome and though being an lcd screen clarity and resolution is good. Battery backup is also good unlike previous gen iPhone. So far the experience is good will Padre after a few months of usage.\\n\\nP.S the black is more of a dark grey shade and not jet black\\nZeeshan Chowdhury\\nCertified Buyer, Bidhan Nagar\\nJan, 2020\\n7820']"
      ]
     },
     "execution_count": 119,
     "metadata": {},
     "output_type": "execute_result"
    }
   ],
   "source": [
    "rate_detail = []\n",
    "\n",
    "for i in rate_tag:\n",
    "    rate_detail.append(i.text)\n",
    "len(rate_detail)\n",
    "rate_detail"
   ]
  },
  {
   "cell_type": "code",
   "execution_count": 120,
   "id": "72b369ce",
   "metadata": {},
   "outputs": [],
   "source": [
    "next_btn = driver.find_element_by_xpath('/html/body/div[1]/div/div[3]/div/div/div[2]/div[13]/div/div/nav/a[12]/span')"
   ]
  },
  {
   "cell_type": "code",
   "execution_count": 121,
   "id": "81e1abe5",
   "metadata": {},
   "outputs": [],
   "source": [
    "next_btn.click()"
   ]
  },
  {
   "cell_type": "code",
   "execution_count": 122,
   "id": "6dad8ffe",
   "metadata": {},
   "outputs": [
    {
     "data": {
      "text/plain": [
       "[<selenium.webdriver.remote.webelement.WebElement (session=\"38766a235d0263ba0507d20a8345bf7e\", element=\"a8137568-3bce-4639-a2ca-fff370a1a17f\")>,\n",
       " <selenium.webdriver.remote.webelement.WebElement (session=\"38766a235d0263ba0507d20a8345bf7e\", element=\"a5b7f541-4457-4222-b6a9-27cd97c0006b\")>,\n",
       " <selenium.webdriver.remote.webelement.WebElement (session=\"38766a235d0263ba0507d20a8345bf7e\", element=\"94f52e40-b24a-4a2d-bcd7-dc1159b90111\")>,\n",
       " <selenium.webdriver.remote.webelement.WebElement (session=\"38766a235d0263ba0507d20a8345bf7e\", element=\"e29a6c0f-51d8-4b01-a282-a85891326417\")>,\n",
       " <selenium.webdriver.remote.webelement.WebElement (session=\"38766a235d0263ba0507d20a8345bf7e\", element=\"4a9ea853-d92e-4dab-816e-44d7a6b9acba\")>,\n",
       " <selenium.webdriver.remote.webelement.WebElement (session=\"38766a235d0263ba0507d20a8345bf7e\", element=\"a13c386d-0707-477e-8d7b-d856b964988b\")>,\n",
       " <selenium.webdriver.remote.webelement.WebElement (session=\"38766a235d0263ba0507d20a8345bf7e\", element=\"ddc8a1cc-59b2-4540-b87e-3e68d75c836e\")>,\n",
       " <selenium.webdriver.remote.webelement.WebElement (session=\"38766a235d0263ba0507d20a8345bf7e\", element=\"bd05d474-3865-450d-b5c9-e96408819c94\")>,\n",
       " <selenium.webdriver.remote.webelement.WebElement (session=\"38766a235d0263ba0507d20a8345bf7e\", element=\"437d3ebd-0746-40c2-9972-502eeeea10c5\")>,\n",
       " <selenium.webdriver.remote.webelement.WebElement (session=\"38766a235d0263ba0507d20a8345bf7e\", element=\"609fd010-32f9-44f5-aa2e-a971430b3990\")>]"
      ]
     },
     "execution_count": 122,
     "metadata": {},
     "output_type": "execute_result"
    }
   ],
   "source": [
    "rate_tag = driver.find_elements_by_xpath('//div[@class=\"col _2wzgFH K0kLPL\"]')\n",
    "len(rate_tag)\n",
    "rate_tag"
   ]
  },
  {
   "cell_type": "code",
   "execution_count": 123,
   "id": "1e88c7d3",
   "metadata": {},
   "outputs": [
    {
     "data": {
      "text/plain": [
       "['5\\nPerfect product!\\nIn love with this iphone great performance,camera ,battery everything. Go for it have a uncompareble battery backup, no doubts in iPhone camera here You can see the picture which is shot on my iPhone In love with this iphone great performance,camera ,battery everything. Go for it have a uncompareble battery backup, no doubts in iPhone camera here You can see the picture which is shot on my iPhone In love with this iphone great performance,camera ,battery everything. Go for it have a uncompare...\\nREAD MORE\\nAnas Aq\\nCertified Buyer, Shahdol\\nOct, 2019\\n90308',\n",
       " '5\\nJust wow!\\nBest in class. Battery backup is good especially when you play games like Pubg COD. But it is sort of heavy when you hold in hands. Portrait mode is best to click pictures. Stage light effect is awesome. Try to click photos outside in nature because photos inside home or room will not give you the quality in any phone even in DSLR.\\nsayyed shoieb\\nCertified Buyer, Chandrapur\\nOct, 2020\\n5514',\n",
       " '5\\nAwesome\\nVery excited to have this phone. This phone has the real power unlike the android phones having SD 855 . The battery life is very good and the camera quality is excellent as comapred to redmi and other phones except google pixel. I M enjoying every single bit of it. Would recommed only if you have the budget.\\nNeeraj Baveja\\nCertified Buyer, Noida\\nOct, 2019\\n3311',\n",
       " '4\\nPretty good\\nI was using Iphone 6s and also Oneplus 6t. Both mobiles were perfectly alright in Photos, gaming, and smooth interface . My 6s mobile getting battery issue. thought upgrade to 11. Really like this mobile of its Internal storage (compare to 6s) , camera and its touch feeling. Its a worth buying mobile for me.\\nvijay hegde\\nCertified Buyer, Bengaluru\\n8 months ago\\n257',\n",
       " '5\\nTerrific purchase\\nIts Very awesome product working and good camera quality and all about best product and also flipkart is very great deal and offer nice price\\nSyed Rizwan Ali\\nCertified Buyer, Nagpur\\n11 months ago\\n5322',\n",
       " '5\\nAwesome\\nI am using this phone for 5 days and its one of the best camera out there ❤️ the screen is not oled and i am coming from iphone xs so its little bit not up to the mark i would say\\nBut overall value for money💕😍the battery back up is far better than my iphone xs and its worth in my apple ecosystem💫❤️if u are an apple User and have the eco system then go for it❤️though i will be getting the new iphone but its pretty good💫\\nRatul Sarkar\\nCertified Buyer, Raiganj\\n8 months ago\\n518',\n",
       " '5\\nClassy product\\nBest and amazing product.....phone looks so premium.... battary is also good as expected .... Wide angle camera is so addictive ...if you are a IOS lover....then this phone will be the best choice for you all!!💯🔥\\nSoham Kalangutkar\\nCertified Buyer, Mapusa\\n9 months ago\\n445',\n",
       " '5\\nBrilliant\\nExcellent camera and display touching very nice and smooth very improvement against iPhone XR and new processor is very fast\\njay shah\\nCertified Buyer, Vadodara\\nNov, 2019\\n448',\n",
       " \"5\\nTerrific\\nI got this beast today. And I must say the picture quality of its camera is awesome. Both the cameras works fine.\\n\\nAs for as the processing is concerned, it runs without any lag. You can play and do whatever you want without a glitch.\\n\\nThe battery runs for a day with medium and high workload.\\n\\nThe display is good and the speakers are working fine.\\n\\nThe earphones doesn't have any base and you can use it for calling mostly.\\n\\nThe charging time is approximately for 90 minutes for full charging...\\nREAD MORE\\nSaurabh Singh\\nCertified Buyer, Bulandshahr\\nMay, 2020\\n2212\",\n",
       " '5\\nPerfect product!\\nAwesome purchase. Amazing phone with good battery backup. It’s a top notch device. White colour looks amazing. Phone has a few extra feature than iPhone XR. Overall, this is value for money\\nGangesh Kumar\\nCertified Buyer, Gurugram\\nJan, 2020\\n407']"
      ]
     },
     "execution_count": 123,
     "metadata": {},
     "output_type": "execute_result"
    }
   ],
   "source": [
    "rate_detail = []\n",
    "\n",
    "for i in rate_tag:\n",
    "    rate_detail.append(i.text)\n",
    "len(rate_detail)\n",
    "rate_detail"
   ]
  },
  {
   "cell_type": "code",
   "execution_count": 124,
   "id": "d270b50c",
   "metadata": {},
   "outputs": [],
   "source": [
    "next_btn = driver.find_element_by_xpath('/html/body/div[1]/div/div[3]/div/div/div[2]/div[13]/div/div/nav/a[12]/span')"
   ]
  },
  {
   "cell_type": "code",
   "execution_count": 125,
   "id": "05f4d6fe",
   "metadata": {},
   "outputs": [],
   "source": [
    "next_btn.click()"
   ]
  },
  {
   "cell_type": "code",
   "execution_count": 126,
   "id": "b9fa43c1",
   "metadata": {},
   "outputs": [
    {
     "data": {
      "text/plain": [
       "[<selenium.webdriver.remote.webelement.WebElement (session=\"38766a235d0263ba0507d20a8345bf7e\", element=\"5682ed38-a8af-4a4a-9b26-e54f95c18d3e\")>,\n",
       " <selenium.webdriver.remote.webelement.WebElement (session=\"38766a235d0263ba0507d20a8345bf7e\", element=\"7c8e830b-b8de-4637-95e1-811241f60313\")>,\n",
       " <selenium.webdriver.remote.webelement.WebElement (session=\"38766a235d0263ba0507d20a8345bf7e\", element=\"f3dd915b-d54a-47bb-88e1-301d05f99c95\")>,\n",
       " <selenium.webdriver.remote.webelement.WebElement (session=\"38766a235d0263ba0507d20a8345bf7e\", element=\"1a61b6c9-67f9-41e7-8f10-1ea7d0412beb\")>,\n",
       " <selenium.webdriver.remote.webelement.WebElement (session=\"38766a235d0263ba0507d20a8345bf7e\", element=\"1e0846eb-e514-45d8-beca-950b3c1e1d9e\")>,\n",
       " <selenium.webdriver.remote.webelement.WebElement (session=\"38766a235d0263ba0507d20a8345bf7e\", element=\"794b3352-d6f6-4b9a-a8db-022ee20696a3\")>,\n",
       " <selenium.webdriver.remote.webelement.WebElement (session=\"38766a235d0263ba0507d20a8345bf7e\", element=\"e8c3b7e1-7045-4b54-92a5-c1a19ed24616\")>,\n",
       " <selenium.webdriver.remote.webelement.WebElement (session=\"38766a235d0263ba0507d20a8345bf7e\", element=\"4579beb4-529f-4089-92e5-2d60fc172419\")>,\n",
       " <selenium.webdriver.remote.webelement.WebElement (session=\"38766a235d0263ba0507d20a8345bf7e\", element=\"b580faa1-8b05-4565-a176-aea40270f278\")>,\n",
       " <selenium.webdriver.remote.webelement.WebElement (session=\"38766a235d0263ba0507d20a8345bf7e\", element=\"9bdce9a5-5eda-4a87-91dd-6c3acf1c98fc\")>]"
      ]
     },
     "execution_count": 126,
     "metadata": {},
     "output_type": "execute_result"
    }
   ],
   "source": [
    "rate_tag = driver.find_elements_by_xpath('//div[@class=\"col _2wzgFH K0kLPL\"]')\n",
    "len(rate_tag)\n",
    "rate_tag"
   ]
  },
  {
   "cell_type": "code",
   "execution_count": 127,
   "id": "643b51a0",
   "metadata": {},
   "outputs": [
    {
     "data": {
      "text/plain": [
       "['5\\nAwesome\\nAlways love the apple products, upgraded from old iPhone 6S plus to this after having my first baby. I just love to click baby’s photos with it. Overall I just love this phone. Battery back up is okay, sound quality is good. Haven’t tested yet waterproof yet. Only one thing I hate is apple could have given charger & headphones in box.\\nDeepika Randive\\nCertified Buyer, Navi Mumbai\\n10 months ago\\n362',\n",
       " '5\\nPerfect product!\\nValue for money\\n5 star rating\\nExcellent camera\\nBattery backup full day in single charge.\\n\\nTougher and water resistant design, glossy back.\\nThe screen has excellent brightness and contrast.\\nApple A13 Bionic is the fastest smartphone chip on the planet.\\nExcellent battery life, fast charging support.\\nStereo speakers with great quality.\\nChirag Rajput\\nCertified Buyer, Kolkata\\n11 months ago\\n362',\n",
       " '1\\nVery poor\\nPlease DONT buy from here,\\n\\nI purchased Apple iPhone 11. with an exchange of IPhone 7, the exchange did not go well, iPhone 7 had a small scratch out side screen which i could never identify till date, but the FLIPKART person could, so he reduced 50% from exchange rate. I decided not to trade in, but paid money.\\n\\niPhone 11 Detail Below\\n---------------------------------------------\\nIt came with no charging, then i have put for charging, it took lot of time for charging, the phone also showe...\\nREAD MORE\\nFlipkart Customer\\nCertified Buyer, Hyderabad\\n7 months ago\\n4113',\n",
       " '5\\nFabulous!\\nawesome phone to have. it has got many smart features apart from mind blowing looks, camera, display, battery and sound. have fallen in love with this phone. must buy phone if you have got enough money. thanks to flipkart and apple of course..\\nJay Pandya\\nCertified Buyer, Bharuch\\nOct, 2019\\n9224',\n",
       " '5\\nExcellent\\nIts a fabulous mobile look awesome performance unbeaten camera like dslr battery good i think this is a beast of mobile\\nprem patel\\nCertified Buyer, Jabalpur\\n10 months ago\\n6414',\n",
       " '5\\nMust buy!\\nDear friends... I want to share my experience with you about this amazing I phone 11....this is my first iPhone and special things about this mobile is it has great camera, battery backup and awesome display.... I mean everything is perfect.loved it 👍👍👍\\nMahaveer Swami\\nCertified Buyer, Hisar\\n10 months ago\\n5337',\n",
       " \"4\\nValue-for-money\\nJust got this iphone 11\\nAnd it is most powerful mobile phone I have used ever\\n\\nSo,go for it if you want a phone with best specification like camera,battery backup,display, A13 bionic chip\\n\\nThat's my review about this phone but yours can be differ from me....\\nBarinder Singh Jandu\\nCertified Buyer, Khanna\\n7 months ago\\n444\",\n",
       " \"5\\nBest in the market!\\nThe best all rounder iphone. Flipkart is doing a great job. They're delivery services are blazing fast. I got delivery on the same day. Genuine Apple Product. Working great. Talking about review There's no need of review for iphones. They're simply the best.\\nFlipkart Customer\\nCertified Buyer, Ichhapur Defence Estate Civil Township\\n9 months ago\\n207\",\n",
       " '5\\nBrilliant\\nAmazing phone and on great deal I received with super fast delivery by Flipkart...\\nAlok Singh\\nCertified Buyer, Bengaluru\\n11 months ago\\n405',\n",
       " '5\\nTerrific purchase\\nfinally an iPhone with very nice battery backup. update from iPhone 7 and happy to have it. camera is not up to the mark in low light but overall a recommended phone if your budget allows 😀\\nDurgesh Kumar\\nCertified Buyer, Allahabad\\nNov, 2019\\n4119']"
      ]
     },
     "execution_count": 127,
     "metadata": {},
     "output_type": "execute_result"
    }
   ],
   "source": [
    "rate_detail = []\n",
    "\n",
    "for i in rate_tag:\n",
    "    rate_detail.append(i.text)\n",
    "len(rate_detail)\n",
    "rate_detail"
   ]
  },
  {
   "cell_type": "code",
   "execution_count": 130,
   "id": "daaa3ebe",
   "metadata": {},
   "outputs": [],
   "source": [
    "next_btn = driver.find_element_by_xpath('/html/body/div[1]/div/div[3]/div/div/div[2]/div[13]/div/div/nav/a[12]/span')"
   ]
  },
  {
   "cell_type": "code",
   "execution_count": 131,
   "id": "2c5dc069",
   "metadata": {},
   "outputs": [],
   "source": [
    "next_btn.click()"
   ]
  },
  {
   "cell_type": "code",
   "execution_count": 133,
   "id": "1145b5d2",
   "metadata": {},
   "outputs": [
    {
     "data": {
      "text/plain": [
       "[<selenium.webdriver.remote.webelement.WebElement (session=\"38766a235d0263ba0507d20a8345bf7e\", element=\"65a7db55-56f6-4639-8c0d-bd4d41a82906\")>,\n",
       " <selenium.webdriver.remote.webelement.WebElement (session=\"38766a235d0263ba0507d20a8345bf7e\", element=\"888409e8-c4b8-4802-a356-c2840c5f0287\")>,\n",
       " <selenium.webdriver.remote.webelement.WebElement (session=\"38766a235d0263ba0507d20a8345bf7e\", element=\"b957f9e0-f4f2-4e18-8596-25dac3b4a385\")>,\n",
       " <selenium.webdriver.remote.webelement.WebElement (session=\"38766a235d0263ba0507d20a8345bf7e\", element=\"9a703848-f46f-4386-9847-ac0c912373cc\")>,\n",
       " <selenium.webdriver.remote.webelement.WebElement (session=\"38766a235d0263ba0507d20a8345bf7e\", element=\"3800264d-057c-4e55-a6f2-71f645d29ff2\")>,\n",
       " <selenium.webdriver.remote.webelement.WebElement (session=\"38766a235d0263ba0507d20a8345bf7e\", element=\"b4ac59ce-1ebf-4691-aba4-133a69ef17f0\")>,\n",
       " <selenium.webdriver.remote.webelement.WebElement (session=\"38766a235d0263ba0507d20a8345bf7e\", element=\"933b28fd-b0ed-4e4e-9331-7f7544ddf586\")>,\n",
       " <selenium.webdriver.remote.webelement.WebElement (session=\"38766a235d0263ba0507d20a8345bf7e\", element=\"1eb6be6e-b10a-4a81-b9b8-9c563bcc428d\")>,\n",
       " <selenium.webdriver.remote.webelement.WebElement (session=\"38766a235d0263ba0507d20a8345bf7e\", element=\"5cd20cef-f4af-4021-aa28-61f777d7e8b9\")>,\n",
       " <selenium.webdriver.remote.webelement.WebElement (session=\"38766a235d0263ba0507d20a8345bf7e\", element=\"0de8b8af-ecfe-4fc4-9553-5cfac71286e4\")>]"
      ]
     },
     "execution_count": 133,
     "metadata": {},
     "output_type": "execute_result"
    }
   ],
   "source": [
    "rate_tag = driver.find_elements_by_xpath('//div[@class=\"col _2wzgFH K0kLPL\"]')\n",
    "len(rate_tag)\n",
    "rate_tag"
   ]
  },
  {
   "cell_type": "code",
   "execution_count": 134,
   "id": "7644c7fa",
   "metadata": {},
   "outputs": [
    {
     "data": {
      "text/plain": [
       "[\"4\\nGood quality product\\nI'm switching this phone to oppo reno 10x zoom\\nIt's really impressive\\nRarely I'm missing smooth display touch response like oppo reno but\\nI really loved it.\\nCamera really impressive\\nRahul Dewangan\\nCertified Buyer, Baloda Bazar District\\n10 months ago\\n317\",\n",
       " '5\\nTerrific\\nSimply Awesome\\n\\nI have upgraded from iPhone 7 to iPhone 11.\\n\\n3110 mah Battery is good. I am not a heavy gamer. For official purpose, this is better than 12 mini.\\n\\nTotally impressed with battery performance.\\nDhananjay Zatke\\nCertified Buyer, Bhusawal\\n10 months ago\\n2040',\n",
       " '5\\nBest in the market!\\nDamn this phone is a blast . Upgraded from android to ios and is a duperb experience. Battery backup is top notch and display also pretty good\\nKunal Das\\nCertified Buyer, Tinsukia\\n10 months ago\\n220',\n",
       " '5\\nPerfect product!\\nWorth the money’ starting first from its performance it beats out all phones , second the smoothness of camera is awesome, contrast ratio is much than expected. Price will not matter if u r a quality person, if not other phones are available with better discount\\nBani\\nCertified Buyer, Zirakpur\\nFeb, 2020\\n309',\n",
       " '5\\nAwesome\\nI dreamt about this day from a long time.... Getting an iPhone with my own money.... Super happy and worth spending every penny\\nPratyay Goswami\\nCertified Buyer, Calcutta\\n7 months ago\\n230',\n",
       " \"4\\nValue-for-money\\nI'm Really happy with the product\\nDelivery was fast as well\\n..it was a gift for my sister and she loved it so much.\\nGeorge Haokip\\nCertified Buyer, Shillong\\n9 months ago\\n380\",\n",
       " '5\\nJust wow!\\nGreat iphone.\\nI am writing this review after 2 months of usage.\\nCamera is excellent, especially the nightmode\\nDisplay perfect\\nBattery backup awesome\\nSound quality very good\\nOverall Apple gives you a perfect iphone in this range.\\nReally in love with iPhone 11\\nRajat Singh\\nCertified Buyer, Roorkee\\nMar, 2020\\n249',\n",
       " \"1\\nWorthless\\nPhone is awesome no doubt. But Camera & Display is not great. Performance is mind blowing.\\nBut the phone is heating too much when charging or when you regularly used. It's experience after using 1 week. It's heating extrem when I play PUBG for 30 minutes.\\nGo for iPhone 11 pro or 12. Otherwise go for Android phone you will get much better phone in less price.\\nPranab Sarkar\\nCertified Buyer, Goalpara\\n8 months ago\\n20143\",\n",
       " '5\\nSuper!\\nDid an upgrade from 6s plus to iphone 11.\\nAo far the experience is well and good. Felt smoother than 6s plus. The camera quality is superb. Battery backup is descent. Not a heavy user, and gets power more than a day. Go for it if you need an alrounder iphone in a competitve price.\\nDEEPAK V S\\nCertified Buyer, Kollam\\n10 months ago\\n375',\n",
       " \"5\\nExcellent\\nIt was amazing experience for me. Honestly i am using iPhone first time so I don't have that much past experience about that. But after using 7 days this mobile i want to give some honest feedback.\\n1- Display 9 out of 10\\n2- Camera 9.5 out of 10\\n3- Battery 7 out of 10\\n4- Performance 9.5 out of 10\\n5- Features & Functions 10 out of 10\\n6- Outer looks and colour 10 out of 10\\nRest i think i will understand after using this for few months.\\nI will highly recommend you guys if you have budget then you...\\nREAD MORE\\nsoumen mondal\\nCertified Buyer, Durgapur\\n8 months ago\\n110\"]"
      ]
     },
     "execution_count": 134,
     "metadata": {},
     "output_type": "execute_result"
    }
   ],
   "source": [
    "rate_detail = []\n",
    "\n",
    "for i in rate_tag:\n",
    "    rate_detail.append(i.text)\n",
    "len(rate_detail)\n",
    "rate_detail"
   ]
  },
  {
   "cell_type": "code",
   "execution_count": 135,
   "id": "59fb0edd",
   "metadata": {},
   "outputs": [],
   "source": [
    "next_btn = driver.find_element_by_xpath('/html/body/div[1]/div/div[3]/div/div/div[2]/div[13]/div/div/nav/a[12]/span')"
   ]
  },
  {
   "cell_type": "code",
   "execution_count": 136,
   "id": "e00b3dde",
   "metadata": {},
   "outputs": [],
   "source": [
    "next_btn.click()"
   ]
  },
  {
   "cell_type": "code",
   "execution_count": 137,
   "id": "20d22783",
   "metadata": {},
   "outputs": [
    {
     "data": {
      "text/plain": [
       "[<selenium.webdriver.remote.webelement.WebElement (session=\"38766a235d0263ba0507d20a8345bf7e\", element=\"596d07e5-74da-4fe2-9fe1-fcda108d5201\")>,\n",
       " <selenium.webdriver.remote.webelement.WebElement (session=\"38766a235d0263ba0507d20a8345bf7e\", element=\"c8e508a9-2fc7-47b7-bcd5-3f163c06c69b\")>,\n",
       " <selenium.webdriver.remote.webelement.WebElement (session=\"38766a235d0263ba0507d20a8345bf7e\", element=\"cedb5910-c2d5-410d-834b-7fc31a9cf95a\")>,\n",
       " <selenium.webdriver.remote.webelement.WebElement (session=\"38766a235d0263ba0507d20a8345bf7e\", element=\"25c6688c-67a8-4706-958c-e2c5f8fb1b2b\")>,\n",
       " <selenium.webdriver.remote.webelement.WebElement (session=\"38766a235d0263ba0507d20a8345bf7e\", element=\"074f353d-eaa3-4afa-861c-4b872213e589\")>,\n",
       " <selenium.webdriver.remote.webelement.WebElement (session=\"38766a235d0263ba0507d20a8345bf7e\", element=\"6f16fe85-a256-41a3-be6a-8ccae79ed99b\")>,\n",
       " <selenium.webdriver.remote.webelement.WebElement (session=\"38766a235d0263ba0507d20a8345bf7e\", element=\"d7b00224-8dd4-4011-82af-1a90713903be\")>,\n",
       " <selenium.webdriver.remote.webelement.WebElement (session=\"38766a235d0263ba0507d20a8345bf7e\", element=\"cb58ce1a-1f7c-44e9-9366-79d78b8b0eb0\")>,\n",
       " <selenium.webdriver.remote.webelement.WebElement (session=\"38766a235d0263ba0507d20a8345bf7e\", element=\"be7cd371-f08b-4d13-8fe0-ac77fec25c92\")>,\n",
       " <selenium.webdriver.remote.webelement.WebElement (session=\"38766a235d0263ba0507d20a8345bf7e\", element=\"93a2227e-301b-4728-acd0-63d69ad2f6a1\")>]"
      ]
     },
     "execution_count": 137,
     "metadata": {},
     "output_type": "execute_result"
    }
   ],
   "source": [
    "rate_tag = driver.find_elements_by_xpath('//div[@class=\"col _2wzgFH K0kLPL\"]')\n",
    "len(rate_tag)\n",
    "rate_tag"
   ]
  },
  {
   "cell_type": "code",
   "execution_count": 138,
   "id": "325ced78",
   "metadata": {},
   "outputs": [
    {
     "data": {
      "text/plain": [
       "['5\\nWonderful\\nSuper and marvellous phone look very cute and nice sound. I love this phone i think white is good colur.Excellent camer 5*😍😘♥️♥️\\nJerin P Jose\\nCertified Buyer, Kottayam District\\n7 months ago\\n151',\n",
       " \"4\\nNice product\\nIf you are looking for a premium phone under 55k, this is the one for you.Got the iPhone 11 during the Republic day sale. Performance is top notch in this price range. Camera's do a perfect job in taking good quality photos and videos. Battery backup too is satisfactory. Writing this review after using for a week. Any further observations would be updated.\\nFrancis Thomas\\nCertified Buyer, Kottayam District\\n11 months ago\\n90\",\n",
       " '5\\nMind-blowing purchase\\nawesome Phone Smooth Touch Too good Sexyy looks one word Awesome\\nNagma Khatoon\\nCertified Buyer, Ranchi\\nNov, 2019\\n100',\n",
       " '5\\nClassy product\\nGifted my man on his 30th birthday 🎂 He loves it.. Him happy so i am more than happy 😍😘❤️🥰\\nShReya R ShRma\\nCertified Buyer, Varanasi\\n5 months ago\\n130',\n",
       " '5\\nTerrific\\nI bought iPhone 11 On March 2021, And I am Writing this review after using the phone for 4 Months. I would Say Everything is fine, Top Performance, Nice Camera as Anyone would Expect from any series of iPhone but when the Question comes to Battery it is complicated. The Battery is fully optimised and it comes 3110 mAh capacity but the problem is with the charger. Honestly Apple Removed charger from in Box items in the name of Environment and they are also forcing us to buy any 20W PD 3rd part...\\nREAD MORE\\nGaurab Dutta\\nCertified Buyer, Guwahati\\n5 months ago\\n90',\n",
       " '5\\nWorth every penny\\nHere is the thing\\n\\nThe only reason why you should buy this phone is for the camera, iOS, and if you have headaches looking at AMOLED display.\\n\\nI’m not an avid gamer but watch a lot of movies on smartphone. However, my migraine attacks increased considerably after using AMOLED Smartphone. That’s why I made a calculated decision to buy iPhone 11. It has the best LCD display and the blacks, though not as natural as an AMOLED, is better than some of the other smartphones.\\n\\nAdding to this the ste...\\nREAD MORE\\nDileep Pradeep\\nCertified Buyer, Malappuram District\\n6 months ago\\n90',\n",
       " \"5\\nExcellent\\nJust go for it.\\nThis phone is really amazing. I ordered it for my wife and we click photos on this thing which are better than dslr. I own OnePlus 6t but it's camera sucks. iPhone is really amazing when it comes to camera. It's worth spending 50k on this. Cons- only display is lcd. While using u don't feel it but if u compare with other phone then u can see difference quite easily.\\nChanging from Android to iphone is bit difficult coz most of things u don't know but I liked it. Some of the a...\\nREAD MORE\\nFlipkart Customer\\nCertified Buyer, Mumbai\\n10 months ago\\n80\",\n",
       " '5\\nFabulous!\\nEverything is perfect pictures come out so clearly and at first I wasn’t sure when I got it then when I started to use it and get the hang of it it was amazing!! I can’t wait to see what the next future phones will be like. The screen display on this bad boy are unbelievable they are so clear and never fail me. The performance is super cool there is a lot of cool features as well I like this phone because I feel that it is easy to use and one of my favorite things about this phone is the Face...\\nREAD MORE\\nJitendra Pratap Singh\\nCertified Buyer, Bagaha\\n11 months ago\\n182',\n",
       " \"4\\nPretty good\\nI've used this phone for over a month now and here are my takeaways.\\nI would like to first talk about the best things about this phone and then the cons of it.\\n\\nPros:\\nThis phone is a performance beast. It handles large games and applications effortlessly and you won't find any stutters or lags while playing graphic intensive games like pubg, cod , mortal kombat and asphalt.\\n\\nThis phone has only 4gb ram and yet the ram management is amazing, it can keep 3 heavy games in memory without reload...\\nREAD MORE\\nPraveen Kumar\\nCertified Buyer, Visakhapatnam\\n8 months ago\\n80\",\n",
       " '5\\nHighly recommended\\nThanks Flipkart For this amazing deal! I had a dream of owning a iphone since i had known about.\\nIm very happy with my purchase & it is totally worth it.\\nAmazing experience all over !!\\n\\nAnyone who’s thinking of buying it in 2021, i would simply say go for it without any second thoughts ❤️\\nShuvankar Sarkar\\nCertified Buyer, Nagaon\\n7 months ago\\n193']"
      ]
     },
     "execution_count": 138,
     "metadata": {},
     "output_type": "execute_result"
    }
   ],
   "source": [
    "rate_detail = []\n",
    "\n",
    "for i in rate_tag:\n",
    "    rate_detail.append(i.text)\n",
    "len(rate_detail)\n",
    "rate_detail"
   ]
  },
  {
   "cell_type": "code",
   "execution_count": 139,
   "id": "f06589a0",
   "metadata": {},
   "outputs": [],
   "source": [
    "next_btn = driver.find_element_by_xpath('/html/body/div[1]/div/div[3]/div/div/div[2]/div[13]/div/div/nav/a[12]/span')"
   ]
  },
  {
   "cell_type": "code",
   "execution_count": 140,
   "id": "ed20fd5a",
   "metadata": {},
   "outputs": [],
   "source": [
    "next_btn.click()"
   ]
  },
  {
   "cell_type": "code",
   "execution_count": 141,
   "id": "1866624a",
   "metadata": {},
   "outputs": [
    {
     "data": {
      "text/plain": [
       "[<selenium.webdriver.remote.webelement.WebElement (session=\"38766a235d0263ba0507d20a8345bf7e\", element=\"3ba8bfe3-5eef-4c0b-8f6b-2f4a636d2547\")>,\n",
       " <selenium.webdriver.remote.webelement.WebElement (session=\"38766a235d0263ba0507d20a8345bf7e\", element=\"a639a384-9294-44ee-beb0-0d9d712d6cd4\")>,\n",
       " <selenium.webdriver.remote.webelement.WebElement (session=\"38766a235d0263ba0507d20a8345bf7e\", element=\"f35561d2-a18e-4313-9ed9-588ed4129d9f\")>,\n",
       " <selenium.webdriver.remote.webelement.WebElement (session=\"38766a235d0263ba0507d20a8345bf7e\", element=\"f4e791bb-3054-4e5f-9588-5b79b924ab3a\")>,\n",
       " <selenium.webdriver.remote.webelement.WebElement (session=\"38766a235d0263ba0507d20a8345bf7e\", element=\"f8f15055-33b5-4bbb-8968-0439e00583b5\")>,\n",
       " <selenium.webdriver.remote.webelement.WebElement (session=\"38766a235d0263ba0507d20a8345bf7e\", element=\"3f1f7334-6527-431f-9777-b8868911d394\")>,\n",
       " <selenium.webdriver.remote.webelement.WebElement (session=\"38766a235d0263ba0507d20a8345bf7e\", element=\"83e65ee0-916f-41e3-9e03-4d4af69aad40\")>,\n",
       " <selenium.webdriver.remote.webelement.WebElement (session=\"38766a235d0263ba0507d20a8345bf7e\", element=\"9f54064f-0df7-4fba-8017-d49e9df21e49\")>,\n",
       " <selenium.webdriver.remote.webelement.WebElement (session=\"38766a235d0263ba0507d20a8345bf7e\", element=\"aa4d6b45-9c3f-4574-9d7c-05766da61393\")>,\n",
       " <selenium.webdriver.remote.webelement.WebElement (session=\"38766a235d0263ba0507d20a8345bf7e\", element=\"5ebd6fa6-7be6-441c-9bf8-8dda81f5a288\")>]"
      ]
     },
     "execution_count": 141,
     "metadata": {},
     "output_type": "execute_result"
    }
   ],
   "source": [
    "rate_tag = driver.find_elements_by_xpath('//div[@class=\"col _2wzgFH K0kLPL\"]')\n",
    "len(rate_tag)\n",
    "rate_tag"
   ]
  },
  {
   "cell_type": "code",
   "execution_count": 142,
   "id": "68ac8518",
   "metadata": {},
   "outputs": [
    {
     "data": {
      "text/plain": [
       "['5\\nExcellent\\nA perfect phone and a good battery super camera and the sound is dynamic overall the phone is perfect for upgrading from lower iPhone model to iPhone 11\\nTeja Venkatesh\\nCertified Buyer, Visakhapatnam\\n11 months ago\\n111',\n",
       " '5\\nWorth every penny\\nUndoubtedly Iphone 11 is the most successful model till now and its performance is extraordinary and the security features are very impressive, display is more vibrant sound quality Camera Quality 5*****, but Iphone should add accessories too and act like scrooge.\\nWasim Siddique\\nCertified Buyer, Bengaluru\\n6 months ago\\n60',\n",
       " '5\\nFabulous!\\nI purchased the iPhone 11 a month back. I must say Apple has impressed me yet again . I have been an Apple user for past 5 years . The phone is power packed with amazing features . What impressed me the most was the battery backup the phone offers . Battery can easily run upto 1.5 days in single charge with moderate to\\nHeavy usage . If you’re looking for a value for money device , I don’t see any other phone in the price range which can match the iPhone 11 .\\nOne thing I didn’t like was that ...\\nREAD MORE\\nPrateek raj\\nCertified Buyer, Bengaluru\\nMar, 2020\\n142',\n",
       " '5\\nBrilliant\\nA wort full value for money decision it’s . Simply go for it in 2021 its still a good decision . Awesome camera , Super smothered performance, Heck of build quality. And Most important it protects your privacy.\\nMohammed Mueenuddin\\nCertified Buyer, Hubballi\\n7 months ago\\n122',\n",
       " '5\\nJust wow!\\nThe ultimate performance\\nCamera is superb\\nThe battery backup also very good i never saw iphone gives this much of battery backup\\nIf any one wana buy iphone 11 definitely i will recommend this mobile\\nIt has the better battery and powerfull processer peak performance glorious camera and the display also 100% high quality lcd display if u had money for for 12 if u dont wana invest much money on that then go for iphone 11 it has maximum same specs only main difference between the 12 and 11 is...\\nREAD MORE\\nMahesh Babu\\nCertified Buyer, Kalwakurthy\\n11 months ago\\n174',\n",
       " \"5\\nMust buy!\\nCamera is excellent just lack of telephoto mode frankly dose not needed either night mode is just 🙏🙏 12 12 12 mp (2back 1 front) camera lover just don't miss the deal\\nDisplay lcd but feel like super amoled\\nAt46999 with no cost EMI just a best deal\\narindam chaki\\nCertified Buyer, Kolkata\\n9 months ago\\n50\",\n",
       " '5\\nTerrific purchase\\nI use a Note10+ and have been using both iOS and Android devices.\\n\\nCamera has really good features and portraits are super good, better than Samsung flagship. Overall camera setup can still be enhanced and hopeful for better upgrades on software in next release\\n\\nOperating system is quite a breeze and user experience of daily usage is very high as compared to Android. I moved to iOS very swiftly in 2 days for all my office work from Note10+\\n\\nBattery holds up quite well with 4 hrs of call and ...\\nREAD MORE\\nPratik Shah\\nCertified Buyer\\nJul, 2020\\n60',\n",
       " '5\\nAwesome\\nThe phone is completely good\\nAs far as camera Apple is king of it\\nAnd its a beast in performance\\nAnd the battery is pretty good too\\nAkshay Joseph\\nCertified Buyer, Visakhapatnam\\nNov, 2019\\n60',\n",
       " '3\\nDecent product\\nEverything u ll like it when u use this iPhone. Simple changes only not many to lower models but it’s nice to use. Little heavy compared to previous models like 7,8\\nEzhil Rules\\nCertified Buyer, Namakkal\\nOct, 2019\\n60',\n",
       " '5\\nMind-blowing purchase\\nExcellent camera 📸 And Display touching very Nice And Smooth and very improvement against\\nI phone 11 and new processor is very fast\\nRaj Thakur\\nCertified Buyer, Raisen\\n8 months ago\\n122']"
      ]
     },
     "execution_count": 142,
     "metadata": {},
     "output_type": "execute_result"
    }
   ],
   "source": [
    "rate_detail = []\n",
    "\n",
    "for i in rate_tag:\n",
    "    rate_detail.append(i.text)\n",
    "len(rate_detail)\n",
    "rate_detail"
   ]
  },
  {
   "cell_type": "markdown",
   "id": "a86b08e2",
   "metadata": {},
   "source": [
    "7. Go to the link - https://www.myntra.com/shoes\n",
    "Set Price filter to “Rs. 7149 to Rs. 14099 ” , Color filter to “Black"
   ]
  },
  {
   "cell_type": "code",
   "execution_count": 146,
   "id": "37af7c8b",
   "metadata": {},
   "outputs": [],
   "source": [
    "url = 'https://www.myntra.com/shoes'\n",
    "driver.get(url)"
   ]
  },
  {
   "cell_type": "code",
   "execution_count": 147,
   "id": "0b09d8e7",
   "metadata": {},
   "outputs": [],
   "source": [
    "price_check = driver.find_element_by_xpath('/html/body/div[2]/div/div[1]/main/div[3]/div[1]/section/div/div[5]/ul/li[2]/label')"
   ]
  },
  {
   "cell_type": "code",
   "execution_count": 148,
   "id": "72a387a0",
   "metadata": {},
   "outputs": [],
   "source": [
    "price_check.click()"
   ]
  },
  {
   "cell_type": "code",
   "execution_count": 149,
   "id": "8c065902",
   "metadata": {},
   "outputs": [],
   "source": [
    "color_check = driver.find_element_by_xpath('/html/body/div[2]/div/div[1]/main/div[3]/div[1]/section/div/div[6]/ul/li[1]/label')"
   ]
  },
  {
   "cell_type": "code",
   "execution_count": 150,
   "id": "b67559ad",
   "metadata": {},
   "outputs": [],
   "source": [
    "color_check.click()"
   ]
  },
  {
   "cell_type": "code",
   "execution_count": 158,
   "id": "02445552",
   "metadata": {},
   "outputs": [
    {
     "data": {
      "text/plain": [
       "[<selenium.webdriver.remote.webelement.WebElement (session=\"309f18ee102f2ecc1e575fb51b6a9ca0\", element=\"b7cdbcfe-9511-43b5-a30f-1b506faa2aeb\")>,\n",
       " <selenium.webdriver.remote.webelement.WebElement (session=\"309f18ee102f2ecc1e575fb51b6a9ca0\", element=\"c76baa77-84f7-4c2c-81c1-2ae013223329\")>,\n",
       " <selenium.webdriver.remote.webelement.WebElement (session=\"309f18ee102f2ecc1e575fb51b6a9ca0\", element=\"ab280077-3a73-4580-bb9b-2b593a6da2fd\")>,\n",
       " <selenium.webdriver.remote.webelement.WebElement (session=\"309f18ee102f2ecc1e575fb51b6a9ca0\", element=\"aec80ba4-3c18-48c8-bbda-0326b84ad266\")>,\n",
       " <selenium.webdriver.remote.webelement.WebElement (session=\"309f18ee102f2ecc1e575fb51b6a9ca0\", element=\"82d3a9f9-1c7e-46b1-ad2e-054be185bf4c\")>,\n",
       " <selenium.webdriver.remote.webelement.WebElement (session=\"309f18ee102f2ecc1e575fb51b6a9ca0\", element=\"87069b8a-3169-4a3c-b33c-fc861c08f53e\")>,\n",
       " <selenium.webdriver.remote.webelement.WebElement (session=\"309f18ee102f2ecc1e575fb51b6a9ca0\", element=\"26282c2b-1195-40d1-aba7-b61e23747833\")>,\n",
       " <selenium.webdriver.remote.webelement.WebElement (session=\"309f18ee102f2ecc1e575fb51b6a9ca0\", element=\"3876f670-ab37-4fec-8028-1acd147de7ff\")>,\n",
       " <selenium.webdriver.remote.webelement.WebElement (session=\"309f18ee102f2ecc1e575fb51b6a9ca0\", element=\"2c53a21c-ac8a-4e52-bc2a-e2c6395db790\")>,\n",
       " <selenium.webdriver.remote.webelement.WebElement (session=\"309f18ee102f2ecc1e575fb51b6a9ca0\", element=\"19ee93ae-9fa6-47b9-8c35-3857adb98301\")>,\n",
       " <selenium.webdriver.remote.webelement.WebElement (session=\"309f18ee102f2ecc1e575fb51b6a9ca0\", element=\"0bc007f0-c4f8-4f02-aa4f-653001f33bc3\")>,\n",
       " <selenium.webdriver.remote.webelement.WebElement (session=\"309f18ee102f2ecc1e575fb51b6a9ca0\", element=\"7447f963-1605-447d-8e68-f4620c48fd9b\")>,\n",
       " <selenium.webdriver.remote.webelement.WebElement (session=\"309f18ee102f2ecc1e575fb51b6a9ca0\", element=\"2b797c64-7a9f-4c95-95b0-92ff1c8eec8c\")>,\n",
       " <selenium.webdriver.remote.webelement.WebElement (session=\"309f18ee102f2ecc1e575fb51b6a9ca0\", element=\"f49a5b20-de90-48c9-af3b-3b9168436ab6\")>,\n",
       " <selenium.webdriver.remote.webelement.WebElement (session=\"309f18ee102f2ecc1e575fb51b6a9ca0\", element=\"38147768-1b12-4944-a188-cd06368ad673\")>,\n",
       " <selenium.webdriver.remote.webelement.WebElement (session=\"309f18ee102f2ecc1e575fb51b6a9ca0\", element=\"19ef2c44-7784-4c18-8a40-2e4e2453a496\")>,\n",
       " <selenium.webdriver.remote.webelement.WebElement (session=\"309f18ee102f2ecc1e575fb51b6a9ca0\", element=\"9c97ed31-b00c-4e20-bb5d-7f124f682394\")>,\n",
       " <selenium.webdriver.remote.webelement.WebElement (session=\"309f18ee102f2ecc1e575fb51b6a9ca0\", element=\"578ee47a-182b-4b11-ae05-8d545a2a38c7\")>,\n",
       " <selenium.webdriver.remote.webelement.WebElement (session=\"309f18ee102f2ecc1e575fb51b6a9ca0\", element=\"eadf324c-7a21-4816-9b9c-3a5c70de75de\")>,\n",
       " <selenium.webdriver.remote.webelement.WebElement (session=\"309f18ee102f2ecc1e575fb51b6a9ca0\", element=\"ed209f37-39c9-4fc1-a3b7-35a583eec608\")>,\n",
       " <selenium.webdriver.remote.webelement.WebElement (session=\"309f18ee102f2ecc1e575fb51b6a9ca0\", element=\"59b3dca1-ad21-4b7b-84ce-4bf460aa7e0e\")>,\n",
       " <selenium.webdriver.remote.webelement.WebElement (session=\"309f18ee102f2ecc1e575fb51b6a9ca0\", element=\"8d3d7445-ac50-4d50-b7d4-ef24b241a967\")>,\n",
       " <selenium.webdriver.remote.webelement.WebElement (session=\"309f18ee102f2ecc1e575fb51b6a9ca0\", element=\"515b82be-2302-4c20-bde2-81a676967d3b\")>,\n",
       " <selenium.webdriver.remote.webelement.WebElement (session=\"309f18ee102f2ecc1e575fb51b6a9ca0\", element=\"668b4000-6815-4ea8-8ba8-61dc162f4b84\")>,\n",
       " <selenium.webdriver.remote.webelement.WebElement (session=\"309f18ee102f2ecc1e575fb51b6a9ca0\", element=\"3623706d-c5a7-464e-9fb8-7ffdc4892293\")>,\n",
       " <selenium.webdriver.remote.webelement.WebElement (session=\"309f18ee102f2ecc1e575fb51b6a9ca0\", element=\"7d5c2829-2fcc-412b-860b-033ec96a536b\")>,\n",
       " <selenium.webdriver.remote.webelement.WebElement (session=\"309f18ee102f2ecc1e575fb51b6a9ca0\", element=\"a1898d55-e644-46e1-bbb2-f336d121ad57\")>,\n",
       " <selenium.webdriver.remote.webelement.WebElement (session=\"309f18ee102f2ecc1e575fb51b6a9ca0\", element=\"dde7d6b0-b414-434b-9b18-66d674d297af\")>,\n",
       " <selenium.webdriver.remote.webelement.WebElement (session=\"309f18ee102f2ecc1e575fb51b6a9ca0\", element=\"a7744af5-1731-410e-83c2-fc88b01dacde\")>,\n",
       " <selenium.webdriver.remote.webelement.WebElement (session=\"309f18ee102f2ecc1e575fb51b6a9ca0\", element=\"d93595a8-b606-46bf-84db-e0d6a309a336\")>,\n",
       " <selenium.webdriver.remote.webelement.WebElement (session=\"309f18ee102f2ecc1e575fb51b6a9ca0\", element=\"67e081f7-0ea1-4bbe-84db-0bee8c1836ce\")>,\n",
       " <selenium.webdriver.remote.webelement.WebElement (session=\"309f18ee102f2ecc1e575fb51b6a9ca0\", element=\"e44f21f7-a742-412d-a664-2b8d7a321a10\")>,\n",
       " <selenium.webdriver.remote.webelement.WebElement (session=\"309f18ee102f2ecc1e575fb51b6a9ca0\", element=\"7fc9e18b-22a2-40a4-bff6-263d81f585b0\")>,\n",
       " <selenium.webdriver.remote.webelement.WebElement (session=\"309f18ee102f2ecc1e575fb51b6a9ca0\", element=\"548b2f9a-8d87-4b88-88cf-149facef6f19\")>,\n",
       " <selenium.webdriver.remote.webelement.WebElement (session=\"309f18ee102f2ecc1e575fb51b6a9ca0\", element=\"e1bf5b7f-2ddf-497e-84d7-7b05f753b2ba\")>,\n",
       " <selenium.webdriver.remote.webelement.WebElement (session=\"309f18ee102f2ecc1e575fb51b6a9ca0\", element=\"bfe12f7d-735f-4a99-9322-cf20304140f6\")>,\n",
       " <selenium.webdriver.remote.webelement.WebElement (session=\"309f18ee102f2ecc1e575fb51b6a9ca0\", element=\"89c040bc-e14a-4e96-b656-b5eac2a81d80\")>,\n",
       " <selenium.webdriver.remote.webelement.WebElement (session=\"309f18ee102f2ecc1e575fb51b6a9ca0\", element=\"7de3583b-db2d-4386-91ad-428de48ff78b\")>,\n",
       " <selenium.webdriver.remote.webelement.WebElement (session=\"309f18ee102f2ecc1e575fb51b6a9ca0\", element=\"a3595360-e9ed-4298-9d48-17c150608431\")>,\n",
       " <selenium.webdriver.remote.webelement.WebElement (session=\"309f18ee102f2ecc1e575fb51b6a9ca0\", element=\"a6e0dbca-53bb-4d01-835d-652e18f7913e\")>,\n",
       " <selenium.webdriver.remote.webelement.WebElement (session=\"309f18ee102f2ecc1e575fb51b6a9ca0\", element=\"743723cf-1cd3-479e-9786-3e102be66efb\")>,\n",
       " <selenium.webdriver.remote.webelement.WebElement (session=\"309f18ee102f2ecc1e575fb51b6a9ca0\", element=\"a16e7cd0-73e0-4acf-97de-5dd33662ae8e\")>,\n",
       " <selenium.webdriver.remote.webelement.WebElement (session=\"309f18ee102f2ecc1e575fb51b6a9ca0\", element=\"ab36cadf-b19c-4858-a720-8960246e4540\")>,\n",
       " <selenium.webdriver.remote.webelement.WebElement (session=\"309f18ee102f2ecc1e575fb51b6a9ca0\", element=\"c7d9194d-a633-4297-9c11-5b11edb57180\")>,\n",
       " <selenium.webdriver.remote.webelement.WebElement (session=\"309f18ee102f2ecc1e575fb51b6a9ca0\", element=\"69678f3f-90a2-464a-b604-eea263ba756a\")>,\n",
       " <selenium.webdriver.remote.webelement.WebElement (session=\"309f18ee102f2ecc1e575fb51b6a9ca0\", element=\"ee227a05-03f1-4a88-ba1c-9f8cf5876e02\")>,\n",
       " <selenium.webdriver.remote.webelement.WebElement (session=\"309f18ee102f2ecc1e575fb51b6a9ca0\", element=\"13b330cc-ef74-4d59-94a9-344ffb53be6e\")>,\n",
       " <selenium.webdriver.remote.webelement.WebElement (session=\"309f18ee102f2ecc1e575fb51b6a9ca0\", element=\"90288a76-f275-4d78-be48-4cfd31fbbdbe\")>,\n",
       " <selenium.webdriver.remote.webelement.WebElement (session=\"309f18ee102f2ecc1e575fb51b6a9ca0\", element=\"4b6b5160-0544-43b6-ac77-fe83a37e813e\")>,\n",
       " <selenium.webdriver.remote.webelement.WebElement (session=\"309f18ee102f2ecc1e575fb51b6a9ca0\", element=\"c63b264f-1dff-437a-a10f-037e87b29b9d\")>,\n",
       " <selenium.webdriver.remote.webelement.WebElement (session=\"309f18ee102f2ecc1e575fb51b6a9ca0\", element=\"1066bd25-83fa-4d15-88eb-82b3ab552578\")>,\n",
       " <selenium.webdriver.remote.webelement.WebElement (session=\"309f18ee102f2ecc1e575fb51b6a9ca0\", element=\"88c9eb9f-302a-4655-8999-5382fa13a6cb\")>,\n",
       " <selenium.webdriver.remote.webelement.WebElement (session=\"309f18ee102f2ecc1e575fb51b6a9ca0\", element=\"cfd3fbf0-f72d-44a2-9e9b-82b5bc6c0c2f\")>,\n",
       " <selenium.webdriver.remote.webelement.WebElement (session=\"309f18ee102f2ecc1e575fb51b6a9ca0\", element=\"9610ba90-c766-4e8c-9c20-e8f73adde3f2\")>,\n",
       " <selenium.webdriver.remote.webelement.WebElement (session=\"309f18ee102f2ecc1e575fb51b6a9ca0\", element=\"6072b770-86c7-419c-89ce-60e1ffd05ef9\")>]"
      ]
     },
     "execution_count": 158,
     "metadata": {},
     "output_type": "execute_result"
    }
   ],
   "source": [
    "shoe_tag = driver.find_elements_by_xpath('//ul[@class=\"results-base\"]/li')\n",
    "len(shoe_tag)\n",
    "shoe_tag"
   ]
  },
  {
   "cell_type": "code",
   "execution_count": 159,
   "id": "a4189c03",
   "metadata": {},
   "outputs": [
    {
     "data": {
      "text/plain": [
       "['3.9\\n|\\n32\\nPuma\\nMen Running Shoes\\nRs. 7149Rs. 12999(45% OFF)',\n",
       " 'Puma\\nMen Magnify Nitro Running\\nRs. 8449Rs. 12999(35% OFF)',\n",
       " '4\\n|\\n9\\nPuma\\nMen Electrify Nitro Running\\nRs. 7499Rs. 9999(25% OFF)',\n",
       " '3.5\\n|\\n2\\nSaint G\\nMen Mid-Top Chelsea Boots\\nRs. 9810Rs. 10900(10% OFF)',\n",
       " 'Puma\\nWomen Magnify Nitro Shoes\\nRs. 7799Rs. 12999(40% OFF)',\n",
       " 'RARE RABBIT\\nMen Leather Flat Boots\\nRs. 7999Rs. 9999(20% OFF)',\n",
       " 'Bugatti\\nMen Running Shoes\\nRs. 7999Rs. 9999(20% OFF)',\n",
       " '4\\n|\\n5\\nCole Haan\\nMen GENERATION ZEROGRAND STITCHLITE\\nRs. 11999\\nOnly Few Left!',\n",
       " 'DAVINCHI\\nMen Textured Formal Leather Loafers\\nRs. 8990',\n",
       " 'ASICS\\nMen Colourblocked PU Sneakers\\nRs. 9999',\n",
       " 'Geox\\nMen Leather Flat Boots\\nRs. 8399Rs. 11999(30% OFF)\\nOnly Few Left!',\n",
       " 'Saint G\\nMen Leather Chelsea Boots\\nRs. 10710Rs. 11900(10% OFF)',\n",
       " 'DAVINCHI\\nMen Solid Leather Formal Derbys\\nRs. 8990',\n",
       " 'Geox\\nWomen Leather Pumps\\nRs. 8999\\nOnly Few Left!',\n",
       " 'Bugatti\\nMen Textured Leather High-Top Flat Boots\\nRs. 8399Rs. 11999(30% OFF)',\n",
       " 'J.FONTINI\\nMen Textured Leather Loafers\\nRs. 7990',\n",
       " 'Saint G\\nWomen Leather Loafers\\nRs. 7500Rs. 9500(Rs. 2000 OFF)\\nOnly Few Left!',\n",
       " 'RARE RABBIT\\nMen Textured Leather Loafers\\nRs. 7149Rs. 10999(35% OFF)',\n",
       " 'Saint G\\nLeather Wedge Heeled Boots with Buckles\\nRs. 13410Rs. 14900(10% OFF)',\n",
       " 'Heel & Buckle London\\nMen Formal Leather Derby\\nRs. 7990',\n",
       " 'Saint G\\nEmbellished Leather Block Heeled Boots\\nRs. 9546Rs. 12900(26% OFF)',\n",
       " 'Puma\\nWomen Velocity NITRO Runners\\nRs. 7149Rs. 10999(35% OFF)\\nOnly Few Left!',\n",
       " '4\\n|\\n6\\nTommy Hilfiger\\nWomen Hybrid Leather Sneakers\\nRs. 7999\\nOnly Few Left!',\n",
       " 'Bugatti\\nMen Black Walking Shoes\\nRs. 7199Rs. 8999(20% OFF)\\nOnly Few Left!',\n",
       " 'J.FONTINI\\nMen Textured Leather Loafers\\nRs. 7990',\n",
       " 'Louis Philippe\\nMen Leather Formal Slip-Ons\\nRs. 8499\\nOnly Few Left!',\n",
       " 'Xtep\\nMen Running Shoes\\nRs. 7699\\nOnly Few Left!',\n",
       " 'J.FONTINI\\nMen Black Leather Loafers\\nRs. 8490',\n",
       " 'DAVINCHI\\nUstraa black\\nRs. 8990',\n",
       " 'DAVINCHI\\nMen Formal Leather Slip-Ons\\nRs. 8990',\n",
       " 'Geox\\nMen Leather Loafers\\nRs. 9999\\nOnly Few Left!',\n",
       " 'DAVINCHI\\nMen Textured Formal Leather Loafers\\nRs. 8990',\n",
       " 'Geox\\nWomen Solid Leather Pumps\\nRs. 7999\\nOnly Few Left!',\n",
       " 'Geox\\nWomen Solid Leather Pumps\\nRs. 10990\\nOnly Few Left!',\n",
       " 'Pavers England\\nMen Leather Driving Shoes\\nRs. 7499\\nOnly Few Left!',\n",
       " 'Saint G\\nWomen Leather Heeled Boots\\nRs. 10710Rs. 11900(10% OFF)\\nOnly Few Left!',\n",
       " 'Cole Haan\\nWomen Open Toe Flats\\nRs. 11999',\n",
       " 'Geox\\nWomen Solid Leather Ballerinas\\nRs. 8999',\n",
       " 'Cole Haan\\nWomen Solid Leather Ballerinas\\nRs. 13999',\n",
       " 'DAVINCHI\\nMen Textured Leather Formal Slip-Ons\\nRs. 8990\\nOnly Few Left!',\n",
       " 'Pavers England\\nMen Solid Leather Formal Loafers\\nRs. 7999\\nOnly Few Left!',\n",
       " 'Saint G\\nLeather Block Heeled Boots\\nRs. 8550Rs. 9500(Rs. 950 OFF)\\nOnly Few Left!',\n",
       " 'Saint G\\nLeather Kitten Heeled Boots\\nRs. 8910Rs. 9900(Rs. 990 OFF)\\nOnly Few Left!',\n",
       " 'Pavers England\\nMen Textured Leather Formal Slip-On Shoes\\nRs. 9999\\nOnly Few Left!',\n",
       " 'Pavers England\\nMen Solid Leather Formal Derbys\\nRs. 8999\\nOnly Few Left!',\n",
       " 'Saint G\\nLeather Block Heeled Boots with Bows\\nRs. 12510Rs. 13900(10% OFF)\\nOnly Few Left!',\n",
       " 'Geox\\nWomen Chunky Sneakers\\nRs. 9999\\nOnly Few Left!',\n",
       " 'Saint G\\nLeather Platform Heeled Boots\\nRs. 9810Rs. 10900(10% OFF)\\nOnly Few Left!',\n",
       " 'Saint G\\nSuede Party High-Top Block Heeled Boots\\nRs. 9450Rs. 10500(10% OFF)',\n",
       " 'Saint G\\nTextured Leather Party Kitten Heeled Boots\\nRs. 11954Rs. 13900(14% OFF)\\nOnly Few Left!',\n",
       " '',\n",
       " '',\n",
       " '',\n",
       " '',\n",
       " '']"
      ]
     },
     "execution_count": 159,
     "metadata": {},
     "output_type": "execute_result"
    }
   ],
   "source": [
    "shoe_detail = []\n",
    "\n",
    "for i in shoe_tag:\n",
    "    shoe_detail.append(i.text)\n",
    "len(shoe_detail)\n",
    "shoe_detail"
   ]
  },
  {
   "cell_type": "code",
   "execution_count": 160,
   "id": "77360a64",
   "metadata": {},
   "outputs": [],
   "source": [
    "next_btn = driver.find_element_by_xpath('/html/body/div[2]/div/div[1]/main/div[3]/div[2]/div/div[2]/section/div[2]/ul/li[12]/a')"
   ]
  },
  {
   "cell_type": "code",
   "execution_count": 161,
   "id": "cd8b524e",
   "metadata": {},
   "outputs": [],
   "source": [
    "next_btn.click()"
   ]
  },
  {
   "cell_type": "code",
   "execution_count": 162,
   "id": "599a82eb",
   "metadata": {},
   "outputs": [
    {
     "data": {
      "text/plain": [
       "[<selenium.webdriver.remote.webelement.WebElement (session=\"309f18ee102f2ecc1e575fb51b6a9ca0\", element=\"c63b264f-1dff-437a-a10f-037e87b29b9d\")>,\n",
       " <selenium.webdriver.remote.webelement.WebElement (session=\"309f18ee102f2ecc1e575fb51b6a9ca0\", element=\"b90e11d6-9414-4776-a3bc-d10cad72ea10\")>,\n",
       " <selenium.webdriver.remote.webelement.WebElement (session=\"309f18ee102f2ecc1e575fb51b6a9ca0\", element=\"031bd0bd-d15f-434c-96ac-fa66afbe0ae6\")>,\n",
       " <selenium.webdriver.remote.webelement.WebElement (session=\"309f18ee102f2ecc1e575fb51b6a9ca0\", element=\"0c7261ae-1d6c-47ad-a3ae-013122670acc\")>,\n",
       " <selenium.webdriver.remote.webelement.WebElement (session=\"309f18ee102f2ecc1e575fb51b6a9ca0\", element=\"c0ad7680-69e2-4f6b-a498-139ea6478283\")>,\n",
       " <selenium.webdriver.remote.webelement.WebElement (session=\"309f18ee102f2ecc1e575fb51b6a9ca0\", element=\"7b559f53-e725-4312-adc4-8398bcd14814\")>,\n",
       " <selenium.webdriver.remote.webelement.WebElement (session=\"309f18ee102f2ecc1e575fb51b6a9ca0\", element=\"dc179a65-21ee-4b00-9a6f-5d1a9165ea7f\")>,\n",
       " <selenium.webdriver.remote.webelement.WebElement (session=\"309f18ee102f2ecc1e575fb51b6a9ca0\", element=\"3baff1bc-656b-420f-903f-80f28b4d2f38\")>,\n",
       " <selenium.webdriver.remote.webelement.WebElement (session=\"309f18ee102f2ecc1e575fb51b6a9ca0\", element=\"7ee50edf-8500-4a46-aede-8e665d560dc6\")>,\n",
       " <selenium.webdriver.remote.webelement.WebElement (session=\"309f18ee102f2ecc1e575fb51b6a9ca0\", element=\"10a73868-9d78-4ea1-8745-9d2c30bf0b8f\")>,\n",
       " <selenium.webdriver.remote.webelement.WebElement (session=\"309f18ee102f2ecc1e575fb51b6a9ca0\", element=\"1aaa196a-0c57-492b-ba83-dae0d283ac9a\")>,\n",
       " <selenium.webdriver.remote.webelement.WebElement (session=\"309f18ee102f2ecc1e575fb51b6a9ca0\", element=\"bffb839a-183d-42c1-99ff-efa14058b5ae\")>,\n",
       " <selenium.webdriver.remote.webelement.WebElement (session=\"309f18ee102f2ecc1e575fb51b6a9ca0\", element=\"0d9d7c3e-f067-42d2-9294-5f7b616a8459\")>,\n",
       " <selenium.webdriver.remote.webelement.WebElement (session=\"309f18ee102f2ecc1e575fb51b6a9ca0\", element=\"6ff6ebb0-88eb-40e3-ac77-37ea222f71c3\")>,\n",
       " <selenium.webdriver.remote.webelement.WebElement (session=\"309f18ee102f2ecc1e575fb51b6a9ca0\", element=\"b6a0b089-ac25-4f6b-9b52-cda32fc77fbf\")>,\n",
       " <selenium.webdriver.remote.webelement.WebElement (session=\"309f18ee102f2ecc1e575fb51b6a9ca0\", element=\"408e2e9a-47ad-43b2-818c-55a7dcc14306\")>,\n",
       " <selenium.webdriver.remote.webelement.WebElement (session=\"309f18ee102f2ecc1e575fb51b6a9ca0\", element=\"23c62dd9-73ab-4e58-9af8-30b85cad0c15\")>,\n",
       " <selenium.webdriver.remote.webelement.WebElement (session=\"309f18ee102f2ecc1e575fb51b6a9ca0\", element=\"a994b69e-a12d-478f-827a-b850b115aca8\")>,\n",
       " <selenium.webdriver.remote.webelement.WebElement (session=\"309f18ee102f2ecc1e575fb51b6a9ca0\", element=\"e7f67bc7-3313-4984-9289-0bd2f5f98e96\")>,\n",
       " <selenium.webdriver.remote.webelement.WebElement (session=\"309f18ee102f2ecc1e575fb51b6a9ca0\", element=\"2dc4c84c-b07d-42c9-9195-c44b51d9b8cb\")>,\n",
       " <selenium.webdriver.remote.webelement.WebElement (session=\"309f18ee102f2ecc1e575fb51b6a9ca0\", element=\"26307a24-8db6-4ddd-8376-4faff64aeeaa\")>,\n",
       " <selenium.webdriver.remote.webelement.WebElement (session=\"309f18ee102f2ecc1e575fb51b6a9ca0\", element=\"429a8b5f-5aa8-42aa-b5d0-1b1cb6845dff\")>,\n",
       " <selenium.webdriver.remote.webelement.WebElement (session=\"309f18ee102f2ecc1e575fb51b6a9ca0\", element=\"baed1c4e-83c7-4b8b-af6b-8339200129a8\")>,\n",
       " <selenium.webdriver.remote.webelement.WebElement (session=\"309f18ee102f2ecc1e575fb51b6a9ca0\", element=\"6926ddf0-8e52-480b-9298-6e3d110d3b1c\")>,\n",
       " <selenium.webdriver.remote.webelement.WebElement (session=\"309f18ee102f2ecc1e575fb51b6a9ca0\", element=\"c04f0f49-45fd-4e72-96f1-76cab42ce823\")>,\n",
       " <selenium.webdriver.remote.webelement.WebElement (session=\"309f18ee102f2ecc1e575fb51b6a9ca0\", element=\"24624680-4545-4587-a2ba-9c86168f0c7a\")>,\n",
       " <selenium.webdriver.remote.webelement.WebElement (session=\"309f18ee102f2ecc1e575fb51b6a9ca0\", element=\"0ac280ed-e01f-4595-9453-179358992fa5\")>,\n",
       " <selenium.webdriver.remote.webelement.WebElement (session=\"309f18ee102f2ecc1e575fb51b6a9ca0\", element=\"689ba49d-d4ee-41bd-bc8c-981fbd8e59dd\")>,\n",
       " <selenium.webdriver.remote.webelement.WebElement (session=\"309f18ee102f2ecc1e575fb51b6a9ca0\", element=\"198cb26c-05ec-4d83-849b-9f77c406752c\")>,\n",
       " <selenium.webdriver.remote.webelement.WebElement (session=\"309f18ee102f2ecc1e575fb51b6a9ca0\", element=\"efb7410b-e589-474c-8bbe-bf0be06d4bec\")>,\n",
       " <selenium.webdriver.remote.webelement.WebElement (session=\"309f18ee102f2ecc1e575fb51b6a9ca0\", element=\"0fc49716-e7a3-48bc-b3ea-2975c7e2aa7a\")>,\n",
       " <selenium.webdriver.remote.webelement.WebElement (session=\"309f18ee102f2ecc1e575fb51b6a9ca0\", element=\"f2db26da-3a75-46ca-a896-dcab4e177f9e\")>,\n",
       " <selenium.webdriver.remote.webelement.WebElement (session=\"309f18ee102f2ecc1e575fb51b6a9ca0\", element=\"a4c6fe5a-aa9f-478a-b1c3-2513010c0c8e\")>,\n",
       " <selenium.webdriver.remote.webelement.WebElement (session=\"309f18ee102f2ecc1e575fb51b6a9ca0\", element=\"be0d3645-70d1-40f3-bb49-1ac32e494bd0\")>,\n",
       " <selenium.webdriver.remote.webelement.WebElement (session=\"309f18ee102f2ecc1e575fb51b6a9ca0\", element=\"8c3b0bb5-9401-49d7-af05-d26886db373b\")>,\n",
       " <selenium.webdriver.remote.webelement.WebElement (session=\"309f18ee102f2ecc1e575fb51b6a9ca0\", element=\"82a42f09-f141-4119-871a-fbe3f1a4822b\")>,\n",
       " <selenium.webdriver.remote.webelement.WebElement (session=\"309f18ee102f2ecc1e575fb51b6a9ca0\", element=\"ca2dc719-b65c-41ed-8165-e030ab07eca0\")>,\n",
       " <selenium.webdriver.remote.webelement.WebElement (session=\"309f18ee102f2ecc1e575fb51b6a9ca0\", element=\"5a1b467b-19a8-4d1f-9c90-2f8ce3415b41\")>,\n",
       " <selenium.webdriver.remote.webelement.WebElement (session=\"309f18ee102f2ecc1e575fb51b6a9ca0\", element=\"1d8e9905-1446-4212-a8db-ae5beb1ab116\")>,\n",
       " <selenium.webdriver.remote.webelement.WebElement (session=\"309f18ee102f2ecc1e575fb51b6a9ca0\", element=\"b1ace571-5988-4d60-9a50-fdd61c752378\")>,\n",
       " <selenium.webdriver.remote.webelement.WebElement (session=\"309f18ee102f2ecc1e575fb51b6a9ca0\", element=\"1b27efb7-c1a1-42a8-bf70-e8fdc918c40a\")>,\n",
       " <selenium.webdriver.remote.webelement.WebElement (session=\"309f18ee102f2ecc1e575fb51b6a9ca0\", element=\"fc8b8834-2a0e-40e6-8a2f-50f9db651d2e\")>,\n",
       " <selenium.webdriver.remote.webelement.WebElement (session=\"309f18ee102f2ecc1e575fb51b6a9ca0\", element=\"9076c9fc-5e69-4113-a7f7-c918ae324d18\")>,\n",
       " <selenium.webdriver.remote.webelement.WebElement (session=\"309f18ee102f2ecc1e575fb51b6a9ca0\", element=\"a65dc10c-579b-47b3-9bdf-528ab396f581\")>,\n",
       " <selenium.webdriver.remote.webelement.WebElement (session=\"309f18ee102f2ecc1e575fb51b6a9ca0\", element=\"5c2bc6bc-17db-435f-a9bd-6faa523361b4\")>,\n",
       " <selenium.webdriver.remote.webelement.WebElement (session=\"309f18ee102f2ecc1e575fb51b6a9ca0\", element=\"f2edfe12-eba6-4681-a6dc-64e828e22b0f\")>,\n",
       " <selenium.webdriver.remote.webelement.WebElement (session=\"309f18ee102f2ecc1e575fb51b6a9ca0\", element=\"c278a0b1-d504-4f7c-a540-18eda3129813\")>,\n",
       " <selenium.webdriver.remote.webelement.WebElement (session=\"309f18ee102f2ecc1e575fb51b6a9ca0\", element=\"26ac2458-c84b-4958-8037-a58a132bc1f2\")>,\n",
       " <selenium.webdriver.remote.webelement.WebElement (session=\"309f18ee102f2ecc1e575fb51b6a9ca0\", element=\"73e5c384-613a-4fd9-bdbf-e916f32ab58b\")>,\n",
       " <selenium.webdriver.remote.webelement.WebElement (session=\"309f18ee102f2ecc1e575fb51b6a9ca0\", element=\"b8c04bff-00ed-4098-8a58-a0245882ba9c\")>,\n",
       " <selenium.webdriver.remote.webelement.WebElement (session=\"309f18ee102f2ecc1e575fb51b6a9ca0\", element=\"1066bd25-83fa-4d15-88eb-82b3ab552578\")>,\n",
       " <selenium.webdriver.remote.webelement.WebElement (session=\"309f18ee102f2ecc1e575fb51b6a9ca0\", element=\"88c9eb9f-302a-4655-8999-5382fa13a6cb\")>,\n",
       " <selenium.webdriver.remote.webelement.WebElement (session=\"309f18ee102f2ecc1e575fb51b6a9ca0\", element=\"cfd3fbf0-f72d-44a2-9e9b-82b5bc6c0c2f\")>,\n",
       " <selenium.webdriver.remote.webelement.WebElement (session=\"309f18ee102f2ecc1e575fb51b6a9ca0\", element=\"9610ba90-c766-4e8c-9c20-e8f73adde3f2\")>,\n",
       " <selenium.webdriver.remote.webelement.WebElement (session=\"309f18ee102f2ecc1e575fb51b6a9ca0\", element=\"6072b770-86c7-419c-89ce-60e1ffd05ef9\")>]"
      ]
     },
     "execution_count": 162,
     "metadata": {},
     "output_type": "execute_result"
    }
   ],
   "source": [
    "shoe_tag = driver.find_elements_by_xpath('//ul[@class=\"results-base\"]/li')\n",
    "len(shoe_tag)\n",
    "shoe_tag"
   ]
  },
  {
   "cell_type": "code",
   "execution_count": 163,
   "id": "4c41b969",
   "metadata": {},
   "outputs": [
    {
     "data": {
      "text/plain": [
       "['Saint G\\nTextured Leather Party Kitten Heeled Boots\\nRs. 11954Rs. 13900(14% OFF)\\nOnly Few Left!',\n",
       " 'Saint G\\nSuede High-Top Flatform Heeled Boots\\nRs. 12150Rs. 13500(10% OFF)',\n",
       " 'Saint G\\nLeather Boots with Buckles\\nRs. 8505Rs. 10500(19% OFF)',\n",
       " 'Heel & Buckle London\\nMen Solid Leather Formal Loafers\\nRs. 11990\\nOnly Few Left!',\n",
       " 'Saint G\\nWoman Black Leather Boots\\nRs. 11250Rs. 12500(10% OFF)\\nOnly Few Left!',\n",
       " 'Saint G\\nWomen High-Top Heeled Boots\\nRs. 9869Rs. 13900(29% OFF)',\n",
       " 'fitflop\\nEmbellished Leather Wedge Sandals\\nRs. 7499\\nOnly Few Left!',\n",
       " 'Saint G\\nLeather Block Heeled Boots with Buckles\\nRs. 9810Rs. 10900(10% OFF)\\nOnly Few Left!',\n",
       " 'Saint G\\nEmbellished Flatform Boots\\nRs. 8505Rs. 10500(19% OFF)\\nOnly Few Left!',\n",
       " 'Saint G\\nLeather Block Heeled Boots\\nRs. 9810Rs. 10900(Rs. 1090 OFF)\\nOnly Few Left!',\n",
       " '3.8\\n|\\n8\\nSaint G\\nWomen Leather Heeled Boots\\nRs. 13410Rs. 14900(10% OFF)',\n",
       " 'Geox\\nWomen Leather High-Top Flat Boots\\nRs. 10499Rs. 14999(30% OFF)\\nOnly Few Left!',\n",
       " 'MANGO\\nWomen Leather Penny Loafers\\nRs. 7191Rs. 7990(10% OFF)',\n",
       " 'fitflop\\nWomen Textured Slip-On Sneakers\\nRs. 7999\\nOnly Few Left!',\n",
       " 'Cole Haan\\nWomen Leather Sneakers\\nRs. 10999',\n",
       " '4.2\\n|\\n13\\nNike\\nMen Zoom Span 4 Running Shoes\\nRs. 7195\\nOnly Few Left!',\n",
       " '4.6\\n|\\n54\\nHush Puppies\\nMen Solid Leather Formal Slip-Ons\\nRs. 8099Rs. 8999(10% OFF)',\n",
       " '3.8\\n|\\n6\\nSkechers\\nMen Go Run Hyper Burst Running\\nRs. 7224Rs. 8499(15% OFF)',\n",
       " \"4\\n|\\n45\\nNike\\nMen BlazerLow '77 Sneakers\\nRs. 7195\",\n",
       " '4\\n|\\n4\\nSkechers\\nMen Balance Anchor Walking\\nRs. 8499Rs. 9999(15% OFF)',\n",
       " '4.6\\n|\\n22\\nHush Puppies\\nMen Solid Leather Formal Slip-Ons\\nRs. 8999Rs. 9999(10% OFF)',\n",
       " '3.4\\n|\\n7\\nHush Puppies\\nMen Leather Derbys\\nRs. 7199Rs. 7999(10% OFF)',\n",
       " 'Saint G\\nWomen Leather Heeled Boots\\nRs. 13050Rs. 14500(10% OFF)',\n",
       " 'ECCO\\nHelsinki Bike Toe Lace Shoes\\nRs. 12999\\nOnly Few Left!',\n",
       " '4.7\\n|\\n12\\nHush Puppies\\nMen Formal Derbys\\nRs. 8999Rs. 9999(10% OFF)',\n",
       " 'Hush Puppies\\nMen Solid Formal Slip-Ons\\nRs. 8999Rs. 9999(10% OFF)',\n",
       " 'Bugatti\\nMen Walking Shoes\\nRs. 7199Rs. 8999(20% OFF)',\n",
       " '5\\n|\\n6\\nHush Puppies\\nMen Solid Leather Formal Derbys\\nRs. 8999Rs. 9999(10% OFF)',\n",
       " 'Heel & Buckle London\\nMen Solid Leather Formal Penny Loafers\\nRs. 7693Rs. 10990(30% OFF)\\nOnly Few Left!',\n",
       " '3.7\\n|\\n3\\nNEW\\nSaint G\\nWomen Leather Heeled Boots\\nRs. 13674Rs. 15900(14% OFF)',\n",
       " 'Saint G\\nWomen Leather Heeled Boots\\nRs. 12905Rs. 14500(11% OFF)',\n",
       " 'NEW\\nSaint G\\nWomen Kitten Heeled Boots\\nRs. 7921Rs. 8900(11% OFF)\\nOnly Few Left!',\n",
       " 'NEW\\nSaint G\\nLeather Block Heeled Boots\\nRs. 12675Rs. 16900(Rs. 4225 OFF)\\nOnly Few Left!',\n",
       " 'NEW\\nSaint G\\nWomen Leather Heeled Boots\\nRs. 12510Rs. 13900(10% OFF)',\n",
       " 'DAVINCHI\\nMen Solid Leather Formal Loafers\\nRs. 8490',\n",
       " 'ECCO\\nLeather Stiletto Pumps\\nRs. 12999\\nOnly Few Left!',\n",
       " 'ECCO\\nWomen Textured Leather Sneakers\\nRs. 13999\\nOnly Few Left!',\n",
       " 'MANGO\\nWomen Mid Top Chunky Flat Boot\\nRs. 7590Rs. 7990(5% OFF)\\nOnly Few Left!',\n",
       " 'ECCO\\nWomen Ballerinas Flats\\nRs. 8999\\nOnly Few Left!',\n",
       " '4.8\\n|\\n8\\nClarks\\nMen Leather Formal Loafers\\nRs. 7499',\n",
       " '4.8\\n|\\n44\\nPUMA Motorsport\\nUnisex Mercedes F1 Sneakers\\nRs. 7999Rs. 9999(20% OFF)',\n",
       " '4.8\\n|\\n6\\nTommy Hilfiger\\nMen Lightweight Sneakers\\nRs. 7999\\nOnly Few Left!',\n",
       " 'Calvin Klein\\nMen Solid Suede Sneakers\\nRs. 7999\\nOnly Few Left!',\n",
       " 'J.FONTINI\\nMen Solid Loafers\\nRs. 8990',\n",
       " '4.6\\n|\\n8\\nUNDER ARMOUR\\nWomen HOVR Sonic 4 Running\\nRs. 8799Rs. 10999(20% OFF)\\nOnly Few Left!',\n",
       " 'Pavers England\\nMen Textured Leather Loafers\\nRs. 10999\\nOnly Few Left!',\n",
       " 'Saint G\\nSuede Block Heeled Boots\\nRs. 10350Rs. 11500(10% OFF)\\nOnly Few Left!',\n",
       " 'Calvin Klein\\nMen Solid Leather Sneakers\\nRs. 9999\\nOnly Few Left!',\n",
       " 'Geox\\nMen Leather Formal Derbys\\nRs. 8399Rs. 11999(30% OFF)\\nOnly Few Left!',\n",
       " 'Geox\\nWomen Leather High-Top Flat Boots\\nRs. 12599Rs. 17999(30% OFF)\\nOnly Few Left!',\n",
       " '',\n",
       " '',\n",
       " '',\n",
       " '',\n",
       " '']"
      ]
     },
     "execution_count": 163,
     "metadata": {},
     "output_type": "execute_result"
    }
   ],
   "source": [
    "shoe_detail = []\n",
    "\n",
    "for i in shoe_tag:\n",
    "    shoe_detail.append(i.text)\n",
    "len(shoe_detail)\n",
    "shoe_detail"
   ]
  },
  {
   "cell_type": "markdown",
   "id": "0fc52e42",
   "metadata": {},
   "source": [
    "8. Go to webpage https://www.amazon.in/\n",
    "Enter “Laptop” in the search field and then click the search icon.\n",
    "Then set CPU Type filter to “Intel Core i7” and “Intel Core i9”  After setting the filters scrape first 10 laptops data. You have to scrape 3 attributesfor each laptop:\n",
    ". Title\n",
    ". Ratings\n",
    ". Price"
   ]
  },
  {
   "cell_type": "code",
   "execution_count": 167,
   "id": "307a9df7",
   "metadata": {},
   "outputs": [],
   "source": [
    "url = 'https://www.amazon.in/'\n",
    "driver.get(url)"
   ]
  },
  {
   "cell_type": "code",
   "execution_count": 168,
   "id": "fda83364",
   "metadata": {},
   "outputs": [
    {
     "data": {
      "text/plain": [
       "<selenium.webdriver.remote.webelement.WebElement (session=\"a45d6115d704707ec50b4df1808cc8a7\", element=\"3eeffb83-0441-4c28-92d4-dc9c397f4667\")>"
      ]
     },
     "execution_count": 168,
     "metadata": {},
     "output_type": "execute_result"
    }
   ],
   "source": [
    "# finding element by using search bar by using absolute xpath\n",
    "search_product = driver.find_element_by_xpath('/html/body/div[1]/header/div/div[1]/div[2]/div/form/div[2]/div[1]/input')\n",
    "search_product"
   ]
  },
  {
   "cell_type": "code",
   "execution_count": 170,
   "id": "e7a839a6",
   "metadata": {},
   "outputs": [],
   "source": [
    "search_product.send_keys(\"Laptop\")"
   ]
  },
  {
   "cell_type": "code",
   "execution_count": 171,
   "id": "a5353b55",
   "metadata": {},
   "outputs": [
    {
     "data": {
      "text/plain": [
       "<selenium.webdriver.remote.webelement.WebElement (session=\"a45d6115d704707ec50b4df1808cc8a7\", element=\"de1eed64-6215-4a42-a76e-7a00b454a1eb\")>"
      ]
     },
     "execution_count": 171,
     "metadata": {},
     "output_type": "execute_result"
    }
   ],
   "source": [
    "search_btn = driver.find_element_by_xpath('/html/body/div[1]/header/div/div[1]/div[2]/div/form/div[3]/div/span/input')\n",
    "search_btn"
   ]
  },
  {
   "cell_type": "code",
   "execution_count": 172,
   "id": "228eaa11",
   "metadata": {},
   "outputs": [],
   "source": [
    "search_btn.click()"
   ]
  },
  {
   "cell_type": "code",
   "execution_count": 178,
   "id": "5696fba5",
   "metadata": {},
   "outputs": [],
   "source": [
    "cpu_check = driver.find_element_by_xpath('/html/body/div[1]/div[2]/div[1]/div[2]/div/div[3]/span/div[1]/span/div/div/div[6]/div/div/div[1]/div/span[1]/a[2]/div/span')"
   ]
  },
  {
   "cell_type": "code",
   "execution_count": 179,
   "id": "27f5e01c",
   "metadata": {},
   "outputs": [],
   "source": [
    "cpu_check.click()"
   ]
  },
  {
   "cell_type": "code",
   "execution_count": 180,
   "id": "c0ef409b",
   "metadata": {},
   "outputs": [],
   "source": [
    "cpu_check = driver.find_element_by_xpath('/html/body/div[1]/div[2]/div[1]/div[2]/div/div[3]/span/div[1]/span/div/div/div[6]/div/div/div[1]/div/span[1]/a[13]/div/span')"
   ]
  },
  {
   "cell_type": "code",
   "execution_count": 181,
   "id": "4bfc9c0e",
   "metadata": {},
   "outputs": [],
   "source": [
    "cpu_check.click()"
   ]
  },
  {
   "cell_type": "code",
   "execution_count": 182,
   "id": "798c1c16",
   "metadata": {},
   "outputs": [
    {
     "data": {
      "text/plain": [
       "[<selenium.webdriver.remote.webelement.WebElement (session=\"a45d6115d704707ec50b4df1808cc8a7\", element=\"dfc65f43-11bd-4815-b04d-6b04f25073bb\")>,\n",
       " <selenium.webdriver.remote.webelement.WebElement (session=\"a45d6115d704707ec50b4df1808cc8a7\", element=\"01852f0b-ee98-4c01-a249-72c37195db00\")>,\n",
       " <selenium.webdriver.remote.webelement.WebElement (session=\"a45d6115d704707ec50b4df1808cc8a7\", element=\"4f4b54b6-a8f5-4058-827b-68a9bf92822a\")>,\n",
       " <selenium.webdriver.remote.webelement.WebElement (session=\"a45d6115d704707ec50b4df1808cc8a7\", element=\"54c81d89-3caf-41af-994a-603680dcee43\")>,\n",
       " <selenium.webdriver.remote.webelement.WebElement (session=\"a45d6115d704707ec50b4df1808cc8a7\", element=\"a9f2890b-25b8-493b-ae3b-b2d08be289ad\")>,\n",
       " <selenium.webdriver.remote.webelement.WebElement (session=\"a45d6115d704707ec50b4df1808cc8a7\", element=\"422d4544-5313-40b4-a145-0132c815310b\")>,\n",
       " <selenium.webdriver.remote.webelement.WebElement (session=\"a45d6115d704707ec50b4df1808cc8a7\", element=\"c47b8757-e913-40c3-9b35-d2b5b0386cbe\")>,\n",
       " <selenium.webdriver.remote.webelement.WebElement (session=\"a45d6115d704707ec50b4df1808cc8a7\", element=\"794d9a79-18e4-401d-9bec-f110d9d6efb5\")>,\n",
       " <selenium.webdriver.remote.webelement.WebElement (session=\"a45d6115d704707ec50b4df1808cc8a7\", element=\"9e2b0ae4-498b-4398-8aac-1c384c63493b\")>,\n",
       " <selenium.webdriver.remote.webelement.WebElement (session=\"a45d6115d704707ec50b4df1808cc8a7\", element=\"7b360b51-c998-4d2a-b378-64d5ebf66ca6\")>]"
      ]
     },
     "execution_count": 182,
     "metadata": {},
     "output_type": "execute_result"
    }
   ],
   "source": [
    "title_tag = driver.find_elements_by_xpath('//span[@class=\"a-size-base-plus a-color-base a-text-normal\"]')\n",
    "len(title_tag)\n",
    "title_tag[0:10]"
   ]
  },
  {
   "cell_type": "code",
   "execution_count": 183,
   "id": "5b39cb91",
   "metadata": {},
   "outputs": [
    {
     "data": {
      "text/plain": [
       "['Fujitsu UH-X 11th Gen Intel i7 Core 13.3” (33.78cm) FHD IPS 400Nits Thin & Light Laptop (16GB/512GB SSD/Windows 11/Office 2021/Iris Xe Graphics/Backlit Kb/ Fingerprint Reader/Black/878gms), 4ZR1F38024',\n",
       " 'Fujitsu UH-X 11th Gen Intel Core i7 13.3 inches FHD IPS 400Nits 2-in1 Touch Convertible Business Laptop (16GB/1TB SSD/Windows 11/MS Office 2021/Iris Xe Graphics/Backlit Kb/Black/0.997 kg, 4ZR1F38027)',\n",
       " 'Lenovo Yoga Slim 7 Carbon 11th Gen Intel Core i7 13.3\" (33.78cm) QHD IPS Ultra-Light & Thin Laptop (16GB/1TB SSD/Windows 10/MS Office/Intel Iris Xe GFX/Carbon Fiber/Moon White/0.96 Kg), 82EV003WIN',\n",
       " 'HP Pavilion 13, 11th Gen Intel Core i7, 13.3-inch(33.8 cm) FHD,IPS, Micro-Edge Laptop (16GB RAM/ 1TB SSD/ Win 10/ FPR/Audio B&O/Alexa Built-in/MS Office/ Ceramic White/ 1.24 Kg) -13-bb0078TU',\n",
       " 'Acer Nitro 5 AN515-57 Gaming Laptop | Intel Core i7-11800H |NVIDIA GeForce RTX 3050 Ti Laptop Graphics |15.6\" FHD 144Hz IPS Display |16GB DDR4 |256GB SSD+1TB HDD |Killer Wi-Fi 6 |RGB Backlit Keyboard',\n",
       " 'HP Pavilion 14, Intel 11th Gen Core i7 16GB RAM/1TB SSD 14-inch Laptop, FHD Micro-Edge Anti-Glare Display/Iris Xᵉ Graphics/Backlit KB/B&O Audio/Fingerprint Reader/ Win 11 Ready/1.41kg, 14-dv0058TU',\n",
       " 'ASUS TUF Gaming F15 (2021) 15.6-inch (39.62 cms) FHD 144Hz, Intel Core i7-11800H 11th Gen, RTX 3060 6GB Graphics, Gaming Laptop (16GB/1TB SSD/Windows 10/Gray/2.3 Kg), FX566HM-HN100T',\n",
       " 'ASUS VivoBook 14 (2021), 14-inch (35.56 cms) FHD, Intel Core i7-1065G7 10th Gen, Thin and Light Laptop (16GB/512GB SSD/Integrated Graphics/Office 2021/Windows 11/Silver/1.6 Kg), X415JA-EK701WS',\n",
       " 'Lenovo ThinkBook 13s Intel 11th Gen Core i7 13.3\"(33.78 cm) WQXGA IPS 300 nits 100% sRGB Dolby Vision Thin and Light Laptop (16GB/512GB SSD/Windows 10/MS Office/FPR/Mineral Grey/1.26 Kg), 20V9A05FIH',\n",
       " 'Mi Notebook Horizon Edition 14 Intel Core i7-10510U 10th Gen Thin and Light Laptop(8GB/512GB SSD/Windows 10/Nvidia MX350 2GB Graphics/Grey/1.35Kg)(Without Webcam) XMA1904-AF']"
      ]
     },
     "execution_count": 183,
     "metadata": {},
     "output_type": "execute_result"
    }
   ],
   "source": [
    "title_detail = []\n",
    "\n",
    "for i in title_tag:\n",
    "    title_detail.append(i.text)\n",
    "len(title_detail)\n",
    "title_detail[0:10]"
   ]
  },
  {
   "cell_type": "code",
   "execution_count": 192,
   "id": "d75fc1bc",
   "metadata": {},
   "outputs": [
    {
     "data": {
      "text/plain": [
       "[<selenium.webdriver.remote.webelement.WebElement (session=\"a45d6115d704707ec50b4df1808cc8a7\", element=\"39f3368c-ca74-43ae-8f6d-54db826b6d34\")>,\n",
       " <selenium.webdriver.remote.webelement.WebElement (session=\"a45d6115d704707ec50b4df1808cc8a7\", element=\"d464b91b-50a2-493a-a995-9fe11d805aa2\")>,\n",
       " <selenium.webdriver.remote.webelement.WebElement (session=\"a45d6115d704707ec50b4df1808cc8a7\", element=\"4d4d67ed-0d17-4672-b39d-79eb405d00b3\")>,\n",
       " <selenium.webdriver.remote.webelement.WebElement (session=\"a45d6115d704707ec50b4df1808cc8a7\", element=\"264cc4f6-ce91-420c-8311-f0ec269ce0e4\")>,\n",
       " <selenium.webdriver.remote.webelement.WebElement (session=\"a45d6115d704707ec50b4df1808cc8a7\", element=\"14841354-8c15-4114-b217-6510766bde35\")>,\n",
       " <selenium.webdriver.remote.webelement.WebElement (session=\"a45d6115d704707ec50b4df1808cc8a7\", element=\"d05457a2-4d07-45de-8190-e3a55ba9a20b\")>,\n",
       " <selenium.webdriver.remote.webelement.WebElement (session=\"a45d6115d704707ec50b4df1808cc8a7\", element=\"dc84083a-09d0-4ae1-91e0-4aae74d48aee\")>,\n",
       " <selenium.webdriver.remote.webelement.WebElement (session=\"a45d6115d704707ec50b4df1808cc8a7\", element=\"b62a614b-6a05-4fd7-922a-f6177913d62e\")>,\n",
       " <selenium.webdriver.remote.webelement.WebElement (session=\"a45d6115d704707ec50b4df1808cc8a7\", element=\"e8f1f09a-6dfa-408b-991b-c05ebb139d05\")>,\n",
       " <selenium.webdriver.remote.webelement.WebElement (session=\"a45d6115d704707ec50b4df1808cc8a7\", element=\"583d835e-6bf0-42c1-8585-7f3e2cd82b1e\")>]"
      ]
     },
     "execution_count": 192,
     "metadata": {},
     "output_type": "execute_result"
    }
   ],
   "source": [
    "price_tag = driver.find_elements_by_xpath('//span[@class=\"a-price-whole\"]')\n",
    "len(price_tag)\n",
    "price_tag[0:10]"
   ]
  },
  {
   "cell_type": "code",
   "execution_count": 193,
   "id": "ca365427",
   "metadata": {},
   "outputs": [
    {
     "data": {
      "text/plain": [
       "['92,490',\n",
       " '1,07,490',\n",
       " '1,25,999',\n",
       " '86,990',\n",
       " '89,990',\n",
       " '1,14,990',\n",
       " '59,990',\n",
       " '79,990',\n",
       " '57,990',\n",
       " '1,00,490']"
      ]
     },
     "execution_count": 193,
     "metadata": {},
     "output_type": "execute_result"
    }
   ],
   "source": [
    "price_detail = []\n",
    "\n",
    "for i in price_tag:\n",
    "    price_detail.append(i.text)\n",
    "len(price_detail)\n",
    "price_detail[0:10]"
   ]
  },
  {
   "cell_type": "code",
   "execution_count": 206,
   "id": "58fc427f",
   "metadata": {},
   "outputs": [
    {
     "data": {
      "text/plain": [
       "[<selenium.webdriver.remote.webelement.WebElement (session=\"a45d6115d704707ec50b4df1808cc8a7\", element=\"d5af394f-9604-4ea0-836d-4959775db786\")>]"
      ]
     },
     "execution_count": 206,
     "metadata": {},
     "output_type": "execute_result"
    }
   ],
   "source": [
    "rate_tag = driver.find_elements_by_xpath('//i[@class=\"a-icon a-icon-star a-star-4-5\"]')\n",
    "len(rate_tag)\n",
    "rate_tag[0:10]"
   ]
  },
  {
   "cell_type": "code",
   "execution_count": 207,
   "id": "176f126e",
   "metadata": {},
   "outputs": [
    {
     "data": {
      "text/plain": [
       "['']"
      ]
     },
     "execution_count": 207,
     "metadata": {},
     "output_type": "execute_result"
    }
   ],
   "source": [
    "rate_detail = []\n",
    "\n",
    "for i in rate_tag:\n",
    "    rate_detail.append(i.text)\n",
    "len(rate_detail)\n",
    "rate_detail[0:10]"
   ]
  },
  {
   "cell_type": "markdown",
   "id": "0c1a9209",
   "metadata": {},
   "source": [
    "9. Write a python program to scrape data for first 10 job results for Data Scientist Designation in Noida\n",
    "location. You have to scrape company name, No. of days ago when job was posted, Rating of the company."
   ]
  },
  {
   "cell_type": "code",
   "execution_count": 9,
   "id": "1bddf777",
   "metadata": {},
   "outputs": [],
   "source": [
    "url = 'https://www.ambitionbox.com/'\n",
    "driver.get(url)"
   ]
  },
  {
   "cell_type": "code",
   "execution_count": 10,
   "id": "642f6729",
   "metadata": {},
   "outputs": [],
   "source": [
    "# finding element by using search bar by using absolute xpath\n",
    "job_tag = driver.find_element_by_xpath('/html/body/div[1]/nav/nav/a[6]')\n"
   ]
  },
  {
   "cell_type": "code",
   "execution_count": 11,
   "id": "18e9f22d",
   "metadata": {},
   "outputs": [],
   "source": [
    "job_tag.click()"
   ]
  },
  {
   "cell_type": "code",
   "execution_count": 12,
   "id": "217e00dc",
   "metadata": {},
   "outputs": [
    {
     "data": {
      "text/plain": [
       "<selenium.webdriver.remote.webelement.WebElement (session=\"e52ba220338bfe6727c4425ba0a36956\", element=\"5028d14a-6092-4166-810d-eb9195f81f25\")>"
      ]
     },
     "execution_count": 12,
     "metadata": {},
     "output_type": "execute_result"
    }
   ],
   "source": [
    "search_tag = driver.find_element_by_xpath('/html/body/div/div/div/div[2]/div[1]/div/div/div/div/span/input')\n",
    "search_tag"
   ]
  },
  {
   "cell_type": "code",
   "execution_count": 15,
   "id": "d6688d90",
   "metadata": {},
   "outputs": [],
   "source": [
    "search_tag.send_keys(\"Data Scientist\")"
   ]
  },
  {
   "cell_type": "code",
   "execution_count": 16,
   "id": "486dc0e5",
   "metadata": {},
   "outputs": [
    {
     "data": {
      "text/plain": [
       "<selenium.webdriver.remote.webelement.WebElement (session=\"e52ba220338bfe6727c4425ba0a36956\", element=\"42d7eb65-3934-4f93-a2fe-410eea6e6022\")>"
      ]
     },
     "execution_count": 16,
     "metadata": {},
     "output_type": "execute_result"
    }
   ],
   "source": [
    "search_btn = driver.find_element_by_xpath('/html/body/div/div/div/div[2]/div[1]/div/div/div/button/span')\n",
    "search_btn"
   ]
  },
  {
   "cell_type": "code",
   "execution_count": 19,
   "id": "44da376f",
   "metadata": {},
   "outputs": [],
   "source": [
    "search_btn.click()"
   ]
  },
  {
   "cell_type": "code",
   "execution_count": 21,
   "id": "9cffe81b",
   "metadata": {},
   "outputs": [
    {
     "data": {
      "text/plain": [
       "<selenium.webdriver.remote.webelement.WebElement (session=\"e52ba220338bfe6727c4425ba0a36956\", element=\"296391e3-994a-4b91-8833-a88891b97f86\")>"
      ]
     },
     "execution_count": 21,
     "metadata": {},
     "output_type": "execute_result"
    }
   ],
   "source": [
    "loc_tag = driver.find_element_by_xpath('/html/body/div/div/div/div[2]/div[2]/div[1]/div/div/div/div[2]/div[1]/p')\n",
    "loc_tag"
   ]
  },
  {
   "cell_type": "code",
   "execution_count": 22,
   "id": "f808af06",
   "metadata": {},
   "outputs": [],
   "source": [
    "loc_tag.click()"
   ]
  },
  {
   "cell_type": "code",
   "execution_count": 26,
   "id": "c04e1f3d",
   "metadata": {},
   "outputs": [
    {
     "data": {
      "text/plain": [
       "<selenium.webdriver.remote.webelement.WebElement (session=\"e52ba220338bfe6727c4425ba0a36956\", element=\"d1662f24-1fc9-44c5-ad41-3a37832ddeb5\")>"
      ]
     },
     "execution_count": 26,
     "metadata": {},
     "output_type": "execute_result"
    }
   ],
   "source": [
    "search_loc = driver.find_element_by_xpath('/html/body/div/div/div/div[2]/div[2]/div[1]/div/div/div/div[2]/div[2]/div/div[2]/input')\n",
    "search_loc"
   ]
  },
  {
   "cell_type": "code",
   "execution_count": 27,
   "id": "d560a95c",
   "metadata": {},
   "outputs": [],
   "source": [
    "search_loc.send_keys(\"Noida\")"
   ]
  },
  {
   "cell_type": "code",
   "execution_count": 28,
   "id": "7bf7328e",
   "metadata": {},
   "outputs": [],
   "source": [
    "loc_noida = driver.find_element_by_xpath('/html/body/div/div/div/div[2]/div[2]/div[1]/div/div/div/div[2]/div[2]/div/div[3]/div[1]/div[1]/div/input')"
   ]
  },
  {
   "cell_type": "code",
   "execution_count": 29,
   "id": "df7b4668",
   "metadata": {},
   "outputs": [],
   "source": [
    "loc_noida.click()"
   ]
  },
  {
   "cell_type": "code",
   "execution_count": 33,
   "id": "82f48381",
   "metadata": {},
   "outputs": [
    {
     "data": {
      "text/plain": [
       "10"
      ]
     },
     "execution_count": 33,
     "metadata": {},
     "output_type": "execute_result"
    }
   ],
   "source": [
    "com_tag = driver.find_elements_by_xpath('//p[@class=\"company body-medium\"]')\n",
    "len(com_tag)\n"
   ]
  },
  {
   "cell_type": "code",
   "execution_count": 34,
   "id": "d1f71452",
   "metadata": {},
   "outputs": [
    {
     "data": {
      "text/plain": [
       "10"
      ]
     },
     "execution_count": 34,
     "metadata": {},
     "output_type": "execute_result"
    }
   ],
   "source": [
    "company_name = []\n",
    "\n",
    "for i in com_tag:\n",
    "    company_name.append(i.text)\n",
    "    \n",
    "len(company_name)"
   ]
  },
  {
   "cell_type": "code",
   "execution_count": 45,
   "id": "8bbe1a2f",
   "metadata": {},
   "outputs": [
    {
     "data": {
      "text/plain": [
       "['Amazon Development Centre (India) Pvt. Ltd.',\n",
       " 'CBRE South Asia Pvt Ltd',\n",
       " 'IBM India Pvt. Limited',\n",
       " 'IBM India Pvt. Limited',\n",
       " 'IBM India Pvt. Limited',\n",
       " 'RELIANCE RETAIL LIMITED',\n",
       " 'Nokia Solutions and Networks India (P)Ltd.',\n",
       " 'Nokia Solutions and Networks India (P)Ltd.',\n",
       " 'Nokia Solutions and Networks India (P)Ltd.',\n",
       " 'Nokia Solutions and Networks India (P)Ltd.']"
      ]
     },
     "execution_count": 45,
     "metadata": {},
     "output_type": "execute_result"
    }
   ],
   "source": [
    "company_name"
   ]
  },
  {
   "cell_type": "code",
   "execution_count": 36,
   "id": "f14ca6ec",
   "metadata": {},
   "outputs": [
    {
     "data": {
      "text/plain": [
       "[<selenium.webdriver.remote.webelement.WebElement (session=\"e52ba220338bfe6727c4425ba0a36956\", element=\"42332919-7ec9-4460-8a3e-d02f641e4915\")>,\n",
       " <selenium.webdriver.remote.webelement.WebElement (session=\"e52ba220338bfe6727c4425ba0a36956\", element=\"7cb9b22b-24fc-426c-a791-68e88ca592ee\")>,\n",
       " <selenium.webdriver.remote.webelement.WebElement (session=\"e52ba220338bfe6727c4425ba0a36956\", element=\"a2f01d6b-482e-4f0c-a95d-ef7ac6701d68\")>,\n",
       " <selenium.webdriver.remote.webelement.WebElement (session=\"e52ba220338bfe6727c4425ba0a36956\", element=\"7d63c5ce-bab5-4764-b65e-eced468bf388\")>,\n",
       " <selenium.webdriver.remote.webelement.WebElement (session=\"e52ba220338bfe6727c4425ba0a36956\", element=\"71a05301-ba6a-4d12-bb3e-7d6913d84f49\")>,\n",
       " <selenium.webdriver.remote.webelement.WebElement (session=\"e52ba220338bfe6727c4425ba0a36956\", element=\"4ac9fa5b-0021-4268-b41d-65f75a02c52d\")>,\n",
       " <selenium.webdriver.remote.webelement.WebElement (session=\"e52ba220338bfe6727c4425ba0a36956\", element=\"c9a91174-7e3b-4238-94de-bfcf8464eead\")>,\n",
       " <selenium.webdriver.remote.webelement.WebElement (session=\"e52ba220338bfe6727c4425ba0a36956\", element=\"23f17d9b-44d5-4e2a-9a34-fd2b0b2937b4\")>,\n",
       " <selenium.webdriver.remote.webelement.WebElement (session=\"e52ba220338bfe6727c4425ba0a36956\", element=\"42ef5160-89e8-43a0-850d-a0ce7e11b37a\")>,\n",
       " <selenium.webdriver.remote.webelement.WebElement (session=\"e52ba220338bfe6727c4425ba0a36956\", element=\"60415b5a-8801-4714-9e7b-69959cd6901c\")>]"
      ]
     },
     "execution_count": 36,
     "metadata": {},
     "output_type": "execute_result"
    }
   ],
   "source": [
    "rating_tag = driver.find_elements_by_xpath('//span[@class=\"body-small\"]')\n",
    "len(rating_tag)\n",
    "rating_tag[0:10]"
   ]
  },
  {
   "cell_type": "code",
   "execution_count": 37,
   "id": "cde20995",
   "metadata": {},
   "outputs": [
    {
     "data": {
      "text/plain": [
       "['4.2', '4.2', '4.1', '4.1', '4.1', '4.1', '4.3', '4.3', '4.3', '4.3']"
      ]
     },
     "execution_count": 37,
     "metadata": {},
     "output_type": "execute_result"
    }
   ],
   "source": [
    "rating_detail = []\n",
    "\n",
    "for i in rating_tag:\n",
    "    rating_detail.append(i.text)\n",
    "len(rating_detail)\n",
    "rating_detail[0:10]"
   ]
  },
  {
   "cell_type": "code",
   "execution_count": 41,
   "id": "960f9198",
   "metadata": {},
   "outputs": [
    {
     "data": {
      "text/plain": [
       "[<selenium.webdriver.remote.webelement.WebElement (session=\"e52ba220338bfe6727c4425ba0a36956\", element=\"8716fa47-ad6b-4122-b74f-d9afece5e522\")>,\n",
       " <selenium.webdriver.remote.webelement.WebElement (session=\"e52ba220338bfe6727c4425ba0a36956\", element=\"e1da75fc-0ae3-4b97-bbe7-c88d3d084261\")>,\n",
       " <selenium.webdriver.remote.webelement.WebElement (session=\"e52ba220338bfe6727c4425ba0a36956\", element=\"b1d6bce7-7a24-40b0-bf2a-738d54a69575\")>,\n",
       " <selenium.webdriver.remote.webelement.WebElement (session=\"e52ba220338bfe6727c4425ba0a36956\", element=\"df82f4dd-734a-48f5-8ea8-0bccea76cd71\")>,\n",
       " <selenium.webdriver.remote.webelement.WebElement (session=\"e52ba220338bfe6727c4425ba0a36956\", element=\"eb18e10c-da3d-4914-bf30-13fa8fbcd9e5\")>,\n",
       " <selenium.webdriver.remote.webelement.WebElement (session=\"e52ba220338bfe6727c4425ba0a36956\", element=\"b82fdc57-cab4-4105-a015-690b797451a8\")>,\n",
       " <selenium.webdriver.remote.webelement.WebElement (session=\"e52ba220338bfe6727c4425ba0a36956\", element=\"8a9cbfb1-3bf7-4876-bcb9-12e957210591\")>,\n",
       " <selenium.webdriver.remote.webelement.WebElement (session=\"e52ba220338bfe6727c4425ba0a36956\", element=\"c5be2a43-6e2b-4233-9788-6ab5c47d5340\")>,\n",
       " <selenium.webdriver.remote.webelement.WebElement (session=\"e52ba220338bfe6727c4425ba0a36956\", element=\"f340736b-6d44-41f0-b710-a42a3f15d867\")>,\n",
       " <selenium.webdriver.remote.webelement.WebElement (session=\"e52ba220338bfe6727c4425ba0a36956\", element=\"61df4d1e-e827-484f-8f4e-abd83458a0d6\")>]"
      ]
     },
     "execution_count": 41,
     "metadata": {},
     "output_type": "execute_result"
    }
   ],
   "source": [
    "# extracting the no of days ago the job was posted\n",
    "job_posted = driver.find_elements_by_xpath('//div[@class=\"other-info\"]/span[1]')\n",
    "len(job_posted)\n",
    "job_posted[0:10]"
   ]
  },
  {
   "cell_type": "code",
   "execution_count": 42,
   "id": "63fea7c5",
   "metadata": {},
   "outputs": [
    {
     "data": {
      "text/plain": [
       "['4d ago',\n",
       " '3d ago',\n",
       " '2d ago',\n",
       " '2d ago',\n",
       " '2d ago',\n",
       " '2d ago',\n",
       " '12hr ago',\n",
       " '12hr ago',\n",
       " '12hr ago',\n",
       " '12hr ago']"
      ]
     },
     "execution_count": 42,
     "metadata": {},
     "output_type": "execute_result"
    }
   ],
   "source": [
    "days_posted = []\n",
    "\n",
    "for i in job_posted:\n",
    "    days_posted.append(i.text)\n",
    "len(days_posted)\n",
    "days_posted[0:10]"
   ]
  },
  {
   "cell_type": "code",
   "execution_count": 43,
   "id": "91a454ab",
   "metadata": {},
   "outputs": [
    {
     "data": {
      "text/plain": [
       "(10, 10, 10)"
      ]
     },
     "execution_count": 43,
     "metadata": {},
     "output_type": "execute_result"
    }
   ],
   "source": [
    "len(company_name), len(rating_detail), len(days_posted)"
   ]
  },
  {
   "cell_type": "code",
   "execution_count": 44,
   "id": "ae43947e",
   "metadata": {},
   "outputs": [
    {
     "data": {
      "text/html": [
       "<div>\n",
       "<style scoped>\n",
       "    .dataframe tbody tr th:only-of-type {\n",
       "        vertical-align: middle;\n",
       "    }\n",
       "\n",
       "    .dataframe tbody tr th {\n",
       "        vertical-align: top;\n",
       "    }\n",
       "\n",
       "    .dataframe thead th {\n",
       "        text-align: right;\n",
       "    }\n",
       "</style>\n",
       "<table border=\"1\" class=\"dataframe\">\n",
       "  <thead>\n",
       "    <tr style=\"text-align: right;\">\n",
       "      <th></th>\n",
       "      <th>Company</th>\n",
       "      <th>Ratings</th>\n",
       "      <th>Job posted</th>\n",
       "    </tr>\n",
       "  </thead>\n",
       "  <tbody>\n",
       "    <tr>\n",
       "      <th>0</th>\n",
       "      <td>Amazon Development Centre (India) Pvt. Ltd.</td>\n",
       "      <td>4.2</td>\n",
       "      <td>4d ago</td>\n",
       "    </tr>\n",
       "    <tr>\n",
       "      <th>1</th>\n",
       "      <td>CBRE South Asia Pvt Ltd</td>\n",
       "      <td>4.2</td>\n",
       "      <td>3d ago</td>\n",
       "    </tr>\n",
       "    <tr>\n",
       "      <th>2</th>\n",
       "      <td>IBM India Pvt. Limited</td>\n",
       "      <td>4.1</td>\n",
       "      <td>2d ago</td>\n",
       "    </tr>\n",
       "    <tr>\n",
       "      <th>3</th>\n",
       "      <td>IBM India Pvt. Limited</td>\n",
       "      <td>4.1</td>\n",
       "      <td>2d ago</td>\n",
       "    </tr>\n",
       "    <tr>\n",
       "      <th>4</th>\n",
       "      <td>IBM India Pvt. Limited</td>\n",
       "      <td>4.1</td>\n",
       "      <td>2d ago</td>\n",
       "    </tr>\n",
       "    <tr>\n",
       "      <th>5</th>\n",
       "      <td>RELIANCE RETAIL LIMITED</td>\n",
       "      <td>4.1</td>\n",
       "      <td>2d ago</td>\n",
       "    </tr>\n",
       "    <tr>\n",
       "      <th>6</th>\n",
       "      <td>Nokia Solutions and Networks India (P)Ltd.</td>\n",
       "      <td>4.3</td>\n",
       "      <td>12hr ago</td>\n",
       "    </tr>\n",
       "    <tr>\n",
       "      <th>7</th>\n",
       "      <td>Nokia Solutions and Networks India (P)Ltd.</td>\n",
       "      <td>4.3</td>\n",
       "      <td>12hr ago</td>\n",
       "    </tr>\n",
       "    <tr>\n",
       "      <th>8</th>\n",
       "      <td>Nokia Solutions and Networks India (P)Ltd.</td>\n",
       "      <td>4.3</td>\n",
       "      <td>12hr ago</td>\n",
       "    </tr>\n",
       "    <tr>\n",
       "      <th>9</th>\n",
       "      <td>Nokia Solutions and Networks India (P)Ltd.</td>\n",
       "      <td>4.3</td>\n",
       "      <td>12hr ago</td>\n",
       "    </tr>\n",
       "  </tbody>\n",
       "</table>\n",
       "</div>"
      ],
      "text/plain": [
       "                                       Company Ratings  Job posted\n",
       "0  Amazon Development Centre (India) Pvt. Ltd.      4.2     4d ago\n",
       "1                      CBRE South Asia Pvt Ltd      4.2     3d ago\n",
       "2                       IBM India Pvt. Limited      4.1     2d ago\n",
       "3                       IBM India Pvt. Limited      4.1     2d ago\n",
       "4                       IBM India Pvt. Limited      4.1     2d ago\n",
       "5                      RELIANCE RETAIL LIMITED      4.1     2d ago\n",
       "6   Nokia Solutions and Networks India (P)Ltd.      4.3   12hr ago\n",
       "7   Nokia Solutions and Networks India (P)Ltd.      4.3   12hr ago\n",
       "8   Nokia Solutions and Networks India (P)Ltd.      4.3   12hr ago\n",
       "9   Nokia Solutions and Networks India (P)Ltd.      4.3   12hr ago"
      ]
     },
     "execution_count": 44,
     "metadata": {},
     "output_type": "execute_result"
    }
   ],
   "source": [
    "# Creating the DataFrame\n",
    "jobs = pd.DataFrame()\n",
    "jobs['Company'] = company_name\n",
    "jobs['Ratings '] = rating_detail\n",
    "jobs['Job posted'] = days_posted\n",
    "jobs"
   ]
  },
  {
   "cell_type": "markdown",
   "id": "533b5084",
   "metadata": {},
   "source": [
    "10.: Write a python program to scrape the salary data for Data Scientist designation.\n",
    "You have to scrape Company name, Number of salaries, Average salary, Minsalary, Max Salary."
   ]
  },
  {
   "cell_type": "code",
   "execution_count": 64,
   "id": "c57e5575",
   "metadata": {},
   "outputs": [],
   "source": [
    "url = 'https://www.ambitionbox.com/'\n",
    "driver.get(url)"
   ]
  },
  {
   "cell_type": "code",
   "execution_count": 52,
   "id": "04b99192",
   "metadata": {},
   "outputs": [
    {
     "data": {
      "text/plain": [
       "<selenium.webdriver.remote.webelement.WebElement (session=\"520e05c850d9fa13159e8f488240d44d\", element=\"9872737c-5b7e-4ec5-99bc-da971de7ca66\")>"
      ]
     },
     "execution_count": 52,
     "metadata": {},
     "output_type": "execute_result"
    }
   ],
   "source": [
    "# finding element by using search bar by using absolute xpath\n",
    "salary_tag = driver.find_element_by_xpath('/html/body/div[1]/nav/nav/a[4]')\n",
    "salary_tag"
   ]
  },
  {
   "cell_type": "code",
   "execution_count": 53,
   "id": "5f4ee788",
   "metadata": {},
   "outputs": [],
   "source": [
    "salary_tag.click()"
   ]
  },
  {
   "cell_type": "code",
   "execution_count": 54,
   "id": "35eca508",
   "metadata": {},
   "outputs": [
    {
     "data": {
      "text/plain": [
       "<selenium.webdriver.remote.webelement.WebElement (session=\"520e05c850d9fa13159e8f488240d44d\", element=\"a262224c-2a7a-4a15-b359-bc8f801b0f33\")>"
      ]
     },
     "execution_count": 54,
     "metadata": {},
     "output_type": "execute_result"
    }
   ],
   "source": [
    "search_tag = driver.find_element_by_xpath('/html/body/div/div/div/div[2]/div/div/div/div[1]/span/input')\n",
    "search_tag"
   ]
  },
  {
   "cell_type": "code",
   "execution_count": 55,
   "id": "5cbd6418",
   "metadata": {},
   "outputs": [],
   "source": [
    "search_tag.send_keys(\"Data Scientist\")"
   ]
  },
  {
   "cell_type": "code",
   "execution_count": 56,
   "id": "d2a92dbb",
   "metadata": {},
   "outputs": [
    {
     "data": {
      "text/plain": [
       "<selenium.webdriver.remote.webelement.WebElement (session=\"520e05c850d9fa13159e8f488240d44d\", element=\"8b194760-695f-44a3-9c99-9ce9e8539a32\")>"
      ]
     },
     "execution_count": 56,
     "metadata": {},
     "output_type": "execute_result"
    }
   ],
   "source": [
    "search_btn = driver.find_element_by_xpath('/html/body/div/div/div/div[2]/div/div/div/button/span')\n",
    "search_btn"
   ]
  },
  {
   "cell_type": "code",
   "execution_count": 57,
   "id": "bdb39e04",
   "metadata": {},
   "outputs": [],
   "source": [
    "search_btn.click()"
   ]
  },
  {
   "cell_type": "code",
   "execution_count": 60,
   "id": "ba5af6f7",
   "metadata": {},
   "outputs": [
    {
     "data": {
      "text/plain": [
       "[<selenium.webdriver.remote.webelement.WebElement (session=\"520e05c850d9fa13159e8f488240d44d\", element=\"3d6efbf9-f2d9-4116-beb6-5114de1c3023\")>,\n",
       " <selenium.webdriver.remote.webelement.WebElement (session=\"520e05c850d9fa13159e8f488240d44d\", element=\"d4b31f17-a3e9-4d79-9fd7-7b8b03c876a1\")>,\n",
       " <selenium.webdriver.remote.webelement.WebElement (session=\"520e05c850d9fa13159e8f488240d44d\", element=\"c81cd62c-24e9-47ac-99f2-3fc813484b0f\")>,\n",
       " <selenium.webdriver.remote.webelement.WebElement (session=\"520e05c850d9fa13159e8f488240d44d\", element=\"fa5474eb-a47c-41dc-b3b6-37ca05c52c13\")>,\n",
       " <selenium.webdriver.remote.webelement.WebElement (session=\"520e05c850d9fa13159e8f488240d44d\", element=\"2a9abd23-a19a-4e04-961a-3ec11a7272de\")>,\n",
       " <selenium.webdriver.remote.webelement.WebElement (session=\"520e05c850d9fa13159e8f488240d44d\", element=\"c3ed267f-c541-470f-8939-cfead8bb8b8d\")>,\n",
       " <selenium.webdriver.remote.webelement.WebElement (session=\"520e05c850d9fa13159e8f488240d44d\", element=\"a122e822-a5ed-4360-8d5d-932e7a198991\")>,\n",
       " <selenium.webdriver.remote.webelement.WebElement (session=\"520e05c850d9fa13159e8f488240d44d\", element=\"373fd643-010a-46c7-b38f-66f6869f160a\")>,\n",
       " <selenium.webdriver.remote.webelement.WebElement (session=\"520e05c850d9fa13159e8f488240d44d\", element=\"b7419fac-3e65-426c-b0d5-957b2d7e7df8\")>,\n",
       " <selenium.webdriver.remote.webelement.WebElement (session=\"520e05c850d9fa13159e8f488240d44d\", element=\"6f78e44b-1b1b-4bed-a9ea-de85c9dd3ab8\")>]"
      ]
     },
     "execution_count": 60,
     "metadata": {},
     "output_type": "execute_result"
    }
   ],
   "source": [
    "com_tag = driver.find_elements_by_xpath('//div[@class=\"name\"]')\n",
    "len(com_tag)\n",
    "com_tag[0:10]"
   ]
  },
  {
   "cell_type": "code",
   "execution_count": 61,
   "id": "e2985f92",
   "metadata": {},
   "outputs": [
    {
     "data": {
      "text/plain": [
       "['Walmart\\nbased on 10 salaries',\n",
       " 'Ab Inbev\\nbased on 22 salaries',\n",
       " 'ZS\\nbased on 14 salaries',\n",
       " 'Fractal Analytics\\nbased on 72 salaries',\n",
       " 'Optum\\nbased on 23 salaries',\n",
       " 'UnitedHealth\\nbased on 49 salaries',\n",
       " 'Tiger Analytics\\nbased on 27 salaries',\n",
       " 'Verizon\\nbased on 14 salaries',\n",
       " 'Ganit Business Solutions\\nbased on 13 salaries',\n",
       " 'Ericsson\\nbased on 42 salaries']"
      ]
     },
     "execution_count": 61,
     "metadata": {},
     "output_type": "execute_result"
    }
   ],
   "source": [
    "company_name = []\n",
    "\n",
    "for i in com_tag:\n",
    "    company_name.append(i.text)\n",
    "len(company_name)\n",
    "company_name[0:10]"
   ]
  },
  {
   "cell_type": "code",
   "execution_count": 65,
   "id": "b1295393",
   "metadata": {},
   "outputs": [
    {
     "data": {
      "text/plain": [
       "[<selenium.webdriver.remote.webelement.WebElement (session=\"49b1e7ca602e85d95dec9fb82fff6460\", element=\"81674ccf-d841-42e6-9647-a99539ac15ec\")>,\n",
       " <selenium.webdriver.remote.webelement.WebElement (session=\"49b1e7ca602e85d95dec9fb82fff6460\", element=\"44beae55-6d3f-4cea-ad10-5544f33c8759\")>,\n",
       " <selenium.webdriver.remote.webelement.WebElement (session=\"49b1e7ca602e85d95dec9fb82fff6460\", element=\"f0ac9273-db07-4b8f-aa64-856b014c9d46\")>,\n",
       " <selenium.webdriver.remote.webelement.WebElement (session=\"49b1e7ca602e85d95dec9fb82fff6460\", element=\"15659c40-372c-4fed-a80a-1f95116f093c\")>,\n",
       " <selenium.webdriver.remote.webelement.WebElement (session=\"49b1e7ca602e85d95dec9fb82fff6460\", element=\"6114a83b-e729-4de0-86ef-96dafab33bec\")>,\n",
       " <selenium.webdriver.remote.webelement.WebElement (session=\"49b1e7ca602e85d95dec9fb82fff6460\", element=\"5337e90f-2a29-4d93-8679-d6d00690c0fd\")>,\n",
       " <selenium.webdriver.remote.webelement.WebElement (session=\"49b1e7ca602e85d95dec9fb82fff6460\", element=\"490057a3-b653-4f83-af73-fb6d9277fb8d\")>,\n",
       " <selenium.webdriver.remote.webelement.WebElement (session=\"49b1e7ca602e85d95dec9fb82fff6460\", element=\"cc606064-4ac7-44c5-a4a8-7333b455ca1a\")>,\n",
       " <selenium.webdriver.remote.webelement.WebElement (session=\"49b1e7ca602e85d95dec9fb82fff6460\", element=\"ebc3f88f-5bb3-4017-ac37-2ed180c82b97\")>,\n",
       " <selenium.webdriver.remote.webelement.WebElement (session=\"49b1e7ca602e85d95dec9fb82fff6460\", element=\"4c93094f-395b-4060-be84-b212e209fe82\")>]"
      ]
     },
     "execution_count": 65,
     "metadata": {},
     "output_type": "execute_result"
    }
   ],
   "source": [
    "exp_tag = driver.find_elements_by_xpath('//div[@class=\"salaries sbold-list-header\"]')\n",
    "len(exp_tag)\n",
    "exp_tag[0:10]"
   ]
  },
  {
   "cell_type": "code",
   "execution_count": 66,
   "id": "035f57ce",
   "metadata": {},
   "outputs": [
    {
     "data": {
      "text/plain": [
       "['Data Scientist\\n . \\n3 yrs exp',\n",
       " 'Data Scientist\\n . \\n3-4 yrs exp',\n",
       " 'Data Scientist\\n . \\n2 yrs exp',\n",
       " 'Data Scientist\\n . \\n2-4 yrs exp',\n",
       " 'Data Scientist\\n . \\n3-4 yrs exp',\n",
       " 'Data Scientist\\n . \\n2-4 yrs exp',\n",
       " 'Data Scientist\\n . \\n3-4 yrs exp',\n",
       " 'Data Scientist\\n . \\n4 yrs exp',\n",
       " 'Data Scientist\\n . \\n4 yrs exp',\n",
       " 'Data Scientist\\n . \\n3-4 yrs exp']"
      ]
     },
     "execution_count": 66,
     "metadata": {},
     "output_type": "execute_result"
    }
   ],
   "source": [
    "exp_req = []\n",
    "\n",
    "for i in exp_tag:\n",
    "    exp_req.append(i.text)\n",
    "len(exp_req)\n",
    "exp_req[0:10]"
   ]
  },
  {
   "cell_type": "code",
   "execution_count": 67,
   "id": "d2c43130",
   "metadata": {},
   "outputs": [
    {
     "data": {
      "text/plain": [
       "[<selenium.webdriver.remote.webelement.WebElement (session=\"49b1e7ca602e85d95dec9fb82fff6460\", element=\"547d7c1c-1da4-47f4-a29d-6d2a3803635b\")>,\n",
       " <selenium.webdriver.remote.webelement.WebElement (session=\"49b1e7ca602e85d95dec9fb82fff6460\", element=\"8bafd1ec-ccb5-4028-b827-34082b8d8e1d\")>,\n",
       " <selenium.webdriver.remote.webelement.WebElement (session=\"49b1e7ca602e85d95dec9fb82fff6460\", element=\"34b5f8a3-92dd-4255-85c2-6bf915012e30\")>,\n",
       " <selenium.webdriver.remote.webelement.WebElement (session=\"49b1e7ca602e85d95dec9fb82fff6460\", element=\"83838336-7549-45d7-9d4e-085f1af327cb\")>,\n",
       " <selenium.webdriver.remote.webelement.WebElement (session=\"49b1e7ca602e85d95dec9fb82fff6460\", element=\"2bc4d8eb-dc71-49f8-bf69-7afbc05ba1d3\")>,\n",
       " <selenium.webdriver.remote.webelement.WebElement (session=\"49b1e7ca602e85d95dec9fb82fff6460\", element=\"293f9ba4-c89c-410a-80ce-e31843a099b4\")>,\n",
       " <selenium.webdriver.remote.webelement.WebElement (session=\"49b1e7ca602e85d95dec9fb82fff6460\", element=\"b922ae78-e3e1-421f-b0d3-19478f58eb0a\")>,\n",
       " <selenium.webdriver.remote.webelement.WebElement (session=\"49b1e7ca602e85d95dec9fb82fff6460\", element=\"91651b9f-f24d-4933-817b-d16468ab0089\")>,\n",
       " <selenium.webdriver.remote.webelement.WebElement (session=\"49b1e7ca602e85d95dec9fb82fff6460\", element=\"4d43d70a-533f-4a2e-8e02-4047e65c313a\")>,\n",
       " <selenium.webdriver.remote.webelement.WebElement (session=\"49b1e7ca602e85d95dec9fb82fff6460\", element=\"a6a841ca-3654-4fcb-943e-6c60cde6aff0\")>]"
      ]
     },
     "execution_count": 67,
     "metadata": {},
     "output_type": "execute_result"
    }
   ],
   "source": [
    "sal_tag = driver.find_elements_by_xpath('//div[@class=\"result-col salary-range\"]')\n",
    "len(sal_tag)\n",
    "sal_tag[0:10]"
   ]
  },
  {
   "cell_type": "code",
   "execution_count": 68,
   "id": "84788409",
   "metadata": {},
   "outputs": [
    {
     "data": {
      "text/plain": [
       "['₹ 28.7L\\n₹ 17.7L\\n₹ 35.0L',\n",
       " '₹ 19.5L\\n₹ 15.0L\\n₹ 25.0L',\n",
       " '₹ 15.8L\\n₹ 9.8L\\n₹ 20.0L',\n",
       " '₹ 15.0L\\n₹ 9.5L\\n₹ 22.0L',\n",
       " '₹ 15.0L\\n₹ 11.0L\\n₹ 21.3L',\n",
       " '₹ 13.5L\\n₹ 7.2L\\n₹ 20.5L',\n",
       " '₹ 13.5L\\n₹ 8.3L\\n₹ 18.5L',\n",
       " '₹ 12.7L\\n₹ 10.0L\\n₹ 21.0L',\n",
       " '₹ 12.4L\\n₹ 8.5L\\n₹ 15.0L',\n",
       " '₹ 11.9L\\n₹ 5.8L\\n₹ 21.5L']"
      ]
     },
     "execution_count": 68,
     "metadata": {},
     "output_type": "execute_result"
    }
   ],
   "source": [
    "salary_range = []\n",
    "\n",
    "for i in sal_tag:\n",
    "    salary_range.append(i.text)\n",
    "len(salary_range)\n",
    "salary_range[0:10]"
   ]
  },
  {
   "cell_type": "code",
   "execution_count": 69,
   "id": "ba05c7f8",
   "metadata": {},
   "outputs": [
    {
     "data": {
      "text/plain": [
       "(10, 10, 10)"
      ]
     },
     "execution_count": 69,
     "metadata": {},
     "output_type": "execute_result"
    }
   ],
   "source": [
    "len(company_name), len(exp_req), len(salary_range)"
   ]
  },
  {
   "cell_type": "code",
   "execution_count": 70,
   "id": "88116e7c",
   "metadata": {},
   "outputs": [
    {
     "data": {
      "text/html": [
       "<div>\n",
       "<style scoped>\n",
       "    .dataframe tbody tr th:only-of-type {\n",
       "        vertical-align: middle;\n",
       "    }\n",
       "\n",
       "    .dataframe tbody tr th {\n",
       "        vertical-align: top;\n",
       "    }\n",
       "\n",
       "    .dataframe thead th {\n",
       "        text-align: right;\n",
       "    }\n",
       "</style>\n",
       "<table border=\"1\" class=\"dataframe\">\n",
       "  <thead>\n",
       "    <tr style=\"text-align: right;\">\n",
       "      <th></th>\n",
       "      <th>Company</th>\n",
       "      <th>Experience</th>\n",
       "      <th>Salary range</th>\n",
       "    </tr>\n",
       "  </thead>\n",
       "  <tbody>\n",
       "    <tr>\n",
       "      <th>0</th>\n",
       "      <td>Walmart\\nbased on 10 salaries</td>\n",
       "      <td>Data Scientist\\n . \\n3 yrs exp</td>\n",
       "      <td>₹ 28.7L\\n₹ 17.7L\\n₹ 35.0L</td>\n",
       "    </tr>\n",
       "    <tr>\n",
       "      <th>1</th>\n",
       "      <td>Ab Inbev\\nbased on 22 salaries</td>\n",
       "      <td>Data Scientist\\n . \\n3-4 yrs exp</td>\n",
       "      <td>₹ 19.5L\\n₹ 15.0L\\n₹ 25.0L</td>\n",
       "    </tr>\n",
       "    <tr>\n",
       "      <th>2</th>\n",
       "      <td>ZS\\nbased on 14 salaries</td>\n",
       "      <td>Data Scientist\\n . \\n2 yrs exp</td>\n",
       "      <td>₹ 15.8L\\n₹ 9.8L\\n₹ 20.0L</td>\n",
       "    </tr>\n",
       "    <tr>\n",
       "      <th>3</th>\n",
       "      <td>Fractal Analytics\\nbased on 72 salaries</td>\n",
       "      <td>Data Scientist\\n . \\n2-4 yrs exp</td>\n",
       "      <td>₹ 15.0L\\n₹ 9.5L\\n₹ 22.0L</td>\n",
       "    </tr>\n",
       "    <tr>\n",
       "      <th>4</th>\n",
       "      <td>Optum\\nbased on 23 salaries</td>\n",
       "      <td>Data Scientist\\n . \\n3-4 yrs exp</td>\n",
       "      <td>₹ 15.0L\\n₹ 11.0L\\n₹ 21.3L</td>\n",
       "    </tr>\n",
       "    <tr>\n",
       "      <th>5</th>\n",
       "      <td>UnitedHealth\\nbased on 49 salaries</td>\n",
       "      <td>Data Scientist\\n . \\n2-4 yrs exp</td>\n",
       "      <td>₹ 13.5L\\n₹ 7.2L\\n₹ 20.5L</td>\n",
       "    </tr>\n",
       "    <tr>\n",
       "      <th>6</th>\n",
       "      <td>Tiger Analytics\\nbased on 27 salaries</td>\n",
       "      <td>Data Scientist\\n . \\n3-4 yrs exp</td>\n",
       "      <td>₹ 13.5L\\n₹ 8.3L\\n₹ 18.5L</td>\n",
       "    </tr>\n",
       "    <tr>\n",
       "      <th>7</th>\n",
       "      <td>Verizon\\nbased on 14 salaries</td>\n",
       "      <td>Data Scientist\\n . \\n4 yrs exp</td>\n",
       "      <td>₹ 12.7L\\n₹ 10.0L\\n₹ 21.0L</td>\n",
       "    </tr>\n",
       "    <tr>\n",
       "      <th>8</th>\n",
       "      <td>Ganit Business Solutions\\nbased on 13 salaries</td>\n",
       "      <td>Data Scientist\\n . \\n4 yrs exp</td>\n",
       "      <td>₹ 12.4L\\n₹ 8.5L\\n₹ 15.0L</td>\n",
       "    </tr>\n",
       "    <tr>\n",
       "      <th>9</th>\n",
       "      <td>Ericsson\\nbased on 42 salaries</td>\n",
       "      <td>Data Scientist\\n . \\n3-4 yrs exp</td>\n",
       "      <td>₹ 11.9L\\n₹ 5.8L\\n₹ 21.5L</td>\n",
       "    </tr>\n",
       "  </tbody>\n",
       "</table>\n",
       "</div>"
      ],
      "text/plain": [
       "                                          Company  \\\n",
       "0                   Walmart\\nbased on 10 salaries   \n",
       "1                  Ab Inbev\\nbased on 22 salaries   \n",
       "2                        ZS\\nbased on 14 salaries   \n",
       "3         Fractal Analytics\\nbased on 72 salaries   \n",
       "4                     Optum\\nbased on 23 salaries   \n",
       "5              UnitedHealth\\nbased on 49 salaries   \n",
       "6           Tiger Analytics\\nbased on 27 salaries   \n",
       "7                   Verizon\\nbased on 14 salaries   \n",
       "8  Ganit Business Solutions\\nbased on 13 salaries   \n",
       "9                  Ericsson\\nbased on 42 salaries   \n",
       "\n",
       "                        Experience                Salary range  \n",
       "0    Data Scientist\\n . \\n3 yrs exp  ₹ 28.7L\\n₹ 17.7L\\n₹ 35.0L  \n",
       "1  Data Scientist\\n . \\n3-4 yrs exp  ₹ 19.5L\\n₹ 15.0L\\n₹ 25.0L  \n",
       "2    Data Scientist\\n . \\n2 yrs exp   ₹ 15.8L\\n₹ 9.8L\\n₹ 20.0L  \n",
       "3  Data Scientist\\n . \\n2-4 yrs exp   ₹ 15.0L\\n₹ 9.5L\\n₹ 22.0L  \n",
       "4  Data Scientist\\n . \\n3-4 yrs exp  ₹ 15.0L\\n₹ 11.0L\\n₹ 21.3L  \n",
       "5  Data Scientist\\n . \\n2-4 yrs exp   ₹ 13.5L\\n₹ 7.2L\\n₹ 20.5L  \n",
       "6  Data Scientist\\n . \\n3-4 yrs exp   ₹ 13.5L\\n₹ 8.3L\\n₹ 18.5L  \n",
       "7    Data Scientist\\n . \\n4 yrs exp  ₹ 12.7L\\n₹ 10.0L\\n₹ 21.0L  \n",
       "8    Data Scientist\\n . \\n4 yrs exp   ₹ 12.4L\\n₹ 8.5L\\n₹ 15.0L  \n",
       "9  Data Scientist\\n . \\n3-4 yrs exp   ₹ 11.9L\\n₹ 5.8L\\n₹ 21.5L  "
      ]
     },
     "execution_count": 70,
     "metadata": {},
     "output_type": "execute_result"
    }
   ],
   "source": [
    "# Creating the DataFrame\n",
    "jobs = pd.DataFrame()\n",
    "jobs['Company'] = company_name\n",
    "jobs['Experience '] = exp_req\n",
    "jobs['Salary range'] = salary_range\n",
    "jobs"
   ]
  },
  {
   "cell_type": "code",
   "execution_count": null,
   "id": "c9ae6f5f",
   "metadata": {},
   "outputs": [],
   "source": []
  }
 ],
 "metadata": {
  "kernelspec": {
   "display_name": "Python 3",
   "language": "python",
   "name": "python3"
  },
  "language_info": {
   "codemirror_mode": {
    "name": "ipython",
    "version": 3
   },
   "file_extension": ".py",
   "mimetype": "text/x-python",
   "name": "python",
   "nbconvert_exporter": "python",
   "pygments_lexer": "ipython3",
   "version": "3.8.8"
  }
 },
 "nbformat": 4,
 "nbformat_minor": 5
}
